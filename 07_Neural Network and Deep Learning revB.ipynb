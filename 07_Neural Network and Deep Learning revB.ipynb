{
 "cells": [
  {
   "cell_type": "markdown",
   "metadata": {},
   "source": [
    "## Deep Learning"
   ]
  },
  {
   "cell_type": "code",
   "execution_count": 1,
   "metadata": {},
   "outputs": [
    {
     "name": "stderr",
     "output_type": "stream",
     "text": [
      "Using TensorFlow backend.\n"
     ]
    }
   ],
   "source": [
    "from keras.models import Sequential\n",
    "from keras.layers import Dense\n",
    "import numpy\n",
    "\n",
    "# fix random seed for reproducibility\n",
    "numpy.random.seed(10)"
   ]
  },
  {
   "cell_type": "code",
   "execution_count": 2,
   "metadata": {},
   "outputs": [
    {
     "data": {
      "text/plain": [
       "(569, 30)"
      ]
     },
     "execution_count": 2,
     "metadata": {},
     "output_type": "execute_result"
    }
   ],
   "source": [
    "from sklearn.datasets import load_breast_cancer\n",
    "data = load_breast_cancer() \n",
    "X = data.data\n",
    "y = data.target\n",
    "\n",
    "from sklearn.model_selection import train_test_split\n",
    "X_train, X_test, y_train, y_test = train_test_split(X,y)\n",
    "X.shape"
   ]
  },
  {
   "cell_type": "markdown",
   "metadata": {},
   "source": [
    "## Classification\n",
    "\n",
    "#### 1 - Define Model\n",
    "\n",
    "- Ensure the input layer has the right number of inputs. This can be specified when creating the first layer with the input_dim argument. \n",
    "\n",
    "- How do we know the number of layers and their types? This is a very hard question. There are heuristics that we can use and often the best network structure is found through a process of trial and error experimentation.\n",
    "\n",
    "- Fully connected layers are defined using the Dense class. We can specify the number of neurons in the layer as the first argument, the initialization method as the second argument as init and specify the activation function using the activation argument.\n",
    "\n",
    "     - uniform distribution ('uniform'): Random number generated between 0 and 0.05\n",
    "     - Normal ('normal'): small random numbers generated from a Gaussian distribution\n",
    "     - We use a sigmoid on the output layer to ensure our network output is between 0 and 1 and easy to map to either a probability of class 1 or snap to a hard classification of either class with a default threshold of 0.5.\n",
    "  "
   ]
  },
  {
   "cell_type": "code",
   "execution_count": 3,
   "metadata": {},
   "outputs": [],
   "source": [
    "# create model\n",
    "model = Sequential()\n",
    "model.add(Dense(12, input_dim=30, activation='relu'))\n",
    "model.add(Dense(8, activation='relu')) # Hidden layer\n",
    "model.add(Dense(1, activation='sigmoid')) # Output layer, sigmoid prefered as also providing propability"
   ]
  },
  {
   "cell_type": "markdown",
   "metadata": {},
   "source": [
    "If not specify the kernal initializer, will use default uniform initializer, so randomly choose from 0 to 0.05 as inital weights."
   ]
  },
  {
   "cell_type": "markdown",
   "metadata": {},
   "source": [
    "#### 2- Compile Model"
   ]
  },
  {
   "cell_type": "code",
   "execution_count": 4,
   "metadata": {},
   "outputs": [],
   "source": [
    "# Compile model\n",
    "model.compile(loss='binary_crossentropy', optimizer='adam', metrics=['accuracy'])"
   ]
  },
  {
   "cell_type": "markdown",
   "metadata": {},
   "source": [
    "#### 3- Fit model"
   ]
  },
  {
   "cell_type": "code",
   "execution_count": 5,
   "metadata": {
    "scrolled": true
   },
   "outputs": [
    {
     "name": "stdout",
     "output_type": "stream",
     "text": [
      "Epoch 1/150\n",
      "426/426 [==============================] - 0s 323us/step - loss: 232.0044 - accuracy: 0.6244\n",
      "Epoch 2/150\n",
      "426/426 [==============================] - 0s 91us/step - loss: 116.8918 - accuracy: 0.6244\n",
      "Epoch 3/150\n",
      "426/426 [==============================] - 0s 98us/step - loss: 48.5074 - accuracy: 0.6221\n",
      "Epoch 4/150\n",
      "426/426 [==============================] - 0s 96us/step - loss: 7.3305 - accuracy: 0.3638\n",
      "Epoch 5/150\n",
      "426/426 [==============================] - 0s 82us/step - loss: 0.7137 - accuracy: 0.3732\n",
      "Epoch 6/150\n",
      "426/426 [==============================] - 0s 84us/step - loss: 0.7084 - accuracy: 0.3756\n",
      "Epoch 7/150\n",
      "426/426 [==============================] - 0s 89us/step - loss: 0.7056 - accuracy: 0.3756\n",
      "Epoch 8/150\n",
      "426/426 [==============================] - 0s 91us/step - loss: 0.7027 - accuracy: 0.3756\n",
      "Epoch 9/150\n",
      "426/426 [==============================] - 0s 96us/step - loss: 0.6999 - accuracy: 0.3756\n",
      "Epoch 10/150\n",
      "426/426 [==============================] - 0s 91us/step - loss: 0.6972 - accuracy: 0.3756\n",
      "Epoch 11/150\n",
      "426/426 [==============================] - 0s 91us/step - loss: 0.6946 - accuracy: 0.3756\n",
      "Epoch 12/150\n",
      "426/426 [==============================] - 0s 101us/step - loss: 0.6921 - accuracy: 0.6103\n",
      "Epoch 13/150\n",
      "426/426 [==============================] - 0s 89us/step - loss: 0.6898 - accuracy: 0.6244\n",
      "Epoch 14/150\n",
      "426/426 [==============================] - 0s 96us/step - loss: 0.6876 - accuracy: 0.6244\n",
      "Epoch 15/150\n",
      "426/426 [==============================] - 0s 87us/step - loss: 0.6855 - accuracy: 0.6244\n",
      "Epoch 16/150\n",
      "426/426 [==============================] - 0s 84us/step - loss: 0.6835 - accuracy: 0.6244\n",
      "Epoch 17/150\n",
      "426/426 [==============================] - 0s 103us/step - loss: 0.6817 - accuracy: 0.6244\n",
      "Epoch 18/150\n",
      "426/426 [==============================] - 0s 82us/step - loss: 0.6801 - accuracy: 0.6244\n",
      "Epoch 19/150\n",
      "426/426 [==============================] - 0s 82us/step - loss: 0.6785 - accuracy: 0.6244\n",
      "Epoch 20/150\n",
      "426/426 [==============================] - 0s 89us/step - loss: 0.6770 - accuracy: 0.6244\n",
      "Epoch 21/150\n",
      "426/426 [==============================] - 0s 96us/step - loss: 0.6757 - accuracy: 0.6244\n",
      "Epoch 22/150\n",
      "426/426 [==============================] - 0s 91us/step - loss: 0.6744 - accuracy: 0.6244\n",
      "Epoch 23/150\n",
      "426/426 [==============================] - 0s 94us/step - loss: 0.6733 - accuracy: 0.6244\n",
      "Epoch 24/150\n",
      "426/426 [==============================] - 0s 89us/step - loss: 0.6723 - accuracy: 0.6244\n",
      "Epoch 25/150\n",
      "426/426 [==============================] - 0s 91us/step - loss: 0.6713 - accuracy: 0.6244\n",
      "Epoch 26/150\n",
      "426/426 [==============================] - 0s 96us/step - loss: 0.6704 - accuracy: 0.6244\n",
      "Epoch 27/150\n",
      "426/426 [==============================] - 0s 84us/step - loss: 0.6697 - accuracy: 0.6244\n",
      "Epoch 28/150\n",
      "426/426 [==============================] - 0s 98us/step - loss: 0.6689 - accuracy: 0.6244\n",
      "Epoch 29/150\n",
      "426/426 [==============================] - 0s 91us/step - loss: 0.6682 - accuracy: 0.6244\n",
      "Epoch 30/150\n",
      "426/426 [==============================] - 0s 89us/step - loss: 0.6676 - accuracy: 0.6244\n",
      "Epoch 31/150\n",
      "426/426 [==============================] - 0s 96us/step - loss: 0.6671 - accuracy: 0.6244\n",
      "Epoch 32/150\n",
      "426/426 [==============================] - 0s 84us/step - loss: 0.6665 - accuracy: 0.6244\n",
      "Epoch 33/150\n",
      "426/426 [==============================] - 0s 77us/step - loss: 0.6661 - accuracy: 0.6244\n",
      "Epoch 34/150\n",
      "426/426 [==============================] - 0s 84us/step - loss: 0.6656 - accuracy: 0.6244\n",
      "Epoch 35/150\n",
      "426/426 [==============================] - 0s 77us/step - loss: 0.6653 - accuracy: 0.6244\n",
      "Epoch 36/150\n",
      "426/426 [==============================] - 0s 77us/step - loss: 0.6649 - accuracy: 0.6244\n",
      "Epoch 37/150\n",
      "426/426 [==============================] - 0s 98us/step - loss: 0.6647 - accuracy: 0.6244\n",
      "Epoch 38/150\n",
      "426/426 [==============================] - 0s 98us/step - loss: 0.6643 - accuracy: 0.6244\n",
      "Epoch 39/150\n",
      "426/426 [==============================] - 0s 87us/step - loss: 0.6641 - accuracy: 0.6244\n",
      "Epoch 40/150\n",
      "426/426 [==============================] - 0s 89us/step - loss: 0.6638 - accuracy: 0.6244\n",
      "Epoch 41/150\n",
      "426/426 [==============================] - 0s 80us/step - loss: 0.6637 - accuracy: 0.6244\n",
      "Epoch 42/150\n",
      "426/426 [==============================] - 0s 80us/step - loss: 0.6635 - accuracy: 0.6244\n",
      "Epoch 43/150\n",
      "426/426 [==============================] - 0s 91us/step - loss: 0.6633 - accuracy: 0.6244\n",
      "Epoch 44/150\n",
      "426/426 [==============================] - 0s 82us/step - loss: 0.6631 - accuracy: 0.6244\n",
      "Epoch 45/150\n",
      "426/426 [==============================] - 0s 80us/step - loss: 0.6630 - accuracy: 0.6244\n",
      "Epoch 46/150\n",
      "426/426 [==============================] - 0s 73us/step - loss: 0.6629 - accuracy: 0.6244\n",
      "Epoch 47/150\n",
      "426/426 [==============================] - 0s 77us/step - loss: 0.6628 - accuracy: 0.6244\n",
      "Epoch 48/150\n",
      "426/426 [==============================] - 0s 75us/step - loss: 0.6627 - accuracy: 0.6244\n",
      "Epoch 49/150\n",
      "426/426 [==============================] - 0s 77us/step - loss: 0.6626 - accuracy: 0.6244\n",
      "Epoch 50/150\n",
      "426/426 [==============================] - 0s 84us/step - loss: 0.6626 - accuracy: 0.6244\n",
      "Epoch 51/150\n",
      "426/426 [==============================] - 0s 77us/step - loss: 0.6624 - accuracy: 0.6244\n",
      "Epoch 52/150\n",
      "426/426 [==============================] - 0s 80us/step - loss: 0.6624 - accuracy: 0.6244\n",
      "Epoch 53/150\n",
      "426/426 [==============================] - 0s 89us/step - loss: 0.6623 - accuracy: 0.6244\n",
      "Epoch 54/150\n",
      "426/426 [==============================] - 0s 70us/step - loss: 0.6623 - accuracy: 0.6244\n",
      "Epoch 55/150\n",
      "426/426 [==============================] - 0s 75us/step - loss: 0.6622 - accuracy: 0.6244\n",
      "Epoch 56/150\n",
      "426/426 [==============================] - 0s 82us/step - loss: 0.6622 - accuracy: 0.6244\n",
      "Epoch 57/150\n",
      "426/426 [==============================] - 0s 75us/step - loss: 0.6622 - accuracy: 0.6244\n",
      "Epoch 58/150\n",
      "426/426 [==============================] - 0s 75us/step - loss: 0.6621 - accuracy: 0.6244\n",
      "Epoch 59/150\n",
      "426/426 [==============================] - 0s 91us/step - loss: 0.6621 - accuracy: 0.6244\n",
      "Epoch 60/150\n",
      "426/426 [==============================] - 0s 96us/step - loss: 0.6622 - accuracy: 0.6244\n",
      "Epoch 61/150\n",
      "426/426 [==============================] - 0s 75us/step - loss: 0.6621 - accuracy: 0.6244\n",
      "Epoch 62/150\n",
      "426/426 [==============================] - 0s 77us/step - loss: 0.6620 - accuracy: 0.6244\n",
      "Epoch 63/150\n",
      "426/426 [==============================] - 0s 75us/step - loss: 0.6620 - accuracy: 0.6244\n",
      "Epoch 64/150\n",
      "426/426 [==============================] - 0s 75us/step - loss: 0.6620 - accuracy: 0.6244\n",
      "Epoch 65/150\n",
      "426/426 [==============================] - 0s 96us/step - loss: 0.6620 - accuracy: 0.6244\n",
      "Epoch 66/150\n",
      "426/426 [==============================] - 0s 77us/step - loss: 0.6620 - accuracy: 0.6244\n",
      "Epoch 67/150\n",
      "426/426 [==============================] - 0s 80us/step - loss: 0.6620 - accuracy: 0.6244\n",
      "Epoch 68/150\n",
      "426/426 [==============================] - 0s 84us/step - loss: 0.6620 - accuracy: 0.6244\n",
      "Epoch 69/150\n",
      "426/426 [==============================] - 0s 82us/step - loss: 0.6620 - accuracy: 0.6244\n",
      "Epoch 70/150\n",
      "426/426 [==============================] - 0s 82us/step - loss: 0.6620 - accuracy: 0.6244\n",
      "Epoch 71/150\n",
      "426/426 [==============================] - 0s 84us/step - loss: 0.6620 - accuracy: 0.6244\n",
      "Epoch 72/150\n",
      "426/426 [==============================] - 0s 84us/step - loss: 0.6619 - accuracy: 0.6244\n",
      "Epoch 73/150\n",
      "426/426 [==============================] - 0s 80us/step - loss: 0.6619 - accuracy: 0.6244\n",
      "Epoch 74/150\n",
      "426/426 [==============================] - 0s 84us/step - loss: 0.6620 - accuracy: 0.6244\n",
      "Epoch 75/150\n",
      "426/426 [==============================] - 0s 80us/step - loss: 0.6619 - accuracy: 0.6244\n",
      "Epoch 76/150\n",
      "426/426 [==============================] - 0s 80us/step - loss: 0.6620 - accuracy: 0.6244\n",
      "Epoch 77/150\n",
      "426/426 [==============================] - 0s 87us/step - loss: 0.6620 - accuracy: 0.6244\n",
      "Epoch 78/150\n",
      "426/426 [==============================] - 0s 80us/step - loss: 0.6619 - accuracy: 0.6244\n",
      "Epoch 79/150\n",
      "426/426 [==============================] - 0s 82us/step - loss: 0.6619 - accuracy: 0.6244\n",
      "Epoch 80/150\n"
     ]
    },
    {
     "name": "stdout",
     "output_type": "stream",
     "text": [
      "426/426 [==============================] - 0s 98us/step - loss: 0.6619 - accuracy: 0.6244\n",
      "Epoch 81/150\n",
      "426/426 [==============================] - 0s 82us/step - loss: 0.6620 - accuracy: 0.6244\n",
      "Epoch 82/150\n",
      "426/426 [==============================] - 0s 80us/step - loss: 0.6619 - accuracy: 0.6244\n",
      "Epoch 83/150\n",
      "426/426 [==============================] - ETA: 0s - loss: 0.6242 - accuracy: 0.70 - 0s 82us/step - loss: 0.6619 - accuracy: 0.6244\n",
      "Epoch 84/150\n",
      "426/426 [==============================] - 0s 77us/step - loss: 0.6619 - accuracy: 0.6244\n",
      "Epoch 85/150\n",
      "426/426 [==============================] - 0s 77us/step - loss: 0.6619 - accuracy: 0.6244\n",
      "Epoch 86/150\n",
      "426/426 [==============================] - 0s 77us/step - loss: 0.6619 - accuracy: 0.6244\n",
      "Epoch 87/150\n",
      "426/426 [==============================] - 0s 77us/step - loss: 0.6619 - accuracy: 0.6244\n",
      "Epoch 88/150\n",
      "426/426 [==============================] - 0s 77us/step - loss: 0.6619 - accuracy: 0.6244\n",
      "Epoch 89/150\n",
      "426/426 [==============================] - 0s 82us/step - loss: 0.6619 - accuracy: 0.6244\n",
      "Epoch 90/150\n",
      "426/426 [==============================] - 0s 73us/step - loss: 0.6619 - accuracy: 0.6244\n",
      "Epoch 91/150\n",
      "426/426 [==============================] - 0s 77us/step - loss: 0.6619 - accuracy: 0.6244\n",
      "Epoch 92/150\n",
      "426/426 [==============================] - 0s 80us/step - loss: 0.6619 - accuracy: 0.6244\n",
      "Epoch 93/150\n",
      "426/426 [==============================] - 0s 80us/step - loss: 0.6620 - accuracy: 0.6244\n",
      "Epoch 94/150\n",
      "426/426 [==============================] - 0s 75us/step - loss: 0.6619 - accuracy: 0.6244\n",
      "Epoch 95/150\n",
      "426/426 [==============================] - 0s 77us/step - loss: 0.6619 - accuracy: 0.6244\n",
      "Epoch 96/150\n",
      "426/426 [==============================] - 0s 80us/step - loss: 0.6619 - accuracy: 0.6244\n",
      "Epoch 97/150\n",
      "426/426 [==============================] - 0s 73us/step - loss: 0.6619 - accuracy: 0.6244\n",
      "Epoch 98/150\n",
      "426/426 [==============================] - 0s 80us/step - loss: 0.6619 - accuracy: 0.6244\n",
      "Epoch 99/150\n",
      "426/426 [==============================] - 0s 82us/step - loss: 0.6619 - accuracy: 0.6244\n",
      "Epoch 100/150\n",
      "426/426 [==============================] - 0s 80us/step - loss: 0.6619 - accuracy: 0.6244\n",
      "Epoch 101/150\n",
      "426/426 [==============================] - 0s 77us/step - loss: 0.6619 - accuracy: 0.6244\n",
      "Epoch 102/150\n",
      "426/426 [==============================] - 0s 82us/step - loss: 0.6619 - accuracy: 0.6244\n",
      "Epoch 103/150\n",
      "426/426 [==============================] - 0s 75us/step - loss: 0.6619 - accuracy: 0.6244\n",
      "Epoch 104/150\n",
      "426/426 [==============================] - 0s 77us/step - loss: 0.6619 - accuracy: 0.6244\n",
      "Epoch 105/150\n",
      "426/426 [==============================] - 0s 77us/step - loss: 0.6619 - accuracy: 0.6244\n",
      "Epoch 106/150\n",
      "426/426 [==============================] - 0s 77us/step - loss: 0.6619 - accuracy: 0.6244\n",
      "Epoch 107/150\n",
      "426/426 [==============================] - 0s 77us/step - loss: 0.6619 - accuracy: 0.6244\n",
      "Epoch 108/150\n",
      "426/426 [==============================] - 0s 86us/step - loss: 0.6619 - accuracy: 0.6244\n",
      "Epoch 109/150\n",
      "426/426 [==============================] - 0s 75us/step - loss: 0.6619 - accuracy: 0.6244\n",
      "Epoch 110/150\n",
      "426/426 [==============================] - 0s 82us/step - loss: 0.6619 - accuracy: 0.6244\n",
      "Epoch 111/150\n",
      "426/426 [==============================] - 0s 82us/step - loss: 0.6619 - accuracy: 0.6244\n",
      "Epoch 112/150\n",
      "426/426 [==============================] - 0s 84us/step - loss: 0.6620 - accuracy: 0.6244\n",
      "Epoch 113/150\n",
      "426/426 [==============================] - 0s 82us/step - loss: 0.6619 - accuracy: 0.6244\n",
      "Epoch 114/150\n",
      "426/426 [==============================] - 0s 89us/step - loss: 0.6619 - accuracy: 0.6244\n",
      "Epoch 115/150\n",
      "426/426 [==============================] - 0s 89us/step - loss: 0.6619 - accuracy: 0.6244\n",
      "Epoch 116/150\n",
      "426/426 [==============================] - 0s 98us/step - loss: 0.6619 - accuracy: 0.6244\n",
      "Epoch 117/150\n",
      "426/426 [==============================] - 0s 101us/step - loss: 0.6619 - accuracy: 0.6244\n",
      "Epoch 118/150\n",
      "426/426 [==============================] - 0s 89us/step - loss: 0.6619 - accuracy: 0.6244\n",
      "Epoch 119/150\n",
      "426/426 [==============================] - 0s 96us/step - loss: 0.6619 - accuracy: 0.6244\n",
      "Epoch 120/150\n",
      "426/426 [==============================] - 0s 84us/step - loss: 0.6619 - accuracy: 0.6244\n",
      "Epoch 121/150\n",
      "426/426 [==============================] - 0s 84us/step - loss: 0.6619 - accuracy: 0.6244\n",
      "Epoch 122/150\n",
      "426/426 [==============================] - 0s 87us/step - loss: 0.6619 - accuracy: 0.6244\n",
      "Epoch 123/150\n",
      "426/426 [==============================] - ETA: 0s - loss: 0.6234 - accuracy: 0.70 - 0s 84us/step - loss: 0.6619 - accuracy: 0.6244\n",
      "Epoch 124/150\n",
      "426/426 [==============================] - 0s 87us/step - loss: 0.6619 - accuracy: 0.6244\n",
      "Epoch 125/150\n",
      "426/426 [==============================] - 0s 87us/step - loss: 0.6619 - accuracy: 0.6244\n",
      "Epoch 126/150\n",
      "426/426 [==============================] - 0s 80us/step - loss: 0.6619 - accuracy: 0.6244\n",
      "Epoch 127/150\n",
      "426/426 [==============================] - 0s 70us/step - loss: 0.6619 - accuracy: 0.6244\n",
      "Epoch 128/150\n",
      "426/426 [==============================] - 0s 75us/step - loss: 0.6619 - accuracy: 0.6244\n",
      "Epoch 129/150\n",
      "426/426 [==============================] - 0s 80us/step - loss: 0.6619 - accuracy: 0.6244\n",
      "Epoch 130/150\n",
      "426/426 [==============================] - 0s 70us/step - loss: 0.6619 - accuracy: 0.6244\n",
      "Epoch 131/150\n",
      "426/426 [==============================] - 0s 80us/step - loss: 0.6619 - accuracy: 0.6244\n",
      "Epoch 132/150\n",
      "426/426 [==============================] - 0s 98us/step - loss: 0.6619 - accuracy: 0.6244\n",
      "Epoch 133/150\n",
      "426/426 [==============================] - 0s 89us/step - loss: 0.6619 - accuracy: 0.6244\n",
      "Epoch 134/150\n",
      "426/426 [==============================] - 0s 84us/step - loss: 0.6619 - accuracy: 0.6244\n",
      "Epoch 135/150\n",
      "426/426 [==============================] - 0s 91us/step - loss: 0.6619 - accuracy: 0.6244\n",
      "Epoch 136/150\n",
      "426/426 [==============================] - 0s 82us/step - loss: 0.6620 - accuracy: 0.6244\n",
      "Epoch 137/150\n",
      "426/426 [==============================] - 0s 84us/step - loss: 0.6619 - accuracy: 0.6244\n",
      "Epoch 138/150\n",
      "426/426 [==============================] - 0s 80us/step - loss: 0.6619 - accuracy: 0.6244\n",
      "Epoch 139/150\n",
      "426/426 [==============================] - 0s 79us/step - loss: 0.6619 - accuracy: 0.6244\n",
      "Epoch 140/150\n",
      "426/426 [==============================] - 0s 89us/step - loss: 0.6619 - accuracy: 0.6244\n",
      "Epoch 141/150\n",
      "426/426 [==============================] - 0s 87us/step - loss: 0.6619 - accuracy: 0.6244\n",
      "Epoch 142/150\n",
      "426/426 [==============================] - 0s 82us/step - loss: 0.6619 - accuracy: 0.6244\n",
      "Epoch 143/150\n",
      "426/426 [==============================] - 0s 96us/step - loss: 0.6619 - accuracy: 0.6244\n",
      "Epoch 144/150\n",
      "426/426 [==============================] - 0s 89us/step - loss: 0.6619 - accuracy: 0.6244\n",
      "Epoch 145/150\n",
      "426/426 [==============================] - 0s 94us/step - loss: 0.6619 - accuracy: 0.6244\n",
      "Epoch 146/150\n",
      "426/426 [==============================] - 0s 87us/step - loss: 0.6619 - accuracy: 0.6244\n",
      "Epoch 147/150\n",
      "426/426 [==============================] - 0s 89us/step - loss: 0.6619 - accuracy: 0.6244\n",
      "Epoch 148/150\n",
      "426/426 [==============================] - 0s 87us/step - loss: 0.6619 - accuracy: 0.6244\n",
      "Epoch 149/150\n",
      "426/426 [==============================] - 0s 94us/step - loss: 0.6619 - accuracy: 0.6244\n",
      "Epoch 150/150\n",
      "426/426 [==============================] - 0s 89us/step - loss: 0.6619 - accuracy: 0.6244\n"
     ]
    },
    {
     "data": {
      "text/plain": [
       "<keras.callbacks.callbacks.History at 0x27c33648eb8>"
      ]
     },
     "execution_count": 5,
     "metadata": {},
     "output_type": "execute_result"
    }
   ],
   "source": [
    "# Fit the model\n",
    "model.fit(X_train, y_train, epochs=150, batch_size=10) \n",
    "# Forward pass and backward pass \"epochs\" times, with \"batch_size\" number of training instances used each time"
   ]
  },
  {
   "cell_type": "markdown",
   "metadata": {},
   "source": [
    "#### 4 - Evaluate Model"
   ]
  },
  {
   "cell_type": "code",
   "execution_count": 6,
   "metadata": {},
   "outputs": [
    {
     "name": "stdout",
     "output_type": "stream",
     "text": [
      "143/143 [==============================] - 0s 126us/step\n",
      "\n",
      "accuracy: 63.64%\n"
     ]
    }
   ],
   "source": [
    "# evaluate the model\n",
    "scores = model.evaluate(X_test, y_test)\n",
    "print(\"\\n%s: %.2f%%\" % (model.metrics_names[1], scores[1]*100))\n",
    "# 143 rows in the test dataset "
   ]
  },
  {
   "cell_type": "code",
   "execution_count": 7,
   "metadata": {},
   "outputs": [
    {
     "data": {
      "text/plain": [
       "['loss', 'accuracy']"
      ]
     },
     "execution_count": 7,
     "metadata": {},
     "output_type": "execute_result"
    }
   ],
   "source": [
    "model.metrics_names"
   ]
  },
  {
   "cell_type": "markdown",
   "metadata": {},
   "source": [
    "#### 5 - Predict"
   ]
  },
  {
   "cell_type": "code",
   "execution_count": 8,
   "metadata": {
    "scrolled": true
   },
   "outputs": [
    {
     "data": {
      "text/plain": [
       "array([[0.62502855],\n",
       "       [0.62502855],\n",
       "       [0.62502855],\n",
       "       [0.62502855],\n",
       "       [0.62502855],\n",
       "       [0.62502855],\n",
       "       [0.62502855],\n",
       "       [0.62502855],\n",
       "       [0.62502855],\n",
       "       [0.62502855],\n",
       "       [0.62502855],\n",
       "       [0.62502855],\n",
       "       [0.62502855],\n",
       "       [0.62502855],\n",
       "       [0.62502855],\n",
       "       [0.62502855],\n",
       "       [0.62502855],\n",
       "       [0.62502855],\n",
       "       [0.62502855],\n",
       "       [0.62502855],\n",
       "       [0.62502855],\n",
       "       [0.62502855],\n",
       "       [0.62502855],\n",
       "       [0.62502855],\n",
       "       [0.62502855],\n",
       "       [0.62502855],\n",
       "       [0.62502855],\n",
       "       [0.62502855],\n",
       "       [0.62502855],\n",
       "       [0.62502855],\n",
       "       [0.62502855],\n",
       "       [0.62502855],\n",
       "       [0.62502855],\n",
       "       [0.62502855],\n",
       "       [0.62502855],\n",
       "       [0.62502855],\n",
       "       [0.62502855],\n",
       "       [0.62502855],\n",
       "       [0.62502855],\n",
       "       [0.62502855],\n",
       "       [0.62502855],\n",
       "       [0.62502855],\n",
       "       [0.62502855],\n",
       "       [0.62502855],\n",
       "       [0.62502855],\n",
       "       [0.8598424 ],\n",
       "       [0.62502855],\n",
       "       [0.62502855],\n",
       "       [0.62502855],\n",
       "       [0.62502855],\n",
       "       [0.62502855],\n",
       "       [0.62502855],\n",
       "       [0.62502855],\n",
       "       [0.62502855],\n",
       "       [0.62502855],\n",
       "       [0.62502855],\n",
       "       [0.62502855],\n",
       "       [0.62502855],\n",
       "       [0.62502855],\n",
       "       [0.62502855],\n",
       "       [0.62502855],\n",
       "       [0.62502855],\n",
       "       [0.62502855],\n",
       "       [0.62502855],\n",
       "       [0.62502855],\n",
       "       [0.62502855],\n",
       "       [0.62502855],\n",
       "       [0.62502855],\n",
       "       [0.62502855],\n",
       "       [0.62502855],\n",
       "       [0.62502855],\n",
       "       [0.62502855],\n",
       "       [0.62502855],\n",
       "       [0.62502855],\n",
       "       [0.62502855],\n",
       "       [0.62502855],\n",
       "       [0.62502855],\n",
       "       [0.62502855],\n",
       "       [0.62502855],\n",
       "       [0.62502855],\n",
       "       [0.62502855],\n",
       "       [0.62502855],\n",
       "       [0.62502855],\n",
       "       [0.62502855],\n",
       "       [0.62502855],\n",
       "       [0.62502855],\n",
       "       [0.62502855],\n",
       "       [0.62502855],\n",
       "       [0.62502855],\n",
       "       [0.62502855],\n",
       "       [0.62502855],\n",
       "       [0.62502855],\n",
       "       [0.62502855],\n",
       "       [0.62502855],\n",
       "       [0.62502855],\n",
       "       [0.62502855],\n",
       "       [0.62502855],\n",
       "       [0.62502855],\n",
       "       [0.62502855],\n",
       "       [0.62502855],\n",
       "       [0.62502855],\n",
       "       [0.62502855],\n",
       "       [0.62502855],\n",
       "       [0.62502855],\n",
       "       [0.62502855],\n",
       "       [0.62502855],\n",
       "       [0.62502855],\n",
       "       [0.62502855],\n",
       "       [0.62502855],\n",
       "       [0.62502855],\n",
       "       [0.62502855],\n",
       "       [0.62502855],\n",
       "       [0.62502855],\n",
       "       [0.62502855],\n",
       "       [0.62502855],\n",
       "       [0.62502855],\n",
       "       [0.62502855],\n",
       "       [0.62502855],\n",
       "       [0.62502855],\n",
       "       [0.62502855],\n",
       "       [0.62502855],\n",
       "       [0.62502855],\n",
       "       [0.62502855],\n",
       "       [0.62502855],\n",
       "       [0.62502855],\n",
       "       [0.62502855],\n",
       "       [0.62502855],\n",
       "       [0.62502855],\n",
       "       [0.62502855],\n",
       "       [0.62502855],\n",
       "       [0.62502855],\n",
       "       [0.62502855],\n",
       "       [0.62502855],\n",
       "       [0.62502855],\n",
       "       [0.62502855],\n",
       "       [0.62502855],\n",
       "       [0.62502855],\n",
       "       [0.62502855],\n",
       "       [0.62502855],\n",
       "       [0.62502855],\n",
       "       [0.62502855],\n",
       "       [0.62502855],\n",
       "       [0.62502855]], dtype=float32)"
      ]
     },
     "execution_count": 8,
     "metadata": {},
     "output_type": "execute_result"
    }
   ],
   "source": [
    "y_predict = model.predict(X_test)\n",
    "y_predict"
   ]
  },
  {
   "cell_type": "markdown",
   "metadata": {},
   "source": [
    "All samples are predicted as 1 (non cancer) here"
   ]
  },
  {
   "cell_type": "markdown",
   "metadata": {},
   "source": [
    "## Regression"
   ]
  },
  {
   "cell_type": "code",
   "execution_count": 9,
   "metadata": {},
   "outputs": [],
   "source": [
    "from sklearn.datasets import load_boston\n",
    "data = load_boston()\n",
    "X = data.data\n",
    "y = data.target\n",
    "\n",
    "from sklearn.model_selection import train_test_split\n",
    "X_train, X_test, y_train, y_test = train_test_split(X,y , random_state = 10)"
   ]
  },
  {
   "cell_type": "markdown",
   "metadata": {},
   "source": [
    "#### 1- Define Model"
   ]
  },
  {
   "cell_type": "code",
   "execution_count": 10,
   "metadata": {},
   "outputs": [],
   "source": [
    "# create model\n",
    "model = Sequential()\n",
    "# pick inital weights from [0, 0.05] randomly that following the normal distribution\n",
    "model.add(Dense(13, input_dim=13, kernel_initializer='normal', activation='relu'))\n",
    "model.add(Dense(1, kernel_initializer='normal')) "
   ]
  },
  {
   "cell_type": "markdown",
   "metadata": {},
   "source": [
    "#### 2- Compile Model"
   ]
  },
  {
   "cell_type": "code",
   "execution_count": 11,
   "metadata": {},
   "outputs": [],
   "source": [
    "# Compile model\n",
    "model.compile(loss='mse', optimizer='sgd' , metrics = ['mse']) # sgd: stochastic gradient descent"
   ]
  },
  {
   "cell_type": "markdown",
   "metadata": {},
   "source": [
    "#### 3- Fit Model"
   ]
  },
  {
   "cell_type": "code",
   "execution_count": 12,
   "metadata": {},
   "outputs": [
    {
     "name": "stdout",
     "output_type": "stream",
     "text": [
      "Epoch 1/100\n",
      "379/379 [==============================] - 0s 153us/step - loss: 360147436.0019 - mse: 360147424.0000\n",
      "Epoch 2/100\n",
      "379/379 [==============================] - 0s 47us/step - loss: 1478205.5495 - mse: 1478205.6250\n",
      "Epoch 3/100\n",
      "379/379 [==============================] - 0s 61us/step - loss: 686028.7693 - mse: 686028.7500\n",
      "Epoch 4/100\n",
      "379/379 [==============================] - 0s 58us/step - loss: 318389.8366 - mse: 318389.8438\n",
      "Epoch 5/100\n",
      "379/379 [==============================] - 0s 53us/step - loss: 147789.7357 - mse: 147789.7344\n",
      "Epoch 6/100\n",
      "379/379 [==============================] - 0s 39us/step - loss: 68629.8558 - mse: 68629.8594\n",
      "Epoch 7/100\n",
      "379/379 [==============================] - 0s 50us/step - loss: 31888.9676 - mse: 31888.9648\n",
      "Epoch 8/100\n",
      "379/379 [==============================] - 0s 42us/step - loss: 14835.6973 - mse: 14835.6982\n",
      "Epoch 9/100\n",
      "379/379 [==============================] - 0s 39us/step - loss: 6924.4516 - mse: 6924.4526\n",
      "Epoch 10/100\n",
      "379/379 [==============================] - 0s 39us/step - loss: 3255.2928 - mse: 3255.2930\n",
      "Epoch 11/100\n",
      "379/379 [==============================] - 0s 37us/step - loss: 1552.9249 - mse: 1552.9248\n",
      "Epoch 12/100\n",
      "379/379 [==============================] - 0s 34us/step - loss: 761.8577 - mse: 761.8578\n",
      "Epoch 13/100\n",
      "379/379 [==============================] - 0s 37us/step - loss: 395.4860 - mse: 395.4860\n",
      "Epoch 14/100\n",
      "379/379 [==============================] - 0s 47us/step - loss: 225.0186 - mse: 225.0186\n",
      "Epoch 15/100\n",
      "379/379 [==============================] - 0s 34us/step - loss: 145.7821 - mse: 145.7821\n",
      "Epoch 16/100\n",
      "379/379 [==============================] - 0s 37us/step - loss: 109.3053 - mse: 109.3052\n",
      "Epoch 17/100\n",
      "379/379 [==============================] - 0s 39us/step - loss: 92.4851 - mse: 92.4850\n",
      "Epoch 18/100\n",
      "379/379 [==============================] - 0s 42us/step - loss: 84.7088 - mse: 84.7088\n",
      "Epoch 19/100\n",
      "379/379 [==============================] - 0s 42us/step - loss: 81.0972 - mse: 81.0972\n",
      "Epoch 20/100\n",
      "379/379 [==============================] - 0s 39us/step - loss: 79.3831 - mse: 79.3831\n",
      "Epoch 21/100\n",
      "379/379 [==============================] - 0s 39us/step - loss: 78.6186 - mse: 78.6186\n",
      "Epoch 22/100\n",
      "379/379 [==============================] - 0s 38us/step - loss: 78.2370 - mse: 78.2370\n",
      "Epoch 23/100\n",
      "379/379 [==============================] - 0s 39us/step - loss: 78.0777 - mse: 78.0777\n",
      "Epoch 24/100\n",
      "379/379 [==============================] - 0s 42us/step - loss: 78.0032 - mse: 78.0032\n",
      "Epoch 25/100\n",
      "379/379 [==============================] - 0s 37us/step - loss: 77.9364 - mse: 77.9364\n",
      "Epoch 26/100\n",
      "379/379 [==============================] - 0s 42us/step - loss: 77.9693 - mse: 77.9693\n",
      "Epoch 27/100\n",
      "379/379 [==============================] - 0s 42us/step - loss: 77.9917 - mse: 77.9917\n",
      "Epoch 28/100\n",
      "379/379 [==============================] - 0s 37us/step - loss: 77.9744 - mse: 77.9744\n",
      "Epoch 29/100\n",
      "379/379 [==============================] - 0s 37us/step - loss: 77.9252 - mse: 77.9252\n",
      "Epoch 30/100\n",
      "379/379 [==============================] - 0s 37us/step - loss: 77.9463 - mse: 77.9463\n",
      "Epoch 31/100\n",
      "379/379 [==============================] - 0s 37us/step - loss: 77.9431 - mse: 77.9431\n",
      "Epoch 32/100\n",
      "379/379 [==============================] - 0s 32us/step - loss: 77.9163 - mse: 77.9163\n",
      "Epoch 33/100\n",
      "379/379 [==============================] - 0s 37us/step - loss: 77.9912 - mse: 77.9912\n",
      "Epoch 34/100\n",
      "379/379 [==============================] - 0s 39us/step - loss: 77.8969 - mse: 77.8969\n",
      "Epoch 35/100\n",
      "379/379 [==============================] - 0s 39us/step - loss: 77.9141 - mse: 77.9141\n",
      "Epoch 36/100\n",
      "379/379 [==============================] - 0s 39us/step - loss: 77.9365 - mse: 77.9365\n",
      "Epoch 37/100\n",
      "379/379 [==============================] - 0s 39us/step - loss: 77.9790 - mse: 77.9790\n",
      "Epoch 38/100\n",
      "379/379 [==============================] - 0s 39us/step - loss: 77.9417 - mse: 77.9417\n",
      "Epoch 39/100\n",
      "379/379 [==============================] - 0s 39us/step - loss: 77.9428 - mse: 77.9428\n",
      "Epoch 40/100\n",
      "379/379 [==============================] - 0s 37us/step - loss: 77.9263 - mse: 77.9263\n",
      "Epoch 41/100\n",
      "379/379 [==============================] - 0s 45us/step - loss: 77.9584 - mse: 77.9584\n",
      "Epoch 42/100\n",
      "379/379 [==============================] - 0s 42us/step - loss: 78.0045 - mse: 78.0045\n",
      "Epoch 43/100\n",
      "379/379 [==============================] - 0s 37us/step - loss: 77.9090 - mse: 77.9090\n",
      "Epoch 44/100\n",
      "379/379 [==============================] - 0s 37us/step - loss: 77.9670 - mse: 77.9670\n",
      "Epoch 45/100\n",
      "379/379 [==============================] - 0s 42us/step - loss: 77.9779 - mse: 77.9779\n",
      "Epoch 46/100\n",
      "379/379 [==============================] - 0s 37us/step - loss: 77.9449 - mse: 77.9449\n",
      "Epoch 47/100\n",
      "379/379 [==============================] - 0s 39us/step - loss: 77.9448 - mse: 77.9448\n",
      "Epoch 48/100\n",
      "379/379 [==============================] - 0s 37us/step - loss: 77.9581 - mse: 77.9581\n",
      "Epoch 49/100\n",
      "379/379 [==============================] - 0s 34us/step - loss: 77.9508 - mse: 77.9508\n",
      "Epoch 50/100\n",
      "379/379 [==============================] - 0s 45us/step - loss: 77.9442 - mse: 77.9442\n",
      "Epoch 51/100\n",
      "379/379 [==============================] - 0s 39us/step - loss: 77.9588 - mse: 77.9588\n",
      "Epoch 52/100\n",
      "379/379 [==============================] - 0s 42us/step - loss: 77.9168 - mse: 77.9168\n",
      "Epoch 53/100\n",
      "379/379 [==============================] - 0s 37us/step - loss: 77.9549 - mse: 77.9549\n",
      "Epoch 54/100\n",
      "379/379 [==============================] - 0s 42us/step - loss: 77.9273 - mse: 77.9273\n",
      "Epoch 55/100\n",
      "379/379 [==============================] - 0s 32us/step - loss: 77.9764 - mse: 77.9764\n",
      "Epoch 56/100\n",
      "379/379 [==============================] - 0s 40us/step - loss: 77.9591 - mse: 77.9591\n",
      "Epoch 57/100\n",
      "379/379 [==============================] - 0s 34us/step - loss: 77.9294 - mse: 77.9294\n",
      "Epoch 58/100\n",
      "379/379 [==============================] - 0s 37us/step - loss: 77.9321 - mse: 77.9321\n",
      "Epoch 59/100\n",
      "379/379 [==============================] - 0s 34us/step - loss: 77.9540 - mse: 77.9540\n",
      "Epoch 60/100\n",
      "379/379 [==============================] - 0s 32us/step - loss: 77.9654 - mse: 77.9655\n",
      "Epoch 61/100\n",
      "379/379 [==============================] - 0s 34us/step - loss: 77.9116 - mse: 77.9116\n",
      "Epoch 62/100\n",
      "379/379 [==============================] - 0s 29us/step - loss: 78.0193 - mse: 78.0193\n",
      "Epoch 63/100\n",
      "379/379 [==============================] - 0s 32us/step - loss: 77.9775 - mse: 77.9775\n",
      "Epoch 64/100\n",
      "379/379 [==============================] - 0s 34us/step - loss: 78.0197 - mse: 78.0197\n",
      "Epoch 65/100\n",
      "379/379 [==============================] - 0s 29us/step - loss: 77.9792 - mse: 77.9792\n",
      "Epoch 66/100\n",
      "379/379 [==============================] - 0s 34us/step - loss: 77.9326 - mse: 77.9326\n",
      "Epoch 67/100\n",
      "379/379 [==============================] - 0s 32us/step - loss: 77.9233 - mse: 77.9233\n",
      "Epoch 68/100\n",
      "379/379 [==============================] - 0s 34us/step - loss: 77.9526 - mse: 77.9526\n",
      "Epoch 69/100\n",
      "379/379 [==============================] - 0s 32us/step - loss: 77.9532 - mse: 77.9532\n",
      "Epoch 70/100\n",
      "379/379 [==============================] - 0s 32us/step - loss: 77.9732 - mse: 77.9732\n",
      "Epoch 71/100\n",
      "379/379 [==============================] - 0s 29us/step - loss: 77.9061 - mse: 77.9061\n",
      "Epoch 72/100\n",
      "379/379 [==============================] - 0s 34us/step - loss: 77.9385 - mse: 77.9385\n",
      "Epoch 73/100\n",
      "379/379 [==============================] - 0s 32us/step - loss: 77.8942 - mse: 77.8942\n",
      "Epoch 74/100\n",
      "379/379 [==============================] - 0s 34us/step - loss: 77.8936 - mse: 77.8936\n",
      "Epoch 75/100\n",
      "379/379 [==============================] - 0s 34us/step - loss: 77.9981 - mse: 77.9981\n",
      "Epoch 76/100\n",
      "379/379 [==============================] - 0s 34us/step - loss: 77.9313 - mse: 77.9313\n",
      "Epoch 77/100\n",
      "379/379 [==============================] - 0s 37us/step - loss: 77.9318 - mse: 77.9318\n",
      "Epoch 78/100\n",
      "379/379 [==============================] - 0s 32us/step - loss: 77.9633 - mse: 77.9633\n",
      "Epoch 79/100\n",
      "379/379 [==============================] - 0s 34us/step - loss: 77.9633 - mse: 77.9633\n",
      "Epoch 80/100\n",
      "379/379 [==============================] - 0s 34us/step - loss: 77.9647 - mse: 77.9647\n",
      "Epoch 81/100\n",
      "379/379 [==============================] - 0s 37us/step - loss: 77.9572 - mse: 77.9572\n",
      "Epoch 82/100\n"
     ]
    },
    {
     "name": "stdout",
     "output_type": "stream",
     "text": [
      "379/379 [==============================] - 0s 37us/step - loss: 77.9314 - mse: 77.9314\n",
      "Epoch 83/100\n",
      "379/379 [==============================] - 0s 32us/step - loss: 77.9126 - mse: 77.9126\n",
      "Epoch 84/100\n",
      "379/379 [==============================] - 0s 34us/step - loss: 77.9270 - mse: 77.9270\n",
      "Epoch 85/100\n",
      "379/379 [==============================] - 0s 34us/step - loss: 77.9517 - mse: 77.9517\n",
      "Epoch 86/100\n",
      "379/379 [==============================] - 0s 37us/step - loss: 77.9415 - mse: 77.9415\n",
      "Epoch 87/100\n",
      "379/379 [==============================] - 0s 37us/step - loss: 77.9135 - mse: 77.9134\n",
      "Epoch 88/100\n",
      "379/379 [==============================] - 0s 34us/step - loss: 77.9098 - mse: 77.9098\n",
      "Epoch 89/100\n",
      "379/379 [==============================] - 0s 31us/step - loss: 77.9043 - mse: 77.9043\n",
      "Epoch 90/100\n",
      "379/379 [==============================] - 0s 47us/step - loss: 77.9891 - mse: 77.9891\n",
      "Epoch 91/100\n",
      "379/379 [==============================] - 0s 39us/step - loss: 77.9259 - mse: 77.9258\n",
      "Epoch 92/100\n",
      "379/379 [==============================] - 0s 47us/step - loss: 77.9583 - mse: 77.9583\n",
      "Epoch 93/100\n",
      "379/379 [==============================] - 0s 45us/step - loss: 77.9358 - mse: 77.9358\n",
      "Epoch 94/100\n",
      "379/379 [==============================] - 0s 42us/step - loss: 77.9569 - mse: 77.9569\n",
      "Epoch 95/100\n",
      "379/379 [==============================] - 0s 42us/step - loss: 77.9300 - mse: 77.9300\n",
      "Epoch 96/100\n",
      "379/379 [==============================] - 0s 37us/step - loss: 77.9921 - mse: 77.9921\n",
      "Epoch 97/100\n",
      "379/379 [==============================] - 0s 34us/step - loss: 77.9268 - mse: 77.9268\n",
      "Epoch 98/100\n",
      "379/379 [==============================] - 0s 39us/step - loss: 77.9905 - mse: 77.9905\n",
      "Epoch 99/100\n",
      "379/379 [==============================] - 0s 31us/step - loss: 77.9303 - mse: 77.9303\n",
      "Epoch 100/100\n",
      "379/379 [==============================] - 0s 34us/step - loss: 77.9269 - mse: 77.9269\n"
     ]
    },
    {
     "data": {
      "text/plain": [
       "<keras.callbacks.callbacks.History at 0x27c347845f8>"
      ]
     },
     "execution_count": 12,
     "metadata": {},
     "output_type": "execute_result"
    }
   ],
   "source": [
    "model.fit(X_train, y_train, epochs = 100, batch_size = 20)"
   ]
  },
  {
   "cell_type": "markdown",
   "metadata": {},
   "source": [
    "#### 4- Evaluate model"
   ]
  },
  {
   "cell_type": "code",
   "execution_count": 13,
   "metadata": {},
   "outputs": [
    {
     "name": "stdout",
     "output_type": "stream",
     "text": [
      "127/127 [==============================] - 0s 94us/step\n"
     ]
    },
    {
     "data": {
      "text/plain": [
       "[105.3037166745644, 105.30371856689453]"
      ]
     },
     "execution_count": 13,
     "metadata": {},
     "output_type": "execute_result"
    }
   ],
   "source": [
    "model.evaluate(X_test, y_test)"
   ]
  },
  {
   "cell_type": "code",
   "execution_count": 14,
   "metadata": {},
   "outputs": [
    {
     "name": "stdout",
     "output_type": "stream",
     "text": [
      "Train score: -0.00\n",
      "Test score: -0.06\n"
     ]
    }
   ],
   "source": [
    "from sklearn.metrics import r2_score, recall_score, precision_score\n",
    "\n",
    "y_train_predict = model.predict(X_train)\n",
    "y_test_predict = model.predict(X_test)\n",
    "\n",
    "print('Train score: {:.2f}'.format(r2_score(y_train, y_train_predict)))\n",
    "print('Test score: {:.2f}'.format(r2_score(y_test, y_test_predict)))"
   ]
  },
  {
   "cell_type": "markdown",
   "metadata": {},
   "source": [
    "R-Squared score used here to evaluate the model performance, which is very poor. <br>\n",
    "R-Squared is a statistical measure of fit that indicates how much variation of a dependent variable is explained by the independent variable(s) in a regression model."
   ]
  },
  {
   "cell_type": "markdown",
   "metadata": {},
   "source": [
    "## Grid Search\n",
    "\n",
    "We can use GridSearchCV to find the best epochs and batche size. \n",
    "\n",
    "First we need to create base model required for <code>KerasClassifier</code>"
   ]
  },
  {
   "cell_type": "code",
   "execution_count": 15,
   "metadata": {},
   "outputs": [],
   "source": [
    "import numpy as np\n",
    "from sklearn.model_selection import GridSearchCV\n",
    "from keras.models import Sequential\n",
    "from keras.layers import Dense\n",
    "from keras.wrappers.scikit_learn import KerasClassifier"
   ]
  },
  {
   "cell_type": "code",
   "execution_count": 21,
   "metadata": {},
   "outputs": [
    {
     "data": {
      "text/plain": [
       "(506, 13)"
      ]
     },
     "execution_count": 21,
     "metadata": {},
     "output_type": "execute_result"
    }
   ],
   "source": [
    "X.shape"
   ]
  },
  {
   "cell_type": "code",
   "execution_count": 22,
   "metadata": {},
   "outputs": [],
   "source": [
    "def create_model():\n",
    "    #create model\n",
    "    model = Sequential()\n",
    "    model.add(Dense(12, input_dim=13, activation='relu'))\n",
    "    model.add(Dense(8, activation='relu'))\n",
    "    model.add(Dense(1, activation='sigmoid'))\n",
    "    #compile model\n",
    "    model.compile(loss='binary_crossentropy', optimizer='adam', metrics=['accuracy'])\n",
    "    return model"
   ]
  },
  {
   "cell_type": "markdown",
   "metadata": {},
   "source": [
    "You can set a random seed to repruducibility"
   ]
  },
  {
   "cell_type": "code",
   "execution_count": 23,
   "metadata": {},
   "outputs": [],
   "source": [
    "seed = 10\n",
    "np.random.seed(10)"
   ]
  },
  {
   "cell_type": "markdown",
   "metadata": {},
   "source": [
    "Load dataset and create <code>KerasClassifier</code> "
   ]
  },
  {
   "cell_type": "code",
   "execution_count": 24,
   "metadata": {},
   "outputs": [],
   "source": [
    "model = KerasClassifier(build_fn = create_model, verbose = 0)\n",
    "\n",
    "param_grid = {'batch_size':[10,20,30,40] , 'epochs':[10, 50, 100]}\n",
    "grid_search = GridSearchCV(estimator = model, param_grid = param_grid, cv = 5)"
   ]
  },
  {
   "cell_type": "code",
   "execution_count": 25,
   "metadata": {},
   "outputs": [],
   "source": [
    "grid_search_result = grid_search.fit(X, y)"
   ]
  },
  {
   "cell_type": "code",
   "execution_count": 26,
   "metadata": {},
   "outputs": [
    {
     "data": {
      "text/plain": [
       "{'batch_size': 10, 'epochs': 10}"
      ]
     },
     "execution_count": 26,
     "metadata": {},
     "output_type": "execute_result"
    }
   ],
   "source": [
    "grid_search_result.best_params_"
   ]
  },
  {
   "cell_type": "code",
   "execution_count": 27,
   "metadata": {},
   "outputs": [
    {
     "data": {
      "text/plain": [
       "0.003960395976901054"
      ]
     },
     "execution_count": 27,
     "metadata": {},
     "output_type": "execute_result"
    }
   ],
   "source": [
    "grid_search_result.best_score_"
   ]
  }
 ],
 "metadata": {
  "kernelspec": {
   "display_name": "Python 3",
   "language": "python",
   "name": "python3"
  },
  "language_info": {
   "codemirror_mode": {
    "name": "ipython",
    "version": 3
   },
   "file_extension": ".py",
   "mimetype": "text/x-python",
   "name": "python",
   "nbconvert_exporter": "python",
   "pygments_lexer": "ipython3",
   "version": "3.7.1"
  }
 },
 "nbformat": 4,
 "nbformat_minor": 2
}
