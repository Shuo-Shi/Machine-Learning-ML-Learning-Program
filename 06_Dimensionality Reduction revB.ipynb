{
 "cells": [
  {
   "cell_type": "code",
   "execution_count": 1,
   "metadata": {},
   "outputs": [],
   "source": [
    "import numpy as np\n",
    "import matplotlib.pyplot as plt"
   ]
  },
  {
   "cell_type": "markdown",
   "metadata": {},
   "source": [
    "## Generate dataset"
   ]
  },
  {
   "cell_type": "code",
   "execution_count": 2,
   "metadata": {},
   "outputs": [],
   "source": [
    "np.random.seed(4)\n",
    "m = 60\n",
    "w1, w2 = 0.1, 0.3\n",
    "noise = 0.1\n",
    "\n",
    "angles = np.random.rand(m) * 3 * np.pi / 2 - 0.5\n",
    "X = np.empty((m, 3))\n",
    "X[:, 0] = np.cos(angles) + np.sin(angles)/2 + noise * np.random.randn(m) / 2\n",
    "X[:, 1] = np.sin(angles) * 0.7 + noise * np.random.randn(m) / 2\n",
    "X[:, 2] = X[:, 0] * w1 + X[:, 1] * w2 + noise * np.random.randn(m)"
   ]
  },
  {
   "cell_type": "markdown",
   "metadata": {},
   "source": [
    "## PCA using SVD decomposition"
   ]
  },
  {
   "cell_type": "code",
   "execution_count": 3,
   "metadata": {},
   "outputs": [],
   "source": [
    "X_centered  = X - X.mean(axis=0) # Data needs to be centered first before apply SVD decomposition\n",
    "\n",
    "# Directly apply SVD\n",
    "U, s, Vt = np.linalg.svd(X_centered)\n",
    "## reduce to 2 dim from original 3 dim, by choose the 2 principle component (eigenvectors)\n",
    "c1 = Vt.T[:, 0] \n",
    "c2 = Vt.T[:, 1]"
   ]
  },
  {
   "cell_type": "code",
   "execution_count": 4,
   "metadata": {},
   "outputs": [
    {
     "name": "stdout",
     "output_type": "stream",
     "text": [
      "The shape of unitary matrix U, singular values vector s and eigenvectors matrix Vt: (60, 60) (3,) (3, 3)\n"
     ]
    }
   ],
   "source": [
    "print('The shape of unitary matrix U, singular values vector s and eigenvectors matrix Vt: {} {} {}'.format(U.shape,s.shape,Vt.shape))"
   ]
  },
  {
   "cell_type": "code",
   "execution_count": 5,
   "metadata": {},
   "outputs": [],
   "source": [
    "# build matrix S that matching the size of data matrix X and contains diagonal matrix with singular values\n",
    "m, n = X.shape\n",
    "\n",
    "S = np.zeros(X_centered.shape)\n",
    "S[:n, :n] = np.diag(s) # S.shape (60, 3)"
   ]
  },
  {
   "cell_type": "code",
   "execution_count": 6,
   "metadata": {},
   "outputs": [
    {
     "data": {
      "text/plain": [
       "True"
      ]
     },
     "execution_count": 6,
     "metadata": {},
     "output_type": "execute_result"
    }
   ],
   "source": [
    "# Compare the original X_centered with the reconstructed X, which should be similar\n",
    "np.allclose(X_centered, U.dot(S).dot(Vt))"
   ]
  },
  {
   "cell_type": "code",
   "execution_count": 7,
   "metadata": {
    "scrolled": false
   },
   "outputs": [
    {
     "data": {
      "text/plain": [
       "True"
      ]
     },
     "execution_count": 7,
     "metadata": {},
     "output_type": "execute_result"
    }
   ],
   "source": [
    "# another way of reconstructing the X\n",
    "\n",
    "# select the first k columns of U where k = 3\n",
    "U_short = U[:,:s.shape[0]] # 60x3\n",
    "\n",
    "# since no feature reduction yet, the reconstructed X should be similar with orignal X_centered\n",
    "np.allclose(X_centered, U_short.dot(np.diag(s)).dot(Vt)) # 60x3(m,k) 3x3(k,k) 3x3(k,k)"
   ]
  },
  {
   "cell_type": "code",
   "execution_count": 8,
   "metadata": {},
   "outputs": [],
   "source": [
    "# Projecting the training set down to 2 dimensions\n",
    "# Construct a projection matrix W from the “top” k eigenvectors, where k = 2\n",
    "W2 = Vt.T[:, :2] # select the first 2 eigenvectors (principal components)\n",
    "X2D = X_centered.dot(W2)"
   ]
  },
  {
   "cell_type": "code",
   "execution_count": 9,
   "metadata": {},
   "outputs": [],
   "source": [
    "X2D_using_svd = X2D"
   ]
  },
  {
   "cell_type": "code",
   "execution_count": 10,
   "metadata": {
    "scrolled": true
   },
   "outputs": [
    {
     "data": {
      "text/plain": [
       "array([[-1.26203346, -0.42067648],\n",
       "       [ 0.08001485,  0.35272239],\n",
       "       [-1.17545763, -0.36085729],\n",
       "       [-0.89305601,  0.30862856],\n",
       "       [-0.73016287,  0.25404049]])"
      ]
     },
     "execution_count": 10,
     "metadata": {},
     "output_type": "execute_result"
    }
   ],
   "source": [
    "# Print out for later comparision with PCA using Scikit-Learn\n",
    "X2D_using_svd[:5]"
   ]
  },
  {
   "cell_type": "markdown",
   "metadata": {},
   "source": [
    "## PCA using Scikit-Learn"
   ]
  },
  {
   "cell_type": "code",
   "execution_count": 11,
   "metadata": {},
   "outputs": [],
   "source": [
    "from sklearn.decomposition import PCA\n",
    "\n",
    "# No need for the center the points\n",
    "pca = PCA(n_components = 2) # When n_compoents > 1, it represent the number of priciple component\n",
    "X2D = pca.fit_transform(X)"
   ]
  },
  {
   "cell_type": "code",
   "execution_count": 12,
   "metadata": {
    "scrolled": false
   },
   "outputs": [
    {
     "data": {
      "text/plain": [
       "array([[ 1.26203346,  0.42067648],\n",
       "       [-0.08001485, -0.35272239],\n",
       "       [ 1.17545763,  0.36085729],\n",
       "       [ 0.89305601, -0.30862856],\n",
       "       [ 0.73016287, -0.25404049]])"
      ]
     },
     "execution_count": 12,
     "metadata": {},
     "output_type": "execute_result"
    }
   ],
   "source": [
    "X2D[:5] # same result as above by using SVD decomposition"
   ]
  },
  {
   "cell_type": "markdown",
   "metadata": {},
   "source": [
    "In general the only difference by running PCA is that some axes may be flipped. <br>\n",
    "In this example, PCA using Scikit-Learn gives the same projection as the one given by the SVD approach, except both axes are flipped."
   ]
  },
  {
   "cell_type": "code",
   "execution_count": 13,
   "metadata": {},
   "outputs": [
    {
     "data": {
      "text/plain": [
       "True"
      ]
     },
     "execution_count": 13,
     "metadata": {},
     "output_type": "execute_result"
    }
   ],
   "source": [
    "np.allclose(X2D, -X2D_using_svd)"
   ]
  },
  {
   "cell_type": "code",
   "execution_count": 14,
   "metadata": {},
   "outputs": [],
   "source": [
    "# input the compressed dataset to reconstruct the original dataset\n",
    "X3D_inv = pca.inverse_transform(X2D)"
   ]
  },
  {
   "cell_type": "code",
   "execution_count": 15,
   "metadata": {},
   "outputs": [
    {
     "data": {
      "text/plain": [
       "False"
      ]
     },
     "execution_count": 15,
     "metadata": {},
     "output_type": "execute_result"
    }
   ],
   "source": [
    "np.allclose(X3D_inv, X) # lost some information after compression and decompression of the dataset"
   ]
  },
  {
   "cell_type": "markdown",
   "metadata": {},
   "source": [
    "There was some loss of information during the projection step, so the recovered 3D points are not exactly equal to the original 3D points."
   ]
  },
  {
   "cell_type": "markdown",
   "metadata": {},
   "source": [
    "## PCA Attributes"
   ]
  },
  {
   "cell_type": "code",
   "execution_count": 16,
   "metadata": {
    "scrolled": false
   },
   "outputs": [
    {
     "data": {
      "text/plain": [
       "array([[-0.93636116, -0.29854881, -0.18465208],\n",
       "       [ 0.34027485, -0.90119108, -0.2684542 ]])"
      ]
     },
     "execution_count": 16,
     "metadata": {},
     "output_type": "execute_result"
    }
   ],
   "source": [
    "pca.components_"
   ]
  },
  {
   "cell_type": "markdown",
   "metadata": {},
   "source": [
    "components_: ndarray of shape (n_components, n_features) <br>\n",
    "Principal axes in feature space, representing the directions of maximum variance in the data. The components are sorted by explained_variance_."
   ]
  },
  {
   "cell_type": "code",
   "execution_count": 17,
   "metadata": {},
   "outputs": [
    {
     "data": {
      "text/plain": [
       "array([[ 0.93636116,  0.29854881,  0.18465208],\n",
       "       [-0.34027485,  0.90119108,  0.2684542 ]])"
      ]
     },
     "execution_count": 17,
     "metadata": {},
     "output_type": "execute_result"
    }
   ],
   "source": [
    "Vt[:2]"
   ]
  },
  {
   "cell_type": "code",
   "execution_count": 18,
   "metadata": {
    "scrolled": true
   },
   "outputs": [
    {
     "data": {
      "text/plain": [
       "array([0.84248607, 0.14631839])"
      ]
     },
     "execution_count": 18,
     "metadata": {},
     "output_type": "execute_result"
    }
   ],
   "source": [
    "pca.explained_variance_ratio_"
   ]
  },
  {
   "cell_type": "markdown",
   "metadata": {},
   "source": [
    "explained_variance_: ndarray of shape (n_components,) <br>\n",
    "The amount of variance explained by each of the selected components. Equal to n_components largest eigenvalues of the covariance matrix of X."
   ]
  },
  {
   "cell_type": "markdown",
   "metadata": {},
   "source": [
    "84.25% of the variance being preserved by the 1st principal axis, while 14.63% being preserved by the 2nd"
   ]
  },
  {
   "cell_type": "code",
   "execution_count": 19,
   "metadata": {},
   "outputs": [
    {
     "data": {
      "text/plain": [
       "0.011195535570688975"
      ]
     },
     "execution_count": 19,
     "metadata": {},
     "output_type": "execute_result"
    }
   ],
   "source": [
    "# reconstruction error\n",
    "1 - pca.explained_variance_ratio_.sum()"
   ]
  },
  {
   "cell_type": "code",
   "execution_count": 20,
   "metadata": {},
   "outputs": [
    {
     "data": {
      "text/plain": [
       "(3,)"
      ]
     },
     "execution_count": 20,
     "metadata": {},
     "output_type": "execute_result"
    }
   ],
   "source": [
    "pca.mean_.shape"
   ]
  },
  {
   "cell_type": "markdown",
   "metadata": {},
   "source": [
    "mean_: ndarray of shape (n_features,) <br>\n",
    "Per-feature empirical mean, estimated from the training set. Equal to X.mean(axis=0)."
   ]
  },
  {
   "cell_type": "markdown",
   "metadata": {},
   "source": [
    "## MNIST"
   ]
  },
  {
   "cell_type": "code",
   "execution_count": 21,
   "metadata": {},
   "outputs": [],
   "source": [
    "from six.moves import urllib\n",
    "# from tensorflow.examples.tutorials.mnist import input_data\n",
    "\n",
    "# mnist = input_data.read_data_sets('MNIST_data', one_hot=True)\n",
    "# mnist = fetch_mldata('MNIST original', transpose_data=True, data_home='files')"
   ]
  },
  {
   "cell_type": "code",
   "execution_count": 22,
   "metadata": {},
   "outputs": [
    {
     "name": "stdout",
     "output_type": "stream",
     "text": [
      "Success!\n"
     ]
    }
   ],
   "source": [
    "from sklearn.datasets import fetch_openml\n",
    "\n",
    "from scipy.io import loadmat\n",
    "mnist_alternative_url = \"https://github.com/amplab/datascience-sp14/raw/master/lab7/mldata/mnist-original.mat\"\n",
    "mnist_path = \"./mnist-original.mat\"\n",
    "response = urllib.request.urlopen(mnist_alternative_url)\n",
    "with open(mnist_path, \"wb\") as f:\n",
    "    content = response.read()\n",
    "    f.write(content)\n",
    "mnist_raw = loadmat(mnist_path)\n",
    "mnist = {\n",
    "    \"data\": mnist_raw[\"data\"].T,\n",
    "    \"target\": mnist_raw[\"label\"][0],\n",
    "    \"COL_NAMES\": [\"label\", \"data\"],\n",
    "    \"DESCR\": \"mldata.org dataset: mnist-original\",\n",
    "}\n",
    "print(\"Success!\")"
   ]
  },
  {
   "cell_type": "code",
   "execution_count": 23,
   "metadata": {},
   "outputs": [],
   "source": [
    "from sklearn.model_selection import train_test_split\n",
    "\n",
    "X = mnist[\"data\"]\n",
    "y = mnist[\"target\"]\n",
    "\n",
    "X_train, X_test, y_train, y_test = train_test_split(X, y)"
   ]
  },
  {
   "cell_type": "code",
   "execution_count": 24,
   "metadata": {},
   "outputs": [],
   "source": [
    "pca = PCA()\n",
    "pca.fit(X_train)\n",
    "\n",
    "cumsum = np.cumsum(pca.explained_variance_ratio_)\n",
    "d = np.argmax(cumsum >= 0.95) + 1 # np.argmax() Returns the indices of the maximum values along an axis."
   ]
  },
  {
   "cell_type": "code",
   "execution_count": 25,
   "metadata": {},
   "outputs": [
    {
     "data": {
      "text/plain": [
       "154"
      ]
     },
     "execution_count": 25,
     "metadata": {},
     "output_type": "execute_result"
    }
   ],
   "source": [
    "d"
   ]
  },
  {
   "cell_type": "code",
   "execution_count": 26,
   "metadata": {},
   "outputs": [],
   "source": [
    "# Another way result the same result above\n",
    "pca = PCA(n_components=0.95) # When n_compoents < 1, it represent the target explained variance ratio\n",
    "X_reduced = pca.fit_transform(X_train)"
   ]
  },
  {
   "cell_type": "code",
   "execution_count": 27,
   "metadata": {},
   "outputs": [
    {
     "data": {
      "text/plain": [
       "154"
      ]
     },
     "execution_count": 27,
     "metadata": {},
     "output_type": "execute_result"
    }
   ],
   "source": [
    "pca.n_components_"
   ]
  },
  {
   "cell_type": "code",
   "execution_count": 28,
   "metadata": {},
   "outputs": [
    {
     "data": {
      "text/plain": [
       "0.9504463030200188"
      ]
     },
     "execution_count": 28,
     "metadata": {},
     "output_type": "execute_result"
    }
   ],
   "source": [
    "np.sum(pca.explained_variance_ratio_)"
   ]
  },
  {
   "cell_type": "code",
   "execution_count": 29,
   "metadata": {},
   "outputs": [],
   "source": [
    "pca = PCA(n_components = 154)\n",
    "X_reduced = pca.fit_transform(X_train)\n",
    "X_recovered = pca.inverse_transform(X_reduced)"
   ]
  },
  {
   "cell_type": "code",
   "execution_count": 30,
   "metadata": {},
   "outputs": [],
   "source": [
    "X_reduced_pca = X_reduced # used to compare later with incremental PCA reduced dataset"
   ]
  },
  {
   "cell_type": "markdown",
   "metadata": {},
   "source": [
    "## Incremental PCA"
   ]
  },
  {
   "cell_type": "markdown",
   "metadata": {},
   "source": [
    "Preceding implementation of PCA requires the whole training set to fit in memory in order for the SVD algorithm to run. <br> Incremental PCA: Split the training set into mini-batches and feed an IPCA algorithm one mini-batch at a time."
   ]
  },
  {
   "cell_type": "code",
   "execution_count": 31,
   "metadata": {
    "scrolled": true
   },
   "outputs": [
    {
     "name": "stdout",
     "output_type": "stream",
     "text": [
      "...................................................................................................."
     ]
    }
   ],
   "source": [
    "# When the dataset is too large, use incremental PCA, which means split dataset into batches and pass it to the PCA\n",
    "from sklearn.decomposition import IncrementalPCA\n",
    "\n",
    "n_batches = 100\n",
    "\n",
    "inc_pca = IncrementalPCA(n_components=154)\n",
    "for X_batch in np.array_split(X_train, n_batches):\n",
    "    print(\".\", end=\"\")\n",
    "    inc_pca.partial_fit(X_batch)\n",
    "\n",
    "X_reduced = inc_pca.transform(X_train)"
   ]
  },
  {
   "cell_type": "code",
   "execution_count": 32,
   "metadata": {},
   "outputs": [],
   "source": [
    "X_recovered_inc_pca = inc_pca.inverse_transform(X_reduced)"
   ]
  },
  {
   "cell_type": "code",
   "execution_count": 33,
   "metadata": {},
   "outputs": [],
   "source": [
    "X_reduced_inc_pca = X_reduced"
   ]
  },
  {
   "cell_type": "code",
   "execution_count": 34,
   "metadata": {
    "scrolled": true
   },
   "outputs": [
    {
     "data": {
      "text/plain": [
       "True"
      ]
     },
     "execution_count": 34,
     "metadata": {},
     "output_type": "execute_result"
    }
   ],
   "source": [
    "np.allclose(pca.mean_, inc_pca.mean_) # pca.mean_: Equal to X.mean(axis=0)."
   ]
  },
  {
   "cell_type": "code",
   "execution_count": 35,
   "metadata": {},
   "outputs": [
    {
     "data": {
      "text/plain": [
       "False"
      ]
     },
     "execution_count": 35,
     "metadata": {},
     "output_type": "execute_result"
    }
   ],
   "source": [
    "np.allclose(X_reduced_pca, X_reduced_inc_pca) # expect incremental PCA lose more information then normal PCA"
   ]
  },
  {
   "cell_type": "markdown",
   "metadata": {},
   "source": [
    "## Kernel PCA"
   ]
  },
  {
   "cell_type": "markdown",
   "metadata": {},
   "source": [
    "Kernel trick, a mathematical technique that implicitly maps instances into a very high-demensional space, enabling nonlinear calssification and regression with Support Vector Machines. (nonlinear in original space -> linear in high-dimensional feature space) "
   ]
  },
  {
   "cell_type": "code",
   "execution_count": 36,
   "metadata": {},
   "outputs": [],
   "source": [
    "from sklearn.datasets import make_swiss_roll\n",
    "X, t = make_swiss_roll(n_samples=1000, noise=0.2, random_state=0)\n",
    "y = t > 6.9 # simple binary classification"
   ]
  },
  {
   "cell_type": "code",
   "execution_count": 37,
   "metadata": {},
   "outputs": [],
   "source": [
    "from sklearn.decomposition import KernelPCA\n",
    "\n",
    "rbf_pca = KernelPCA(n_components = 2, kernel=\"rbf\", gamma=0.04) # gamma control how thick the point, the height of the bell shape\n",
    "X_reduced = rbf_pca.fit_transform(X) # reduced to 2 dimentional dataset"
   ]
  },
  {
   "cell_type": "markdown",
   "metadata": {},
   "source": [
    "Selecting a Kernel and Tuning Hyperparameters"
   ]
  },
  {
   "cell_type": "code",
   "execution_count": 38,
   "metadata": {
    "scrolled": true
   },
   "outputs": [
    {
     "data": {
      "text/plain": [
       "GridSearchCV(cv=3,\n",
       "             estimator=Pipeline(steps=[('kpca', KernelPCA(n_components=2)),\n",
       "                                       ('log_reg', LogisticRegression())]),\n",
       "             param_grid=[{'kpca__gamma': array([0.03      , 0.03222222, 0.03444444, 0.03666667, 0.03888889,\n",
       "       0.04111111, 0.04333333, 0.04555556, 0.04777778, 0.05      ]),\n",
       "                          'kpca__kernel': ['rbf', 'sigmoid']}])"
      ]
     },
     "execution_count": 38,
     "metadata": {},
     "output_type": "execute_result"
    }
   ],
   "source": [
    "from sklearn.model_selection import GridSearchCV\n",
    "from sklearn.linear_model import LogisticRegression\n",
    "from sklearn.pipeline import Pipeline\n",
    "\n",
    "clf = Pipeline([\n",
    "        (\"kpca\", KernelPCA(n_components=2)),\n",
    "        (\"log_reg\", LogisticRegression())\n",
    "    ])\n",
    "\n",
    "param_grid = [{\n",
    "        \"kpca__gamma\": np.linspace(0.03, 0.05, 10),\n",
    "        \"kpca__kernel\": [\"rbf\", \"sigmoid\"]\n",
    "    }]\n",
    "\n",
    "grid_search = GridSearchCV(clf, param_grid, cv=3)\n",
    "grid_search.fit(X, y)"
   ]
  },
  {
   "cell_type": "code",
   "execution_count": 39,
   "metadata": {},
   "outputs": [
    {
     "name": "stdout",
     "output_type": "stream",
     "text": [
      "{'kpca__gamma': 0.04111111111111111, 'kpca__kernel': 'rbf'}\n"
     ]
    }
   ],
   "source": [
    "print(grid_search.best_params_)"
   ]
  },
  {
   "cell_type": "code",
   "execution_count": 40,
   "metadata": {},
   "outputs": [],
   "source": [
    "rbf_pca = KernelPCA(n_components = 2, kernel=\"rbf\", gamma=0.0411,\n",
    "                    fit_inverse_transform=True)\n",
    "X_reduced = rbf_pca.fit_transform(X)\n",
    "X_preimage = rbf_pca.inverse_transform(X_reduced) # X_preimage is the reconstructed dataset"
   ]
  },
  {
   "cell_type": "code",
   "execution_count": 41,
   "metadata": {},
   "outputs": [
    {
     "data": {
      "text/plain": [
       "29.95637488124628"
      ]
     },
     "execution_count": 41,
     "metadata": {},
     "output_type": "execute_result"
    }
   ],
   "source": [
    "from sklearn.metrics import mean_squared_error\n",
    "\n",
    "mean_squared_error(X, X_preimage)"
   ]
  },
  {
   "cell_type": "markdown",
   "metadata": {},
   "source": [
    "## LLE"
   ]
  },
  {
   "cell_type": "code",
   "execution_count": 42,
   "metadata": {},
   "outputs": [],
   "source": [
    "X, t = make_swiss_roll(n_samples=1000, noise=0.2, random_state=0)"
   ]
  },
  {
   "cell_type": "code",
   "execution_count": 43,
   "metadata": {},
   "outputs": [],
   "source": [
    "from sklearn.manifold import LocallyLinearEmbedding\n",
    "\n",
    "lle = LocallyLinearEmbedding(n_components=2, n_neighbors=10, random_state=0)\n",
    "X_reduced = lle.fit_transform(X)"
   ]
  },
  {
   "cell_type": "code",
   "execution_count": 44,
   "metadata": {},
   "outputs": [
    {
     "data": {
      "application/javascript": [
       "/* Put everything inside the global mpl namespace */\n",
       "window.mpl = {};\n",
       "\n",
       "\n",
       "mpl.get_websocket_type = function() {\n",
       "    if (typeof(WebSocket) !== 'undefined') {\n",
       "        return WebSocket;\n",
       "    } else if (typeof(MozWebSocket) !== 'undefined') {\n",
       "        return MozWebSocket;\n",
       "    } else {\n",
       "        alert('Your browser does not have WebSocket support.' +\n",
       "              'Please try Chrome, Safari or Firefox ≥ 6. ' +\n",
       "              'Firefox 4 and 5 are also supported but you ' +\n",
       "              'have to enable WebSockets in about:config.');\n",
       "    };\n",
       "}\n",
       "\n",
       "mpl.figure = function(figure_id, websocket, ondownload, parent_element) {\n",
       "    this.id = figure_id;\n",
       "\n",
       "    this.ws = websocket;\n",
       "\n",
       "    this.supports_binary = (this.ws.binaryType != undefined);\n",
       "\n",
       "    if (!this.supports_binary) {\n",
       "        var warnings = document.getElementById(\"mpl-warnings\");\n",
       "        if (warnings) {\n",
       "            warnings.style.display = 'block';\n",
       "            warnings.textContent = (\n",
       "                \"This browser does not support binary websocket messages. \" +\n",
       "                    \"Performance may be slow.\");\n",
       "        }\n",
       "    }\n",
       "\n",
       "    this.imageObj = new Image();\n",
       "\n",
       "    this.context = undefined;\n",
       "    this.message = undefined;\n",
       "    this.canvas = undefined;\n",
       "    this.rubberband_canvas = undefined;\n",
       "    this.rubberband_context = undefined;\n",
       "    this.format_dropdown = undefined;\n",
       "\n",
       "    this.image_mode = 'full';\n",
       "\n",
       "    this.root = $('<div/>');\n",
       "    this._root_extra_style(this.root)\n",
       "    this.root.attr('style', 'display: inline-block');\n",
       "\n",
       "    $(parent_element).append(this.root);\n",
       "\n",
       "    this._init_header(this);\n",
       "    this._init_canvas(this);\n",
       "    this._init_toolbar(this);\n",
       "\n",
       "    var fig = this;\n",
       "\n",
       "    this.waiting = false;\n",
       "\n",
       "    this.ws.onopen =  function () {\n",
       "            fig.send_message(\"supports_binary\", {value: fig.supports_binary});\n",
       "            fig.send_message(\"send_image_mode\", {});\n",
       "            if (mpl.ratio != 1) {\n",
       "                fig.send_message(\"set_dpi_ratio\", {'dpi_ratio': mpl.ratio});\n",
       "            }\n",
       "            fig.send_message(\"refresh\", {});\n",
       "        }\n",
       "\n",
       "    this.imageObj.onload = function() {\n",
       "            if (fig.image_mode == 'full') {\n",
       "                // Full images could contain transparency (where diff images\n",
       "                // almost always do), so we need to clear the canvas so that\n",
       "                // there is no ghosting.\n",
       "                fig.context.clearRect(0, 0, fig.canvas.width, fig.canvas.height);\n",
       "            }\n",
       "            fig.context.drawImage(fig.imageObj, 0, 0);\n",
       "        };\n",
       "\n",
       "    this.imageObj.onunload = function() {\n",
       "        fig.ws.close();\n",
       "    }\n",
       "\n",
       "    this.ws.onmessage = this._make_on_message_function(this);\n",
       "\n",
       "    this.ondownload = ondownload;\n",
       "}\n",
       "\n",
       "mpl.figure.prototype._init_header = function() {\n",
       "    var titlebar = $(\n",
       "        '<div class=\"ui-dialog-titlebar ui-widget-header ui-corner-all ' +\n",
       "        'ui-helper-clearfix\"/>');\n",
       "    var titletext = $(\n",
       "        '<div class=\"ui-dialog-title\" style=\"width: 100%; ' +\n",
       "        'text-align: center; padding: 3px;\"/>');\n",
       "    titlebar.append(titletext)\n",
       "    this.root.append(titlebar);\n",
       "    this.header = titletext[0];\n",
       "}\n",
       "\n",
       "\n",
       "\n",
       "mpl.figure.prototype._canvas_extra_style = function(canvas_div) {\n",
       "\n",
       "}\n",
       "\n",
       "\n",
       "mpl.figure.prototype._root_extra_style = function(canvas_div) {\n",
       "\n",
       "}\n",
       "\n",
       "mpl.figure.prototype._init_canvas = function() {\n",
       "    var fig = this;\n",
       "\n",
       "    var canvas_div = $('<div/>');\n",
       "\n",
       "    canvas_div.attr('style', 'position: relative; clear: both; outline: 0');\n",
       "\n",
       "    function canvas_keyboard_event(event) {\n",
       "        return fig.key_event(event, event['data']);\n",
       "    }\n",
       "\n",
       "    canvas_div.keydown('key_press', canvas_keyboard_event);\n",
       "    canvas_div.keyup('key_release', canvas_keyboard_event);\n",
       "    this.canvas_div = canvas_div\n",
       "    this._canvas_extra_style(canvas_div)\n",
       "    this.root.append(canvas_div);\n",
       "\n",
       "    var canvas = $('<canvas/>');\n",
       "    canvas.addClass('mpl-canvas');\n",
       "    canvas.attr('style', \"left: 0; top: 0; z-index: 0; outline: 0\")\n",
       "\n",
       "    this.canvas = canvas[0];\n",
       "    this.context = canvas[0].getContext(\"2d\");\n",
       "\n",
       "    var backingStore = this.context.backingStorePixelRatio ||\n",
       "\tthis.context.webkitBackingStorePixelRatio ||\n",
       "\tthis.context.mozBackingStorePixelRatio ||\n",
       "\tthis.context.msBackingStorePixelRatio ||\n",
       "\tthis.context.oBackingStorePixelRatio ||\n",
       "\tthis.context.backingStorePixelRatio || 1;\n",
       "\n",
       "    mpl.ratio = (window.devicePixelRatio || 1) / backingStore;\n",
       "\n",
       "    var rubberband = $('<canvas/>');\n",
       "    rubberband.attr('style', \"position: absolute; left: 0; top: 0; z-index: 1;\")\n",
       "\n",
       "    var pass_mouse_events = true;\n",
       "\n",
       "    canvas_div.resizable({\n",
       "        start: function(event, ui) {\n",
       "            pass_mouse_events = false;\n",
       "        },\n",
       "        resize: function(event, ui) {\n",
       "            fig.request_resize(ui.size.width, ui.size.height);\n",
       "        },\n",
       "        stop: function(event, ui) {\n",
       "            pass_mouse_events = true;\n",
       "            fig.request_resize(ui.size.width, ui.size.height);\n",
       "        },\n",
       "    });\n",
       "\n",
       "    function mouse_event_fn(event) {\n",
       "        if (pass_mouse_events)\n",
       "            return fig.mouse_event(event, event['data']);\n",
       "    }\n",
       "\n",
       "    rubberband.mousedown('button_press', mouse_event_fn);\n",
       "    rubberband.mouseup('button_release', mouse_event_fn);\n",
       "    // Throttle sequential mouse events to 1 every 20ms.\n",
       "    rubberband.mousemove('motion_notify', mouse_event_fn);\n",
       "\n",
       "    rubberband.mouseenter('figure_enter', mouse_event_fn);\n",
       "    rubberband.mouseleave('figure_leave', mouse_event_fn);\n",
       "\n",
       "    canvas_div.on(\"wheel\", function (event) {\n",
       "        event = event.originalEvent;\n",
       "        event['data'] = 'scroll'\n",
       "        if (event.deltaY < 0) {\n",
       "            event.step = 1;\n",
       "        } else {\n",
       "            event.step = -1;\n",
       "        }\n",
       "        mouse_event_fn(event);\n",
       "    });\n",
       "\n",
       "    canvas_div.append(canvas);\n",
       "    canvas_div.append(rubberband);\n",
       "\n",
       "    this.rubberband = rubberband;\n",
       "    this.rubberband_canvas = rubberband[0];\n",
       "    this.rubberband_context = rubberband[0].getContext(\"2d\");\n",
       "    this.rubberband_context.strokeStyle = \"#000000\";\n",
       "\n",
       "    this._resize_canvas = function(width, height) {\n",
       "        // Keep the size of the canvas, canvas container, and rubber band\n",
       "        // canvas in synch.\n",
       "        canvas_div.css('width', width)\n",
       "        canvas_div.css('height', height)\n",
       "\n",
       "        canvas.attr('width', width * mpl.ratio);\n",
       "        canvas.attr('height', height * mpl.ratio);\n",
       "        canvas.attr('style', 'width: ' + width + 'px; height: ' + height + 'px;');\n",
       "\n",
       "        rubberband.attr('width', width);\n",
       "        rubberband.attr('height', height);\n",
       "    }\n",
       "\n",
       "    // Set the figure to an initial 600x600px, this will subsequently be updated\n",
       "    // upon first draw.\n",
       "    this._resize_canvas(600, 600);\n",
       "\n",
       "    // Disable right mouse context menu.\n",
       "    $(this.rubberband_canvas).bind(\"contextmenu\",function(e){\n",
       "        return false;\n",
       "    });\n",
       "\n",
       "    function set_focus () {\n",
       "        canvas.focus();\n",
       "        canvas_div.focus();\n",
       "    }\n",
       "\n",
       "    window.setTimeout(set_focus, 100);\n",
       "}\n",
       "\n",
       "mpl.figure.prototype._init_toolbar = function() {\n",
       "    var fig = this;\n",
       "\n",
       "    var nav_element = $('<div/>')\n",
       "    nav_element.attr('style', 'width: 100%');\n",
       "    this.root.append(nav_element);\n",
       "\n",
       "    // Define a callback function for later on.\n",
       "    function toolbar_event(event) {\n",
       "        return fig.toolbar_button_onclick(event['data']);\n",
       "    }\n",
       "    function toolbar_mouse_event(event) {\n",
       "        return fig.toolbar_button_onmouseover(event['data']);\n",
       "    }\n",
       "\n",
       "    for(var toolbar_ind in mpl.toolbar_items) {\n",
       "        var name = mpl.toolbar_items[toolbar_ind][0];\n",
       "        var tooltip = mpl.toolbar_items[toolbar_ind][1];\n",
       "        var image = mpl.toolbar_items[toolbar_ind][2];\n",
       "        var method_name = mpl.toolbar_items[toolbar_ind][3];\n",
       "\n",
       "        if (!name) {\n",
       "            // put a spacer in here.\n",
       "            continue;\n",
       "        }\n",
       "        var button = $('<button/>');\n",
       "        button.addClass('ui-button ui-widget ui-state-default ui-corner-all ' +\n",
       "                        'ui-button-icon-only');\n",
       "        button.attr('role', 'button');\n",
       "        button.attr('aria-disabled', 'false');\n",
       "        button.click(method_name, toolbar_event);\n",
       "        button.mouseover(tooltip, toolbar_mouse_event);\n",
       "\n",
       "        var icon_img = $('<span/>');\n",
       "        icon_img.addClass('ui-button-icon-primary ui-icon');\n",
       "        icon_img.addClass(image);\n",
       "        icon_img.addClass('ui-corner-all');\n",
       "\n",
       "        var tooltip_span = $('<span/>');\n",
       "        tooltip_span.addClass('ui-button-text');\n",
       "        tooltip_span.html(tooltip);\n",
       "\n",
       "        button.append(icon_img);\n",
       "        button.append(tooltip_span);\n",
       "\n",
       "        nav_element.append(button);\n",
       "    }\n",
       "\n",
       "    var fmt_picker_span = $('<span/>');\n",
       "\n",
       "    var fmt_picker = $('<select/>');\n",
       "    fmt_picker.addClass('mpl-toolbar-option ui-widget ui-widget-content');\n",
       "    fmt_picker_span.append(fmt_picker);\n",
       "    nav_element.append(fmt_picker_span);\n",
       "    this.format_dropdown = fmt_picker[0];\n",
       "\n",
       "    for (var ind in mpl.extensions) {\n",
       "        var fmt = mpl.extensions[ind];\n",
       "        var option = $(\n",
       "            '<option/>', {selected: fmt === mpl.default_extension}).html(fmt);\n",
       "        fmt_picker.append(option)\n",
       "    }\n",
       "\n",
       "    // Add hover states to the ui-buttons\n",
       "    $( \".ui-button\" ).hover(\n",
       "        function() { $(this).addClass(\"ui-state-hover\");},\n",
       "        function() { $(this).removeClass(\"ui-state-hover\");}\n",
       "    );\n",
       "\n",
       "    var status_bar = $('<span class=\"mpl-message\"/>');\n",
       "    nav_element.append(status_bar);\n",
       "    this.message = status_bar[0];\n",
       "}\n",
       "\n",
       "mpl.figure.prototype.request_resize = function(x_pixels, y_pixels) {\n",
       "    // Request matplotlib to resize the figure. Matplotlib will then trigger a resize in the client,\n",
       "    // which will in turn request a refresh of the image.\n",
       "    this.send_message('resize', {'width': x_pixels, 'height': y_pixels});\n",
       "}\n",
       "\n",
       "mpl.figure.prototype.send_message = function(type, properties) {\n",
       "    properties['type'] = type;\n",
       "    properties['figure_id'] = this.id;\n",
       "    this.ws.send(JSON.stringify(properties));\n",
       "}\n",
       "\n",
       "mpl.figure.prototype.send_draw_message = function() {\n",
       "    if (!this.waiting) {\n",
       "        this.waiting = true;\n",
       "        this.ws.send(JSON.stringify({type: \"draw\", figure_id: this.id}));\n",
       "    }\n",
       "}\n",
       "\n",
       "\n",
       "mpl.figure.prototype.handle_save = function(fig, msg) {\n",
       "    var format_dropdown = fig.format_dropdown;\n",
       "    var format = format_dropdown.options[format_dropdown.selectedIndex].value;\n",
       "    fig.ondownload(fig, format);\n",
       "}\n",
       "\n",
       "\n",
       "mpl.figure.prototype.handle_resize = function(fig, msg) {\n",
       "    var size = msg['size'];\n",
       "    if (size[0] != fig.canvas.width || size[1] != fig.canvas.height) {\n",
       "        fig._resize_canvas(size[0], size[1]);\n",
       "        fig.send_message(\"refresh\", {});\n",
       "    };\n",
       "}\n",
       "\n",
       "mpl.figure.prototype.handle_rubberband = function(fig, msg) {\n",
       "    var x0 = msg['x0'] / mpl.ratio;\n",
       "    var y0 = (fig.canvas.height - msg['y0']) / mpl.ratio;\n",
       "    var x1 = msg['x1'] / mpl.ratio;\n",
       "    var y1 = (fig.canvas.height - msg['y1']) / mpl.ratio;\n",
       "    x0 = Math.floor(x0) + 0.5;\n",
       "    y0 = Math.floor(y0) + 0.5;\n",
       "    x1 = Math.floor(x1) + 0.5;\n",
       "    y1 = Math.floor(y1) + 0.5;\n",
       "    var min_x = Math.min(x0, x1);\n",
       "    var min_y = Math.min(y0, y1);\n",
       "    var width = Math.abs(x1 - x0);\n",
       "    var height = Math.abs(y1 - y0);\n",
       "\n",
       "    fig.rubberband_context.clearRect(\n",
       "        0, 0, fig.canvas.width, fig.canvas.height);\n",
       "\n",
       "    fig.rubberband_context.strokeRect(min_x, min_y, width, height);\n",
       "}\n",
       "\n",
       "mpl.figure.prototype.handle_figure_label = function(fig, msg) {\n",
       "    // Updates the figure title.\n",
       "    fig.header.textContent = msg['label'];\n",
       "}\n",
       "\n",
       "mpl.figure.prototype.handle_cursor = function(fig, msg) {\n",
       "    var cursor = msg['cursor'];\n",
       "    switch(cursor)\n",
       "    {\n",
       "    case 0:\n",
       "        cursor = 'pointer';\n",
       "        break;\n",
       "    case 1:\n",
       "        cursor = 'default';\n",
       "        break;\n",
       "    case 2:\n",
       "        cursor = 'crosshair';\n",
       "        break;\n",
       "    case 3:\n",
       "        cursor = 'move';\n",
       "        break;\n",
       "    }\n",
       "    fig.rubberband_canvas.style.cursor = cursor;\n",
       "}\n",
       "\n",
       "mpl.figure.prototype.handle_message = function(fig, msg) {\n",
       "    fig.message.textContent = msg['message'];\n",
       "}\n",
       "\n",
       "mpl.figure.prototype.handle_draw = function(fig, msg) {\n",
       "    // Request the server to send over a new figure.\n",
       "    fig.send_draw_message();\n",
       "}\n",
       "\n",
       "mpl.figure.prototype.handle_image_mode = function(fig, msg) {\n",
       "    fig.image_mode = msg['mode'];\n",
       "}\n",
       "\n",
       "mpl.figure.prototype.updated_canvas_event = function() {\n",
       "    // Called whenever the canvas gets updated.\n",
       "    this.send_message(\"ack\", {});\n",
       "}\n",
       "\n",
       "// A function to construct a web socket function for onmessage handling.\n",
       "// Called in the figure constructor.\n",
       "mpl.figure.prototype._make_on_message_function = function(fig) {\n",
       "    return function socket_on_message(evt) {\n",
       "        if (evt.data instanceof Blob) {\n",
       "            /* FIXME: We get \"Resource interpreted as Image but\n",
       "             * transferred with MIME type text/plain:\" errors on\n",
       "             * Chrome.  But how to set the MIME type?  It doesn't seem\n",
       "             * to be part of the websocket stream */\n",
       "            evt.data.type = \"image/png\";\n",
       "\n",
       "            /* Free the memory for the previous frames */\n",
       "            if (fig.imageObj.src) {\n",
       "                (window.URL || window.webkitURL).revokeObjectURL(\n",
       "                    fig.imageObj.src);\n",
       "            }\n",
       "\n",
       "            fig.imageObj.src = (window.URL || window.webkitURL).createObjectURL(\n",
       "                evt.data);\n",
       "            fig.updated_canvas_event();\n",
       "            fig.waiting = false;\n",
       "            return;\n",
       "        }\n",
       "        else if (typeof evt.data === 'string' && evt.data.slice(0, 21) == \"data:image/png;base64\") {\n",
       "            fig.imageObj.src = evt.data;\n",
       "            fig.updated_canvas_event();\n",
       "            fig.waiting = false;\n",
       "            return;\n",
       "        }\n",
       "\n",
       "        var msg = JSON.parse(evt.data);\n",
       "        var msg_type = msg['type'];\n",
       "\n",
       "        // Call the  \"handle_{type}\" callback, which takes\n",
       "        // the figure and JSON message as its only arguments.\n",
       "        try {\n",
       "            var callback = fig[\"handle_\" + msg_type];\n",
       "        } catch (e) {\n",
       "            console.log(\"No handler for the '\" + msg_type + \"' message type: \", msg);\n",
       "            return;\n",
       "        }\n",
       "\n",
       "        if (callback) {\n",
       "            try {\n",
       "                // console.log(\"Handling '\" + msg_type + \"' message: \", msg);\n",
       "                callback(fig, msg);\n",
       "            } catch (e) {\n",
       "                console.log(\"Exception inside the 'handler_\" + msg_type + \"' callback:\", e, e.stack, msg);\n",
       "            }\n",
       "        }\n",
       "    };\n",
       "}\n",
       "\n",
       "// from http://stackoverflow.com/questions/1114465/getting-mouse-location-in-canvas\n",
       "mpl.findpos = function(e) {\n",
       "    //this section is from http://www.quirksmode.org/js/events_properties.html\n",
       "    var targ;\n",
       "    if (!e)\n",
       "        e = window.event;\n",
       "    if (e.target)\n",
       "        targ = e.target;\n",
       "    else if (e.srcElement)\n",
       "        targ = e.srcElement;\n",
       "    if (targ.nodeType == 3) // defeat Safari bug\n",
       "        targ = targ.parentNode;\n",
       "\n",
       "    // jQuery normalizes the pageX and pageY\n",
       "    // pageX,Y are the mouse positions relative to the document\n",
       "    // offset() returns the position of the element relative to the document\n",
       "    var x = e.pageX - $(targ).offset().left;\n",
       "    var y = e.pageY - $(targ).offset().top;\n",
       "\n",
       "    return {\"x\": x, \"y\": y};\n",
       "};\n",
       "\n",
       "/*\n",
       " * return a copy of an object with only non-object keys\n",
       " * we need this to avoid circular references\n",
       " * http://stackoverflow.com/a/24161582/3208463\n",
       " */\n",
       "function simpleKeys (original) {\n",
       "  return Object.keys(original).reduce(function (obj, key) {\n",
       "    if (typeof original[key] !== 'object')\n",
       "        obj[key] = original[key]\n",
       "    return obj;\n",
       "  }, {});\n",
       "}\n",
       "\n",
       "mpl.figure.prototype.mouse_event = function(event, name) {\n",
       "    var canvas_pos = mpl.findpos(event)\n",
       "\n",
       "    if (name === 'button_press')\n",
       "    {\n",
       "        this.canvas.focus();\n",
       "        this.canvas_div.focus();\n",
       "    }\n",
       "\n",
       "    var x = canvas_pos.x * mpl.ratio;\n",
       "    var y = canvas_pos.y * mpl.ratio;\n",
       "\n",
       "    this.send_message(name, {x: x, y: y, button: event.button,\n",
       "                             step: event.step,\n",
       "                             guiEvent: simpleKeys(event)});\n",
       "\n",
       "    /* This prevents the web browser from automatically changing to\n",
       "     * the text insertion cursor when the button is pressed.  We want\n",
       "     * to control all of the cursor setting manually through the\n",
       "     * 'cursor' event from matplotlib */\n",
       "    event.preventDefault();\n",
       "    return false;\n",
       "}\n",
       "\n",
       "mpl.figure.prototype._key_event_extra = function(event, name) {\n",
       "    // Handle any extra behaviour associated with a key event\n",
       "}\n",
       "\n",
       "mpl.figure.prototype.key_event = function(event, name) {\n",
       "\n",
       "    // Prevent repeat events\n",
       "    if (name == 'key_press')\n",
       "    {\n",
       "        if (event.which === this._key)\n",
       "            return;\n",
       "        else\n",
       "            this._key = event.which;\n",
       "    }\n",
       "    if (name == 'key_release')\n",
       "        this._key = null;\n",
       "\n",
       "    var value = '';\n",
       "    if (event.ctrlKey && event.which != 17)\n",
       "        value += \"ctrl+\";\n",
       "    if (event.altKey && event.which != 18)\n",
       "        value += \"alt+\";\n",
       "    if (event.shiftKey && event.which != 16)\n",
       "        value += \"shift+\";\n",
       "\n",
       "    value += 'k';\n",
       "    value += event.which.toString();\n",
       "\n",
       "    this._key_event_extra(event, name);\n",
       "\n",
       "    this.send_message(name, {key: value,\n",
       "                             guiEvent: simpleKeys(event)});\n",
       "    return false;\n",
       "}\n",
       "\n",
       "mpl.figure.prototype.toolbar_button_onclick = function(name) {\n",
       "    if (name == 'download') {\n",
       "        this.handle_save(this, null);\n",
       "    } else {\n",
       "        this.send_message(\"toolbar_button\", {name: name});\n",
       "    }\n",
       "};\n",
       "\n",
       "mpl.figure.prototype.toolbar_button_onmouseover = function(tooltip) {\n",
       "    this.message.textContent = tooltip;\n",
       "};\n",
       "mpl.toolbar_items = [[\"Home\", \"Reset original view\", \"fa fa-home icon-home\", \"home\"], [\"Back\", \"Back to previous view\", \"fa fa-arrow-left icon-arrow-left\", \"back\"], [\"Forward\", \"Forward to next view\", \"fa fa-arrow-right icon-arrow-right\", \"forward\"], [\"\", \"\", \"\", \"\"], [\"Pan\", \"Pan axes with left mouse, zoom with right\", \"fa fa-arrows icon-move\", \"pan\"], [\"Zoom\", \"Zoom to rectangle\", \"fa fa-square-o icon-check-empty\", \"zoom\"], [\"\", \"\", \"\", \"\"], [\"Download\", \"Download plot\", \"fa fa-floppy-o icon-save\", \"download\"]];\n",
       "\n",
       "mpl.extensions = [\"eps\", \"jpeg\", \"pdf\", \"png\", \"ps\", \"raw\", \"svg\", \"tif\"];\n",
       "\n",
       "mpl.default_extension = \"png\";var comm_websocket_adapter = function(comm) {\n",
       "    // Create a \"websocket\"-like object which calls the given IPython comm\n",
       "    // object with the appropriate methods. Currently this is a non binary\n",
       "    // socket, so there is still some room for performance tuning.\n",
       "    var ws = {};\n",
       "\n",
       "    ws.close = function() {\n",
       "        comm.close()\n",
       "    };\n",
       "    ws.send = function(m) {\n",
       "        //console.log('sending', m);\n",
       "        comm.send(m);\n",
       "    };\n",
       "    // Register the callback with on_msg.\n",
       "    comm.on_msg(function(msg) {\n",
       "        //console.log('receiving', msg['content']['data'], msg);\n",
       "        // Pass the mpl event to the overridden (by mpl) onmessage function.\n",
       "        ws.onmessage(msg['content']['data'])\n",
       "    });\n",
       "    return ws;\n",
       "}\n",
       "\n",
       "mpl.mpl_figure_comm = function(comm, msg) {\n",
       "    // This is the function which gets called when the mpl process\n",
       "    // starts-up an IPython Comm through the \"matplotlib\" channel.\n",
       "\n",
       "    var id = msg.content.data.id;\n",
       "    // Get hold of the div created by the display call when the Comm\n",
       "    // socket was opened in Python.\n",
       "    var element = $(\"#\" + id);\n",
       "    var ws_proxy = comm_websocket_adapter(comm)\n",
       "\n",
       "    function ondownload(figure, format) {\n",
       "        window.open(figure.imageObj.src);\n",
       "    }\n",
       "\n",
       "    var fig = new mpl.figure(id, ws_proxy,\n",
       "                           ondownload,\n",
       "                           element.get(0));\n",
       "\n",
       "    // Call onopen now - mpl needs it, as it is assuming we've passed it a real\n",
       "    // web socket which is closed, not our websocket->open comm proxy.\n",
       "    ws_proxy.onopen();\n",
       "\n",
       "    fig.parent_element = element.get(0);\n",
       "    fig.cell_info = mpl.find_output_cell(\"<div id='\" + id + \"'></div>\");\n",
       "    if (!fig.cell_info) {\n",
       "        console.error(\"Failed to find cell for figure\", id, fig);\n",
       "        return;\n",
       "    }\n",
       "\n",
       "    var output_index = fig.cell_info[2]\n",
       "    var cell = fig.cell_info[0];\n",
       "\n",
       "};\n",
       "\n",
       "mpl.figure.prototype.handle_close = function(fig, msg) {\n",
       "    var width = fig.canvas.width/mpl.ratio\n",
       "    fig.root.unbind('remove')\n",
       "\n",
       "    // Update the output cell to use the data from the current canvas.\n",
       "    fig.push_to_output();\n",
       "    var dataURL = fig.canvas.toDataURL();\n",
       "    // Re-enable the keyboard manager in IPython - without this line, in FF,\n",
       "    // the notebook keyboard shortcuts fail.\n",
       "    IPython.keyboard_manager.enable()\n",
       "    $(fig.parent_element).html('<img src=\"' + dataURL + '\" width=\"' + width + '\">');\n",
       "    fig.close_ws(fig, msg);\n",
       "}\n",
       "\n",
       "mpl.figure.prototype.close_ws = function(fig, msg){\n",
       "    fig.send_message('closing', msg);\n",
       "    // fig.ws.close()\n",
       "}\n",
       "\n",
       "mpl.figure.prototype.push_to_output = function(remove_interactive) {\n",
       "    // Turn the data on the canvas into data in the output cell.\n",
       "    var width = this.canvas.width/mpl.ratio\n",
       "    var dataURL = this.canvas.toDataURL();\n",
       "    this.cell_info[1]['text/html'] = '<img src=\"' + dataURL + '\" width=\"' + width + '\">';\n",
       "}\n",
       "\n",
       "mpl.figure.prototype.updated_canvas_event = function() {\n",
       "    // Tell IPython that the notebook contents must change.\n",
       "    IPython.notebook.set_dirty(true);\n",
       "    this.send_message(\"ack\", {});\n",
       "    var fig = this;\n",
       "    // Wait a second, then push the new image to the DOM so\n",
       "    // that it is saved nicely (might be nice to debounce this).\n",
       "    setTimeout(function () { fig.push_to_output() }, 1000);\n",
       "}\n",
       "\n",
       "mpl.figure.prototype._init_toolbar = function() {\n",
       "    var fig = this;\n",
       "\n",
       "    var nav_element = $('<div/>')\n",
       "    nav_element.attr('style', 'width: 100%');\n",
       "    this.root.append(nav_element);\n",
       "\n",
       "    // Define a callback function for later on.\n",
       "    function toolbar_event(event) {\n",
       "        return fig.toolbar_button_onclick(event['data']);\n",
       "    }\n",
       "    function toolbar_mouse_event(event) {\n",
       "        return fig.toolbar_button_onmouseover(event['data']);\n",
       "    }\n",
       "\n",
       "    for(var toolbar_ind in mpl.toolbar_items){\n",
       "        var name = mpl.toolbar_items[toolbar_ind][0];\n",
       "        var tooltip = mpl.toolbar_items[toolbar_ind][1];\n",
       "        var image = mpl.toolbar_items[toolbar_ind][2];\n",
       "        var method_name = mpl.toolbar_items[toolbar_ind][3];\n",
       "\n",
       "        if (!name) { continue; };\n",
       "\n",
       "        var button = $('<button class=\"btn btn-default\" href=\"#\" title=\"' + name + '\"><i class=\"fa ' + image + ' fa-lg\"></i></button>');\n",
       "        button.click(method_name, toolbar_event);\n",
       "        button.mouseover(tooltip, toolbar_mouse_event);\n",
       "        nav_element.append(button);\n",
       "    }\n",
       "\n",
       "    // Add the status bar.\n",
       "    var status_bar = $('<span class=\"mpl-message\" style=\"text-align:right; float: right;\"/>');\n",
       "    nav_element.append(status_bar);\n",
       "    this.message = status_bar[0];\n",
       "\n",
       "    // Add the close button to the window.\n",
       "    var buttongrp = $('<div class=\"btn-group inline pull-right\"></div>');\n",
       "    var button = $('<button class=\"btn btn-mini btn-primary\" href=\"#\" title=\"Stop Interaction\"><i class=\"fa fa-power-off icon-remove icon-large\"></i></button>');\n",
       "    button.click(function (evt) { fig.handle_close(fig, {}); } );\n",
       "    button.mouseover('Stop Interaction', toolbar_mouse_event);\n",
       "    buttongrp.append(button);\n",
       "    var titlebar = this.root.find($('.ui-dialog-titlebar'));\n",
       "    titlebar.prepend(buttongrp);\n",
       "}\n",
       "\n",
       "mpl.figure.prototype._root_extra_style = function(el){\n",
       "    var fig = this\n",
       "    el.on(\"remove\", function(){\n",
       "\tfig.close_ws(fig, {});\n",
       "    });\n",
       "}\n",
       "\n",
       "mpl.figure.prototype._canvas_extra_style = function(el){\n",
       "    // this is important to make the div 'focusable\n",
       "    el.attr('tabindex', 0)\n",
       "    // reach out to IPython and tell the keyboard manager to turn it's self\n",
       "    // off when our div gets focus\n",
       "\n",
       "    // location in version 3\n",
       "    if (IPython.notebook.keyboard_manager) {\n",
       "        IPython.notebook.keyboard_manager.register_events(el);\n",
       "    }\n",
       "    else {\n",
       "        // location in version 2\n",
       "        IPython.keyboard_manager.register_events(el);\n",
       "    }\n",
       "\n",
       "}\n",
       "\n",
       "mpl.figure.prototype._key_event_extra = function(event, name) {\n",
       "    var manager = IPython.notebook.keyboard_manager;\n",
       "    if (!manager)\n",
       "        manager = IPython.keyboard_manager;\n",
       "\n",
       "    // Check for shift+enter\n",
       "    if (event.shiftKey && event.which == 13) {\n",
       "        this.canvas_div.blur();\n",
       "        event.shiftKey = false;\n",
       "        // Send a \"J\" for go to next cell\n",
       "        event.which = 74;\n",
       "        event.keyCode = 74;\n",
       "        manager.command_mode();\n",
       "        manager.handle_keydown(event);\n",
       "    }\n",
       "}\n",
       "\n",
       "mpl.figure.prototype.handle_save = function(fig, msg) {\n",
       "    fig.ondownload(fig, null);\n",
       "}\n",
       "\n",
       "\n",
       "mpl.find_output_cell = function(html_output) {\n",
       "    // Return the cell and output element which can be found *uniquely* in the notebook.\n",
       "    // Note - this is a bit hacky, but it is done because the \"notebook_saving.Notebook\"\n",
       "    // IPython event is triggered only after the cells have been serialised, which for\n",
       "    // our purposes (turning an active figure into a static one), is too late.\n",
       "    var cells = IPython.notebook.get_cells();\n",
       "    var ncells = cells.length;\n",
       "    for (var i=0; i<ncells; i++) {\n",
       "        var cell = cells[i];\n",
       "        if (cell.cell_type === 'code'){\n",
       "            for (var j=0; j<cell.output_area.outputs.length; j++) {\n",
       "                var data = cell.output_area.outputs[j];\n",
       "                if (data.data) {\n",
       "                    // IPython >= 3 moved mimebundle to data attribute of output\n",
       "                    data = data.data;\n",
       "                }\n",
       "                if (data['text/html'] == html_output) {\n",
       "                    return [cell, data, j];\n",
       "                }\n",
       "            }\n",
       "        }\n",
       "    }\n",
       "}\n",
       "\n",
       "// Register the function which deals with the matplotlib target/channel.\n",
       "// The kernel may be null if the page has been refreshed.\n",
       "if (IPython.notebook.kernel != null) {\n",
       "    IPython.notebook.kernel.comm_manager.register_target('matplotlib', mpl.mpl_figure_comm);\n",
       "}\n"
      ],
      "text/plain": [
       "<IPython.core.display.Javascript object>"
      ]
     },
     "metadata": {},
     "output_type": "display_data"
    },
    {
     "data": {
      "text/html": [
       "<img src=\"data:image/png;base64,iVBORw0KGgoAAAANSUhEUgAAAt8AAAInCAYAAABAyzWwAAAgAElEQVR4XuydB3RU1RaG/yRAKKELhCJVQEUEVFREUYoKioJiBZ8UC10sWBCxAApiAaTrExApClgeooDSpIuigEpTpEPovUhJ3vovuXEyzGTunZvMSeQ/a2URZvYp9zsnc/+7Z599opKSkpKgIgIiIAIiIAIiIAIiIAIikOEEoiS+M5yxOhABERABERABERABERABi4DEtxaCCIiACIiACIiACIiACESIgMR3hECrGxEQAREQAREQAREQARGQ+NYaEAEREAEREAEREAEREIEIEZD4jhBodSMCIiACIiACIiACIiACEt9aAyIgAiIgAiIgAiIgAiIQIQIS3xECrW5EQAREQAREQAREQAREQOJba0AEREAEREAEREAEREAEIkRA4jtCoNWNCIiACIiACIiACIiACEh8aw2IgAiIgAiIgAiIgAiIQIQISHxHCLS6EQEREAEREAEREAEREAGJb60BERABERABERABERABEYgQAYnvCIFWNyIgAiIgAiIgAiIgAiIg8a01IAIiIAIiIAIiIAIiIAIRIiDxHSHQ6kYEREAEREAEREAEREAEJL61BkRABERABERABERABEQgQgQkviMEWt2IgAiIgAiIgAiIgAiIgMS31oAIiIAIiIAIiIAIiIAIRIiAxHeEQKsbERABERABERABERABEZD41hoQAREQAREQAREQAREQgQgRkPiOEGh1IwIiIAIiIAIiIAIiIAIS31oDIiACIiACIiACIiACIhAhAhLfEQKtbkRABERABERABERABERA4ltrQAREQAREQAREQAREQAQiREDiO0Kg1Y0IiIAIiIAIiIAIiIAISHxrDYiACIiACIiACIiACIhAhAhIfEcItLoRAREQAREQAREQAREQAYlvrQEREAEREAEREAEREAERiBABie8IgVY3IiACIiACIiACIiACIiDxrTUgAiIgAiIgAiIgAiIgAhEiIPEdIdDqRgREQAREQAREQAREQAQkvrUGREAEREAEREAEREAERCBCBCS+IwRa3YiACIiACIiACIiACIiAxLfWgAiIgAiIgAiIgAiIgAhEiIDEd4RAqxsREAEREAEREAEREAERkPjWGhABERABERABERABERCBCBGQ+I4QaHUjAiIgAiIgAiIgAiIgAhLfWgMiIAKeCcydOxd169bFjTfeCP7uW6Kioqz/JiUlee7HSQOR7s/JmILZlC1bFps2bcKGDRvA3//NJTOtETecz6c5csNFtiIgAuETkPgOn51qikBYBGxxOGfOHNx0001B2+B733//PV555RW8+uqrYfUVqUqZSVhJfEdq1t31k5nWiJuRZwXxvXHjRpQrV866LKcPcq1atcJHH32Eli1bYvTo0SGR+PYRyviXX35B9erVQ5npfRE4bwlIfJ+3U68LN0VA4jtjyWcl8V2/fn1s27YNs2bNQsmSJTMWjOHWs6r4zgpzFGnxfdVVVyE2NjboiqKYv+iiiwyvOHUvApmXgMR35p0bjexfSkDiO2MnNiuJ74wlkblaz6riO3NRDDyaSItvp971rMBOYxQBEwQkvk1QV5/nNQGJ74ydfonvjOUbbusS3+GSC11P4js0I1mIQGYiIPGdmWZDYzkvCHgV34z/fu2116xY8Geeecb6ffLkydixYwfi4+Nx//33WzHiuXPnTsWTXwW3bt3aivEcMmQIXn/9dave5s2bce2116baKLl9+3b06dMH33zzjRUWwbZq1KiB9u3b45577jlnnrwIq4kTJ+KDDz7Azz//jCNHjljhF40bN8aLL75oXU+gsnLlSvTo0QPz5s3DqVOncNlll1ks7r33XoQjvvft24e+ffviq6++AoUM2yhSpAguvvhiayydO3e2hsFY1iuuuMLq79dff001tMGDB6fYLV++HNWqVUt5/9ChQyhUqBDy5MkD9hUTE2O9Fyye+Pjx43j33XcxadIk/PHHHzhz5ow1ngoVKuDWW2+1rjVHjhwp7a9evRpvvPGGtUcgISEBuXLlQtGiRcHwgP/85z+47bbbHP1tZdY1EmjwoWKx7ZjmUaNGgb/b5fTp0xg+fDjGjh2LVatW4cSJE7jgggtQpkwZ3HzzzXjqqadQsGDBFPtg/dh7Mrh3g2v25ZdftsKHONeVKlVCp06d8PjjjwfkfvLkSbz99ttWzDU33BYuXBh33HEHevXqZf1t2n/fTvd6SHw7Wt4yEoFMQ0DiO9NMhQZyvhBIL/H95JNP4rvvvsOaNWtw6aWXgoJt/fr1VlaRhg0bYtq0aQHF93333Yc///zTEpIUlxRxFGrffvutZU8RfMstt2Dv3r2WiGPbe/bssUQCS7t27TBs2LBUbYcjvimCHnroIXz66adWWyVKlLAE5rp166xrKV68uPVAQCHjWyi4eX20yZs3LypXroytW7daovOdd96xhCmL0+wqFEsUqRS5FMUVK1a0RDIfOnbu3Gk9ePChgCUxMdESSgcPHsTu3but3+1C4c+HGZaBAwfiiSeeSHnv66+/tkQ8RTB/t0sgYUcuzBqzaNEi6yGAgrtAgQLWwxV/OAb2TcHI8tNPP1n2x44ds8Zdvnx5REdHWw9V+/fvx+23346pU6c6+vOyxXdmWSNpDTpc8c2HUz7wsVBwc+3v2rXLmm+y//HHH631kNYc8T1bfPMhiQ/CnBf+PbEdrkUWPtA9//zzqS6DfXAtzJgxw3qd65d/Z7/99htKlSplifBBgwa52mgt8e1oectIBDINAYnvTDMVGsj5QiC9xHf27NlRs2ZNfPLJJ7jwwgstfPPnz0ejRo1w9OhRS0zTk2cXW1hRYFLQffnll7jkkkustylkKQD4b5UqVayMCXfffTdGjhyJ/PnzWzb/+9//8MADD1ieQn9vYjjiu3v37pa3lh5i9kOPsj0Weh9HjBhhiSCKIbvwuihwKLZbtGiB999/3xLHFD4DBgzACy+8YHnCWZyK7/79++Ppp5+2PPsUqXwIsAuFFL3PfNCxy5133ml5yD///HPcddddKa8XK1bMEu8UXk2bNrXet8tzzz2Ht956C2+++Sb4u10CCcgvvvjCYl+6dGlrDinO7MIHovHjx1vfYMTFxVkvN2nSBFOmTLFeo2ijALcLH7Do3SUrJyWzrZG0xhyO+La/ueCa5sNprVq1UrrgAxbnul69epYoT2uO+J4tvvl3+Mgjj1gPfva3Tfaa4t8UH5jsvyHWo8f72WeftR7cuN74rRPLli1brPXEb3W4ht1kOZL4drK6ZSMCmYeAxHfmmQuN5DwhkF7iO2fOnFi7dq0l0nwLhSI9r126dLEEqV1sYcX/L1u2LEXs+talqG7Tpo3lgaanm+LBt/Tu3dsK96B3mB5qu7gV3/Sk84GBwoUeP/9roJi+5pprLK8uHyiuv/56q6sPP/wQjz76qOUVp+DwDb3wFaL83an4btu2rSXi/b3VwZYjRVbXrl1T8WXYB78heOyxx7B48WJLcNE7bc81r2Xp0qVYsmSJdV1pCTuG+zDkhg8g9KqGKhTnnIsVK1bg8ssvD2We5vuZaY2EupBwxPeECRPQvHlzS+T6Phyl1VeosJOqVauCYUb8tsG3MNUe54QPU3wYY+G6prDnwyMfoh588MFUdf766y/rYYve8cwsvtPixYdp8lARAREITkDiW6tDBCJMIL3EN2/ovLH7F1tg8OtrekTtYgsrerYpeAMVhhvQ+0fxx5hw/3LgwAFLmFMcMEzDTifmVnyPGTPGij1n/Dj7C1R69uxpCRDGwb700kuWiT0+PgDwff/Cr/IZksLiVHzbDxQNGjSwvg3w9RwHGhcfCPiNA8UVPaksjCFmPPy4ceOscBHG7dKDSWFGjypjiJmajfyyZcuW0mwgYcdYZMZpM66c8cR2eEmwZcpxM9aYc8ZrsddXOMs6M62RUOMPR3wvWLAAN9xwg/XwxnlycrBRKPHNB1w+6PoX+6GOD2v8ZoXl999/t+aV31ow9p8Pn/6FnnfOe2YW32mlGuSDOR/iVURABIITkPjW6hCBCBNIL/FN7ytDGfzL7NmzwdzEPHGSv9vFFlZpCV7bW0cRSQ9hoMLDPOh1ZuyyvZHPrfjm2ClK6P3293rbfTLemrHpvjHm9vgCeQ1Zj3HOdsiAU/FNLyQfSBj7zfAAhu1QoFEEMcTFv3DzIzdPUlQzDITx2PRgMvyHbVHU8SHhvffeszZg2g8EDAGy4+rtNgMJO7bL8fBa+M0D4+8Z080fOzTHd0x8wGLoCQtZMsa7du3aoChnKIybkpnWSKhxhyO+6XlmmAdDmfgQxDnm30mdOnWs1/291xxDKPHN0BEy9y/cgMkHR26e5O8sfLij1/3KK6+0vtUJVCjkuXYys/hWqsFQq1Pvi0DaBCS+tUJEIMIEGBdMETBz5kxLJAcrDLVYuHBhKs8vbX2znQTKhhBMCPtmsgh2oh092dy0mdbYKFJ++OEHS2xy8xqLW/HN8Iz//ve/jsj7nsAXanx///03GI7D4lR805YeSQokZndhTLtd6OFj/K4d9mK/zocOxgxT+PIbBsaJM96XDwvcvEfR26xZM2sDJj3SDCWhV5px7r4lmLBj/C/Hw/r2Zk/W4+bTfv36pYhtuy0KQMbPM6zFvm6uM8anU8hxI5+TkpnWSKjxhiO+2SY9zhTEfMDkw5NdmLGErzN+28kc+WY7CXRSbaC/U/tbDdrTux2o8FsdrhWJ71ArQO+LQNYlIPGddedOI8+iBOg1ZRYKhlsESttnXxZjiBlLzE10TFtml4wU35HyfDOemV/XU4xSaDgt9vgYWsPNn/6FotX2pLsR33Y7FN4UsBRGfLhgLDVFNWN3fU/s48ZJbu5kZhWGF1AUU7TZDxTcyEphR+89hTu94b6x63Z/oQQkw3voIeXDDdcLM9HQO8uML/Ru+xcKS/bDhycy4hgY5sAYf//4+EDMnYjvSK2RUGvC/gaGcdL20eq+dezsM/6bg20bPgAzNIhs6ZFmmkYW/29VQnm+uVacim97M63/RmLfcdt7NiS+Q60AvS8CWZeAxHfWnTuNPIsSYIYFCjx6NulpC1SYdYThDMwHzLAFhh5EQnyHivlmij3GIHuN+WZeb+ZADha3Hmxq7fEFY8ewDubBZglHfPv2y/AShiRQzPqGDtCG88d5pIjidfCHceyM1WZhqAyztfAbAopveqHJzl8AhxLf/hyYtcTOdsIMMWkVCn8+BPBBj8KSoRWhihPxHak1EmqsfKjgNxb+m1jtevZDQjDx7d++/Q2Ff7hWeopv7rXgPoC0Yr75bRjDxSS+Q60AvS8CWZeAxHfWnTuNPIsSsD3X9JZSPPhuwLMvicKKnlTmseaBN3ZaOb6fkZ5vu1/mPmZct3+2E4Y20FtNLzA3XNrFbdgJr8n2VlKQcJOWk0LPMkNWGObBuFN/MUsxz5SI6SG+2QZTwjE1HDdTDh06NGWIfPjgwxE95YwRZ9gHY7TtlI/2pleOh17VYGEGbsU3N3LyWxD2yRCZUIUbQ+k5Zy51iuZQxYn4jtQaCTVWO8WiHVvva8+HHj4c8QHMqfi2c7HzgYXpGe2SnuKb3nZ+M8MUllk524livkOtTr0vAmkTkPjWChGBCBPw9Uhyox7Fg29GCwo5Hj5DT2mgsIyMFN/0uFN8MM2gf55v5rZmjDdtmPKPKQnDFd+sx8NHGL9MEU5B5/vVPUUTRSOFEzdn8uAYFub5Zio2ipeHH37YOuyHYSG0J0eKZbd5vsmY7TNGm4LaLnwooMjlJkp66pni0Lfw2wgecsQNtBRoDH+wCx8uGEPM9zi2YF7MQMKOMeasx7Xhu2GS4p7x5QyV8F0XDL+hx50bOn0fRj777DMrNIcefKakdPKA40R8R3KNpPWnyW8W+A0D49k5D/bmWIZqcVMj54NrwVd8M86br5OXb6YThueQFcN1+O0CY7MzQnyzTTvPN//m+Tdl5/nmOuPDmvJ8R/gDWd2JgAECEt8GoKtLEWBqOIpbZtig55vCgSKSopfinIUCgh5L/3RkGSm+2S8zQTB0g+EK9Hwz8wbzctMTzkLPM/Ni+xa3nm/WpfeYB8PYQodHydMryFAbbvo8fPiw1QXFlG/WEcbYUhRzc2W+fPksMc5Ybx5uQzFvH2LjNOzE9pYzlpoinDH5jJ3m5kkWhmtQlPnPA1Mx2ikQeR3+YSAUu3YbDCNgOIN/CSS+7Zhf2vJ9fgvBdWIfM8+HI8aQ2w8K/JcPakxlyD45ZxRyzDXO0q1bN2szppPiRHxHco2kNWbO/9VXX22JVf4N8ZskzjlPfGVmGH47Qu+yr/jmPgPuN2DhwxFt+DDB2H6uO/6fm5x9hXl6er7tdc/sKHbmG65tztmvv/6a6oRLptLk5ksnxfeQHaa1DJS1xW6Hf8ssrVq1so6357rx/WbNvz/+PfHHt4+0Ug2yPh8O+TeqIgIiEJiAxLdWhggYIkCBxINdGNPNr3EpJnjqHW9szPBBT2ygnM0ZLb6Jg2Pj0dgMbaCXmQ8GjKGlp9HOcOKLLRzxbddnH/QsM3aXHkiKB4ZvMGyAG1KZ9s9fTPAQD8Z9c+MhRTw3pzKXMr2XNjOn4psednqJKer58EPhTa8kQ2sY+sOUi4FCg+yc0bwOilbOmW+hp5zfENAbzfze/iE8trhmn75f41M88qGLgp0PITysh0woAumVZbu+bTHMhgwpyCm4mR2FwpKxxRTygTYDBlvyTsV3pNdIsPFSSFLoMesM543rht8aMX6bcfgUl77imw9pDAniwxS/DWBmGuZ1Z3pKPoQxpIesfUt6i2+2TaHPNKEcH+eff/fMoMOHJL5O7zi/AfE9WTWtjylfYRzq48z+u7DFdyh7+1sbN304DfUJ1bfeF4F/KwGJ73/rzOq6REAEREAEshwBpodkOIrvyZhZ7iI0YBEQgTQJSHxrgYiACIiACIhAJiDAvQIVKlSwYtX5jZPbQ5IywSVoCCIgAg4ISHw7gCQTERABERABEUgvAsxtz+wzjFO3C+POGVbEMKi0TqFNrzGoHREQAXMEJL7NsVfPIiACIiAC5yEBO46cewv4OzfM2qk7udeAexmKFy9+HpLRJYvA+UFA4vv8mGddpQiIgAiIQCYhwMw4PLGUGU64ydjOtMNNnzw11TflZSYZsoYhAiKQjgQkvtMRppoSAREQAREQAREQAREQgbQISHxrfYiACIiACIiACIiACIhAhAhIfEcItLoRAREQAREQAREQAREQAYnvCK4BHn7xww8/WBtpfI+BjuAQ1JUIiIAIiIAIiIAIZAgBHiDFw76uueaaNE9OzZDOs1CjEt8RnCweKd6gQYMI9qiuREAEREAEREAERCCyBHiKbP369SPbaRbqTeI7gpO1atUqVKlSxTramMcZp3c5evQoFi9ebB3LzSOTVSJHQOwjx9q/J7EXe3MEzPWsdS/25ggE73nTpk2Wk/H333/HpZdemhmHmCnGJPEdwWn4888/UbFiRSufK3O5pndhWAu963zajIuLS+/m1V4aBMTe3PIQe7E3R8Bcz1r3Ym+OQPCeM1rnZMZrDmdMEt/hUAuzTkYvSn0Yhzkx6VBN7NMBYphNiH2Y4NKhmtinA8QwmxD7MMGlQzWxl/j2uowkvr0SdFFf4tsFrCxmqg9jcxMm9mJvjoC5nrXuxd4cAYlvr+wlvr0SdFFf4tsFrCxmqhuhuQkTe7E3R8Bcz1r3Ym+OgMS3V/YS314Juqgv8e0CVhYz1Y3Q3ISJvdibI2CuZ617sTdHQOLbK3uJb68EXdSX+HYBK4uZ6kZobsLEXuzNETDXs9a92JsjIPHtlb3Et1eCLupLfLuAlcVMdSM0N2FiL/bmCJjrWete7M0RkPj2yl7i2ytBF/Ulvl3AymKmuhGamzCxF3tzBMz1rHUv9uYISHx7ZS/x7ZWgi/oS3y5gZTFT3QjNTZjYi705AuZ61roXe3MEJL69spf49krQRX2JbxewspipboTmJkzsxd4cAXM9a92LvTkCEt9e2Ut8eyXoor7EtwtYWcxUN0JzEyb2Ym+OgLmete7F3hwBiW+v7CW+vRJ0UV/i2wWsLGaqG6G5CRN7sTdHwFzPWvdib46AxLdX9hLfXgm6qC/x7QJWFjPVjdDchIm92JsjYK5nrXuxN0dA4tsre4lvrwRd1Jf4dgEri5nqRmhuwsRe7M0RMNez1r3YmyMg8e2VvcS3V4Iu6kt8u4CVxUx1IzQ3YWIv9uYImOtZ617szRGQ+PbKXuLbK0EX9SW+XcDKYqa6EZqbMLEXe3MEzPWsdS/25ghIfHtlL/HtlaCL+hLfLmBlMVPdCM1NmNiLvTkC5nrWuhd7cwQkvr2yl/j2StBFfYlvF7CymKluhOYmTOzF3hwBcz1r3Yu9OQIS317ZS3x7JeiivsS3C1hZzFQ3QnMTJvZib46AuZ617sXeHAGJb6/sJb69EnRRX+LbBawsZqobobkJE3uxN0fAXM9a92JvjoDEt1f2Et9eCbqoL/HtAlYWM9WN0NyEib3YmyNgrmete7E3R0Di2yt7iW+vBF3Ul/h2ASuLmepGaG7CxF7szREw17PWvdibIyDx7ZW9xLdXgi7qS3y7gJXFTHUjNDdhYi/25giY61nrXuzNEZD49spe4tsrQRf1Jb5dwMpiproRmpswsRd7cwTM9ax1L/bmCEh8e2Uv8e2VoIv6Et8uYGUxU90IzU2Y2Iu9OQLmeta6F3tzBCS+vbKX+PZK0EV9iW8XsLKYqW6E5iZM7MXeHAFzPWvdi705AhLfXtlLfHsl6KK+xLcLWFnMVDdCcxMm9mJvjoC5nrXuxd4cAYlvr+wlvr0SdFFf4tsFrCxmqhuhuQkTe7E3R8Bcz1r3Ym+OgMS3V/YS314Juqgv8e0CVhYz1Y3Q3ISJvdibI2CuZ617sTdHQOLbK3uJb68EXdSX+HYBK4uZ6kZobsLEXuzNETDXs9a92JsjIPHtlb3Et1eCLupLfLuAlcVMdSM0N2FiL/bmCJjrWete7M0RkPj2yj5Tiu8tW7bgqaeewnfffYekpCTcfPPN6N+/P0qXLh3yel988UX89NNPWLZsGfbt24dRo0ahVatWAeu9//77eOedd7Bx40aULVvW6rNdu3bn2H755Zd49dVXsWbNGsTHx+Oxxx7DCy+8gJiYmJDj8TWQ+HaFK0sZ60ZobrrEXuzNETDXs9a92JsjIPHtlX2mE9/Hjh1DtWrVEBsbi969eyMqKgovvfQS+PrKlSuRJ0+eNK85b968qF69OsqXL48xY8YEFd8ffPAB2rZti27duqFBgwaYNWsW3njjDQwZMgTt27dP6WPGjBm47bbb8Mgjj+DBBx/EL7/8Agr8Ll264M0333TFX+LbFa4sZawbobnpEnuxN0fAXM9a92JvjoDEt1f2mU58Dxw4EE8//TTWrl2Liy66yLq+DRs2oGLFiujXr5/1XlolMTER0dHRsIVuIM/36dOnUaJECTRq1AgfffRRSnNt2rTBlClTsGPHDmTPnt16vUaNGsiXLx++//77FLuePXtaDwabN2+2POFOi8S3U1JZz043QnNzJvZib46AuZ617sXeHAGJb6/sM534rl+/Pk6cOIGFCxemurYbb7zR+r+vCE7r4tMS3/Pnz0edOnXw7bffWiEtdpkzZw7q1auH2bNno27dumD4C0NdGJ7CUBO78GGAnvWRI0eidevWjudA4tsxqixnqBuhuSkTe7E3R8Bcz1r3Ym+OgMS3V/aZTnzTk9ykSROMGDEi1bV16NABkyZNwu7dux1dc1rie/jw4VZoyfbt21G8ePGU9nbt2oVixYph8ODB6NixI6ZPn255xxctWoRatWql6pfhLxzTW2+95Wg8NJL4dowqyxnqRmhuysRe7M0RMNez1r3YmyMg8e2VfaYT3zly5LBCS/r27Zvq2hj3zdcYMuKkpCW+GdvdvXt3HD9+HDlz5kxpjm0z3IRhJT169MD48ePRokULrF69GhdffHGqbkuVKoVbb70VH374YcDhcLMnf3zLpk2brPjy5cuXo0KFCk4uw5UN4+IXL15sPSjkzp3bVV0ZeyMg9t74eakt9l7oeasr9t74eakt9l7oeasr9sH5rV+/3tp398cff6SEDnuj/e+snSnF9zPPPIM+ffqkIk6xzA2O6SG+X3/9dWsTJ8NbuLHTLv7ie9y4cXjooYesLCeVK1dONZ6SJUuiYcOGQcU3s6O89tprAVfNsGHDUnnc/51LS1clAiIgAiIgAiJwPhHgnjlGFkh8pz3rmU58M+yjadOmGRp2QvHLkJFQYSfTpk2zMp2EE3Yiz/f59HEDKxuPvnUwM+dib4Y7exV7sTdHwFzPWvfyfHtdfZlOfHPD48mTJ7FgwYJU13bTTTdZOb/TY8PlvHnzwA2czCPOMBC7zJ0719poaW+4ZDaTMmXKgGkJH3300RQ75gUvV66cNlx6XX3/ovqKvzQ3mWIv9uYImOtZ617szREI3nNG723LjNcczpgynfgeMGAAunbtinXr1lkZRVgodplqkDHfDElxUtKK+T516pSVarBx48ZWHnC7UGB/8cUXVqpBxp6zMHapYMGCYCYUuzDNIOPClWrQyUycHza6EZqbZ7EXe3MEzPWsdS/25ghIfHtln+nE99GjR61DdnLlypVyyA43Px4+fNg6ZCcuLi5FkNP7/Morr1inT9qFnnFmRElISEDnzp2trCX0mrPcc889KXbMeMLQEx6YQ+83vd0U1YMGDbLq2OWbb76xRDpTDdqH7PBgHrbtJtMJ28voJ0J9GHv9cwi/vtiHz85rTbH3SjD8+mIfPjuvNcXeK8Hw64u9xHf4q+dszUwnvjkoepSffPJJzJw50xokc3/TI84QELvYoR/+4ptCO1hoCsNWfAsF+LvvvgtmIWHb7JOC3L98/vnn1uZJbrxkTDo95NwAquPlvS6/f099fRibm0uxF3tzBMz1rHUv9uYISD4tNZoAACAASURBVHx7ZZ8pxbfXi8qs9eX5zqwz431cuhF6ZxhuC2IfLjnv9cTeO8NwWxD7cMl5ryf2Et9eV5HEt1eCLupLfLuAlcVM9WFsbsLEXuzNETDXs9a92JsjIPHtlb3Et1eCLupLfLuAlcVMdSM0N2FiL/bmCJjrWete7M0RkPj2yl7i2ytBF/Ulvl3AymKmuhGamzCxF3tzBMz1rHUv9uYISHx7ZS/x7ZWgi/oS3y5gZTFT3QjNTZjYi705AuZ61roXe3MEJL69spf49krQRX2JbxewspipboTmJkzsxd4cAXM9a92LvTkCEt9e2Ut8eyXoor7EtwtYWcxUN0JzEyb2Ym+OgLmete7F3hwBiW+v7CW+vRJ0UV/i2wWsLGaqG6G5CRN7sTdHwFzPWvdib46AxLdX9hLfXgm6qC/x7QJWFjPVjdDchIm92JsjYK5nrXuxN0dA4tsre4lvrwRd1Jf4dgEri5nqRmhuwsRe7M0RMNez1r3YmyMg8e2VvcS3V4Iu6kt8u4CVxUx1IzQ3YWIv9uYImOtZ617szRGQ+PbKXuLbK0EX9SW+XcDKYqa6EZqbMLEXe3MEzPWsdS/25ghIfHtlL/HtlaCL+hLfLmBlMVPdCM1NmNiLvTkC5nrWuhd7cwQkvr2yl/j2StBFfYlvF7CymKluhOYmTOzF3hwBcz1r3Yu9OQIS317ZS3x7JeiivsS3C1hZzFQ3QnMTJvZib46AuZ617sXeHAGJb6/sJb69EnRRX+LbBawsZqobobkJE3uxN0fAXM9a92JvjoDEt1f2Et9eCbqoL/HtAlYWM9WN0NyEib3YmyNgrmete7E3R0Di2yt7iW+vBF3Ul/h2ASuLmepGaG7CxF7szREw17PWvdibIyDx7ZW9xLdXgi7qS3y7gBVB03179+KT0aOx8uefrV6rX3UV7m/ZEgULFXI8Ct0IHaNKd0OxT3ekjhsUe8eo0t1Q7NMdqeMGxV7i2/FiCWIo8e2VoIv6Et8uYEXIdMSAAej1/PM4efIkoqKirF6TkpKQIzYWr/Trh8eeeMLRSPRh7AhThhiJfYZgddSo2DvClCFGYp8hWB01KvYS344WShpGEt9eCbqoL/HtAlYETP87aBBeDCKuKcQpwvsOGYJrr74aP8+bhzOnT6PcJZfgukaNkC1btlQj1IdxBCYsSBdiL/bmCJjrWete7M0RkPj2yl7i2ytBF/Ulvl3AymDTI4cP47LixXHs6NGgPeUAUDg6GtkSE1PZxOXPj6vr1UONG27ATXfdhRJly0I3wgyesDSaF3uxN0fAXM9a92JvjoDEt1f2Et9eCbqoL/HtAlYGm/bu3h1vvfEGkpL7iQZAXzb/ZckOoCgABqKcDUY5t/D1mKgo1G3WDE+99x6WLF2K+vXrIy4uLoNHr+Z9CUiEmFsPYi/25giY61nrXuLb6+qT+PZK0EV9iW8XsDLI9PTp0+jSrh0++vDDgD1QgFN4FwNAz3cw4W1XplinTY169XDbE0+gXr16+GPxYnw/YQIO7t6NvIUK4fp778VVt92GmJiYDLqq87tZ3QjNzb/Yi705AuZ61rqX+Pa6+iS+vRJ0UV/i2wWsDDLt+sQTGD5oUJqtxwIo67B/Cm8K8ILx8egwfDgWDByIVXPmAFFR1gZOxo0jKQklK1XCK1OnomTFig5blplTAroROiWV/nZin/5MnbYo9k5Jpb+d2Et8e11VEt9eCbqoL/HtAlYGmG7buhWXlC2LxDNnQrZ+EUNKQlqdNaBd4fh4tBs+HJ+0b49DO3acU5NCvGDx4hi4bBkKxcc7bFlmTgjoRuiEUsbYiH3GcHXSqtg7oZQxNmIv8e11ZUl8eyXoor7EtwtYGWDKGO/Xund31DLDTgo4sjwrvovHx6MNxXe7djiUkBC05j3PP4/Wffs6bFlmTgjoRuiEUsbYiH3GcHXSqtg7oZQxNmIv8e11ZUl8eyXoor7EtwtYGWDa4ZFHMGbkSEct83idIg4s7bCTsvHxaOFAfDMGfNzOnYjxS1XooCuZBCGgG6G5pSH2Ym+OgLmete4lvr2uPolvrwRd1Jf4dgErA0yf6tgRHwwd6qjlgsni2+mGywrx8XjAgfhm52O2bUPhEiUcjUNGoQnoRhiaUUZZiH1GkQ3drtiHZpRRFmIv8e11bUl8eyXoor7EtwtYGWD61Zdf4sG77nLUcmHGcSdbpplqMDnbyYXx8XjIofgev2sX8hdx4ld3NNTz3kg3QnNLQOzF3hwBcz1r3Ut8e119Et9eCbqoL/HtAlYGmDLNYJVy5bBj+3Yk+h2c49sdY7jp+WbWkzzJ4pr5wH1FODOcMCWhvSmzQHw8Hh0+HB+1a4cTCQkBUxRy02WJSpUwYvXqlKPsM+Ayz7smdSM0N+ViL/bmCJjrWete4tvr6pP49krQRX2JbxewMsh08cKFuOPmm/H3iRNn0wD6FQpsbrT0PTyeIpxCmz8U3RTczAHuK8ht8f3f5A2Xtmj3b7/te+/hzs6dM+jqzs9mdSM0N+9iL/bmCJjrWete4tvr6pP49krQRX2JbxewMtB0+c8/46XnnsPcWbNS9ULBzbMpKbKDFQrxC5Lf9PWE+4rvAwkJljjP6ddI1RtvRK8ZM5A9lq2opBcB3QjTi6T7dsTePbP0qiH26UXSfTtiL/HtftWkriHx7ZWgi/oS3y5gRcD0j3Xr8OuKFVYISIF8+fBUq1bYt2OH5d0OFuedDwB//Iu/+Ob7eZPbyZYjBxq0aoXH+vdHzty5I3Bl51cXuhGam2+xF3tzBMz1rHUv8e119Ul8eyXoor7EtwtYBkz37d2LAT174uP33gvae9Fkz7gtzu3AFYrvx4YPB8NO6Plmufvxx3HZtdfi6jvuQP4LbH+5gQv7l3epG6G5CRZ7sTdHwFzPWvcS315Xn8S3V4Iu6kt8u4BlyPTUqVO4tmhR7DtwIOAIePgOw1ISAfiek8nj5XnC5fs+h+z0nTIFte+4w9GVHD90CEvHjMGSUaOwf/NmxMbF4fImTXBDhw4oWqmSozbOVyPdCM3NvNiLvTkC5nrWupf49rr6MqX43rJlC5566il899131qa4m2++Gf3790fp0qVDXu+JEyfw0ksvYdy4cThw4ACqV6+ON998E3Xq1EmpO3r0aLRu3TpoWzt27EB88hHgN910E77//vtzbAcNGoROnTqFHI+vgcS3K1xGjBfPmoXWDRpYmykprn0FNjda8vAdxoZTfPsWW3wPb9cOBxMSrE2Zo1euRIWqVUNeR8KaNRhy8804sHWrFQLjuxE0KiYGD44YgVqPPBKynfPVQDdCczMv9mJvjoC5nrXuJb69rr5MJ76PHTuGatWqITY2Fr1797bECMU0X1+5ciXy5GEeieClRYsW+Prrr/HWW2+hfPnyGDJkCKZNm4bFixdbQpxl9+7dWL9+fapGKHjuuOMOq87SpUtT3qP43r9/P0aMGJHKvly5cihWjH5Q50Xi2zkrU5ZTJ0xA1+bNg3afKzkFob+Br/jen5CAshUr4pN160JeBj3eb1SpgoPbtgXMvoKoswEuHaZNwyW33hqyvfPRQDdCc7Mu9mJvjoC5nrXuJb69rr5MJ74HDhyIp59+GmvXrsVFF11kXd+GDRtQsWJF9OvXz3ovWFmxYoUlsEeOHJni2bZyO1epgsqVK2PKlClB686fP9/yjg8ePBgdO3ZMJb7ZxoIFC7yyhsS3Z4QZ3sC8adPw+G23Be2Hj36BsqH4i+9La9bESJ+HuGANfj94MCaHSD3IB9DyN9yAJwN8A5PhQLJAB7oRmpsksRd7cwTM9ax1L/HtdfVlOvFdv359MHRk4cKFqa7txhtvtP4fKATENuzVqxf4w3CT3D5ZJV555RX07dsXhw4dsjzqgcqjjz6Kjz/+GNu3b0fhwvbZhgA93xLfXpdZ1qnP/N83FC+OQ0FivvMHyYTiL74pmOceO4bYnP4JB1Oz6HfVVdj688+Bvd5+2F5Zvx4XlC+fdWBGaKS6EUYIdIBuxF7szREw17PWvcS319WX6cQ3Y62bNGlyTphHhw4dMGnSJCtkJFh54IEH8Msvv1hec98yceJE3H///fjtt98sL7h/OX78uBXj3aBBA3z22Wep3qb4/vHHHxETEwPaXXrppZb3vWXLlq7Zy/PtGpmRCgN79MCw3r3P6ZsBIBTfgYq/+KbNjD17kN/nQS5QvW5Fi+JIGmvat06X77/HRT57F4zAyYSd6kZoblLEXuzNETDXs9a9xLfX1ZfpxHeOHDkscUtPtW9h3Ddfoxc6WLnlllss7/aSJUtSmcycOdPatDlv3jzccMMN51SfMGECmjdvjv/973+48847U73/8ssv48ILL0SlSpWwb98+jBo1Cl999ZUVAvPss88GHQtt+eNbNm3aZAn85cuXo0KFCl7n7pz6jItnbHutWrVSef7TvaN/eYNcY707dQI3X/pvgLRzd/sjyFekCJr36oXxPXrg0O7dyJEzJ8YsX249tKVV3qtXDwe2bHFE9LEvv0TxAA+Pjir/i4207s1NrtiLvTkC5nrWug/OnvvpGP77xx9/pIQOm5upzNtzphTfzzzzDPr06ZOKWvfu3a2sJWmJbwpsPpFSgPoWZk2hMA8mvhs2bIiff/7ZCjnJls33YPHAE9e4cWPMnTvX8sLnysUteOeWV199Fa+99lrA94YNG4bixYtn3lWhkYmACIiACIiACIiASwLMFte+fXuJ7xDcMp34ZgaRpk2bhhV2wtASepXdhJ1wodCz3blzZyudoZMyfvx4MKsKs6LUrFkzYBV5vp2QzPw2zIKzb88enPr7b2xZuxZ927VLOf3S9xRM2/M9rkcPHNm7F13efBOf9uyJ44cPp/Ke0w+eIzoa5atVQ+nLLkPla67B5126ICkxEUiyj+w5l0v9Z59F7ccfz/zADIxQXigD0JO7FHuxN0fAXM9a98HZy/PtbF1mOvFdr149nDx58pzsIoy9phBKa8Nlz549rfSE/hsu6YWmJz3QhkumJHzuueesWHE7FWEodMwh/tBDD1mx4FdddVUo85T3FfPtGFWmNOzatCnmT5lirUMKb/5QLvNfnnDZfvhwDGvXDof37kWx2FicPHbsrKgGrCPrmSmF/9oS2xbvFapUwYFVq8625yPA7bZj8+fHAyNG4Kr778+UXEwPSvGX5mZA7MXeHAFzPWvdB2ef0TrH3Kynb8+ZTnwPGDAAXbt2xbp166yc2ywbN260Ug0y5pshKcEKvd41atQAD9GxN0QyTKVq1apW7BFjtf0L34uOjgbTFDott99+uxXCsmvXrqBhJ4HayuhFqQ8EpzMYnl2j4sWxN/noeLbg6/nmhkuK76Ht2oF5vgv4pCSk4I5L7tK3ju8oylx8MaIPHcKh7dtTXrZFOv/lzx29eqHRSy+FN/h/cS2te3OTK/Zib46AuZ617iW+va6+TCe+jx49ah2yw1hq+5CdHj164PDhw9YhO3FxZ2UMBTkPumEaQXq27cKMJzNmzLAO2eH7jK+eOnUqFi1ahCuuuCIVL8Z5X3nllXjnnXcC5g9n7m9urGzWrBnKlCmTsuGSh/gwROXJJ590xV/i2xWuiBufOXMGs6ZNw6qVK60Hsqtq1UKtOnWssBGWW4sVw/5duwKOi+K7QxDxzV0BzA0eTHizQb7PlU2hzuLvHaf/nK89OWcOKt10U8TZZOYOdSM0NztiL/bmCJjrWete4tvr6st04psXtHnzZkvYMksJC3N/0yNOAWyXYOKb6QC5OZNx2fbx8vSYM2zFv3Tp0gVDhw7F1q1bA55WSbHMWHCK/j179oCZWBiawnr33HOPa/YS366RRazCV599hh5PPontW7em6rPiJZfgnfffx7XXX48ut92GJdOnB8zJ7S++mSmeQpqCO1iGFN+OmMIw1FZfCvBqd9+Nx/3SYUYMUibtSDdCcxMj9mJvjoC5nrXuJb69rr5MKb69XlRmrS/xnTln5vMJE9CuefNz0gpytFHR0VYGnM9mzsTJ/fvRtUmTgBfhK76P79yJvMmx29xgaYecBLt6inSGqVj9pYHI8obHxOC9kyctz7zKWQK6EZpbCWIv9uYImOtZ617i2+vqk/j2StBFfYlvF7AiZMoP0aolSuDYkSNBT5mkAC930UVYuGoVnrnzTiz65ptzRmeL77EvvoiKJUtiBb+1SUqyvN/0fKdVKM4Dn7t6bi16vwccP46dK1bgh8GDsW7qVJw6dgz5S5fGFY88gisfewy5QxzsEyG0EetGN8KIoT6nI7EXe3MEzPWsdS/x7XX1SXx7JeiivsS3C1gRMh3z/vvo2rato94+mzULNWvVQp/HH8f0ceNSiXVbfFcuWxZ/792LF+vXT2kzX/Jv/l5tCnMePs94b3rI7bhumtshK+d4wrNlw72vvYZZ3bunHjPj0pOSkKdYMbScORPFLrvM0TX9G4x0IzQ3i2Iv9uYImOtZ617i2+vqk/j2StBFfYlvF7AiZNq5VSt8+tFHjnp7oVcvPJ2cbWTbX3/hm48/xs4tW5A7Lg7X3XEHdh45Yu1P4Kbg8a+9hnGvvmqFrcQmJp7j2aaoto9nSusMTMaB+waYFChcGNF79wYfb1QU4uLj8cTatYjNG8rn7uiyM72RboTmpkjsxd4cAXM9a91LfHtdfRLfXgm6qC/x7QJWhEw7PvwwJo8dGzTkxHcYz776Kp595ZWAIwv0Yfz9J59gUt++2LhiRUqOb9uTzTATim7bw53W5foK8JJFi+LE7t0hx3v70KG4un37CFE0241uhOb4i73YmyNgrmete4lvr6tP4tsrQRf1Jb5dwIqQ6aB+/dDr+ecd9fbh5Mm4o1mzFNudW7di744dyJ03LwqXLInZs2eneL5tIx6a89eKFfj+44/x0xdfYPeGDZboZpw3hbiTbZO0owDPni0b8p0+HXqsUVEodfXVeGzJktC2/wIL3QjNTaLYi705AuZ61rqX+Pa6+iS+vRJ0UV/i2wWsCJnu3rUL1UqWBA9jClaY57twkSJYsXUrsmfPjqWzZuGjPn3w46xZKVWqXHcdmj73HHhCa97kcA8K768GDMAnr72GYwcPpmqeYpoZTpx4vlmR9g27dsVPb7/tiEy+Cy/EM5s3O7LN6ka6EZqbQbEXe3MEzPWsdS/x7XX1SXx7JeiivsS3C1gRNH27Z0/0CxJOQuFNET107Fjc06IF/vfhh3jjsces0fkeBV+oeHG0HzYMv0+fjheGDLFSAU545RV80rPnWdvk67HDTvhvoWRRnVZ6QRtD3U6dULt5c/z3uutCk4mKQtHLLkPHlStD2/4LLHQjNDeJYi/25giY61nrXuLb6+qT+PZK0EV9iW8XsCJoShH9Tq9eeLdXL8sDbp9oyddz5c6NPoMGoXmbNtiwejUerFoVSYmJ58Rc++b5fuzll1Grfn10qFzZymASqNCTzdCTHMmx36EE+OMTJ6L6XXfh3QsvxJGdO63MJmmVm155BXV9Tn6NIM6Id6UbYcSRp3Qo9mJvjoC5nrXuJb69rj6Jb68EXdSX+HYBy4Dprp07MWHkyLPHy8fE4Kprr8W9//kP8uXn+ZNAv44dMXno0IAjs8X3sPbtEZcvH6pVrIilU6emeRXMdmJvpmTKwaBZT6Ki8Pr69bigXDnM79sXM7t1C95uVBSyxcaiy59/Il/JkgYoRr5L3Qgjz9zuUezF3hwBcz1r3Ut8e119Et9eCbqoL/HtApZB05MnT+KbyZMxdvhwrP3tN8Rky4Zr6tTBqtmzcWL//oCnUPofL188JgaJZ86keRX0dufxOdUydwABTi98lYYN0Tn5YJ8zp09j8gMPYBWPmE/O7Z3SSVQUorNlw/2TJuHiICdxGsSaYV3rRphhaEM2LPYhEWWYgdhnGNqQDYu9xHfIRRLCQOLbK0EX9SW+XcAyZHpg/360uu02/LxkSarj5u3Yb3qreWiOf5iIr/g+lpCQclx8qMuwD9mhHT3fFOB2YZ/M1f3CkiUofsklKa9T1P84bBh+GDQIe9ets16PiomxBPcNL7yAkjVrhur2X/W+boTmplPsxd4cAXM9a91LfHtdfRLfXgm6qC/x7QKWAVPGeLe45RYs4NHwaRTGavPHt/iK79MJCalEdFpt8XRLCnC7+Hq/S15+OR4ZOxYlq1YN2ATHu2/9eut4+bwlSiDPBRcYoGa+S90Izc2B2Iu9OQLmeta6l/j2uvokvr0SdFFf4tsFLAOmy5cuxZ3XXBOyZ3q9i/jl6PaN+S4YE4MjW7eGbIcG/uL7yoYNUfHqq3HpzTejQu3aKZs/fRs7dfw41nz1FQ5u3ozsefKgUqNGKFi2rKP+/o1GuhGam1WxF3tzBMz1rHUv8e119Ul8eyXoor7EtwtYBkxf6tgRY4JsqPQfDrdg2sfD8z1f8d30gQfwdf/+jq7AN+yEFR59/33US05l6N8APd3z+/XDvD59cMI3b3hUFC658040GTECccWKOer332SkG6G52RR7sTdHwFzPWvcS315Xn8S3V4Iu6kt8u4BlwPTRpk0x86uvkJgYLEHgP4Ni2Ene5BzgvuIb+/bhlnvvxcPFi+PEkSMhr8I+6dI27LlkCS4K4n3/5umnsSgNUV+oQgW0XbLkvAs/0Y0w5DLLMAOxzzC0IRsW+5CIMsxA7CW+vS4uiW+vBF3Ul/h2AcuAaZf//Adfjht3Tg7vQENpfOed2LVmDXZv24Y8+fLhlhYtUO7661OOl/966FAM79jx3IwkPo3FJuf55kvcXHnh5Zejzy+/BAw12fLDDxhx7bVBqXCzJn+KXnIJqrZogaotWyJfqVIGKEa+S90II8/c7lHsxd4cAXM9a91LfHtdfRLfXgm6qC/x7QKWAdOpkyahw333ndOzb2YTHm0TFR2NRRs2oGTp0im2gT6Mvxo0CKOeew6nTpw4p81Uwjs62hLcL8yYgcvq1w945ZNbtsTyMWPOeY/H07Mt/stijS85+0mNdu3QoH9/xGRnZPm/t+hGaG5uxV7szREw17PWvcS319Un8e2VoIv6Et8uYBkwPXXqFGqXK4edO3ZYp1hSxNKb7C++S1eogGkrV1qnX9rF/8OYoSs8Yv7I/v2YPWYM/ly2DH/99BN2rlmDbElJiPYJWclTsCDajxmDKxo3DnrVb5ctiwObNqV6n4LbFt32WPl/3/Fe9vDDaDx6dEBvugHEGdKlboQZgtVRo2LvCFOGGIl9hmB11KjYS3w7WihpGEl8eyXoor7EtwtYhkxX/PQTHqxXD8cOH7aEt+1J9h/OFdddh49nzkTOXGe3Xdofxmu/+Qazxo7F38eOoWCxYmjUujWaduyIoskhIHu3bMH3o0Zh+9q1yJYjBy696SZce999yJHcTrDL7leqFA5t22a9bXm2A+Qat9/jkfW+ArzlDz+gxNVXuyLKh4/9S5fi1P79iLv4YuQpV85V/Uga60YYSdqp+xJ7sTdHwFzPWvcS315Xn8S3V4Iu6kt8u4Bl0HT655+jY7NmQYW3PbTOL7+MJ197zfrvxPfeQ2yZMhjZrh0OJiScNUk+gZIx4W9Om4bLrrsu7Ksa3bAh/vz2WyApKc2HgkACvGqrVmg8apSjvk8dPowVjz6KhC++AE6dSqkTW6oULunTB6Ueesh6Len0aez96itsf/99HFu9GtE5cqBA3boo0aED4qpVc9RXehnpRpheJN23I/bumaVXDbFPL5Lu2xF7iW/3qyZ1DYlvrwRd1Jf4dgHLoOkLjzyCSSNHpjkCxmgXvOACLNy6FT9On45+bduizfDhqcV3cguMEc+dNy8+XrsWhcJMBfj7559jQrNmqcJM0hogo7zpuWcpWq0aHlm+PCTRk/v2Yc4ll+DUrl3nPHjY3wBc1K0bKjz7LH5r3BiHFi0KuKG0zMsvo8yrr0Ys1EU3wpBTm2EGYp9haEM2LPYhEWWYgdhLfHtdXBLfXgm6qC/x7QKWQdPrSpXCzuQQj1DD+PKnnzC8c2ds27gRrYcNCyi+7Tba9OqFh196KVSTAd8/c/o0RlxzDXb+/LOj+oz9ZviJJb6rV8cjv/wSsN5BZmxZtMiKcd80YACO//57qpAV30q2AC9SowZOBGnPtr9oyBCU7NDB0Vi9GulG6JVg+PXFPnx2XmuKvVeC4dcXe4nv8FfP2ZoS314Juqgv8e0ClkHTKwoXxsF9+xyNYOjEiehz333IHx8f1PNt/aFFRaHkRRdh7Lp1jtoNZLRy/Hh81qKFo/qM+WYWFJYabdui4fDhqeod+P13/PjEE9g5e3aq1ynaGcWeVn6UbH4HDJ0zoKgo5ChWDNds3ozoCGRa0Y3Q0ZLIECOxzxCsjhoVe0eYMsRI7CW+vS4siW+vBF3Ul/h2Acug6d3XXouVP/5oeYPTKhTUI//3P7x8550hxTfbYejJN4cOhX1lf86YgY8bNnRU31d8t1m+HMV84rD3//orvr3+ejC+mzHkgUqeEALc/3CgQG1cNnUqCt9+u6PxejHSjdALPW91xd4bPy+1xd4LPW91xV7i29sKkufbKz9X9SW+XeEyZjzxww/R7dFHQwrveo0bo3u/fmh5ySWOxHeuPHkwZvVqFLnwwrCu7cShQ3i7RAmcOno0ZH077OSqJ57AzQMHprL/pmZN7Fu2LKjwpjHFe74gGVX4vhPxXXHoUJRo3z7kWL0a6EbolWD49cU+fHZea4q9V4Lh1xd7ie/wV8/ZmvJ8eyXoor7EtwtYBk2PHzuGJlddhfVr1gQUqNxAGRMTg4kLFuDymjXR6rLLcPDAAbQeOjTNmG/rBMr4eLy7cCGKly8f1hV+3akTlg4ZErIuvfJXP/44Gg0dah0KZJc9S5diepDj6/0bZfiJHbri/54T8V159GjEt2wZcqxeDXQj9Eow/PpiHz47rzXF3ivB8OuLvcR3+KtH4tsrO9f1Jb5dIzNWYcfWrWjTqBHW/fabFa+dHq0MoQAAIABJREFUlJSU8i892IMmTkTd226zxvf1hx/i/ZdeSjPmm3bcAMnDdS6tVcsS4OEUer9H3XQTEkJseGSaw9i8efHo4sUoeumlKV393q8ffnn+eUddM+6b4Sf+ha/nDNVCVBSu3boVsSVKhLL0/L5uhJ4Rht2A2IeNznNFsfeMMOwGxF7iO+zFk1xRnm+vBF3Ul/h2ASvCpmtWrcLM6dNx/PhxlClXDo2bNkX27Nkx+6uv8Nno0UjYtg154uJQ/8470axVKxQsXDhlhBTmg7p2RZk6dYJ6vrlJkT92Gfzzz7ioRo2wrvL4vn0YWq0aDm3dmnb9qCiUr18fLb/7LsXu1969saJHD0f9BhPfFOT/+NIDN5WtcGHU3rPHUT9ejXQj9Eow/PpiHz47rzXF3ivB8OuLvcR3+KvnbE2Jb68EXdSX+HYBK0KmmzZuRMdHHsE8v6wf+fLnx7Pdu+OJrl0d5as+fPgwZs+eHVR8M4aaYtYWrQ/36oXmYaYdXNivH757/nkrF7eT0nntWlxQqZJlumniRMy//34n1ayQE4aepJzyGRWFXElJqR4igjWU74YbUGPePEf9eDHig8+hxYsxd/du3BgXh/w33ICoHHaSRS8tq64TAhIhTihljI3YZwxXJ62KvcS3k3WSlo3Et1eCLupLfLuAFQHTrVu2oB5zZyckWGElgcpTzz+P1/r2DTmaUOLbbsAKPQFwf7duaP3GGyntJp45g+OHDiF7zpxpHjVPu4FlyuCAwzzk7ODuMWNQ7T//sfo68/ff+LxkSfy9d2/Ia2JcN+PUo7JlQ+G6dVH5lVfw2003Wadbhirl334bFz7zTCgzT++f/OgjnHj9dRw9fBhLhw/H1e3aIffp04jt1AmxL76IqAikOfR0Af+CyhIh5iZR7MXeHAGJb6/sJb69EnRRX+LbBawImLZp3hyTP/kkzawfHMbilStRpWrVgCNKTEzEhlWr8MPMmchTrlyaGy7ZgJ2FpPOwYbi9XTvs2bQJ3w4YgAWjRuHYwYNWH5VvvBENOnXCVc2aneN13/Hzz/jgyitxxgWfpqNGoUarVik1fu3bFyu6dQvZgu2lv23lShRIvv41Dz+MnR9/HLxudDSiY2NxzYYNOLJgAfZ8+CH+3rAB0blzI3/DhijSti1iS5cO2Xcog+OvvIK/e/a0Ttg8XqxYivjOtXOnNZ/Z7rwTeT77zHpwUMk4AhKAGcc2VMtiH4pQxr0v9hLfXleXxLdXgi7qS3y7gJXBprt37ULlkiVx2oEX96JKlTB93jwU9Tka/syZM5g4aBA+fe89bN+wAQXj49Fh+HAMb9cORxISUo52D3QZeWJjMWrtWuz64w8MbtYM3ETpW+wNnjc+9hhajRiRSoBv/P57jLnpJjADudOwk7bLlqHEFVdg/+rVWPLCC9g4dSryhsph7pNm0Fd8n9q7F7/Uro3ja9eee2lRUUB0NCqPGIG9Q4fiGE/j5Gu+3ypky4ayI0agSJs2Yc/w6YULceT661PqH4+P/0d8JySkvJ6jZk3kuPxyRN14I6LvvRdROUNuEw17TOdrRYkQczMv9mJvjoDEt1f2Et9eCbqoL/HtAlYGm07/+mvc17ix417KlS2LbxcvRrH4eFB4v/Tgg5g1aVJKBhRbfA9t1w77ExKszCaBfK6Uf/liYpB05h/fNWPB+cO4cP/SfMAA3NKlS8rL+/78E4MrVrSEd9pHAJ2tUqJmTbRduhS7f/kF/7vxRpw6csQSw8E2TXIMvuPIli8f7k5IQLZcjP4+W07t24cN3bpZHvDE48dTXs9XuzbKvPoqdjz//FnhHahQjAOo+NVXKBDmATxHH3wQpz79NEXUBxPf7Im8rR4LFUK2jz5CtIs5d7w4zmNDCUBzky/2Ym+OQPCeM1rnZMZrDmdMEt/hUAuzTkYvSn0YO5+Yb6ZMwQNNmjiuwNjnpvfei1ETJ2LCgAHo/9RTqer6i2++SeHnmxUkf3K6wZQNjD4t2EIxVRaRqCgULFkS72zciOgYjuBsGVm7NrYuXozEpKQ0vd9RMTFoPWcOSteujfGVKuHQhg1AssebDwaB0gj6A6ncpQuuHDDgHE4HFy3Cpt69sX/69BQRHFejBgpedx32hspDHhWF3FdcgSo//eSYv6/hgfz5AZ9vC4KJ71RzkOyVzzZ9OqIbNAirX1U6l4A+c8ytCrEXe3MEJL69spf49krQRX2JbxewMtj0r/XrUf2iixz1QmFMUUwBvPyvv9CpTh0kbN6capNmIPFNgWvn3eDmxX98x4G7ZT+08feAvzh/Pir5hFn8MW0aJtx2myW87R//FnmwzgOffYaLmzbF5unT8XWjRud0mjutI+SjopCndGncunQpchYtmqruzvHjwdhvS8j7bVT1f+BIC3CVFSuQ+/LLHc1BKvEdGwucPJnykiPxbVvnz4/sc+ciqnp11/2qgsR3ZloDEt/mZkPsJb69rr5MKb63bNmCp556Ct99950lcG6++Wb0798fpR1s1Dpx4gReeukljBs3DgcOHED16tXx5ptvok6dOqlYlS1bFps2bTqH31dffYXGfl9Nv//++3jnnXewceNGsB7H1q5dO9fsJb5dI8vQCk1uuQVzZ84MmunE7pzC2xbEvd94Ax+9+OI54wokvn3FNLOCBwor8W+I4vUfH/fZdzt/8QWubNo0lemyESPwTYcOSEpMPEeA5ypQAC3nzkV8tWpWnQVduuDX994LyJJiP1DIS5Hrr8d148cjz4UXpqp3bN06/FSlytmwGT/hzdSE/mNPawIv+uILFPS7LicTfqhSJST++WfIsBO2FehhJlu2bIj+/HPgjjucdCebNAhIhJhbHmIv9uYISHx7ZZ/pxPexY8dQrVo1xMbGonfv3lZMLcU0X1+5ciXy5En7y/IWLVrg66+/xltvvYXy5ctjyJAhmDZtGhYvXmwJcbtQRF988cV49dVXUzHkawUKFEh57YMPPkDbtm3RrVs3NGjQALNmzcIbb7xhtdu+fXtX/CW+XeHKcONfli3DLddfj79PnEizL1/x/cLzz+OzN990JL5pxNVqC2p6qdkWPeJWCr8AvfJ9fw95t3nzUPmGG86x3r16NX4aOhRrv/wSJ48eRb4LL0SNNm1QrVUr5GRoRnKZ+/jjWP3BB0Gv0TcHedFrr0WtoUNRKMgBQH8++SS2DRx4TlvBYtzTAltpxgzkv+UW1/N8ol8/nPA5pTOY55uM+UDgX/h6DDdfrlkDlCnjun9V+IeABKC51SD2Ym+OgMS3V/aZTnwPHDgQTz/9NNauXYuLksMCNmzYgIoVK6Jfv37We8HKihUrLIE9cuRItG7d2jJjNosqVaqgcuXKmDJlSkpViu/rr78eY8eODdoe65YoUQKNGjXCRx99lGLXpk0bq60dO3ZYpyA6LRLfTklFzm7hvHm469ZbwW9M/Iu9+dBXJI8ePx6vN29+jm0gzzfDOoI9KqbaDOjXGgWjtVmTMd8lSuDtjRsR4yFl3rI33sDS7t1TevGNK/cPW7lh8GBc1rFj0AlYXKoUTvrlGLc9/G5mjakHq+/ciZg4BuS4K4n79uFw1apI2rHD8n4HE9/BQmAs8c0umW7RJ9e6u1HImgQkAM2tA7EXe3MEJL69ss904rt+/fqWEFq4cGGqa7vxxhut/3///fdBr7lXr17gD8NNcuem9DlbXnnlFfTt2xeHDh2yPOosTsT3/PnzrXCVb7/91gp9scucOXNQr14960TDunXrOp4DiW/HqCJqOH/uXDROnkd7M6R/1g9+A1O6bFn8/OefaF+3LpbPn59mzDdXWT7f0yEDXFEgAW7Hl7M+f3/w3Xdxq9/mTrdwjmzdirFlyiA6MdFq09/jzqwpzL0SExuLh7dvR85ChYJ2MT8uDolHj6Z6387W4mZchR9+GOV9Hmjd1KXtmTVrcOTWW5G0eTOOFy+OpcOGWYfs5EpONZhWCAwfbKwHkHLlgL/+ctu17H0ISACaWw5iL/bmCATvOaN1Tma85nDGlOnEd3x8PJo0aYIRI0akup4OHTpg0qRJ2L17d9DrfOCBB/DLL79YXnPfMnHiRNx///347bffLC+4Lb7379+PU6dOWanjrrjiCiu85Xaf9GfDhw+3Qku2b9+O4sWLpzS5a9cuFCtWDIMHD0bHNLyE/gPN6EWpD+Nw/gToPE3CfbffjpnTpgVswM67/f64cbi3eXMs+fZbdGnY0LK1T8b093xTvvqGqwQbmb9ItOvw3zrNm+Pxjz9GdHSqHCiuL5Jx4Z9UqICjGzcGrGvnC7+4QwfcECJTydKKFXF8/fpU8d4MOQkWRhNssBcvWIC8tWs7uhYyPjllCo4PHYpTfPg+cwYxl1yCnG3aWOEjB6dPx+LWrS3xnY9pEdOIr7dDbKyOGZpz4ICjMcgoMAF95phbGWIv9uYISHx7ZZ/pxHeOHDms0BJ6qn0LhTFfS+tQlFtuucXybi9ZsiRV3ZkzZ1qe63nz5uGG5NjZzp07o2bNmihXrpwVPsJwF8aFf/LJJ7jvvvus+ozt7t69O44fP46cPgd0cAwMN+nZsyd69OgRcA727dsH/vgWbvBk3Pjy5ctRoUIFr3N3Tn3GxfMaatWqlcrzn+4d/QsbPHr0KJ7r1AlLFixIyd1ti26K32e6d8cDzPCRXGZOnIjhPXpYGx5Z8hUpgod69cLYHj1wbPduy+vtpNgnXtq2tvimSCxVuTI6ffopYkPscwjVz/bZs7GgbdtQZih///24qndv6/j4fcuWWfm8sxcogEI1a6acFLl9yBBs9Us9SM+3W/FdoGFDXDhoUMgxcWPn0eees8R3qgN7+ECSmIiYSpWQ7f33sWTNGlyzbRtie/VKs80UYc7Ug4z3/u671PYH9gO//QokngbKXQRc6P00zpAXmYUN9JljbvLEXuzNEQje83pmEqteHX/88UdK6HBmHKfpMWVK8f3MM8+gT58+qdhQBDNrSVrimwKb3gAKUN/CrCkU5r7i2x88PeBXX301Dh48iL+Sv4p+/fXXLW84w2DscBXWcyK+uZHztddeCzi/w4YNS+VJN70I1L8IiIAIiIAIiIAIeCVAZyYjBiS+0yaZ6cQ3wzmaNm0aVtgJQ0voVXYSdhIIi+3pZlhJkSJFQJHMcJdwwk7k+fb6J5x16reuXh05cufGfb16YWKPHji6e3fInN721dHTbcd3+8Zi05McHRWFfEWL4qV588C83eGWL6+5Bif9voUJ1hY3iMb4Hwmf/P8STZqg6ltv4cjy5Vj3yCM4c/hwijc6UFYRuw/fOHPfqygzciTiAmRxseslHT2K/QxN8Ysx9x/730WKYFWvXinf+CRNmYKkZ56xUjD69p3Clyx5Yie93kWKADsTgJb3Aj5H06f0wWvnpurBHwJXXxvuFPxr68n7am5qxV7szREI3rM8385mJdOJb25kPHnyJBYsWJDqCm666SYrvjatDZcMA2F6Qv8Nl/RC05Puu+EyEB7b08248gsuuMDylHOjJz3nDBexy9y5c62Nltpw6WyR/dut7i5VCqfOnMGjw4fjv+3a4UBCAvImX3So3N6Mlw4kXH3jlgds3ozCfvm23TD9uEgR/L1nj6MqzD1iZVoJUqoPHIgKHTvi5M6d2D58OBJGjcJJZv2JiUGMz8E3vtXJIFBYygXt2+PCwYODPlicGD8eh1u0CDluZjv5ZfhwcLN2nJ09pXdvgCFh/g8SbI1hPF9/DSRv4sbdjYBZM87JW57SMcV6gYLA6i1nRbtKCgHFHZtbDGIv9uYIBO85o/e2ZcZrDmdMmU58DxgwAF27dsW6deusPN0sPNyGqQYZ882QlGCFXu8aNWpg9OjRaNmypWXGEJGqVatasUc8QCdYYdgJY8APHz4MPrmx8DWmGuShO6NGjUqp+uijj+KLL76wYsUZo+60ZPSi1Iex05lIX7v3nnwS3336aSrxzTR3TlYGxa6/QLe83j5D7L9pEy5wcMBUsKua3qgRts5IQ1z6VGR28LQeGPhe7oIFUeLee3FJnz7IUagQjq1ahd9q1EDSqVPnCFheB6/H9kL7j7FwmzYo/d//WnH2/uXYO+/gaNeuISfreIkS+GXo0NTim7XmzAEYV86/+9OnAebvb9UK6NwZSP5swZ9/AFdUCtmHZTB0FFAqHhg7HPjtF4Ci/MpawEPtgauvB44dPXvqZ1zes6L/PCj6zDE3yWIv9uYIBO85o3VOZrzmcMaU6cQ3N77xkJ1cuXKlHLLDTY0UxTxkx/ZsUZBzsyTTCPoelMOMJzNmzLAO2eH7DB2ZOnUqFi1aZGU0YZkwYYL12m233YaSJUtaIpqZSxgrPnnyZNx9990pLJnxhKEnL774ouX9preb3vVBgwa5ynTCBjN6UerDOJw/gbTr7N+3DxNGjcLksWOxKyEBBQoVwp333ouHH38c8SVKWJU3r1uHzvXqoc2QISmeb75uhXCkITxT8nn7CN6UNHhsICoKcYUKYdCOHcjmIp+8/xVtmjIF3zVpEhIOHxb+SdCZ2pzXwY2VqYJfsmdHxZdfRszmzdgd4BAfys+0vOh2D2XHjkWhAB7u4x9+iCOPPhpy3Ew1+MuwYeeKb7smBfHffwPcNO0vit8fAnTtFLIP64mkQglgz3Y/bzrfSDor7I8cOPvkUqI00KL92Z+8/xx2ZHVyaD/w9WjguwnAgT1AgQuAmx8Ebm8F5CsYehyZzEKfOeYmROzF3hwBiW+v7DOd+LbEzObNePLJJ8EsJSz8Opke8TI+p9EFE9/MTMLNmePHj085Xp4ec4at2IXZUCimf//9dysjCU/N5GbLF154wcrf7V8owN99913rOHqOgWOjIHdbJL7dEjNr//PSpXiwUSNQgNuZT+x/c+bKhVGffYb6jRpZg5wxYQJO5M6ND9u3x34e/pJcKLD9Raud7i6QMLUzh9j17+jWDfd5PAiGGVm+bdIEW6ZODQw0KgpRSUlWqEygyHKOk8Lc33tt/z82JgZ5zpwJ6MEPlFc81SCio5G7Zk1c7JehiDaJCQnYy3Abeq3TKAHDTpwunYFvAT2eC23Np5JQX2XYbn471KVcJWDcHKDY2Yc0rFwEPNMYOLz/HwFv2+YtCPT/Brgsa8WVSwCGXjoZZSH2GUU2dLtiH5xRRuuc0LOTNSwypfjOGujcjzKjF6U+ENzPSbAaO7ZtQ53LLsPhQ4eQmJhoCWj+2MEElIM8dbLp7bfj14ULkTNvXjzevz++efttrF64MCX/d/mqVRF19Cj2/vWXVZceZIrZYGEYHI8lwKOicEGZMuj544/Ie8EFni/s9IkTWNShA9bxYJvk9Ih2o7mLFUM0T5sMEHJCPckQmrTGy3bo5aedb0kr37b/BV2+Zw+yFS58znUeatkSf48ZE/z6o6Pxd40aWNajR3DPt12bp5h+Nhn4ZBywc+dZbzXDT8Z9mHasDSE4zR3pf9E1agGTFgLbNwD/qQ4cPwoknU1PmapERQO544CPVwAlynqe70g1oM+cSJE+tx+xF3tzBCS+vbKX+PZK0EV9iW8XsAybvv7iixjYp48lmOn0pP6yBaivEOX2O3q3echO5+HDMahdO+skye4jRqByjRr488cf8da991pX4xuGESquumL16rj58ceRMy4ORSpUQPlatQLGRbvFdGTzZvw5diyObtuG7HFxKNWwIZY0a4bT+/cH9Ho7PUCHwt0/XpwPEU7LZZs3I0eATaWJhw7hYIMGOP3jjwE3T0YVKoTs336LuVu3pi2+efDWHQ25geRcr7OV0SQpsNufF8CnCv8ni2AXZnu/fd+ftAiYMwGYFDqvOe7vAjw1wCk243YSgOamQOzF3hwBiW+v7CW+vRJ0UV/i2wUsw6aXFiuGvbt2WcI7VOgEvb5FfcT3gZ07UaRECUxevRov1K6NLb/+al1NIF0W7DLzM3vIGR76frbEFS6Mxq++irqdHMQnO2S3a+FCLH/pJeyfOzdlfPZDgt0EHy6cbh0skOzZt+vaYTWh6kfFxqIaxX+QTCJMOXisf3+cGDYMidu3n20+d27kfPhh5H7+eRy/4ALMmjUruPjeuxe4qhqwbVtgMnboB580AsXdOAk5sVsONMkPdQTmjwGOHQ49M3nyAd/uA2L4OJP5iwSguTkSe7E3RyB4zxmtczLjNYczJonvcKiFWSejF6U+jMOcGL9qzHJTMkcOK/zDicOTMqm0j/jen5wvutuwYZjwxBM4fepUSshJKCFvD4V6L1Df5WvWxJNz5ng+9XLN0KH4oVMnRCclpQpltk/YtL37bsQ3Pd++cexOHzaY8aTMhx+GnDyevJm4caN1AmfMhRciKvnkz5Drvu8bwMvdQ7Zvxd34uuttUV6pNLBrc+j6tPC/aLZx613Ass+d1afVjL1A/kKB7ZOSMlUmlZDsnV+1LF0SEHuXwNLRXOwlvr0uJ4lvrwRd1Jf4dgHLoCnzyZeKjUW2U6ccH5teJj4eXZLDTii+uTHz0po1cWjp0pQrsWOqQ3mCWSGY+OZ7F19/PZ6YM8eKOQ+nJMybhxnJG5C50dI/z7jvA4ItvkOOOSoKBZOSrIOBQIGYXNL0fkdHg17vi3/6CbkuvTTVpSQePIhTK1eCm0WzX3wxYooVC3ipifv2gaE0czZtCu75LlkU2L3bGaorLgdOnzxre+llQOu2wJnjQJs7ndUPFOj+YFtg5ghn9Wk19xiQ0yef+Ja1wJRBwNwJwJH9QFxBoG5z4M7OQCmHaRKd9+7KUiLEFa50NRb7dMXpqjGxl/h2tWACGEt8eyXoor7EtwtYhk1bN2uGuZ9/HjAKIdDQLoyPx1M+4ps2RUuWRKxPqINTTzDrMvNIsJhpttN28mRUb9YsLEqzmzbFlilTUkQyoy2CeeSDHQKUquOoKMTffTfKtmiBPxjf7hMu43vAjn/MfHRcHMp/+SXy1a+f0tyZnTtx8OWXcezjj5F0/PjZ12NikOuuu5C/Z09kv+QS66XTCxbgRL9+OP311zhetCiWDh+OawcPRsGWLZG9RYt/4uOZKSW3w+hzO+QkJgoYPhL4T6uz/fN66lQEtm4MfhCPfQWBuvp0PvDhS8DyeWnX54NLjZuAobP/wbvgc6DvA8DpU+fOdbYcQLdPgNp3hbUO0qOSREh6UAyvDbEPj1t61BJ7iW+v60ji2ytBF/Ulvl3AMmy6cO5ctKhb1xLfIb2+4Nkr8XjaV3xHRaH8pZeieHQ0Nv36a0obTuKg2Wdah91wPJc1aIBOPB7dRaEXedPUqfi+adNUIpD92ZrR/1rtDadBw2WYpjAmBrUWLcKpVavwFw+xCVBsjnb7+e++G2WGDUP2okVTrE9v24ZdtWvjzKZN57bAfuLiUHT2bGDNGhzjIVr0sCclgakGKb6v7tABubZvR46OHZFr0KCzAnzWTKDRzc4o2RdpD/LTz4E7k4Xtc48BE/57th1/SPZTRSCv9+U1gc9/AOZ8Brx4duNtmqXPZ0Dd5HMG/loBdK4JJJ4OLNp5fTHZgEHLgHJVQ7WcIe9LhGQIVkeNir0jTBliJPYS314XlsS3V4Iu6kt8u4CVCUzvrl0bKxYtcjSSYvHxeH74cAxs1w4Hk2O+H+3RA5UrVMB7PoI01ImP7Cwtr7et/fIXKoQ3uZHQYdmxcCHmtGqFQ3/+iUAHpNsCPPnIGEtf2poyZ4ECyH7woCUA/VMORsfGovqECYi/6y5sevppJPTv72hExTp3Rtn33kuxTTxxAjuvuQanV64MXj86GtFFiyL3rl1WXnI7vCVFfLdrh1zJ7HONGoVYch86GHiys6MxWUa++xz5YLAxAZg6GWh339k2/AU6gdg/9oZNO/SmdAVg/FygeKmzY+3XHvhixLlZW2z7u9sBjVsDG34DmHpw6ZfAkv+FHvstbYCnQ8fMh27IvYVEiHtm6VVD7NOLpPt2xF7i2/2qSV1D4tsrQRf1Jb5dwMoEppv/+gv1K1a08nynVShcme3kueHD0a9dOxxLSEBsjhz43/r1KFysGHo3bozl336b0gTtA3nUqet43HyoIAnLM164MPru2eOIUsLixZhSty7O8Pj3xERLfAfz5qc6YRNAScatM81fcvGtZ6W/vvhilHn6aZRo3RpbXngBCe+842hMxZ54AmUHDrTyoR8cMgR7u3dHjkOHHNXlRlQ75zrHcyw+Hj/Q822Lb4r0KlWQd8UKRP33faBjO0ftniO++cKMOUC/54HlP4YOObE3bBYtDjRvDzzcCcjvc2olBfikwcCEd4AdPt794mWAOk2AlfOAP5f/M1Y71U6o0efICXxx+KwXPMJFIiTCwH26E3uxN0dA4tsre4lvrwRd1Jf4dgErk5hOHj0aL7RpY42GQtG/2DHNF/iI7wMJCXhv8mTUT47J/vv4cfz3iScwe/RonPE5rdGua4txpix0Ip9oU/X229Eu2ImVPoPkmCddcQX20qOc/BDBDZZOwmmKFi2KM7t2pTkTOZJPx7ygcWOUat4cfzVv7mjmyo8diyItWmDfG29Ywts/0UhajVB4k5Xthaf4XsKY72TxbT8q5V2/HjE8WKd6FUdjsp5I/FMNvtQDGNrLWf1ixYFZv54V3NGBchYmN8MY8tU/Jh8vXwQ4tAfo1iQ5jMbnQY8X6bRM2gvkDZIhxWkbYdhJAIYBLZ2qiH06gQyjGbGX+A5j2aSqIvHtlaCL+hLfLmBlItP5336LQT17YtnChalG5evBLuwjvvcmJGDa2rUoV6kSDu/fj1kff4y/VqzAqRMnLJFJ2/ljxuDYnj2ptB7fC5Xazz6o547XXsOljRqh5BVXINovJ3TimTPYMHMm9qxahSNbt2LVu++miHqOmeLdjq4I5gGPjYpCXICHDf9psU/s5Ouln34aR8aOxWlmFvGra4fb2JI0On9+FLznHhwbOdJKd+hWfPs6hf3FN8dCCRu3bBmyXXEFcHM9YN7c0J5rVvR/KnmyCzBjZRB5AAAgAElEQVRmoLPVyAwl6485s7Wt/j4B3F0SOHzg3JMvnXq+GaIy5TiQnXEvkS0SIZHl7dub2Iu9OQIS317ZS3x7JeiivsS3C1iZ0PTuK6/E7z//nOJx9RWu/uK738cf49SuXfioe3ecpPfVp+TOlw+tevfG/GHDsG31amtjID3U/DdbUlLQ3OK28LaFKv9fsEwZ1Hn6aVzHnN3R0Vg9eTJmPvMMDm5OnZeagtv3CHi2YQth3+uwffvFihTBGcaUhwi54WXZ2VJi4uJQ9YMP8FeLFimbIfm+LfaDHVFvh5E4lY60oy61i6/4zp0c803xnXfrVkSXLGlt0MS1VwLHHAhjf+/3E48DY993thoZ2/3TFme2ttX0j4HXHw5ch19R2Pkpg7XKePFaTYCXv3DXbzpZSwCmE8gwmhH7MKClUxWxl/j2upQkvr0SdFFf4tsFrExo+mDt2li+eHHA8BN/8X1v8+b4cfz4gFdhi+0Xxo9H7thYzP/oI+zfvh2JJ09i16pV1iEyqc568XHIUsjaYpeN23v9arZujUp16mBq69YBj2GnLUUuT6G0i60z7T2EdlsUroGzageeFN/xXD5pEnLExmJD+/Y4tW2bJfBDxbCzVd+85qGyy3BDqu++SH/xbYn8uDjkPexzouRTnYEhg52tKtv7TeFeLAewcYOzeh2fB17s68zWtnqjNTBtdOA6HAe/Cgn21GLXenM2UK2uu37TyVoiJJ1AhtGM2IcBLZ2qiL3Et9elJPHtlaCL+hLfLmBlQtNenTtj3ODAAs5ffJfJnh1R3OAYpFCAFyhWDB9v3oxs2bNjw48/4o3atZF4+nSKuPf1dNMJShEbyBFKbcaD6HNnz45sjCkPEi5CHccUhk5KvBOjZBtf8X3JiBEo9fjj1gPE/qlTsbVVK/DAnFCFbXB8oWLe+T43pfqWQJ5v5M+PvAcO/GPW+j/AuLGhhnH2ffupZPxEoMt9Z8Vv2ntuz9ZbtB4oU95ZH7ZVzxbAzAnBQ2I46YTjL8Dt/3Ncbd8Fmj3lrt90spYISSeQYTQj9mFAS6cqYh8cZEbrnHSaQuPNSHxHcAoyelHqAyFjJnPzhg34adEibN+0CYO7Bz6m3Bbfb7Vvj7y5cyNp/XpHg+n60UcoX6UKJj33HNbMnh0wCwk9vRTfFJ6BnKD2a9SM9mmVtvfY14vM93xybwQfX1QUihcogCSKVwdx36k83/9n7zygqyq6t/+7qYSE0ARC70WKAgqIShdUQBFEREUUfZHAawPsFBUQFBsgJYiKWBFFRUEUidIUFBFFpfcapMOFkBCSb+177yTnnpx2k1De739mrSxIztQ9c+Y8s2fvZ8+eTZlufp7qk7/8wqarrnIkB6XklTFaAXAj/nMj8O2pWZO4jRtz2n5oAEyd4qgvPnX9B5/AVc3g6ir+MgJyc/vb5tQnZbadgVCjjk5/Ht55zrpfcuJSNIYqp/ZAIKYnb62FSnWcja8Ac7l7TgEKM8SqXNmHKLACzO7K3gXf+V1OLvjOrwRDKO+C7xCEdRFk3b5lC8MfeYQfvvkmWxstANbINlmB73GPPkqz+vX5w4aJRLCamIGIY6OWRUWAp6LRUyIQDguzIDh6MekxmjY4jvy/lC6apT54jjI9ueKhh9jzxhu2s6B1uIwoWpSWe/cSXthvkX1s7ly23XSTbR2SQfohpUQuVrbfchDR+0Qage+op54iesyYnLafeRJeGeuoLyT+FyZMhLQ0aFwaTgQoEI004EpLXrk6LN3srH5trpQdcFsA4FuV1p6sjPJ1fQQGjAu9/XyWcEFIPgWYj+Ku7PMhvHwWdWXvgu98LiGJVeFAtZXfVtzyPgm44Pt/ZyFs3bSJm5s35+jhw7lsvJUJiJHDZUKJEvw0fToLpk83HawAVmU6YWTfLH8TYK6eXeLAHEM1pkxTtI1rAba0q9pWINZIm179rruI2L2bw4sXW06aVutdddgwaowYkZ3/5PLlbLr6akeTrjTfVqHupSKRvT5IUBD43r/fp32O3biRsCoBULt7N9xwHWzc4KgvzPsO2nfw531+ILytA7VaDbiapKGvwP2PwrIFsGoZnM2AGvXghu4Qo3UP1XVh9WJ4uLWzfulPVtpSlS6Ft9c6q6cAc7kgpACFGWJVruxDFFgBZndl74Lv/C4nF3znV4IhlHfBdwjCusBZb2vbluWLFhk6V0rXxGY7NiqK2+6+m9i4OJq2bYs3M5N27dqx+IMPeKN/f9MRxOu0z0YZBaArExLRVmsdDK1EY0TZpygRldlyRQ1/t5VzY5EyZSheuDCp23I7HEq5IG184cK0PXKE8KgcvXXW2bOsrVqVMwJ+bc74Ukrqk0OHXRIoqzWDVuC7WWIisQcOUOjjj4m8LRDK/cgRuLoJaM2A1GlET/MioLp6Dfh7Qw5Pd8oe6NgYDuWmT/T30wNVa8Bzr8PIB2H39uDuFykKj70Id5gE+nljEMxyFhXUZ49jZpNTpgp84NAx1E7AITx3QUgIwirgrK7sC1igIVTnyt4F3yEsF8OsLvjOrwRDKO+C7xCEdQGzbly7ljb16mWb+OoVnVrM9mJSEnf364d2Mxbe6jvLlSPt5Mlc4F20tgpU2w1RcX6Hovk248tWjppxFSrQ+qGH+O3JJ02jXKp+yTgliI7wfWtpCaUudRgQQC/OnvJvi9WrKdqwYdCwDowfz55HHzUfalgY4fHx1PjxR7yTJ3N62jQ7sfieC/gWoC79UuBbIlyWeO01ou+4I6eOF0bC88NzfldmImYOjIkPwus6c5tN66BPZ9i51c8kIz+ZAQOdeo3gkSEw6A6Q4DlZes9MaTALhoyDex7JPbYX/wPzHIaGN5tc6U+j6+ClnCiqjoRYAJlcEFIAQsxjFa7s8yi4Aijmyt4F3/ldRi74zq8EQyjvgu8QhHUBs06fOJEhDz1k6V/nw3AeD526d2fqrFlB4DsuLo4F777La336ZHN4q+EothE7Oj1lEy7/iqZXz/BhJh4jsxPJq2zJS5YtS9q+fdnFlc22WX+kPiNTD6P2my9eTMmWLYMeZWVmsqtfPw6/9ZYhBWJYXBzVvv2WuGuuIWPPHvZVqOB45pVpTmpCAr8nJdF46FAq/P47nsiATl44yqtWAOH+Fs27nsPbrKXkZXD1Nf6n+/fBrBmwbTMcSIHTXhCb9kvKwC13wTVtofNlsGWdAfAONCDgWEK/L9sDJeQeQ5PeGg4zHEbQtNJ8D50FrQLafscSzH9GF4TkX4Z5rcGVfV4ll/9yruxd8J3fVeSC7/xKMITyLvgOQVgXMOvrI0cydrhGW2rSl3CPh/Y33cT0OXNygW8p8sOHHzJ14ECOScTHgLZYHAadJAV6VV7RfuudI43qEaBsBKSlXQGrZpTRZubEygZbytsdGNps2kRsjRq5uiVuJUdnzeLgxImcXLbM91xAd4l77qHUwIFEV6+eXSalZUvSly4NqsOoXa0SWMD36qQkrv7nH0o980xO2cOHIaFkzu9GUYVy9dYDt90O77wPIx6Ht9/wa7S1qWIVSPoYrrgKVi6Fu4IPHKbz+8RY+M/jwY93boS7ajtZEv5TkJEwajSGN1ZAhBNGdWdNOc3lghCnkir4fK7sC16mTmt0ZW8uqXONc5zO0cWezwXf53GGzvWidDeEgpnMxNtvZ86sWbaVCQ5KHDyY4a+8Ygi+pYIz6eksnzPHF15+9x9/8Pe8ebb1SgYBl1o3PcFdYituFW/FTOstoNsJ6DfCdvI3pYU3pQAUzvJmzbh2+XLbsZ09cYLM1FQiihfP0VDLuLKy8E6fztGhQzmr0cxLhUYm2tq+KvDdtnlzipQundMHoUosrSFXdGo4X6gQ3NcLPnzLeDwSzl3yfP0T/PoDvDjYdtw+U5UO3eCNz4LzZpyBZ7rC8sC60A5WUc/Iv5HhEH425/ZA6hNtfq0mMGouFNeM2743oeeQtjb+COuTwXsAileE5vfhjSxKcnKyz9dBbnzcdP4k4O7350/W+pZc2bvgO7+rzwXf+ZVgCOVd8B2CsC5Q1oyMDBqVL8/Bf/911IOl69dTo3ZtU/CtrWTRu++SJBEoHSQ9+JYiAjgF3igFrrYaM+AteYSqUE/PZ9QFvVWDlnVFnlnZqjf56ivKOKQVNGr7yJAhHBs92jQ6p5RRYwgaa0QEZ/v25Zfrr88NAAUwXlbXz3Ii/3cKvqUx5RVrNlcCflu2hw7t4SWdNtuojAD29rfAxNn+p0cOwCevwddvwvHDwdcaSrudTeAeBoOTwHsYfp0Hp09Bmcpww31w5Q0QHsrAHCw+fZZ1C+GdO+DkwZwngT56q7UjucZDLvjOg1jzW8QFgPmVYN7Lu7J3wXfeV4+/pAu+8yvBEMq74DsEYV2grPv27KFxCHbHO9LSiIqKcgS+U7Zs4VEDswyjoYq5hxnYFU12bEAjrACzmUmIPHcUWCdQn7ZNAbnKkCEsPJwYMb8IaFy15tNFGjSg8oMPUvbOO4nIg/bz9OLFpLS2p9sr1Lo1JceP5+y6dWTu24cnPp7oTp04FRtrrn2d9AY8+rDfI1RPoG4Ikj0QUwgiU52twEkz4Ol7nOV9dCQMGArC7f1gS9i/MyD1rJwTlSH3ZMBmfNpqqFrPWVsFlSv5dZg9yLQ2b+EEklsk0a5GPHH1LkyI+4Ia6v9aPS4AvHAz5sreBd/5XX0u+M6vBEMo74LvEIR1gbLu37ePhuXKOW59Z3o6kZGRjsC3VDr6hhtYs2CBLfWegGsjDbfqmGizlb5TALZR2HmluXZqDCD5FfhWQRUVFoy+5BLqDx7MzmnTSN++HY84M/qO74EcWVlIkJ3LP/2US9q3dyw/yfjvbbdxavZsa5l4PETUrk35tWt9TqzaZPkhnP0Z3C4h4gOabydXABXKwIn9zsYwbRZMGAI7N1v3X7TTi3dBqQTo2wQ2/J4TMtPIrsao9c594bE3nfWrIHJtXgavtbCsKRt8/zqYuKGrIEa5FBdEB9w6rCTgAsALtz5c2bvgO7+rzwXf+ZVgCOVd8B2CsC5Q1szMTJpUroxowK3iT3nCwqh72WUsXL3a11Onm7Fov4c2a4ZXnAFNuK/NomhqRaIF3+rvinpPi+UERDux9/bh6IBTpjLr0ELcuFq16Lh2LSvbtuXIkiXGsxMWRlhkJE2WLKFY06aOZ3BHbCxZp045yl9h+3bCy5fnzFdfkT51Kmf/+otTZcvy6/DhtC5RgqItNGDx0CGoUglSU3PYTpThupGGOSwMihSBOpVh/RpH/eHt2RAfC307+dlOzPjMH34emlwN74yE3wPykz4YhTQ1azk6BuZ7czjInfUw77lebg7bVjgD38sSies8BFo9mPf23JIhScDpnhNSpW5mRxJwZe+Cb0cLxSKTC77zK8EQyrvgOwRhXcCs40eP5sUhQ2x78PKbb9Krb98g8N20cWNWfPMNh1JSiJNw6126UK5q1ey6Tp86xaxRo/h23Dif46E2RUZHE5GWZhpHReUV5a2AbyP8aBR9M97jQbjH7ZKAd8Utrs976TPPkNC0KatvucW6Go+Hkh06cOW339o153suB5wdERGgNOk2pcqtXEna4MGclQNAwARGHC5/TUpCeL6L9uhBzLhxfu34q6/AEzp7bAV4A/TbQUIsXhy++AY+fw9mTLHvv7Tx6zaoWBl+nAtP3gtHDwWXi4qGAcPg300wb0buOqUfFgEwcxX45jgUdnqcsh+CaY5D22FYzro1y5et+RbwXaEOPPJjPhp1i4YiARcAhiKtgs3ryt5cnuca5xTsTF642lzwfR5lf64XpbshFMxkek+c4OZrr2XdGnPtZ7MWLZi1cKHP3lvS0SNHWLxkCW899BAHdu3K7oiAwFZdu/L0tGlEhIczpH17Nq1c6QeHYqoRANFCZlembFnQMX0YjUhMUqzwWqHwcGJjY0k/ftxXvFiJEiCadptUzMjURYB7ZCQdN21iff/+HJw/39ZkRpppuW0bMSq8u027u6tWJWPHDvt6IyIo3rw5WToqQi34jklJodDo0RR6+mlo1wYWLzauV64ElF2PnEvu7AVjX4NSpWDdX9DmMutey/y16wgfzM3Jl54G380OhJc/CzXrwc294P2x8N5L5vXJZNrxOErp8EhYkHruHSylrQ0/wPh2dkuGIPBdMgGe8t8EuencS8Dd78+9jM1acGXvgu/8rj4XfOdXgiGUd8F3CMK6wFkPHzrEwPvuY8FXXwX1JCwsjC49e/Ly1Km+sPKSzp49y4g+fWh8660kJSZyRIK66FL1Bg2oU60aK+bMsRxZxSJFEDo+M0pBMQkRq1pDv7wAKPdhSkVFF8grulL5u1lgRxlJLn9EjwdPeDhXf/IJFbp1Y3HVqpzergufbjKaK779lkuuv97RLB594QUfxaBdkv4LCYk+6cE3RYtSVBwy27SClSvNq9Wyisx4H3r1ysk7fCC8Oc64rMg2rgh88wvUrGPd7RNH4YaykH7aPJ9cVxgZ7QeV8ECbHvDsTDsx5e/5qaOw4j346W3YZ296EwS+qzaEAfPz175b2rEEXADoWFQFntGVvblIzzXOKfDJvEAVuuD7PAr+XC9Kd0Mo+MncumkTcz/7jGNHjnBJ6dLc1KMHFSpVCmoo+dNPeeXhh0lMSjIF3wIc7VhHRKMtINjI/05As+Az0U6bEcuJAtXIn1D9XT3TYk5FJS3AWwC6qltAd/kuXajz5JOUDNhvL61dm1MbNzoS8pXJyZRs29ZR3rMHD7K3QQPO7t9vqf0WkxgV9EdbcS7wLYeQmTOJ+uxT+OLz3HXKILWab6ms/uUwYgxcfyNs3wqP3g/LF/mb0Z906jSAKR/CpQ3sx/fFNBj9gHU+mRgZnBWJuwD+iT9Bveb2beY1hzhYTroJBICrRWg0fk39QeC7xyvQ5K68tu6WC1EC7n4fosAKMLsrexd853c5ueA7vxIMobwLvkMQ1v9Q1gFt27Jt/XoSp0wxBd+KHtBsWAJ+xY5bi7+0mE9ZbIvm18gu24gXXNoy+7tRP+rdcw+177qL2PLlKZSQQLSYq2jSP4mJ7J461XZmwgoXps2+fUTEG+mpjYunr13L/uuv5+zu3YZc3zIOGbeRgtgIfEf37EmhLjfjuevO4AYVN6Me6KqbgmEj4P1JcPDfYNCuPbEMHg5PPm8rB1+GCU/Ce2P9E6sFsnpAL6cKWQRm/XpkInT9r7M285Jr/0Z4oTGki3OqYrKxodwRR2NFNfjPC8Q9vhQirdjg89Ixt4yZBFwAeOHWhit7F3znd/W54Du/EgyhvAu+QxDW/1DWFtHRxJUoYan5luGIZltAuFESUxKz6OHa/IIdJWC68hdUz6ReIxprIwdMM9G2mjyZBv37m0r+xJo1/Hz55bYzUzExkbpTHDgs6mrKPHmSkx9/jPf99zm7dy9nhdIwIyNbm29mnWEEvn0YOyqKqGLxeA4e9CuvtTHpjUahALigfCueRyn783qoYREWXhxIp42Ad16AjIzcrWmvN2TiVHv6q4tmHeH2wdDY2S2C7eSYZXj/AVg2LfdT1R8TrXw2+G5YnbjK9fPcvFswdAm4ADB0mRVUCVf2LvjO71pywXd+JRhCeRd8hyCs/6Gs10RGEn/JJbbgW4YkJiCC7fRJgoM78bmTcmK+oreakDqNwLeAcuXUaSfSps8/T9Phwy2zbRo+nK0jR5pGoixcsybNli8nqqQcEfzp7LFjHPnkE9K2bMETE0N8hw7ENm+ei69b23DaDz9wsF2ww5+M2ejwYqj51sgzKq4wYUJlqGxW7ARtF85TOtrvURj5urmsXh0IH5nYjKtSAmyVotisT/c9B32etZu6/D0/cxoGloAzJoGFzHjI40ribfcMyaeruxEu8zcDeSrtAsA8ia1ACrmyd8F3fheSC77zK8EQyrvgOwRhXYRZd27fTsrevcQVKUKdevUQ58ttGzfy8A03cPr0aR60MDvRDsfIbrtMCOPVl1fBcRR+E5Aq+FFhOyeBHaX5VpMm0WDAAMueCDXgrsmT2TJiBOn//puTNzycMt26UXfSJKKEMUQsKDIzSRk5kpSXXiJLR6sY07AhVT74gJh6xhEbU2fP5nD37rn6okxutFhVD75l3H4OmpwU2akj4T9+41zKck1hlRpeCQtMnDk3rYGe9jcE2RNkdRiQsPSztkJCZed9DzXn4Z3wtMP6pa+PJkPNVj7WFReEhCrsgsvvyr7gZBlqTa7sXfAd6prR53fBd34lGEJ5F3yHIKyLKOsP337LuDFjWKEJLlOhbFlKFC7M7i1bfD0tmZDAE0lJvJaYSGpKiqXVgpH99yUmzpJGYtByfKvolkZWAQK67WzNVf3iYHnv7t3EJiQ4knzmmTMc/PZbTu/cSXjhwj5u70LlyweV3T1oEP++bqId9ngIL1qU2itWUKh2bvONtKVLOdiyZa6+CLBW2m+FWbXgu3BKSm6nTGFtKVWSaO9BR2PzZVIOkPJ/I81v/Ybwgwmt3pgB8JlDsxsVGcmqZ72HQN9Rzvseas4TB+AxuXtxkOQwMPlMdqCfcwZCju+G1IMQUwLigx2cHfTy/0SWcyb7/xPSy98gXdm74Dt/Kwhc8J1fCYZQ3gXfIQjrIsk6Y+pUHk9M9JlIqIiXolVVilEFABX4HpuYyOGUFB9ziJnZsGimi2vqk7pjs7Ky67QaurStQqwo4G2XX+zJ7aKq17n3Xq6bPr3ApH5qzRrW29mHezwU7dyZ6jo6R+lE1tmz7K9ShbN79uRiKxGZixyU86UWfBdLSTE134mO9ciG52yMRvYtWhDevAU0v9pfV4Mr4Lqb4fC/cPIEDLsLNv7hrB0ZiIq6aVRCwO6V7eC1Bc7qy0sukcmoRrBnjQ3XugfqXQ8P59AJ5gmEnD0DG+bAXx+Cdz/EFIdLu0P9nrBjIfwyFnYvyxlJ2WbQ9DGok/smJC/D9ZVJPwbpRyGqOEQ5dwzOc3vnoGCeZH8O+vF/sUpX9i74zu+6d8F3fiUYQnkXfIcgrIsg6/p//qH1ZZf5QLcC3qJN9rN7B9toa8G3RLcUPKXy6YdySUIC5YoWZc+GDb5HpStXpu2dd7Ji0iROe70+cw19EoAuwW6a3XgjGwSsZmVlmwvbiUoOCvKj5/9WXODlWrTgpvnziYzNbWuRum8fO6ZP58S6db72S7ZoQcWePQmPMbJcz+nJzgEDOOjE6TIsjPrbthGlo2+UmrxvvMGxhx82HZ7CwhkJCfyelMQViYmUsLh1iG7fEs/PS+2D+Vg5Zkqjyp5H8TL6fo+ArIBjpZFtjNkoLgbwLX1b9ja8/x+7pQQPzoUGnbLzhQxC1n0BX9wDaSdy2lIn2Gh5Y7wQpncnDvx+9TBoMcK+j1Y59iXDutdgjxwg5CAWBhU6Qd3BUKZV/uo+z6VDlv157t//z825snfBd37X90UJvnft2sXAgQP5/vvvfaCnffv2vP7661Qy+EDrBSC2t0OHDuXDDz/k6NGjNGzYkJdeeomWmivsjRs3MmnSJH788Ue2bt1KkSJFaNq0KaNGjaJBg2Du3tatW7NYouTp0htvvMGDDz4Ykvxd8B2SuC545icGDOBdDYAUrGWm0daDb+m8ljdbDUZAdOtu3Rj96aeker0+IJiRns7KL75g22+/sVyYPlJTCVPMG4F/I2NiGPDpp1zeqROHtm7ls9692fXTT45kVKpSJa4eOJDMI0f4Z9o0TgWiaBa/9FKfjXe9vn0Jjw6miJMDwD9DhrDp5Zd9Wmht0J7IYsVo/M47lO/a1bT9dVdeSeqqVY76V+3zzylmUJe8+wK+T06caFqPYNf0hAR+S0riysREigTMTnIViIoi+us5eG7t7KfSs9KA29HOyAlM5TGiLlSA2s6xUzrpxOzkrich8UVHssxzJjnwvX0n/PZJbi4dtRZbPwg9J/jXQiA5BiEi7wWPwc+vmXdRnaZEfuraSMs3LiUv6wutxkIh8XwIMa0bB78NNOAKCoyn6USobe3zEGKL5zS7Y9mf017836zclb0LvvO78i868H3q1Ckuv/xyoqOjfWBYwIqAafn7mjVrfGGzrdJdd93FvHnzePnll6lWrZoPZM+fP5/ly5f7gLikiRMn8uabb3LPPffQuHFjH0gfO3Ysf/75Jz/99BONGjXKbkLA95EjR5iq4zeuWrUqZcqE4iYHLvjO73I9v+UblCvHfk24d1l5ynlRj6uMwLcoQI1Yj8d/9x3NOnTwge73Bw8m+c03ff/XAvS4+HgKRUZS5JJLaNqjB60eeIDiGpvqmT168M/s2YZacr2Urhs1itZDhvj+LKA67ehRX+TKqPj4bMaRk7t2sXn6dI5v2uQD4pkpKfw7b56xwAV8eTxcPXcuCTfeaJhnXePGpK52Fmq86uzZFO/WzbAeHwDv2pXUOXPQ3gfIQUhkK9j3dEICPyclcXViIhJeXh9MSCoO692bqBkz4OMPoN+9EpY0pz1NNFCfPYsdzaDkUbyHsiD0SQXNsVuuSoNu6XDpgZmboVw1u9ry/zzzLHz7EvwwHk5onGmLV4Trn4DW/w0C3tKgYxDy62SY54CnXGQhk6plplEODerf2ATovgBKOQhypKSSsgi+b2Mho8AkXL8MSgfMifIv0XNag2PZn9Ne/N+s/H9L9nIjJ5uN3cZWMHN5rnFOwfTywtdy0YHv8ePHM2jQIDZs2ECNGjV8Etq2bRs1a9b0AWR5ZpYEPAvAfuedd+jTp48vW0ZGBvXq1aN27dp8FbAtPXjwICVLlgyiOjt+/DhVqlShc+fOvPfee9lNCPiWOpYt09gg5nHezvWi/N/aEPIoxPNYrGqRIpwU7XRAV6YN6+4EfItSU2863OS66xDwLZrXV7t1Y5WBvbMaYtXGjUmcNo1fPviAHStX+oBzxUaNaJmYyM8vvcSfH35ob0IB3PDKK1wzcCA7v/2Wf5KSOPTnn3jCwki45hpq3X03619+mf3JyZhiCvkAACAASURBVL5mlUW0HDQsFbdhYcTVrEn7desMKQN33HcfhxzakNfdtIlCgXfdaHpPDR9O6siRQXFqlGWI9FdsvrXgW/XbB8LDwiA2lqiVKwlTjp0bN8Cbk+HLz+D4MUgoC8Xi4e/fnfE9Kk9WK+pCFTTHar0qw3W1wLR5FdA8H1pvfR/FJluiXZ48DEVKQ/WrIcw4rqqjPUfqe60SeFPs316l6bY03fFA4dLQZ63fIdNJWngD7PvOJqcHKt8GLUX7r0mnUyDjOESXhsg8aNyd9C8PeRzJPg/1ukXsJXBxyP4UcDgAqoVhSqsJENpQ8TuRH2XiVREQxaI4uDu5lrOXQ+4cWWzevJSaNVuxadOmbAyXl5r+fy9z0YHvdu3a+WjbRAOtTa1a+e3xjExAVL6RI0ciP6LJLlxYGJX96dlnn+XFF19EALZo1M1Ss2bNiIuLIzkARCSfC77/f38FzMd3zaWXsnnDBp/pkzI50d+Cq9JGmu9Yj4cocawM2HBf3akTIz/+mNgiRfh55kwm3HGHpXBlpWaDd3XVHzCXqNeunQ8wO9lC+y1fzpqRI9n5zTdB5iMqaqTewtYJblQdb/Hjj5Rq3TrXOE7++isbmjWzXjweD0Wuu46aC6ydCTN++41jTZpk16WoFRU+PaUB38J2opLPPLt0aaK++oowq76s+hU6XmMcDMdoBPKNM7vW0OY3Mz+RA4HvCkUTSVI/kWpwry/0O1xepMkRCNn0LXxgfENiOCxFaWOM93OKtHoZmjxmL5n04/CJHJ0dJE8E3HkK5N+9n8KW1+HIikDBMEi4GWo+DiUuvHbckewdDNnNEroEzr/s5aZOfIT+Ao4FAPVxjbpENps6gLrd+RSQ50bpUkD8NgpaEy6b1ho2b15OzZr9XfBts6wuOvCdkJBAly5dcpl5DBgwgE8//ZQDBw6YDqlnz56sXr3apzXXplmzZnH77bfz999/+7TgRunw4cNUqFCB++67z2eWopKA75UrVxIeHk5qaip169b1ad/FZCXU5Gq+Q5XYhcmfnp7OmxMn8tqoUXiPHPF1QrYpxYlgtGXpwXfhuDjatG5N+unTlK9WjZvuv5+6TZpka4mfa9GCDT/9lO3IqR9pEPA2EUORQoWISU83Nz3xeKjUvDlVK1Vi88yZQbXIGNTxVI/7pG07dhRV2WXjx1PDwClSDiyi/T787rvGvQ8Lw1OoELV/+onCAXMwq9k+1rw5Gb/84tP0q4CQqt+m4LtMGQpt3YqEuzdNJ05A46pw+JDzxSYnImV6YldKmVEoICl4u0QZaNYEls31lzY70cmzK9vD6+eQ6cSu/zbPHYGQ36bB1w84b0mZ7VhiAw+UrOPXftulze/Ccv9NqKPU4zBsGgVbXvNfBWkJcnyLLgyueA8q3uWounOVyZHsz1XjBVrvLkA4+I+K+zlwEyDkqxdvyrvsZQPYBojWWr4oQqNpp0IRitQPAlpuM5noje3kdxXtwajMZYCY4YqcreiWQpmDncBqNm/e54JvB2K76MB3VFSUD9yKplqbxO5b/iYmIGapQ4cOPu32ihVKU+HPuXDhQp/T5pIlS2jRooVhcbEV/+KLL3x25crcRTIOHz6cihUrUqtWLQSgT58+na+//tpnAvP444+b9kXyyo827dixg+uuu44//viD6tWrO5ie0LKIXbzYtjdv3jxI8x9aLf+3cwvwfrRfP35etsy3JWqDtQgXgyK70G+XxUqV4oGRI5k6bBjHDhxgwLPP0qVXL0NhCjAdfOmlZGrtjnU5jRhV9JWFhYdTVFhQMjNzA3CPh5hixej4yissu//+XP0wC9UuGQXcKho/u9VQ59lnqWQ2zrNnSRk9msNiHqMba1S5clQYPx4JtuMkZe7Zw4mePcky4PFOLVWK1SNH0mjYMGJ0h/NCP/yAp6Jct5qkzz6Cl0KMIClY3iiSj9VA1PdNbjBqNoBDG+BMWg6ws/r+TvkZivkDF12QJLbg+9dB+kkokgAlKsOJ/bDvL06dyWR5Srj1niMMJ98/4bzrSvNth0kiY6G3DaXjGS983w7Sg/di0854IqHpaPjncYKcDPQFwsPgqm8gtuD3caeCOq/7vdy4Za2EjPmQdQw8JSCiM3guz+UH4LT/fnOI0cAPuhOOvCxdAHGO1YfL0tcudYhviZhZCJCU/cTuysR5D81yhi57OcH9LLRCgUOGqll2W3HNl0OHBOYS5aDWfERA+kfASZOuaE/uRi+MlpBWnqvYyCqvtFVL+FIdyNpKbjK+JWLoy5Yt+2jY0NV8262yixJ8Dx48mDFjxgT1fciQIT7WEivwLQBbTqQCQLVJWFMEmJuBbwH1Tz/9NG+//bZP822XxC580aJFPi18jAnl2nPPPcfzzz9vWNWUKVMoW7asXTPuc1cCrgRcCbgScCXgSsCVwP+MBPbt20f//i74tpuwiw58C4PILbfckiezEzEtEa1yKGYnwnrSr18/H7OKAHwn6aOPPkI05b/++itNNLao2rKu5tuJJC+uPOJr0L55c05onCy1ugJ9b5X1geQRzXe/kSPZt3Ejvfr3txzYjn/+Ienee0k9KtesuZNope30ParUFbffzi2jRnFw40bfj4S8T2jYkPhy5XxZfho0iB1z5wY5ZqpbfdFViCWhMi/WXlzqo0jm6qXHQ3z9+lz1+ed5nkS5ATibkkJmejqRpUvjseEOVw2dbteOrF27ssdkqvkOD6fQL7/gKWph73t7R9i6yfkYfPY6Hn/b8n9RHBmFF9XWqL1GKF0eJs+Dfs38mm8nqXQlGLfQWMO4fxvMGgHrdQ7h5S+Fbk9Bnash/TQseQd+/hCOB1hMIqKg8c3QNhEuMQgtn5kBn/4XNolWUu8VEOi0B04VKsXyhiNp/udwCmccgzvehYpXBo/qk+6w/08nI/U3JYvPyhRH1VTrVmjxIpzYDps/ggOr/DSSxWpDjZ6QuhdWPmJ/q6/tWd1HYMf4YFMTs56HF4J2YoN7YVLo2tc89DPrCKR1hay9Ou20pi5PDYj+DDzWTGTBrb8NTHXQIeF1rwnIbfZpQCLwXgU8B2y2KC8vnd6cQhiV7rYx89gjnmXA7sD1lpA+iL9Z8aC2QpO9aOZnORirOJJo+ywvgvxuFhhMvSR2V0TStArNZpW3KmBsGWDd+TMBrbc/l6v5djDVsgqzVPQQZ/nPea62bdsiV/96dhGxvZauWjlcjhgxwgei9Q6XooUWTbre4VJA9N133+0zcxFqQqdJOMR79erlswW/8krdh8aiEtfm26mEL0y+BfPn071jx+zGBVvJFm51iSnPxESkRv36JI4ahTgMi9OuUfIePcpLPXvy+3ff+TCbURBFKefE3lvV3/rBB7njjTd8v4oZy5HNmzmblkZ8pUoUKlaMRX37su6tt4K6oywmNGR7Qc8VjbUcAAxxZVgYYdHRtFqyhOIhrH/VSNaZMxyePJkjkyaRvskPfMX+u+idd1LyySeJriXXoOYp/aWXOPPUU9kZDG2+JXx99+4UmmXz0evSBn5a7Ig1xtdgtx6wfD54AwwCVgF5JL+65VW9nTAH2twMz98JCz92vtC/OwGFdetq9zp4+mo4dSx3/310kGHw6AewcDxsWRHkbJvdcEw8PJUM1XT72MKX4OscGZt11BubQHKzJNr9kkhc2r9QpAwM2wHhmqvzUXFwxuzaXFdzz9mwZhLsEtBvk2JLQr0esG6KccbYMpCx37kDQ1gUXP8DLLnWruWc511OQ7i5E7/zikLPmXe74xDaSh8KZ16wLxD1KkSaM5EFVyA7j9gcy0HQKuKsAEVhs9GvHWUQaEfIb8Qb+hBwr8F4pE/i6yW2574dKfBvIBATEoDq1uxyocleDhA7bMYqVZuFZpNxGnGaOjUOlLpl77Cz7ZYvg9z8G/nIiK26OHCK2a881+bZGnAE9YvHtfm2f118K+xiA9/jxo3jscceQwLhCE+3pO3bt/uoBsU8RExSzJJovYWj+9133812iBQzFQmcI3bcYqut0pw5c+jevTv3338/SUlJzqQVyNWpUyefCcu///5ranZiVKELvkMS83nP/NnMmdynYSCxw1Wqg7KlXdGsGf95+mlT8H0mPZ2nWrdmvcYkSpkO63URCtA7EUD/L7+k/g03sPL111k1aRIndovGBsIiIqjToweVmzVj+SOPBFVltGXr+6AYTxSbnraCIvXqccU771CiaVMnXQzKk5mWxq5bbuHkt98agsGwuDgqLVhA4ebNTevOOnSI1AYNfPbfooE2BN+RkRRasYLwxo2t+/juVBic6GwcxUvCrxugUCH46mP4KxBEaMnncPDfYByhaHX1gn31U+jQHVYvhodzs8SYdmSBF2J0mkUB3htXmB8cBICHR0DUGXPtrwD0+NLw+naIDIDIsxnwfBU4ZqHtDHTUWziB5KsC4Fso+ST1ngUNb8sZypjicNr4lifXeAesgVJ1Ye4dsFEYG0ySwl92V0TqJVbzYKX4q9UfLhsK88s7Ww+Sq8NGiBPN7PlPoQHAPPRPIraeEvPIQ/41Zio7OehVg8J6TbQ4CsrBX5yuZV8SAHiznGABY3+Y4F6qQ41ZwzL5VpF2lfeKtlb5mzg66x06BXjn4ANjaYnvjLCExDrnt/fZtQfvv9YzoSW01eY0In+1A9P6cZvdTGhVTEJDeI3m7lVA93pgo+4QJDcQ9QGJdfK36LuzG3PBt7N37aID3ydPnvQF2RFbahVkZ9iwYZw4ccLnDKm0igLIJdCN0AiKZlslYTz57rvvfJpseS721XPnzuXnn3/2BdSRtHTpUp8DpjCfSKRKuapXSagIVZAdySeOlbfeeiuVK1fOdriUID4ScfPRRx91JuVALhd8hySu85556aJFdGqTE4jDaOs261T5hASeS0oyBd8/fPABr94tV545yQx8Sw75TFkxjkjwqWLly/P8unV81rkzOyUKqzZYTKCZiJgYihcpwpmDByEz0/I2X9uefO58eqWYGC579FFObtjgY2opc8MNVL7/fkNubycTtv/JJzk0dqx51rAwwosXp+aOHYRZBNTKXLuWVKEfPXiQkwkJLE9KonliIrEpKX5dWkQE0c8/T3j79ngaNcITYfKhEhOjK6v76vGZLJilmMIwdwk0vCJ3jjuawt8r/X+3M0FRmm8BMzeVhmMCUCySzGnF2vDB2mCzk21/wOCcYGCWdTjhjkz8AK4JsHfsXg0v2xxaAg16YxJIbq4D383+A7dPy+nSx11h/Rx7LWfhkjB4D4hJjBwAplUGrxwAdEktVIW77G7dlQJUyunnR/1epAZ0/A0i4+ELASNWGllNfzpsgjh/PIrznc4p+Jb1eWYmnL4zeFhWlg6FU+UKK5BfHGGFXlLYyfRmS1ruKDOp6TmNzPIJoDR6t62iZYlzo9w6Kc52OTSKNtzJnMuuWA+v90aSk49Y3nT6eyzvdwjOxpiBbyPtdyiab0WWq5Wj8mzW0wpJXnFcFXC9FBBTHKMk8ypKEjEHEnDuTy74drYTXHTgW7q9c+dOH7AVlhJJcpUvGnEBwCqZgW+hAxTbbTEpUeHlRWMuZisqWTlDShtSt38Rbeahhx7ygX4JzCNMLBLE55FHHvFpzUNNLvgOVWLnN//Zs2epX6UKe/fs8Zk42V1qantnB74fv/Za1v38cza1oHwurHQ2sh2aMZ7IJyI8IoLBP/7I9tmzWTlunKmgJMhMZGwsRcS+2uu1ZXbVAvDYokWpcNllHJYAU5pw7EWvuIL6r7zCJQb83lYzlnnyJBvLliVT6P1sUtmpUyn+gDk93dl16zglkWjT00ktUyYIfCtzoewmypUjvGdPwnr1wiMsQ/GKNDKQ48/fodt1cNRPK5krNWgEH8+Fsn47+lxp3NPwtoPw75FRkLwHige0bh+OhaQn7UQBj4yH7g8H5/v6dZju8JpfvqVmNk5SqwD8K7rCI7P9bWxZChNa2vdLIlzmAt8eaHwn9BJqtEDa8j2818G+vpZDoN0of76Df8P7DXLjIQW0VYhT+1r9pj/q1l5vS+4D35HQbTvElvOv8+/rgDcHTJg2EVkcOqWAmKucz3T2GBydgXf/HJI3PUy76iOJK1oFostDRFGIrA2x3SDMaoex6LDI4PTDcCaHcjdXbiPNQOE08Igs5D0S1g4BnkYHWu3dntnJyenuKxOrN5Owin6lRiK2zWrfnBFgFHEyidJeBF6vxAO5jXbt2hIXp+ypjcpL5OIHA+YadvWLLMz8U+SLoX+J1fWaXb3yXA++leePbwMwqUD2OzsKVikre0XgFtAF304mw5fnogTfjnv/P5bRBd8X/4RNmzyZwf/1h8F2uv3L9lMxIYFhSUn8s3QpTVu0oE3nzj5ueJW6x8eTqgGdypXGSmmn9BJ6az/5nDXr3Zu7J07kjbJlOXPS3p722qFD2fDKK5w9LVoK6+SL/yKXq9HRRKWl5d6aPR5f5MhmX31FGY2NvF29J77+ml03y7WzTQoLI7ZdOypbBN85/cADnJnm166K2cmKpCSuSUwkPqD5NpKr/C0iKgqPUCM+8wxo6T737II3J8D7b8GxgIlE85bQ90G4ubs1ndqe7XBj9cABxUJ7dvM98IKG9/yUF/7bAjZb0OXVaQITF0O0Dkh9/iJ88LSdJP3PbcF3GNRtA0/5lR0c2gYjnIWzN9R8tx8GN4qdayAJmPuqL/wuTnYmqczlcP9SiA4AmR0L4PPrzfOrEPROJGBHC1nnIbhyLGx7E7ZOBm9wnAjTJmo9BfWDWbmcdMc0T8ZRODQdDk6DtO0QVgiK3gil/gtxgaA+aetge3vI2IM3vSzJO6fQrlIicVEBkx+Ri4/euRiUeAGKDgi9S2njIE1o/iySvEzZCtMwP+Vg4d8DBV4HzGh4VQfVv0Zt2E2Ytozk1YJfdWfnZNhfys4NiE270OQ5Sf5+e71FAuA7mri4G2wKyroPDhpoXEC+OGYHJiPwLbU4NT2RA4n2kCLtWN2tqh4aGR7qey9BeyTwjz+oj6v5drKOXPDtTEoFlMsF3wUkyHNYjWi8hz3xBBNeecXHOKK/kNM3LVuY5LskIYGnkpJ4MTGRQykpFClalLEzZtCui/DVQo/ixTmpYTeRbdApG61syWqLVdCu99SplCtdmtldu9pLIyyM8vXrk7pmjWVeo4CMyrRWAfLsCkSjHh9Phz17iLAKYqNp8ej777O3d2/7/oqOp0kTqv36q2HerIwMThQpAqdP+y6KBXz/mpREi4DZidWBJtu6URhQfvgB9DbhEo30hIQSL+S37XaaPnwDXnzY2KlR6qhQDT5YDiXlyluTjh+GF+6Fnw3sTVt0hWemQ5yBNmzF5zA2xwHMspsyeZbKWY/f5CTx/ZxqJrSGrUtsHVFz23x7YMhmKKkD7yLXxSNh+auQprn58IRD/duh0ySI0YRu37cCZprb/fteCKcKZyssV6Q6tF8Iq+6Ew8EUtZYyja0BbX6BKIfh7e3W0elNsLEdnJGAM3ozDaDscCgzGDbXhQy/Lb43PYHknUnB4Fva0drLlRgLcZ3g5BRIE0acdIisD7H9IKpN7kNl1hnwVoKs/bnNMBTg1m6K2WYolSH8PxD2H/CI07qwwOgPovqJ0Nt0qzsrJ6BQCVQ6oL3JsgL1+klQzpfCcvab3QwFnuvB91Li4oSswWrXEbMNOYyKs6IVc4kcIsy+OFZOl9I1O9srrcOltGEReCxIEkasMXpRSb/FskDW1xkXfDtcSa7m26GgCiKbC74LQornpw6x/37mkUfYYAFYZftS33+JcKkF36qXHbt35+WPPmL0rbeycu7cbLMTAe1OLfZUQBxVZ1Thwry2dy9b5sxhrsNIq5eUKkWmRXRYgZlWhwGzgI4N336byg648aXv3gUL2Hm9hTYz+3vqIa5TJyppHKS1s57+4Yec0gT2SQ2A76aJiRRLSbE91PgOEuLnIVz7W7dClFMUp+nF7u3w8VRYLQ6PmXBpQyhfAT6bCrtznI+Q24/23eGpCbmBt6pOAofNHAuzJ8GhgI1zsZLQ9b/Q9UHjADtn0qFvBTguV/s2tqpKyWX16jzxHTTQmIZsWAiT1e/m9QexnYjDpd7eW9+mBOrZ8DWc2AvR8VCzI8QbmPMI1eG0inDKAAQqrOHUqqL6LbB/IWR4Nb3xQIXOcPU0+Gsg7A6BeSa8MIitd4yJGVKoW1TmafinLqSLuaPFXJa6C058mF27KfjWKn8jPBChrzMA7qNvghIzIUwDxDIWwqn2uUcgRdQGoUC4/ozgw38REB4D4RIcRp/0dtxSQP1NgWY7pwl9nVJO60jo1FZc6hE7bwHgQuIgToNOkl8lk6P5/pS4ONGci0ms9F1uTRYBchMhfRMHRgGmwuwiZjxG9KK+e0YbLbaRw6Xqr92XRK9RN9OiG41fqV+sZCNfD1EEyPu1ls2bf3cjXDpYSi74diCkgsrigu+CkuT5qefE8eO0a9yY7Vs0YCrQtN6Czgx8y9bVtVcvut95J89qTDScRieX5gRjaPUaXZ57ji7PPsu2779nZgcHtrQeD2UrVCBNmFA0tttKiraK0UDGXNp6j4cKd9zBFRLBMpAyT5/m0KxZHFuwgMzUVApVr06p++4jpk4dhGJwY4UKnJVDgEE/tLNa/pNPKNqjR66JTv/8c06Jv4WmvBZ8x6Sk+MyFrA4SQVr8mTPh9tudLyhpd9ILMG54gAEiMDOqP3f1h063wt4dflORJq2hlEVALQHRz3b3a76DHGYDyKZUBXj9R6igc+o7+i9MToTlX+T03YhhpeaVsNdGq1eqCtz6PFRuBBUk0l0g/ToDPr5fOCyN5RMWsPlWVIOXtvHzfIvDZEGkX8fAT8+Y1yQTbakkDYNCJaDXbshMh51fwsldEBnnB95FqsGpXfBtFRPbZItBXPs9lL6uIEYJh96D7ffY1OWB6CjwiA2xH0ybgm95qJxsFS4zU4zG3AYlNHScZz6EVAMmkuwIrXYyD6zbiDAI0zdqZsgnO1xe6RplV9KaXvhtsp0lAd3iUCpsJMLoYZdyTjXB4FsoOeX9nASo20WtFl/qFe1w20BkhV8C4Fz+rrx/1BWCUR/MtN6SVx2sjKgI5bmiBdRGBg8VfPvsmCyEI7c/8i6ISWM4mzdvpWbNBmzatCkoWriddP+vPXfB93mccRd8n0dhF1BTu3bs4M5Ondjwzz9BNcqWpgVxZuBbba8fL1/OwsmT+eF9/9W+0nWo/5t1V3+73v7RR7n91Vd9DD2ZGRlMrFiRk/v324LZhrfeys7ZAYc6XWNK72V3cZnLSTQsjLJdu9L0s898NR5buJDNPXuSceiQH0jKj5gbACV79aLatGk+bu/9jz1mPjseD5HVqlFj7Vo8Go20mAOlzZnD6R49fCBe21c9+JZnKk6LUUPZnxLpnwB8AeBO0/RxMMrGHvb+QfDMq85qnDwYZr1mKQ8q1IR31+LTokta/T2M7gantZpcTRUyQBFCu/ug72R477+wWOxONapKIxMCqaJ6c+j5GlSXQCbiM7cFfkqCNV9AmheKVYS6N/jDy+9ZhTe8GMlVHqZdnZLE1bom76HGj22Hv9+DYzsgKg6qd4ZKrWDe7bBFbHMN1KwC7orEgoSQz6Ux9kBYJNz4DVRoFyzfU7th01TYOw9ObISzJ/3VaxnX7Gav2n+hoYVDol157fON18EJfYh1gwp02NUSfOuvsqxAeOk1EBk4dJ2ZC6k3BTcustHiWaf2cpFiC659U43MuJTZiN3uYyRQ9aarwQkQFTO/gO+C5RxImXlAqYB9urVJnr+qHEPEYPA9GpA9UAWSUtp3rRZf/b8CIPtHKiDfAlHsCLDNZdgX6L0V8JYsanJUtC/l4CrjE3McmThpO+fQ5m/PqdmJ5FUbitSppU6StgTUC+2gaPT9B4HNmw9Ss2ZPF3zb7AEu+A5lk8xnXhd851OAF6i4sKAs/OYbZr33HpvWrcN77BjHd+8O0gVYgW/Zsrrecw8j336b94cO5asJE0g7dcq3pVlFkoy/5BLKlC3rYzap1qwZbfr3p+JlEpwiJ60cP56FVpSXHg8la9emyb338qsmMI2qQevzbide2eb14YNqPvUUdceM4cTy5axr1Yqss2ezAbe+vhLdu1P9k0/Y/+CDHJkyJVjTG9D6RlaqROXkZKJq5Gh6BXifHDiQ0+PHG+q09OBbfSbN9F/ZnzkxPWnfHoRz3ElKPQVXlQWv37HINIWFw7KdUMbGLOHkcehWFtKMruh1tY/+Cq6+CXb8DQObQEa6OTViZCF4bh5cJpo2+SZmwV/fwfeTYN2PcDYNwjKNHUSF91u4wQd9B3XsecjzTXeXcRq+6w9/C+OEzjyiRC24eSbsWQJ/vAHHAjdQ0seqnaHJUxBXBpY/BtuFylDDrFG2JTR9ERJ0duPrX4fVj0OWgTZf3bDb4kAPVOoFV77nZNXY5xGTk9Pr7PPpnFBCAt9Sey4aoECTsY9AsQDzR9YpOCE3NZo1ri2nFLS2MhLMFq5TmBrxdusdAe3F4M+hBYXyu3RI7KpFky3sIlb2+1JWGIcEOMqakR1a1oMZe4gCuDmnjhzwvZy4OOH/DrD0+HYou9OJmKKoeCViDy50fjL/4jiv3gElaGUnbyRwkZ3ZLZPiQFflZHwSiVIlpw6X6iChTFeMDhTBL87mzXuoWfMeF3zbLGUXfDt91wsgnwu+C0CI57GKM2fOsHXLFiRQU+UqVXwc878uXcodbdoQJiBTYw5iB77rNWrEZ7/72QBOHjvGz59/zqE9e/AeOMDO339no9D5qW9h8eJc168fXYcOpZAF17UfV2WRPGiQn25Qa7YQ+H/RSpWo16MHG997jzP//pvrs5Bf8B2fkEBUfDzRXi9n9+2z1cDXXbaM2GbNOD5zJkenTyd12TKfJjuyShWK9+tH8b59CS/hd2LL2LaN1BkzSF+wgIzly3N9bpW8jMC3mT+efCay2ZfV+AAAIABJREFUL2hFRvfeC++842xVfZQEw/o7yztoFPx3CKSnwQ+fw/rfQcB+vabQ8maIjITkj2GkjkfZqHbpZ9ueMOwjeP0e+MEB6Lt9KPQambs2AeLPNYLdayyC8wQC77y8E4Tz+zcJS7/f7xDZqDvUausfi5g+eL0kJyc74Ds2GJjYyn9xK2wSzbbhwCG6KNyzEopVgyObIOMUxJWHwjrHVe9u+PcXP6gu0QCKCwODLm15G36RSIUWSUtLaJWv1pNQ3wG9pJPVsr45nBRTBBvbfZ0voaXNt95WTfVDxhdkQSCmOZ2hpBxeAge1tKcgXcPFrwXfqqwT8C03NeHaGwsj4Yr6IQTHZuRgIPz2wk4iYFKEIn4kfQJ/l0EI84YwVgmg1bav3n4z4ajn8q+Acv1JI8e2Ogd8FyEubpuGLcUJO4j0UZw8KwUC/gj4tkt6kx0Vh9iqnN7WWwvAtTu/2WSq+ZL5kbqs7PFzALgLvu3m0v/cBd/O5FQguVzwXSBiPOeVHD9+nHEvv8w7U6dyMOCkWCgmhp69epGyYQO/L11KWFZWUMAaO7OTeo0b8+mqHC5U/SAO7NjBv9u2EVWoEJUbNvT9G0rasWgRqyZOZPv335ORnk6xatWIi49nvzCGBEw/pD7FaKK2UdkyzT5F+vZlu9a6NsnWrOyrzWKn6euIFc39gQNkCFCXT2dCAiX79aP0wIGECwOJbPFpaRzv35/Ud9/NBRDV51GLH0IB37msF3/8EZzylbetCTv0UfwMZknA8i13Q9sO8MrDcOxwcKaSCTBkKhzaARN0/N1Gky6a3ivawagv4I4Sfq23ZfJA8TLwnl/GQWnTTzDGYfj0avUgJWBupT3Yla0HD3wJpWrkD3xv/Q4+taNpAy7tCTeH4BBpJJvMM/BFBUiToC82INcJzdF1/0B83dwtef+Gfe9C2k4Ij4OSneGSmyXkrPmMpYyFPQ743sOFw1tMbAQYathOKicSFyN844EmlAmNGaZSVgR+CACFboO4rnB6MmSIxvhswNIgIKc8g+8hEC7mHPM1MpedQnvrYEWvZ/gyAELNKXuF3Bjpbb5VGbE/FrMSiZKq3lnRdqt3x0g4dhE1pW7/6SWH57sdcXETAkFmlDbeyc4t3NjiTCw/TpKeKcbKAVNbn5ieaHdLmVNZP/JjpVWXcSouL63Bv1Vf/TQ7Lvh2Mp8u+HYmpQLK5YLvAhLkOazmyJEj3Ni6NX+vWeOL4iiaZW2SLVsI0WQ70rq4WDlcSt4rW7RgxhKnXLL5G2BWZiZf33orW7401iiqT4TS4ygAbafMUtaH6tuurP9CYX3z6UcMNPTRl15KjR9/JKJ0aY52707a559bCkGLj5yaneQC3s2awfLlzuyUN/wFHYNNfiw72LwVrDOOOuq3g/VA9/vhW00kSLMKJX+b2+GB0dDXGf+2r6ovz/hNSLRpzvMwJycisOkY5Oxn6mPlgaJl4Ynf8IYL33EeNd+fd4VNdpEvpR8RMGAPxOq03aG8Jru+hKUOaDkVvjLzX5PnZbtCc936FLvxtffAAeVXIcILmMFEV4AGn0N8E+MeZxyEv6pAptgBW0RZTRgChavDXjFzEIfLMn6qwRqJxBVKyVFM2mmn9eA8qhaESVChgJbYCGupv5lZZuQaWRhEbgOPaHcFYAqLjwBGGZ8wY+zQaJZ1Qa9s51VsuusEconMxERGHBrN7JilTTHpkLD2ZvJ1euUhMroKr/d6kpP3Bm58JvtYPnJMYWwHEOivnXmK/ssjLDRyeJAx5yYBMG7Vyc2C9j5QLQ7Z7ZVJi1MHVj+Yd8G3k/l3wbczKRVQLhd8F5Agz2E1vW+/nc9nabz/DdqSLUYMI7T+WWbgWymZKlapwvytW/Mclj2UIW+bP58vHQS/UZprGY+V7bm0LVuy5JGjiHI2VePX62Ss+qouJ43yxLVtS8VnnuHIdfYsEto2g8C3OJ/GxFC4Th1Ytw5SU7NNXX2HCzGXkJuA+vVh/nyoIA5QDtKLT8A04fN1mIqL1ui0hWlHwCG1cKY9Ra80OXAKtOwKvcW5yUES0P1Feu6DxexnYJ5NYBinp6m2g/B2eD7v4HtyJTghvNYO0h0/QiV7G3TTmta+DH84DPNttqB9ysB4iBINdHEo0w0q9IXoMvDHjXDke5PmxY6+MFz5C8QaaMul1LH5sOUWEJ7tIM18ABDH3wDV5/ijaXq/hwMv4D2+geTtGvCtXlRlLWElVr35ieIGl7JGWEuv/bY8qcva7gKRGiaeoL6Ic54cumSfFQo+uY2wj3qbU4WYxIj2XG4SF2tMRESbLEwtTQ1GLociAclmyYnWW8qK4Gbj9aZp1r0oVT4JPHMKVPNi6y5jEwVAclBESeu3R/qj99TRl5A8WrYZmVx1kDFzFDBqVcpFu+DbwXbme1Wz9Ko9hwXdbKFLwAXfocvsfJbYvWsXdatUIVNjpmHWvuhqZLsSQCqfASPwrYC32r6+3bmThIoSUe3cpjldurBVOLJt6PykF8rkRAFwo2+qf0v163VEbyRbudITqfxOo4FKOavPU4X27clYuNBR31WbCnw3SUykcEoKMe+8Q3SfPv46xJly8mRYtAiET7t0KT8F2u6dftB7aV3o1x/uvQ/0wYIkGuh3X8KWDfD9l7DhD2dAWVhaYgT4OphnWUBWWlZVhe/65Ho4LnbYG8ydLX35PdDsZhhqcPOxdDpMv8+6Y4oqxq7/MUXxDtlK8uKlebP5nlIFjosG1EG6Y5Gf/SSvacMEWCWUcg6SHnxrX4BsG+IAKJYolFUHwS5hvLBKHijVDRr4mYEM06nfYd8YOCqgNWCaEVUFSj8IpSWAU/BC8W7qQPLa/9KuZiJx0YEIl9J3u3kLLJFcL6K6yjID7+q6yZKKWwqXg0i5UXK614l5lMytA8dj3y6kJXhXDo6q09I5OWTdpROxRN2cazFBoZj5zcDrLaQB31KtrC2ZMzPWEn3ToqnXar6l/9rJU+Yh2pvXnkDjwIFDfAScJKlX7dhG+Y12fq09udKEO23LBd9OJOV7BW+66aasyMhIOnbsyL333hsUEltVMmPGDOTnB4kI56Y8S8AF33kW3XkpOHXSJAY/KJ7y9kmAnwBw+ZHtURwPH09KYmxiIodTUrJv7NUtrWxhczZsoHKtWvaV5zPHm+XLc3JvIFiLTV1aTmz9Z01hDj1YVsoxrdWh09AWKp9Zt8oUK4ZHEwnUqvuqLgHfK5OSaPrQQ5QYOpToBx7IXezkSbilMyxelKP99u2AHj9Ib9QYvlkAJUv6y747CcYOg2NH/L8rYTiJAVKnNqQ4DFHuhPBd2cv4rg1k1FrWAhMJjfweGhrcIAg94UBhWDGhKZTqnDoBiOnDE/+QvHpT3sD3nNthvdjk2thgS59ajobmT+f9zTj6F3zj0GxI59iYzVtpCGoDf5RANqZmOqrb4XD1LjizFdJ2QFgsxLeCCE1kT8macQjSd0FYDETXlIhQucedvgnv5pYkb0oKBt+hWDLoD31qAzAC39qomVaz4OkKERPA4/BGKbsuCb/uhG9fG+9XFZaO60GvmHNpNeDyuxWlaCjg+yO83vAA+G5IXJxovsVpUthTnNjlSB7ZPdW8KjWNEZOI/E3ZyIsTqQTzkWBM1rezOVOkjAyNTHLU3aW+fSVjteDVorI71flfHNfsxNk25fF4PL6dT+xbGzVqxBdffEFFnXbu+eefZ8SIEQjlmpvyLgEXfOddduej5CtjxvDcMxZBPTSdEMwkLj+iU5DtTTTfjyQl8VoAfKvvl9quoqKjWXTwIIXj7K4A8z/SvIBv0TifWrWKM0eO+MCoMklRuNOoV/K50zpa2l3c2mm9pY0y8fF4jttQ+QU6oz4dAr5/S0qiTZ06xNcWGi+D1Kc3fKgJn26Up30HmPcdTHwRxuiAntPThdTbvQcsdPhxtAPfRqAn22QgoH1VY1EHie5PwT0WpiXzX4ZPLUwwQgHfT60nedX6vIHvnYvg4zbOF3z3uVC9k/P8+pzft4QDwipkA/a11zhOTXBkKuxuMGTehKnljNDLBZKnEJS6ByqNhYgQbJ9PLcS7/e6CBd/SJcFoSgGr3cTsxuYbjidg560AYiCcPTUBcfK1A28SrMvK8VRNhlE92hdFnosmfbxmBYiNtMGhPDuHYimx66PYsE/G6z0ZAN8SXl7nUJ0du9jopK419lOLxu7UJveNMnZhL1LvvBwmjjp4F5Rnj95BU78b6+2OtFp4JwcK6Yr/xXHBt4NpEUl99NFHWVFRUbz11lt89913PuC9aNEiqlatml2DC76dCdMulwu+7SR0YZ9/8O67JIq5goMkehKB0cqdpUQAfI8PgG99FTffey8jpk/P/vOxAwd8XN9FS5UiWm/u4KB9qyxfde3qCz1vZ3biCQ/n2mefpeYdd1C0Rg2O/PEHP95wA6f37w8KUmN2Cy19EBlo/bPUJXBQ/yIiCM/IyP4kWfU9QdhQ1jgJeJGDEVKrVGH1uHHmAFAie9aobMo/HtSfefPhvk658zq1q5HKHnwCPtBQtVkN2MrsxIp1w6fsiwAJw65S+drQ/Ulod6+1E6lo+r8YDnMVN7ECHAFQWroMnPzXZv34nS69T60j+Ycf8wa+pR/TavspBG2ThINvAXeJjW8e0/GNsKA5pMtthgkA1x92nJrgSJdyefRq+pkN4nUHJpWlcEOou9g5AD+9HO/WbrnBd37MTqQvMl4tDhUxaZ1b7EQf/hSEy62PluFECgkAlzDsN9vUIBpwsc3WzrPS3ioNrVEV6mpKPZPff9Y5YUoU0d0m7Tv1XBkAdMLrPUhy8k+0a5dMXJzRLZLejESEKsLUUhHq+2wlGmFqGaTJ4ET7nUONmKMmkb/JDZDMkZKrNp80YWRqovKYXf3lXBe54NvuJfE/D7L5njBhAoMGDfIB8CVLlmRrwF3w7UyYdrlc8G0noQv7/NixY9QoV47UU/a2hwp4y/Yl/xfN96NJSejBtycsjOiYGD5auZKqdeqw6P33mTthAlsCtIOR0dG0uOMOuj7+OBXrmjhjmYhF3DX2rlrF8T17iCpShEpXX01koULsWLCAz68X7lvrVPfee7lecyCQ3OlHj7L8tts4IHbXuqT30ZLHRm5D6rMjz2WrrjNrFnsCoeKNgLzkUVCoxsyZeHuKbaN10raR0b07v/bqZQ4AX38VnrSIqqltqm1z+MsgQEcot9L6+BZmQ5FBmDGGOSVf6NQPmneBYqWhemNnzC2qP/s3waKpsFX4sbOg4uXQJhFS/oZ3HfCPdxqBt8XAvDtc/vsnTG9oN9XBz/vvgHjRPuYxndjst/3eqwOHypZKb7YRwi2Ar0dGAFzqtvNolrIJj0KFZ+H0X37viuhLIdKE4SUrDe+GxiRvGJ1jduIUeEtbRi+z/F1FetdiLLO8RlMgzDTC751LgazV2N7tYPLECVNM57prWFHsiulPyOIAq5Wf1Cc87+LwaZTsbGuuBIb7hOf1LiA5OZV27RYSFydMKmZJbLvvBYSbX02QEqidll1bp9wm9NP8QbThEmFVKBWNkh5QK9nIhiO3R7LHWVGWGpmaaK9EpE21awd7AG3enELNmr3cIDs2yzWXw+XHH39M7969qVKlig+Aly1bFhd82730zp674NuZnC5krmFPPsnrY621lj7SA80nQb63VRMSGJSUxIT+/Tm0b182TWGRYsUYN2cOja69ljf69OHH995DALnQAWp1b8LrPWzePC5rG4hKaCOEPz78kEWjRnFw/frsnDHFi9Owd29K16rF2qlTOWymQfZ4KFy6NHeuXEkRjYmZ9Om3++9nh/BrmyTlPKoeiyzk82KYPB6KXnstDZcsYWvnznjnzTO9eBZZxN50E9XmzOF4v36kTrOm4NPijNTy5Vk9aZI5+H76SXjVoSa6dgIc2Z9b62tnU6MVgHJcUxGf9d9YZR5ip/W2unKQ9qSekuXgvZ3ZQW8K5N3JPAtv3gJ/WziolW8Ig5biPUPewfeCAbB6SmhdvvsXKGfEZhFaNXi3woGfIcMLez6BQ4uMrSJCBd/SDaUpVvOulIJ2WEscKqNlZStwGA7FboWEEVAotzmVd89okn+r5wffwvPtWxMO5KAUm/q8SpOgX3f6l96qCYnuGmHmUq3MLMQERMK62yVhQBHA6zRpwbdMwgeBdrRtCe2haOAD/PXZVYvdvTgiS4AecVTWAmpZBDcCvbNti7zel0hOruMAfEsDlwPC6qMEqQ4iTiZLdVACC92mE8QiQAK3adUXRpuGyEXsiQSwi7GkyMaC0jJ7ISlzGLN+agG+5BUZitnJbmrWvM0F3zbL1pDt5P3336dPnz7UrFmTxYsXM2XKFNfm2+n7b5HPBd8FIMRzXIVEs+zbuzeffvyxIc+3mU9SqYQERiYlMWvMGLb89ZcPvCVUrszdgwZxU+/efDt5Mu8M8l8bqq1Sf/EdGRXF5PXrSdCYfBkNd/GYMXz/zDOG/VPfX2VKbHRRW+bKK+k4cybFqlcPqn7rtGn8buSsqOuEtk4Fvo0uI6MrV6bRsmVEV6jAllatOGXDc16sd28qzpjhC1HvHTaMky+9ZGgqolfwic336qQkc/A99kUY6tBZr14FOLAnN/jWO+GZrUOlQVU4w2gCihSDSxvAOk1kO7UYlCCVuYOT9T7zXyjmBMw4qSyQ50wafD4Ifp4GZzUOnuL817Ab3PEmFC6evyA7718Ne1fY22Bru913A0jY+YJMx9dC8mUBBhndWykvkl6JaNe2mWmyMp21wly5TI08EFYEaiwGMU3RJO+JwyT/sJR2tQI8306wnBnwlnrN4t2oNW03bnkukVuNHESDyoq5k5ObKAGIVwUAsZPGVSQCeXm0B4D6AWdOoSJUSUD2ygBntkRDraF5JocfAbWSR1QLwjCiGFbEH0XYTjaQnNzeIfgWW361kNQO7WQ82jztAPnRJumL+LFoDmvZ45Z1LCZp8q8C3PJ/GYdTOkS96Yy2be1LoRaI/8rPr/m+xQXfNlNsSjU4bdo0+vXrR/369WnVqhWTJ092HS5DfV90+V3wnU8BnqfiYs4xf+5cpk2ezE9Ll5KelsbZjAyfP5V+y/FtTx4PFcuV45lJk3xmJ0f27/cF51FBeirWqEFRr5eT+/eTmZVlqXOIv+QSBs+YQZlq1ShXu3YuXvA9q1Yx5Up7bZBW2SZ9LlW7NnVuvZVqN99MQtOmueqV/i6oX58Two1tQ1Go/RaX796dQpmZHF2wgLNev+1jeHw8CffdR6WnnyaqdGlOrV7NlsbyAbNJYWHU2bOHyAQ/l/Xhq67izC85lFpmimAFvttWr06MAPzTp/FUq0ZYx454hPZv82aoKzanDtI93eEbEzo4J9pv7RW9+nbJ3ypXh2uuh/rN4Lrb/BrK4d1hxTfBiivVRXmuwpHadftcgG/V5okD8MdsOBEIL395VyiRY/aRr/DyH1wLe8Qu1wHbifSnZF24/+/QTGvsZKee7/wQfhObYH/0yOwkgFkR3DsBt7JJKPNeo/xW4FcaNbR8CIOoynDpJvDk2MVky77OAOKiHbAb+V5cpXXVCUYdGFRcFb3c1MZnJQO5iYk0q0BVKAIVEPm1w5l5CXjHQV7poBgACrg0s0sWfx4xAclrkv1NDg778IeXDwV8a3ml8tL+QJPbAtHkKz51ka1au9qJ0hrxiwbcyULW9lEtWvmb3vREFmzxwN/lkC5UgwK+O7rg22aaLXm+x48fz8CBAwmTa/KsLBd85+Wd0ZRxwXc+BXgBin/39df06dYN0YibpdjwcKolJPBwAHwL1WBQ8niIyMoS9ltbmKEUprJdlqxYka5DhtD2gQeywfLsPn1YbWEWom1XbwHZY84cat1s7PDk3bKFb2totT/Wwo70eBCHzfY7dhBTrhxnT50idYs/6lpMjRqEx+Rw8e68806OfewsPHjC2LGUevxxXz0n7r+f0+/Yf3gV+L42MZFYrexLlyZixAgi+vWDW2+BryWwh0VqdhVMnQrt5ZrYIClAbHZrbGQbq75VchW/KjX4Sv7IAbi/MRwwcwILADkzpgkBO6Uqwozt5waQOnjf8gW+f3gMVr7qoJVAllodIPOUX0NdqjFU7wqZYrfqgUsaQuEyzusyynloOWwcCylfgUdzLe9zbg0UsMIt6lrMrhdWZhxWTrZV50LRHLaXHPCt4fm2ajuiChSqCWmaYEDqJK3WrhV2NmLE07YnwNsXvdUqyXPRQH+nybQ1wMEtrCEC5G4CVCRX2UtlzxItr9UhTUClIn616oOYnzWzmyGT58LGssD3zB9evoMDzbf0RYVkM1Mf2HVHTI7kYGiURDsv0Vat6EelXXUbYHc4Mtv4VFQLpTWX90NeCu0VnbQj4HunC77tptRJkJ0xY8YwZMgQ38ffpRp0IFGLLC74zp/8znfpQwcP0rhyZU6npuYKM6/tS91y5QjPyuLhKVNyOVxq88kWrKXm04/HLMx7nWuvZfjixb5D8JgyZTj5r0SFs0/qO64s9yq2bMndi43ZIo7+8QcLG4ldobMk2+5lU6ZQNTHRtsDGWrVI2+SE0QLiu3Sh8pf+4DBnVqzgaPPm1vV7PKSVL8+qiRPJBb4DttURo0f7AXiHtrDmzxxub6lZ2V9XqwYLF/sjXj7RDz5807xdvTOklTmB0n5Lbb8cgzgNndxLfWHuW7by8ynz1CTqc9/3IvSwomezrz4/OfIFvo9shjcd3EiIDLNpihWw0gAxn4zDoXp3aDYaiirgFuLITqyHFR3h1DbjgnqSer2C1ewFNqrNyBzJj13MkwDvqBhIFw14NN6wjiSvbki7Og7Bd+SlUH4tpM4ArzDiGChB7Vh9jNa6+luYVee1wxKnR3EWFOAopnhaIK7yCUe9BMYRMC722X2BQxqqPe0JWCZGtN5OAtyIv0AIkWqzuy2mHQ9nOzh6vbEkJ19Pu3bfExdn5aAv4FR2fSdXB0ZTXxboHAhAJHWU13nZSOyVzQ4WujJEDBV8i5zFllvm1kirrr2q8b8gmzfvcsG3gxlxFOFSAuxs376dZ5991kGVbhYzCbjg+39rbUx8+WVGPGEdklq+O6JvUzzfZlSDMnLZmsyCg2sdOI2kdGWXLjz25ZeMjI8n7YSzUMyCV1Rkyuw6PR5KX3EFVw0dSrWbbvI5f0oSesG5ZcvampyoeuQz0OyLLyh3yy2WkyqmKOsrVybzsJ4L17hYkU6dqDLX7+gnt23Hu3YlXWgTjVIAOGclJLA8KSk3+FZlPB6iNm4krEwZmDgB3pwCewJcy6VKwX/6wcOP5gTYkVuO5wfB9InG8pDvl5YxzEoCCnxHx8Bv3hzHyBNH4JZykG7GVqCpVDlw6tupehm89hPE5JE7Xhwrt62EU0egSCmo1Dhkx818gW8Zz9Lh8LPwF1skq8OHKuZbxh4oVAK6/gTFTfjezZo5nQKLGkGaXONbaFj12l8tgA3lRt8IfFtpvbMxTg7o9KaXIXlbILx8rO62Ldc4PVC4B5SeCd5ESJtqLAmnfPZ6haevtgD4tdV+C9NGHeBWwIpWtF7ApEIEKw6Qsi/Ij1BFCigXJ0jRkotzthzY7bTuasjzbEKuHwyEcP8zwAgiO7zYhUtAKH/KDb61JzH1f9klBXiriQ1V8y2UgALspT/ZmxkgPg/imC/yFqdSO+dJKauuZexOV/plISojO8CuFqd/nK7m23o7y55JN7y8M0EVRC4XfBeEFM9fHV1atWLF0qWWWm/ZdsTVzY7nOwANMIr7Zoat9CMds2oVc/v0YX/AodNOEvJ5+n/snQd4FcX6/z8njQChdxClFxFBUYoigkEQFQF7r6ioKDYuei3XXrEXsPeOclWkKAEVBARRRATpVYrSCQlJSPJ/vufsJHv27J7dIHjx9z/v8/ioObOzM7Ozs9955/t+X+dyb3fE1u3cmX7jx1OuigJyYOqJJ7Je6dgDcL5VT83u3ek2ebJnM/KWLWNxz57kL18eXvrtfhMvVbS6991HrdtuK6mzOCeH7eefT/5oi9doPuxqY1oa6QUF5Nepw9R44Ft+p5tvJvVRy+NVVATr1kX6KX65lzrD76vgqfvhi49iM12WNWbptIFwj03BZdoXMEwerTimyeXkAJto3Y4nw82vQ2UrI6ffZLD/rv5Pehq+ehw2S4XBstrNofdQOGZgAPqAASHZe652oir0DGY+BtPugXyXTaVAntdksfepZKJbFJQzZgfuQ7iaX/8FSwJ4RA1lxI61zKnEXwHf8VTuPH7Lzq8bAd+NB5FRYb1/HF2dSVC+R8TrnSfpO49Nhp0i7DWvzK4+Cu8mgRRb9Ew9AfipwLuATnzuCjBr73BI7LldotO3BQHqMkXkyT0BUFucVCWtZzr1sgNa08lSz34p+J5geb7tK63G1QBuLRRmpxJv0RBQNzsyc794O3xtuNWHWElY74HQRsBkYgiyUdGuN/JtiG+qy3jWE+Dbb7TM74E830ErS5SLPwIJ8P3PmiE9O3Rg7o+Kevc2LWVSkg0CvlWLDhGdS7A5UfdbDo86+2yaNmjA9MciPFmnaopZ/vVvfa+d+fLcvuFJqakcftttHHHnnWycMoVvevTwTUZj/8ycvGkTadXlHYm2ol27mH/IIeRbPHC3EVQ9TiGJVqtXkyrqh8MKZs5k10svUSj6SloaaZmZ4cDMwosvZmfdur7gO9SxI+VswZtlnok/z4JZ30Hhbpj3PXzlEZTprDjMF06FUT9Cc6kuWPb1x3CHNIw9zMgQesWODR4JJ9p1fwP2SMDo9UthmuQkjRfVutZQcHrdBGcMD1ThX/Z8m7vk74SFo2DmQ7Dlt0jT7Fxrv9Y4d5mnToO6PpSl/K2wXDrnz0Peqsgd/F5ClXF6rc29g24U7HUYXXAvWpH+7uF4jALfaetL8Z7bWKW0gAYa1xDk3A25PsDXzwOuF9eVZaIGpzioXWZgNf+l8KOBEu9biWJ1wPeeAAAgAElEQVTi8bg1sFoLFJQb78EIfM83k9hvppRkYoxQVZQJ1qjnzAbiSZKWeo2jwbdT59t4mZ1A121Xo35pPDSg9rEw/Y0ntaPA52DZgCPjZ740QXZXGkZ92YJ66+3gO0E7CTAJo5PsBLkgUWbPRyABvvd87P4XV17Yvz8TPvssrudb7RKVpKZPhkvz+ZHvQR5pY0FjtFQ+WbrZxcUlvgivw0bVqXvY4/S8lv0Sn06NGnS8/37KhUL8JH60hzmX4t7Ll1OxUaOY0pvefJOVF3kFCZUWV31mM1KlXz8OtPjeQZ534YcfUnDWWcHA92GHUc5nIxXknqxZASe3gV3+iZjC9aWlwGMfwPHystls8Ry41INjb+KY4j0Fgahn50DjtoGaXVJoxtvwSoAkJ9eNhbY61o9vew186zabFsCbtkRT8QIT3ZplB7AdbodOcegsOWtgSnfYGQkSDmOfoOZGGbEwZ1zOtqlfk96o4nltrkzZOCA4Bnyb3bWTmquFoup9UN06USpcCVuVwTqAyoyTpWDwpNpnP0aLGTtb9HF4kZFM4rcW0JRqiGgnbuYUSVfjFdNwmWNFs1+rEwvRToIcRzl3M3JR6BRAAFj30SbMa1xKH0Z88K26zDGI8wEbj7j5uykXb3MRD4Ar86W3GEDpKKkOe6Ywr6MW81DVziBeb/tEjUj9JGgnwRaSGM/3r7/+GpYWbN++PRNdstwFqzZRym0EEuD7nzUvxn36KRf5cJoViFw/LY1q1aoxxCXDpb3H5vRcYN3ghLKAby2LAtXmu22+f26jKnVaE9zplKg2ANqNpVi3a1cKpk6NqdJ8GpyfiD5r1lC+gYKAom1Rjx5kf60kEP6m9lVo3ZrGU6eS7OJF96qh6NdfyT/kkEDgO+n880l7S5q4f9EeGQqvBvMKc3w/uP5BaCq+qMPkgR54BCz+KZbmo+9xEKpFnyvh2pFl69D9HWHlbEvT2uvSUAR4XydubHzbq+B76r9hljyRlv0V8N3uRjjaQ0lFYz/pCNj2UynQ+ivgW1SLRldBvfNg8bmwS+odPrxxA2r9PO1xeOAx4NvgVvsjM804cDGk2tSM4vG+zfWiY6UI/BZFNidOvrvqNlz7kLO/1ioTEuCTxJ88ysbzKnqR850w53XmNMYMjFmlulp0EKe7/TPgcSsQ0hwRxBtUtwEdYrXnFp/Zrnojbgxv8K0BEWiN5zE2g2m8xX5vmTkjdCun2AbFKfiZ8a7by9m97vq7AfnqgwkS9avX/G7AfCpLlqylefM+CalBv9nk5HwLfLdt2zahbhJ0zpWhXAJ8l2Gw9oOikhfs1bEj837SR9rbzj/7bOZ8/XVc8G13ErVv1Yo/fvstIh9YXFySLdOvy/r2ieARJFO16hIX3X46bD4Hft97fd6clBWvtvVatIiM5rGKFXMbNGD32gDaw+pPixa0nDmTZIt77jcO9t/zjjqK7JUrmfr8894Bl/pkTplCUld9wPfQdmyHmVPgpnNg545g4HjGJqhqUXJ2bodxb8P0sRGveb1G0Lg1vGAplRievR5O0PjJKrXgvWDKN+Fe79wM1wfkiCtRysj8iIpIHNur4Hv8hbBAAWQWkLMfi/g9NifW6foUHCp1Chf7IwumSk3DZmY37Pdy6BKn9GNqNTjeCijetRLmnQC5yjxrB5LFkFQeQrnRL6Vfv9L1JgqsxoL5uODbXrz8CVDvcwilRDZ6xTq1SYKdl0O+5PNcLP0GKHcS5A2ApB3xtcvD/awESaKyiKogzreUTMSt1umJk5amxuldtHuZgwBnaXSLA25MgdgP2MbZ8JScAN6U9/L2alOi7JUC8X4WObYoBd9fkpERyW9Q6hYJqvpi3sUgk87L+90d0OlNvCB8r6xPpq/aFBmlGOMOKuvO1wQBVLQyXPZMgG+fqeTq+U6Ab78XcM9+T4DvPRu3/+VVG9at46wTTmD+3LklaeHt7bn9wQe5YOBATm/blus8PN/O09nXpk1jxaxZjH3+eX5fuDDsyY53sGjuJ0wmn0qQw1Vdo/LygNs/BV7UUucYG2Vav7Hvs3Yt5aWS4rBfGjakYE0c/Wpb+YpHHUXL777zu5Xr70VTprDl3HOZ6iY1aF2RNGAAqR9/HJNYKNANd2bDw7fCB69Bro3baRx18R7G2AXQpBVMHw+3nQU5261ANG26LNJQk4Nh3WLYXRD5TR7EeHqU9kZLdu6/Aekvum7zGhjWMFC3w4Wey4lI28WxvQq+Jw2Gn5+LvpsZXz98YgffSWlw0e9QXkfyLjZ7IKx8JfoH50vq1ecYLfckqNoZjrLN36IC2PwZ/PEW5K2FlMpQ41SofT5sfANW3wCphcGeQ7pOlSxlHscVMeDbThEx41FygpIKKY2hWHVpHqdAub5QricUzYTdUvYIQUonSL8KUqS0IRy9GQqV1Gu5Px8+9CgkBclcqYqltmJoQUHJ/XI7KCOqVjXNe2me57pwpZ3UFfP/XqufXrjbASX0CWLyfF9BVtYOMjNXkxGWD9VmQvQ7nUQFkf7TAwq4EQ43yesLcablZpGErHO9NQDaKcFoQvz1u3NTZ4IyywK+IxuSyMIlz/cKmjdPgG+/mZQA334jtBd/T4DvvTiYf2NVeXl5fPrhh7z90kssW7yY9PR0uvfuzaXXXMPBbSOc2wu6dOH0W27haWW4dCTZseOGSlWrMmHdOsqlp4e55Hk5OXz7+uu8Onhw3B4Jg8iPFER1zVSk5VDLu92n5IdhzLVaRkukld1aFgpRtUMHjpulFM2xtuSkk9g+dmygp1Slf3+aGjWTQFdEF9J9JhcURDzfGzZEQKwUPQQxOnUkuV8/QrVqgxIM1ZZnLoAVFsLPs+Gmi2HJAm/gYRRJ3Kqcsg7WL4erjgXVZwC3s2zLwyAtCRaJglIUzPOtPtZtAq8E+dBbNyzYBUOqgf7tZxk14PE/vVUr8rJh9Q9kr19K1qaaZOZ8SkZKIbToA21OhRQ/eTKXBqz8Cj7pFfuDn0Sy0+vdfigcFSdwbtopsF6UGkfUhAGqXjxsc/rvfInavQkNAvDoTc82vQ2rg5SXPGAnKNa8UDKhaKAUBb7TrYBL3cPOUnB74Us2GpaHOOMByLjVfUYUr4Ai8cOD2MGQLE3uIKYNwAArUNJEnQZZnZ6ydK/F8bZRlGJuqfkXdwWzXaGX+ANLS9zwp+O3JTv7ArKyCsnMzCQjw35UJRUXKa8E4NPjsTl0HT438C3Qf4WNxLjVOk1Qwh2t4NK7X2iTc9QEV1sN6HaczITbbD/zNKdefs/FaK9GxiEBvoPMfx2C5eYWC0wYS9BOgg3cnpRKgO89GbV/xjXffPEFW3fv5hkX8G3vwQU338z1RvLO9sP3n3zCc5LUy5UnJ9r0adKyJjAdTwrY7TqjH67lVstqEA+76tF1fuyHI956iwPPP9/1AW3PymJJT8fRvsejPOCZZ6jts/mINwuM97X7pk2Ul1Tizp0kr1tL0oL5hPIFWiwTh/WCC+Gpp6Gih3tZGt8vPgWvPAOrV5Zeazzdbs4zo3JhSgsYt+sM70+DwT1h9iRf+caoVPJ+ShPmPhfeB2eXyjIGelPeGAhTHV5ftwtPGAanPRT7S+42mHAnzHwV8rPJTq9L1pEjyfxhEBkF6yPf9Yw6cO4oaGSj+RTkwK8fwNqZkQ1G3cPgkHOhnPWxL8yHLy+B3yRD52JeFBQn8G51KXR/MT5d5oeLYZWH1J6pz4k31C83Hn7lw6HLNEhKha0TYf0rEc53UjpU6wV1B0Ka42SocDvMk6Z+gFOL+o9Bej1Yq/fM6BtFxqcEfDcZREbG+lKacRDM5OxL1U8gXWDYYcXToOjoQFMrTIhLjl2/vC8WVedam5qJH8hTTUqzroBwUUSU2dHLNAjykAcxrQUHWcC15CWOE3ghz3cXsrIauYBvZfJ1d0jEtsSkZQ/Sb7eVW55/aaH7mTTgtSEQPcb5wphrNbf0pbGfdNl3cV73UBldo38iQQEJ8O33PCK/h3r16lX8+eefk5YW8VQkwHewgduTUgnwvSej9s+4ZseOHUyaNCku+G7UsiWvTZ9O5Wp2vZPS/gl4T/vgA34cM4b8nBzYvZtlX31VApi1tMUkzYkzPM5wHl9vtq2uJn36sGPcuGjJsPCKEeGpN77yStqPGBGXyvFrq1bkLZTnxdtC5ctz6Lp1JXzvopwcct57j7yJEynetYuUpk2peNllpLZ2CVq0qo2iPiit/akDYMzn3jcV93vCV2BzOoQLFxTApafDBKUXj/Qzxtxoo4ZSaS/85IdwyOFwui3ILd5ACAwZH4j9FN7Vc5kEGVXhhQVQNaAn39x73W9wX4eI99vNEy+ud/kq8J+5UN0h+Zi7FZ7vBut+KelJCfieNYgMJaoJq2EkQXI5GPQd1D8M5r0L466GPPGAbZZaETIfgSOuhi8vg19f9X/ZK9SETndEQPvqCfCnJQVapxO0GRSRF/RL8rJ+LEwrTdPuedNQMrT8F/z+EhQo0YkBLhYIrnY0HD4aklJgfn/YLjUPhzdRwZjNX4Y64hTbbM1g2Oig2EQVCEFSBTh4FaRUh+zx8OdtkFcqfZqdX4+s5SPIbDmIDHm+ZX6nBOYeUTSbEKR2hhqS9HNY8TwoCqqokwRJOyEcZFkW08ZCiXeCmOoWKU4ye/FOffSiBuFvmfB189ycbTC7LvvfBb47kpXV1Aa+NSe0WZfutpE99OuPzjKDkAidIFj/nwkc7ncD2+9ah/1OyTR5nDQze/+dUohmobJ71BPgO+hDCSUlJRWfeOKJjB49mpSUlAT4Djpye1AuAb73YND+AZfk7NzJFx98QFqNGrx5552s+vVXikQzsEyBld379+e2F16gmjIqBrSCXbu4tX59crYoo1upUqvBY17+EnNqrk+P3VGrZd4d9sc26OxFi9j5668sevhhNs8QzzJilVq3ptkNN9Bo4EBfDnXuggUs7NiRomwTkOS4TyhEo3feofo554R/yB07lk3nnkvxtm0W/7mUPlLhgguo/tJLhMrFBjNFgW9lw7zQ3RsfdffHHofr5UWz2RP3w4PifvqYU37NOH8EXAVoL70Zhj4S4XrfeKJfbZHfTR2mtFvsmNkQVKoO906AFuLi7oH9Nhme6we7FKRlgQ5Td0ZNGDIOGrnU/eFAmBntNY8B32pOmGIagpZ94IgLYfTZsZri9mY3PR7WfeXPKU4pDxcvhkqx6jplGoXiQviqDWQvik8PaDQQDn8JCnNh3Uew4VMozAbxsBtcBNWlVV0Mc7vDdulXu5n1lrb5HKrbAL/qWdoTcr53GRtx/1Og0WhQSnm77ZoD+Usi6eXX3UTWgkej08u7ySB6DY7T+11rBSTLA2wzzecigcRgWXVJ+hhCDlnNuA9HNA8lm1oc8BFqVTNg1Bn5aq9CIN1vE6DrgwRHxnqds7P7k5VVwQLfas8bAcCtvX26ryER+kXi2O8vqopOlORa0dmkiIXxPOeiVq0D5gQYX9XjlSnKPlmMzI19fI0sYQJ8BxjoyJKfnJwcFjwZMGAAH374IQsWLEionQQdvTKWS4DvMg7YP6D43O+/5+qTTyaUksLNI0cy3KKdaBmrUrUq5w4eTP/LLqO+ixZ2kO59+fDD/PeWiASWnfngFYdmgLeXVLTxtcRbrg/q148TbHrbO5ctY9f69aRWq0alVq18Qbe9XwLgq6+5hmxHJsxyLVrQ4NFHqSoetoTCvvmGPzMzI95mi6/tHJ/yZ55Jjfffj7l/FPjufTwomU68LJ0Chk2awsJFpV7SlcuhS4vwaYOv6Vto/+4b4NyuE1x0A/Q5M1LvzIlw3fG+1ZU8XKfTyWAM3S+tHNQ+CHpeDCcMBCmdzJ8C456Dn8ZDQR7UaQzHXw7HXQoVfTR6d2yE716FWR/Azk1QqTZ0Ph+6XAgVNEscpjL3NoDdeVE/uIJvu+RdjRqQK3qBDwdWE9rQbeKN2MkfQ/OygDuPyrIXw7fdYZdTkcfajNQ4Bo4eByk+3tPN4+FXPz30EFRsB4f9GO2VL9wJG+6HTS9AoaWWore80glQ906o2Dnu3Mle1CIWfMfDo87anOC7xixIddl0FerUSeotASz0FCR5qMy4Xj4BuDpAxSoSfhFsLgV7jvuY1SIAsA6isa16Y73f2dkPk5X1M5mZ3cnIeM1BWfHqjvGua7KbTYSp340OYo4nzGqtTaf43DYqXRh8d7CCPZ33VbmZgOPEKe5o+5ENzcVarOxKSEZeMcH5DjiZCb3yyivFl19+ebj8WWedxa233kq7du0SUoNBR7AM5RLguwyD9Q8oumrpUs44/HB2ZmdTrXbtEvC92Qq4lMe7dv36fDxnDtVqliW4prTz2hi/du65zBHotI2J3TGqPxvQrX8b4O0GsHWdq2KK5fms3KwZfSdNIqNhGVQxAjyr3Pnz2Tl1KsW7d5Pepg0Z3bpFgegNnTuTr+BND+BtblF7xgzKdeoUDQCzrRTn3buTUd0FOHq1b+16qFMHtm2FbofAOndViZjLNbDGYaZxO/QIeHk01HF4ZLO3wUn1IC8AD9aNumK/8WX3w3n/jvxFG4t3boNPFHBmOy433utaB8HdWVC3aYAnE7DIz6PgrTNiCruCb7NLtOtc+t3GS5jBeV3Xh+BIS57Rr06/30WTWfIkLBetxAK/FZtD02ug8aAIdcbP5p8Om8Q9loSfo7DzBTxsNmS4UAWK8iD3ZyjeBWlNIC02w6tbM7KX9yNr7qV7z/NdcymkKEjPYYWnefOrTR9N30MvQ5IS4gQ1yQcqr4BfgKJzxdONDRHP7V7Gs+zVDtUXNCBTddjpIb3Jzj6TrKwsMjPrkJHxYcDO6lRB66poW26rs/E8K/mW1gzJiGpc9O3QpjdyAupu8obbElSFrxOVJ941zpo0JuLJ+ynxuJ0YhN1N4QoTnO9g0yGsdvL8888zePDg8MfwqKOO4rvvvkuA72DjV6ZSCfBdpuHa7wvfPWgQH74gyaxIennj+Tbg23Tguvvu48rbyhgYZ138+88/8+TRR0c44A5vrpZXO8UzLT2dtF27YmSInQOpZbJmzZqUT0kh16bMYpLXpVWqRLPLLqP93XeTVjmo4veeP678uXPZ0K5doAoqXnIJ1V+N5gaXeL6POYaMWmWQ71q1BpQg6KkH4X4L2AZqheNE+6m3YcB57lc+PAhGR+ZIXHMGbToLD30V+ihZCfDlizDCykLq+g2XEkpTeHIepNoAZM42mPEebFgMKeXg4OPg4Ex/jrTuOesN+EBAKdrigu94SjBuk9KIXsSjwR77BBx+vd9olu33ot2Q92eEu51WM9h4mDv8eBhkz4kIpzhTzjqDNFt9ALUkDbd3LPuPD8ianh4NvveI850EKe2hxg/ufS96E4od2WrdHLVhD8C7EIrQyILZUT5JYgzIdot2Nbs8eZHlEbabNuEaDC8g6cZvjtdiMynFf08msuZ0JDPzFzIyzKlFvOvVfmmUS+VFSZgk7bjJdoF+V/Ck1H6cpy3yXgehjWhuGeeDYhREaSqLmbB8PUivcYtksXTfPES83wnwHWzMS6QGn3jiCW666aYw6Ja3Tf8utPFWg1WXKBVvBBLg+//O/MjbtYujatRgl0BxHPCt96jOAQeQtUoJJcpuTxx1FCtnzPBMcW/8RebfgsrxlZkjfNyW/ftz5Lnn8vWZZ1JkgXrn561a+/ac8PXXpO1B8puy9HTne++x+dxzA12S1rEjdUQrsVkU7aT9obBihb+6SNWqsP4PkALK4QfB76sD3T9cyO75btkWxswCFy56uOyCH+CKo6HAflTsuJUfSJXW9qi1ESA96XV4ZUhEF9yYAeBOIH7Du3DMOZGx+PwB+Ox+KHB44TOqQ+ezoONZ0KKbN/Bc8jWM7BEzRq7gWxMp7MkXqHMiUo9hNp5v/eyUJbZfcsEvUPOQ4M9qX5ecfRhs8wFGhod98KdQI0Kz2huWvWMrWZO+iQbfhqpk5qnXjZwve5V3oLzHOyiPfJE8tgKZRdFKdfb6w+BboHaspBwCdlG8ebcTJyNVGYQPLV686hGHXyYQe6yVNt7LK10Wz7e8wcdY9cuTrIDL8mRl9SAz83syMgJId4b55wKndtqWxlSnU4oDUgCpG8VJIFiJp6LpXu6Dq41BF+snzcmAJ3lRlRn6iPmimPE3Gx2zyDjD/0XXi2z0E+A72NSP0vl+4IEHuP32SMBRAnwHG8CylEqA77KM1v5dds3y5fRuUnpEG8/zrZ7Myc8nNbUshEyQ1/uR9u0DDUQY4oRCJBUXhw8p43G6VbTXE08wf+hQlMXTboZlaJbc5pdfzlEvvhioDaZQ0a5dbJkwgfwNG0ipWpVqvXuTEgfA53z0EZvODOARDIVI69yZOtOiVRmiwPfIETDsX/7tvXkoPPxIWJaQxkF5jla1RvHk4PbwxlioE5tkKFxy03q4qANsjJPpU1zu5Lz4D+ysoXDOMLirFywrVbuI6aTdGykKSvvecMc4+PBW+MJFNtBegb6lDQ6Gi1+FJtG0nnAx0YEebApbpOhQShFwBd/Gg92sO6z92v9ZqIQ9eY0r+A5Bg2PgTCUT2U9Mm5rv6kO+pTTi1awwbikHnbSBcmZ73PO+lMz79h+TUfxWaUV2irIXuyH8gluUpYr/goyH4nv8i6dCUa9Ihk5zqWvTVbGA5FJQALKv3QRIs9uYmcTxdmDOFUs0F0fwdLiIgOszwDiPVgTlfA+0KBylzzk7u0IZwLfWF6/jHE38swAvVSTd8zPfUYwUEHBWXTJRToJ45J1jqbXMLoFpzkPtE0mbEW2OnOonERWgJUt+p3nzbokMlz5PLSbJzuOPP857770XVj3Jsbx6AZ/8Xiu2evVqbrjhBr766quwx+/4449HnvkDD9RLHd927doV3kC88847bN26lfbt2/Pwww/TrZt2xqVWVFTEQw89xIsvvsj69etp1aoVd955J6eeGhvMozKPPfYYK1asoFGjRuG2DRo0yK8pMb8nwHeZh2y/veDPdevoXr9+Sfvige+k5GR+zs8nKSnIx6i0y1NHjuSjq67yHQOn91sHj15s1VBSEunVq9OgcmWyl+n4090MFkpOT+eMtWsp5yGPaL+6uLCQ1Q88wJrHH6dwqxI+RCypQgXqDhxI44cfJskp7wfsXr2adQpI9eF7q65KQ4dS9ZHoBCpR4FundZ2OlPvF3fsdTk5TF2bNBmXm3LULDvQ9K4gepE4dYfCtkHlyxHPuZU/dBO8FSFndoCFsWR0BK0b+z/C3e5wF/34b7uoNv0zynQtR8jYHHQrDRsGwFv7X6dsa9lSnwdBvoHHH2Gt+eBPej6YfxIBvwxKoXB8GTYM3joJsqS0ECLg03/cY3BWC9Opw9nSo1ty/L39Xia1T4Mfo74rnreucBm1G/bWW7V4P29+EgqVhHfHs4kyypheT2WktGQWPQOEKq/40SO8cCRbN+9ICoZJ/PCCS4TJkUQpSe0DFIZDeL1i7ikWdUzr3IDYeQr0DFJxtAUY3Won5WzxXgn77GGjpci/NOcnr3WiNgTmFMccs9shgt6aqbq2mmvO2zY0Us0vA9zQyMnSq5dVGrS1+sQNaQxRPIZAu6VB7IKOyVgZLVhbhsBulJ1FV/gww/iWrtBVYKtqePaFTeGGwCum/DfD2rnrJkvU0b94lAb59Rj8GfJvyopwkJ9snQRme418oKsCvgM9y5cpx3333hT3wAtP6+9y5c6nolRzDuud5553HF198waOPPkqTJk147rnnGDduHNOnTw8DcWO33XYbw4cP5/7776dDhw68//77vPTSS4wZMwZJLxrT36688spwIGrPnj3DQRY6IVC9VwUARvahSIDvvzAx9rNLtSk8pU0bli9cSHFRkSfnW/O3y/HH89IERfWXzaY8/zyjrrnG9yIn+K5/wAEUKrW7U6s6FCK1QgXan3IKq99TMoj4Zk7Lu3/yCQcNcEnAYbtc47Hokkv44w1JbrlbleOO45Bx40iycgrYS20cMIBcyQT6qJTUW7KEFNuJg+qISXGuvvfvBz9ZXmJtelSv/mnRAj79PPJvY8cfAXOt7JJ+g5KqrIMV4JvfoH6cwLj8PDixDijoMp7pGTVuA+cNgc9GwIpfIwli2naFfldDl76wdDYMdYBhJ+fW6YRSva2OhkM6wfjH/HoV+T2sNpIEBxwKdziUOUwNkx+BL0oDHqPAd56l8900E057BaodBIvHwIf9vLN7qt4Sr7dAdmUoso+Zxuck6P4EVLW8g7u2wJ8/gNK4V20JVfYgsDRnFSx9AdZ9DruzoUIjaHQxNDwTkv0k6qzBWHQ9rFHGxQDW6HZoYtKpByhvLyJpxI3DYOuTUVzccJKdJSMt2smG2A1OUm2oMx5S6kNSlYj+dnEuFG2CUKXI38pixeL8eyQniqnnHgiJ4xzPNGnvBEQNMSHjzvLmLM4L3NYB7JtS1fOD5S3W+6+NRjzwa44J3O6v8fmPFWwqtRfbiU8J+P6WjAxzrV3n0fCmTaIfv7NIw9USAFfApU6fVJ/eBWXfDGJ1AUNr0kYsaLZRMwYiLZrTWTcALhDuHwO0ZMkqmjc/NgG+fR6ZJ/gO8qj3RZmnnnqKG2+8kYULF9KsWWSxXb58Oc2bN+eRRx4J/+ZlP//8cxhgv/rqq1xySSQ4Scfqbdq0oWXLlnz2WeT45o8//qBhw4bccsst3H333SXVKVXsn3/+GQb55tr69evTp08f3rCBiksvvTRc17p168pEJUiA730xY/53db73/PPcZ4HjeJ7vZz/7jB59+4YbqhOX2V9+yfhXX2X98uWUK1+eDr170+eyy8IA3m5Lp0zhaceJjVdvIwd+ETv96acpXLeOn158kdxNkaCepJQUWp1+Oh0HD2bCscciL7WfGf/QMW+/TZPz3AMKiwoK2LV6NVsnTmTplVYQYJyKmzz+OA1uiD0i3r18ORs6daJo48ZYAG5tIqo88MV2YUQAACAASURBVACVb41Ngx0DvnV/AW3JG773rl54kOf+jDPhhBPA6VR47zUYcmmk1cbfoMG005WdwXPX/RuuGQYpqZDu4jlfszR4gh15vKft9j72f/l6GGMDeW4cb7vcjfn9ksfhl//Coin+HHjTd9P/W6ZDUw+pu/XzYfoIWDyR7FBFslrcQWbOGDIatIBWJ0NtR0IkAfBPL4BdpachJVPETjfRH8+cABVrwaZfI/zhel2gSqNI8Zw/YMatsPhdKLTxbBtkQqf7oG58ab6Se658G2ZdAsV2ypUecBFktIBuX0JFh96125yefwmsf93vNYr8fuC/oNnDwco6S20YBNtjg3azC+qStdiAbzfqSwhSDoIGktT0obwVzobdShK0G5IOhpTeEa1xuxUrUZD4x37KJLrobggJWMczOSSCyBLaAwKc977L8hqHX3pAiYuUYMui1IRv7xTmd7bJCfBFDZJEqHjr8nxrE6HNTamVer4nk5FhpIrsAN6Ewxuvsd+jN2R9s9DolP90C4ALt/hQm8LVdwfkVJAmu04UFNzpZ+aoShsNp565WQRNvzQW/nSgCOe7RwJ8+wz9fge+BYBFHZHiit2OPVYBFPDNN96cv3vvvRf9I7pJBXmnLPvPf/4Tpphs37497FF/6623uPDCC1m0aFEY1Bt77bXXELBetmwZjRs3ZsqUKWG6ypdffhmmvhibPHkyxx13XDijYY8esUFIXmOeAN9+C8E/63dt7K4bMIBvxoyJ8XybwOXTL7+cu154IXyCs33zZu485RR+tdSETGCz/p2SlsbQ116j88kns2XdOtLKl6fGAQfwYJs2/CnvejyPsB0nhkLcuXgxtZo2ZXdeHhsXLEAAuWqTJlSoUYOvL7qIJW/KexXMtNSe8O231DlGAUelVrB5Mysfe4w1L75IwcaNJRLNcf07oRDpTZpwxKJFiP7itN1Ll7L58svJc2iCJ9WsSZV77iHD46TJFXzH656oJksWR2gujZuAsmJecApkjYvW745Xh7I4VrDQedsj4bzB0Pe8UmC/djmc6iLb5lZncgpMzfcG34+dA1M/iABoN+DtVmd6JXhxJTzVDxZPLTv4PvNxON6NRxt9s8BjX1gAH54My0WDsCWLDPfHAkqdhkGrU+HnEbBex+bFULsDtLsKqjSG0UfD9uUuvVU2yFQ4aQw09NFV3zARvhUdwr5dtVcZgoxm0OtnSPahIy29FVb6cOlN1c2fgIZ7oNKSNwdWyRMaa9mFdclaGA98W9fU+hgqemijF/4MuZdDkSMleugASB8OqYZDrCF7wqJwBFk7PoWQX3DpBVYq9nhgXoDQmTnIPDsBRnm9DcCV5KObspARkPfzPstBIoefqB+tbHri91vZK0v7XQq+Z5CR4VWv1rig4Ft1m82OAcEKntS6q8DJL3wGXcBYz1gea0k3OtVf3C5Xuw0txut0wA7I5ZX3Z0MkwHeQ9wP2O/Bdt25d+vXrxwuWhJvpxtVXX81HH30U9kx72dlnn81PP/0U9prbTcmDpGE+b968sBdcHu8nn3yS3NzcKK3hmTNn0qlTpzD15KSTTmLkyJFhasnatWupJ36oZfKc16lTh2effZZrAtACzHUJ8B1sUv6TSuXn5/P8XXcx/qOPuGr48HCSHUkNVqhUiSO7deO0yy6j28knh/neN3brxnxHsGBJXy3vbqWkJJIt7nP9Vq048rjj+GHkyAj49gDgJTAiFOLgPn246gv3hbowP5+3a9WiYPv2wENcvVkzBixcGAWW89atY1a3buSKV22128+3ZL9hx1WrKBdHR7xg/nx2mfTyzZpRXkmMXKgqps7AAFCZQoc/AK+9HNH2lslrffZ5cIMCMO+AsUE1ey36o+ow9J7jB8DjH4ACaxXI2q8hbN7gS6Wh7VHwoj6YHjZiEEywQIVf2IBxUt36GRzZF965Hr4MSI0wgZJqxumPQu+bfedJ9rolZM38lcwjWpBRv5VP0F4x/DQCZj0OW5eW1l2jNXS8GdZPh19fdr9ntYaQE0+RJgRpleGi30Fp671scjfYGEBX+ohXobEl7ehVV/Y8mBkg9bo8+EethnIegbnxRvmPq2DbyNgSIQiD79/8wLdoUmdAbRfqQuFc2Hm05SF1AmBrQ5T+CqRZp0LFOkWTln085Q1dp1iYFbGe86heqI5DfeaXiWx2UkLM/4seKq17mU7yxHeWGolbX+y8ZedtTYp5+98Vti4wK6efPOn6p9RKwfdPFufbrStlAd/G86169CLKeaj+679F9VB7xF9326gIeGssBI4lYSieuJ8JRJskRbqX18JiNj66bwJ8+41qWX7f78B3WlpamFoiT7XdxPvW35zqDPYyvXr1Cnu3Z9jSYev3iRMnhj3X3377LccccwxXXHFFmDaiQEu7GXD85ptvcsEFF4S53eKGC6Sn2wLF1AYpV9xzzz3ccYc7r23z5s3oH7utXLkyzBufM2cOTZvuAU/R58mKFy9ue5cuXaI8/2WZEImyezYCW7dsYfaPPzL25Zf57QdxDkudlFVq1CCzTx++fVtHtvFNS6CBDsZ73rJ9+zDQzcvOLll67Yeq4eU4FCKjVi0uGzWKKraNov1uWxcs4Esro6RfO8zvnYcP58B+0QFZ8y64gG2Od8wvpMh+v7ZZWZQLEDwdtI2B5n3WRPj3zZC7051eWrU6PPIY3OwDuEyj9ADccnS07Qi3PQ3VasCHz8BHT/t347rH4ZgILcnVFnwHT18c3OutSq5+Bdp0gz+WwfAAgW/m9Nk04JLXoZmAmYct+xpmvUTOH8uZfvC9dJl/BxWq1oIOl0Drfv4gfNP8CA2lfA2o3hJmD4df4qjq+J92Rxra7Azo5BEUmLMSvunp/zzkia92OHR+37/sb1fCVp9A2FpnQNOggYqOW647HfIFqBwWgpzCWkxfdi9dmtxBhTQvp1QSlOsCNV3oMTlnQJHq9vI8W8F2Fb+DkMUPL5bGvgG8Lo0K/+k5CPlldhUlIl4cifF4+z0C4QRJC84HHo1TWH2xTyLjrfYT2BeoVbyF4iYE8CNjlZNTnunTO9Oly3wqVIgjI+obbGmabKf4mARBTo+6vNSKM9GzVlu0ADW2EvfoyyEalRgDQWhB9gxYJs29ffiMDrr50uiUz/DS4z+TpUtX0r597wTtxGfq7pfgW3rjDz4Y/YILBEu1JB74FsCWF0wA1G5STREwN+BbGT3l3RZn226LFy+mRYsWGPCtYEyBftFgRFcxFgR833XXXVF8cvt9RowYEeVJ91teEr8nRiAxAokRSIxAYgQSI5AYgf19BISrxBgQnjJxe/t7m/8X7dvvwLfoHP37998j2omoJfIq+9FOhg0bhgI7/WgnAsmiu+wJ7STh+f5fTOe/554Kmpw5dSoLf41Ek7du25ZvP/2Uw044gVfvuINtLtQoHQzGS9xnb7l8MVHhUaEQlapX554pU0ixtMLXzZ/PpqVLw4GUDQ8/nEpKk+5jeVu28FmXLsGCLVNTGfDTTyQ7ksesevppVj8j7dxos/upjECYOcg0tBj5amqdey4H2YKc/doc5Pe4nu8vxsDQG4IP/uVXwAcBdM2Ns8ipOqIGmw6fdSWccTmM/DfM/CraI5WcCsedDpfcDqkBeKF/rIT7ToTd4oYHGJWbP4LGlrqT6EoTnoBvXgZxr51mTpaNk6vLhXDw8dC4U6wHe93P8K4CwSKWk1ar1POdb/O+9n0aWvQJ0FA5Ld+C7+/xLhvU621qqFAd+k2N8MDttvojmOfIZGrG0uksrNgIuumZBbDifPjzM9jwDuRIFUO88XZQ51yocaKVeCZAPW5FNt0D2dEydyVjL8/3cj/PN1DjZUiPxEyVWN6zUBCEjqSgzZ6Q/nz09cUK6vsUEMVTcyo74n0OmaBaeWTFF5d32yvYU++Zm/yi5XEPNGRaLT8CJJIgTrqfaVXSaiwvseEv+71QysKp/pTS+XJy0pk+/XC6dPmRChUU/Kt32G2F1zmmUT5xa5vdI6/2qF3qU7yzRAUW2wOCVb8oKWVNqmOO7gwFpeQFsrzc9nExXm95wON51kMsXbqO9u27J8C3z1Tc78C3AhnFo506NZoD2b179zDvNV7ApWggkid0BlzKCy1Pugm4lGf7oosuipkcr7/+elglxQRcylOuQE95zkUXMfb111+HAy0TAZd+C93/vd8nfvEFt11zDWtWKtlIqdWuW5e7Ro7kCYvz7ey54uedYUNeo6Pl2u1zddfkybTproj2YJa/cye7tmyhXOXK4X9kk84+m2UffugbgHfkww/T7l+xyWp+GzKE1U+7Uyn0+XFjadqFOFqMHk31/v2DdSBgKTvnu+Lq1RQrA2ZhIaFDD4UrLiW0YF6QOKHI3S65HOpUgZHDY6UaTXvM7sjsMpwiB/pmRbIeQdYKqH8gKADz69GQvRWq14HjzoDqCuwqgymt/EgfRRnxz+u1gGcWxALn7X/Cd2/C9+/Cqp8U8RMB8vZ/7M2pcRD0vQcExo19cB78/G7J/2aXq0tW+5FkzhlEhqQGw90OQcPOEZ1vP1s3CyZcDFtEG3CxoOwDc6kRrsh8D5qdXVphYS580Qjy/rDaaOu3KWU2Tfp38xugfQCNdmeTTVyGxmBvWN6vsMo9o2cgtZPU1lB/bukGoGgD7Loado8OSE8QRu0KFadYvdG6J16+FDgkgycusp67wLheCAPMzE5OOujim7sFr+rkWZQ2xaDYAZ2uDUpk0wSRpKA45Epr76fwoZfXSEkGdYdI+zraIhkujyIzUzrfJmus+ugMSDTcbQPAjcqU4XjbAxq1ghq1k3g7TmXGtG9s9ySVvKGVmH6ZtuvvRh7R/KY2mTFTu9QHbTicIDxCZYkEXHZKgG+f93+/A98KhLz55pvDSiTS6ZYpuY1UScT5FiXFy+T1PuywwxCIFriWiSLStm3b8PHH559HgiaM1OC///1vpIRiTAB7w4YN/PLLL+E/FRQUIKnBk08+GSmhGBs4cCCjR48O01bEUQ9qiYDLoCO1f5b78rPPuGzAgPAm0Kk+UqtuXe4eOZJHBg1ihyOWQL1RqEqcMLCoDgsmu4W/DB09mo4BgOua779n+vDh/DZ6dImXu2nv3nS+8Uaq1a/PZ506sVuKHx5Jbaq1aUO/WbNIkQqIw5Y/8ABLblOyjVjT5zLuJzMUIqVmTdovX06yj15/WWaAAd89XnuNitIKd1hSmk/slykvwHTaWfDGezD2E3j5Kfhe8msWoEwujji47PJ48TCWAPhVd8B1cby6ZemoUsrfdDis1olLHO/T9e9AN49U4eZ+29bDd69FQPiCCbDLLQjXAlCnD4fjb4ps2P5TEXaXpqh3Bd/mHv/eABlxNhjT7ocpt0fG00tEwWCQoFjWbIjaDYXOtmRMy1+DH6zAQfNyOes0myg9t94LoVKA5ERleX5+ZYvyYcdXUKBEOOJqN4WUmrD9Vdgmje9oi9b5dpGiC1WIAO9UK76oaCPs7AzFtmBXvzbp9+TmUFGp25XMRlrfXkoaBjw6K1UchdMrLeCtwED9IwnGSNr20oAM1eX30PW7ONBjrBvqGx2Pp6/yWl3NbtNfuSNSsVa16Cy47uBbYN6pEa+/Bcmgq7bYXS7O/7ePqcCxkvKYzYNijKKlEP0fq9rp3Hxoo6C/O4NZDC9eL45Z4fWyyEtv9FhVV2RNWrJkWQJ8+z+A/U/tZOfOneEkO+XLly9JsqOgxh07doT1tzMyIhNZgFxygALP8mwbk+LJhAkTwkl29LuoI+J3T5s2jcMPP7yknFE8UVCl/v7BBx+EqS6ffvopfS1NZhWW4omoJwLqAufydsu7/swzz5RJ6SQyKZeENxH7igsVWPUhwMRIFIkegby8PI444AC2bNrkKvtnwPddgwaxe/36mM+GliaTWDreJ0WfHLc4PrXmgRkzaN7JJfW3ralz33qLTy+5JJz4J0odxVLkOO6BB2h2zDF81b8/edIAt3volJr+yCM5VhrkX3zB2s8/Z3d2NhUaNqTRRRfRoF+/sKb3d9Lftzx8xtFo9434fTIbv/wytS9TSui9YztmzWLS2rX0uOoqKjriOHQHiU0kBXWkXXsjPGRLSrNlM2Rvh9lT4BbLA2w6Ha/5Bht3OwlGGnBgu0DjN286zPoS8nKhQVM47izI8El8snEN3NML1sizbcuIaaq+8BHoPzT4wL51BUx9yad8CO5ZCDUbwx3RZzJxwfdNi6GGR9rseW/BF7bx9GImBMFg9tYbPOUE31NOgvXjIt7+eIoxBoD3nA+VHXrlwUe1bCU1F/58Ev54CHZbnnlTQ5iBUR3Kt4ECyQGW6puXSA22HkRGmgN8m5ewyjCoaokX5A6CAjcpPp/mpoSg/FgInWaBrXi0AzfdIz3EBeK/AD8BOjmzNrXhW4sGIjlFpTUXbaWaBexE4fGzIYC1qQpvCpTI6HuHzrepQyur3VkWxPOtgTSKI6VtcQff+l0uFucKKLCsielUbYl6yC7XeWlIaQJrE6HNodR2JN9pT0rgN2YC0yZTpTmmE5BW+zQ+ds+37mWcMPE2BLqnAd/COR33Gc7x690/5ff9zvOtgVu1ahXXX399WKVEJu1vecQPOqiU5+QFvsXjVnDmu+++W5JeXh5z0VbspgyeoqIodby83UrCo/Typ59eymc05QXAH3/8caRWojaobQLkZbUE+C7riO0/5T99/32uPkfHmu5mwPd/Bg0id/36KA+wcIURaYq3BGuZUzknNpDqSe0mTXh60aK4Keo3zJ3Li4cfHgu8HU0+Z+xYGh97LEvff5+Vn34alh6s0KABzXValJ3NjPPOozA3t5R2YQH3yoccwrHjxrFk6FA2vP9+VOx7YFGtUIgqxx9PKyvjp5L95H75JfkLFhBKSSG9WzfK2TLR+s0AnUDsyMxk8pAh9Bg0iIoupw6qI6l8fAGOkvtM+wnalWbCLfl7QQH0aQm/S0LNAh9+uwxd3K4LvOugXyybB/deAEvmRHevXAU4bxhcfEf8xgqsT30fJr4E65dCSjmoXg+2/g47BMIEMENQriJ0OAV6XQvNXNLF52yFf9WDAlvCGq8Bz7wBpP19Xy3I0TF3xDzBt3Y8d2yCdJfNhMDmSy1hi006zc47t7ehLJ5v4/XW9cd/BE1sa/mko2HTtMjLFeS5Nb0W2gVQqvGboEF+//1G+NOHrxx2qh4KGe1hZ0SnPwy+F4wk8+BBZJRbH834KLlvOWjwe4T/vkNShzmlC4wZB01nL+xm8tukZ0IoiJKGGuoGahUnIglCfTdLVUMizTQebznHlCFXIFlcckkHClC7gX1dI8qLOOMC78ZUt7jZOgEzknsClMcBXYHhtrJmMvhNCK3K0bv3YOBbq739qMx43O2TQm3wopgYEp9zEhmCn8ZZ75d/wrTSGjS22tyYcde/7cRA1WUfT7XBbFj8wHek1ojnu0MCfPu8+/sl+A6yXv0TyyTA9z/xqUXafMd11/GqS6Ch6ZEdfIt2YigmWloN/LAfdtqXey19WkZ1jZdTbtDLL5Pp4y3+fOBAfnrllfiDHArRODOTC76KDSbbOG0ak0z2SzdNcQV+tmpF5jff8GPXruQvWlSybAcG3+rnkUdyyMyZZH/wAZuGDqVwdbR+c7nOnan14ouktfXXUC6eNo0dp53G5JEj44JvJfhzxt/FDFSvPjB6rPf4LV0AF/WIaHfbv13xRrz3mRHtb2OrFsKVnWDndm/e/Vk3wuCAKeFXzoV7j4dtf5QGFbg52M68D/o76EK/ToCnTwj2Uh7QDu6YA2NvhqmlbXMH3yE45DQ4V4FwLvb7DHhbCUQcZrzf9pfDyfk2OM1+aRSNRF7a2nDealBQq7HvBsDa/wbn/lduAz3nBRubv1IqewosES/axwwIrqjAyUiiuTDne74NfHtVUe0ZKH8I5PZwl6u0023sONfQjzXmkto1m06/tsZQL3TBLYACR8XNjuc5F13UZMbUplUZrUVzslNSdL2yAY8AvBJZqYw2iZIBlMdd3l799+VRpwf+QZdy+InPHg3QvcG35pwh4LlF+ZijHPuZodeAem1kDD1EHmkvb7pXndqAee1AzXNR/eYIyQ6+g63yCfDt+4KECyTAd7Bx2iulEuB7rwzj/6SS2wYP5vXnlLrY3bzAt1kmdZXzu2Zq0t+1xIX9DSZhi7Xca6muUaMGhbt2kVaxIu1POYXu11zDgS7e4QcrVaIgW6oD/jZ00ybKVzdEmEj5b/r0Yb080j7ZNI94+WX+vOce8latKrlRsGU5UjylShUqt25N8YwZMQmNI6tSiFBGBg2mTSPtEPdgM3PjovvvJ/vZZ33Bt8qXcL/dAiQP6wBjJkJVu9fHZRz/WAfnHw2/u2VadCn/yLtwku3EZFhfmP6F7xjzxi/QJH7f2bkNrm8F4m8HEW645h042sYF//kzeD5aw91z5tRtBXcvgC0r4KlDoCAXiou8Pd+dBkHPe6GivJMOW/gx/Df2hDEyOVwCIdNTrVTwVoCoieuLcVhaf+j1MTR2aEivGQXTzwgOvis2h97iOe9jW3E2bFVip3iA1GpDeGxSoIJSwEOY8x0EfFe6ESoeBPmiaHh4/u0A3ODC8HAqe2gzKFf6rvuPiJP3rCsU/BpEPUYrpqSCDU9aXHB5sXUKLhBcCzhZpHyPIE6/1okXPt5WyN5ZZ9CnKFOKMdM10Tx5d/CtuoxyiBv9RLcVMA8aeu8GvnW9xlfjU1bgrWvkCgri6TebHacSijkB8K4jAb795qD1Ghb75a0OVk+iVIARSIDvAIO0nxZ564UXuGXQIM/W2cF3zvr1lLe41FWLi8OHgs6DViPcVOK0C4W44rbbmPLWW2xctSocyJsRCoVBt0m2U3LzUIiznniCnkOsj6lOjXfv5j5LhjDIEA5evBhlrzSWs3o1nwdJfJOURM1WrUiZH6tO4b8sR+5mj1c0Hv9YHBWiXJcuNPhOR93eVnTnnWS/9FIM+DanDPaT9WLhCN3QLjCg5zT4Brj3QQgaPD36Nbjd8Ew92qbvYvkKMG0TlEuPqJ18+S68dHspAIr3DRxwNdzovdkLVzL2aXhtSORb6kdfVT/rt4ZH5pVSWtb/Bv8JwmsOQbu+cLUVzKoEO2/2hfxsd/BtBr9SPbgkC2o77qEU8x/6JP4xY1P7MDjhORhzAuRbQaHOh2segTzex4yMBd76vagAxjWHvGiVIvenJ8WYvtAlNng3yLtVpjK/1ILCUhpP3GsNZsvQidAvwcF35dshfS7s/swfd6kBzuO31DsgxRa86ttBJ/jWyiDKR7yEPvZKFYMgmoiXiZ8sgC4QrVMo3U9ygEqI47N5DpdX5lZnYhz7pBLnWR54Kafo2SizZ/RGzB18m4XFgGN7++3nnkEDUIxn26yahoZiSIx+INp+f7VNG2Gv4Ap7WU2A5lYyH42TiUIymwvV4Q38I2onhyVoJz7vScLz7buQ7L0CCfC998by765pzo8/0qtTJ3Ypbbj1fTLKrlqSStROhg7lmuuu48dvvyV3507mjB0bl5FnZ/W9t3w59Ro1ImfbNv5z8MFsW7fONbjT9P3q0aM5zKZ+8nDVquRtk/yX31sfIuz5rma4f/DnlClM6hbg+FvhOJUqUXGHvFDRFowRGO330dhpHO3A3f5JaTBnDuXatfPsUNE775B9881R4Nscqro5uMMVCcSkpcLpZ8KNQyFO/a43zs2BE5rCJp/U8T37Q2oSzJ8Om6MTepVMIq8T4FZHwEsKsItjw46A5T9Ckk0y0O/Z3z8bGpcGnvNIV1g2zd8TP3gMtD2ptPZta+C/V5K94sdoqUGDMcIlQ1DlABjyG6TZwojlNX+uHuQFmKvHPgSdh8H2FfDL07DgVci3rqtxCFRtDpWbQp1OcFC/aKqJcyyyl8JXbaAozx+EdhkD9Wz99RvXPf19bmUoin2XXKszu9aat8Kup8jOrxzM8137WyjMjKNS4rib/RkmXwip10EoTrbTmMYar7XRhB5oBVwq6DKISX9c3m1jOmUScNfaKwApzrs80U4qilYSZZz2Wse0IogyJWlCL560XkjJCisew17GAM5Im2LBt+HomDNA4/l2eta1+MQHr5E72JVTjKvGPBifoOyYIdb9tIa6KOJ4Pg5t8HQ/xYMoCNY+1oYLZv5mvevhulJZsuR3mjdvmQDfPlM9Ab6DrAV7qUwCfO+lgfybq3lq+HBu/9e/XIGwliEts3Xq1eOuESPI3riR8yxudtZHH3HbmWf6ttYIdH2+ZQuVqlZl8nPP8e7gwXGvCyUlcVCHDtw2c2ZJubHXXMMPzzuSYThrCYVofuKJnDMmWoFj06xZTOzoEpRnXW/3IFeuWZMKG929deag1MsvYj9wFeD2CjUymLTGs89S5ZprPMeiODeXHe3aMfnRR8Oc70pWwGVcn1DXrjBuHFjKSb4PyK3Agp/g0kzYrmNxmxnakLzoko4zggVeDTJcXuc9WnaAlyUhFseuqA9b1gU/xVZVN38Oh9uAzcKv4QmBDYc6jv22zbrCTV9H1FWKRHlIiYD1J5qSnZNH1qEjyJxr0/l2NnnAq5G083b7+hb4XhJzXpYEKelw1QqoIKqBZcVFkL8j8ltyUA+i7R5SPJmm/sdRh6h5LByT9deS4wSdVIs6Qs7sYGoV5uU54ENIb072qlPImv9MacBlzD1DkKpkP99AbhkAmx18p02FZClrHBm0RzbKiFkFJOerJDiTg9FrwrrgRwAC3UoZr/GJeskscOqUCjQNF3g/1KW94vCbzNmGYmKfB0bZw21eGT1MXVdsA9/TycgQj9284GY1lwde4N0eYm+AuR9dROVM1JBppwnM1L8jORuCmUC0Al1lkaRw/qa+GPCt0vJ+C4A73xk7R0ztjEgy7muc49/+f0aJBPj+G5/Tvp6UCanBvf8w33njDa68WNq23qbltcWBB3L700+HlXmMHOZlnTvzqxK+6wXSBAAAIABJREFU+JiWsM69ejHcUgC578gjWTV7dlyvt6nyngULqNeqVfh/N/72Gy+0a0ehlDk8Aib19wsmTaJxjx5RrSrMz+fzBg0i8oO2a+0xV7pAS2zFRo2oIK98nj46sWbwpN2p66xHB6p+TAldU/OJJ6hy/fVxR3DHiBFMql8/DL4re6idxFQgLX8fPrnfc2PtKnjrSfjklYgcoayxFFGWQnEhpBT7d1LXuFFAT7oMblEykzg2pDWs/a30HkFOoU+8Hs57PFpN5afR8Mp5ER53ePNg7lkMLbrDgPvgh9dgzvuQvxPKVYJmPWDxZ2SXr0vWoSPjgO8QNOkBl2ZFd2T3Lhh1MqzU3+0eNBWz+EEDPoFmdg+o7xMJVmD9WJh5Nuw2iWF0mQUsaveETqMgtQxgNdhd3UttehlWKwjQxwy1KKkqtFwblu/J3jSDrKkbPMC3xrAq1PkOUlpCjsBcAFUba/gjWDIEyWdBmjjPCjwMcFIRBptuCXUEwGO1yqN7rZseaPG7V1jBkaJ+ePHh3dRAVIdOdtwSJEm9Jt56rBXHmWDG3kJzvyKysyuQldWJzMzvycgw4yrALW67USAxmUntwDzqaMjx0O3ngHZPszlBMMA+6NwUGC5NDhg5LQgSE6QTUT0H2zoQpuAo8DWy+Sg1s8rruav/oQT49nuXrd8T4DvgQO2NYgnwvTdG8e+rQ3KUhzRpwhplTfQJQvxozBjyd+8uAd/rV62iv00a06/VT40bR6cTIsoTN9evH6acBLEbJ06kdaaOlCP223//y6gzz6RIANzFGh1zDP3eeosqLm375fbbmX///SVXGUzo5qeplJpKmsc9whUkJYWlAyvk58dQSFWv2+fZ2Vx9fuqNHk251q0JlS9PUsOGYf6705QDQPr7x9k8375jd+edsLfS3Gsctm2GtHJw02nww+TIBsZLpteto86diCgnop7Es3dvg9EPRDi6QfOFqGyPy+HSF6IB+M7NMP0NmDcuAsKl6X30ZbBjNXxwMRS5H9NnZ9Ql67B44FucrNYwxCWD5e48mPUY/PgcZK+N9FTe9aYnQ5fboL73SYzv8/UrULAdVr0NG8aCsl9WaASNLoXqRwXUpPS7QcDfi3JB3u9dPsoq5mWsdS9ktIIdz5O9fTFZ858l8+CbyCi3zAaKkqF8/4i+d6oV15F3KewuTRQXt3VRnO9USNemTLEKQdK3uyVv0d1OAbSm+QWxytN9qgW8lezOLxDV6yVTsh0pe9hNXO9466pfWnfVFaFcRGgndvBt3AsKrpbXXRlAFzvu7xaIagIa7fQU+2Vm9TVedE2EoJzvxsDBtsrkIAgSKC6+tzPbhNoh8G0AuL2NegalWl37GucEfLP2+2IJ8P03PqJ9PSkTnu+9+zAnT5xI3+OP961UgHDgVVfRvVevEvC9aM4cLjxMiSP8LTk5me8sLrlK396qFRsWSufW3/79/fc0dtBF1sycyUd9+7Ljj9KEHfYAz/QaNThn8mRqOaT8dufk8HXPnmyaPr0kJtHLmaq/V05JIWn37pJgUvP5CH+GUlM58Jpr2PxkrLfLJDIO4qitkpxMqDAC/JJbt6b8tdeSfsUVhJJL0aaZ98eNH0+lkSP9B00lROuJIx0ZrBJHqZWLoF/LyB/LIv+i8vY4qBMvgVtf9W/CjI/hMUs1xID3eINqHpBqHvQ2HH1e/Hus/gGeVkZE43mLLZ6dXpesI3083wd2gXNHwS9vwtZlEcpI417Q5ARISo5QWTYtiID+ygdChmTk/j+ygnWwrC/kOukV1hgYrnflMyC9GHKlbR0iO6+Oxfm+ioxy6yD5QKh6P5Q7DlIM1cCqo2gu5HZwCf22jbN9fujPBvemb4eQNvOSOXQCSvtz0iT0AsOa4OqfThHtfG379QLHV1kA/YKAE8BLjk8bBVtsQ7i2YTbtb7fqBSDt0djeTcjOrmqB7x8sz7fxaMtjrLF3jpN+d6OzmPTz8bpr34BoHPWP2hqPvqL76Xk58yqL9x0vG2YDi1fv1R7dUzQUrQnGUx8dobuvcU7AibHfF0uA77/xEe3rSZkA33v3Yb7+8ssMvtz/SFjg+4S+fTn/0ktLwPcfa9ZwSsOGgRpUs359xvz+e0nZT269lXEPWVnpPGrQPavUr89DK1aQnBLtNh17ySXMe/31KJ9RFCYLhah84IFcvngxyQ6FlN07dzL76qv5/c1IIg8vU30GRMeUSUqi+f33U++cc/i1SZOYNPby2wQB3qrX5IbTf5trkho3puKTT5J20klhEF4Cvn/4gUr33RdozLnnHrhDwVl70SaNhhvltdtD8C0gKpWTwY+D45nGtHLhNLjrONitD6EVcOknN2hOiOVdbnwE3O1DiXrnXPhJHkRv76M/+BYnqxus/S5CxbFblcbQ//196+Hei493n1aVtxwWHwqF2aWYyuA5w0AoXxHSdPwfsew8F6nBtM5QZ5q79373R5AnqclI0HiJqX43zBlmGCRB6nhI6gmhP4ErgXEuQ2H0oOO92dLz1++KN9G8knyhUUIR2DZeWnG+3Wgjbk/Avss1HVE56YNL/cTeHuVAmBTnMe4J+J5to52oaoFprxzFTs+32mZoLkFWRNFOxPfWv9VWR7xJ1APVxsNrEyv6kJ5l6VyKtKO2ja+/57N9X+OcPW/Z/nVlAnz/jc9jX0/KBPjeuw/zg3fe4bLzlWUtvgkI9z/9dE4/77wozvcVXbsyd5q/ksR5Q4dy7SOlUl6bVq7ktubNw/KB8eguJ995J/0c1Imdf/zBiAYNwtf6Wf+PP6bFqRZYtBVe/Pjj/HKT9G29TZ8XL6GOMOUkFKLD5Mlsfuwxtn0aLdnmBN9uLEjDLNQnwU6JNjAw7KRr2pRKo0ezq3FjsrKy6HHjjVRepuP3ADZ+PPS2yd3t2A6j3oaxn4D+u259OONC6H2KPxA2t/vmcxii43XLgtJO6jaEUwdBn4ugljxPPiZKy02Hwpr5llfaKm8/ubZ/y+0gzl71c39AZVswo/03Zb28rVLEKx3HSsD3z4PIyHemOE+C9GRIcqdAhWdQanm44Duo461o4zcc/yd+X3stbHo2fleEu2zP1RV8q4ba30C6h+JH0TwoeBp262TF2gx5nZoYx2p4XjWHpGcgpHdGmUk/t2T4JIcZxFusN1nvZhCQ+Y6Vgj7Ik9UqZE9qY7+mESClFXMCKbB/a5xKg9BOIpdnZ1cnK+tIMjOd4Fu8Z6/xsCfYUS36f90zyJiovDYn9sBXnWyKRmKC31WPvO5KPBQkKFPvtp3OEmS8/cvsa5zj34J/RokE+P4bn9O+npQJ8L13H+b6deto2bAh4n772fBnn6XeAQdEge//vvgiD10pT1F8u/TOO7nCAaJnvv8+L517bhh825dmey6MOm3acMukSWxZtoyC3FyqN2rEmsmTGe+TCTPcmlCI1mefTd93341p3M833sjSJ7z5nYE426EQ1Y87jrZvvMHCzp0pWGNSPUf8Qga4m3+7yQLqb/qERB9q2pqrZDxVq5L80Ud8nZ1Nj6uvptLatf6fMg2oOnFcTxjxIqxdCZf0h+3bSpMcGdWSFq3hnXHQUAFnPrZxPfQ+AMx8kTPQc4diq+uxMXB0GWTtFkyFO4/xa03kd69Tef322DKoLV6oi+3YAHf70z/igu/UcpDmHpRbescQND4ezp4QrD//F0tJ+nBBDSiyeyItTGbmj2F02PrvCb4rDoQa0sq2TLSh3ROgYBQUb4VQHUhuB4VXQ1JRBPv54b9wO7SRGg2hvrZWXGYlwXF7MEZWT5Vry62ETnYPt9fDnGoltwnysPWSGaDp7ITpmDK7drYqk8ddGwc38wu4NNckWeC7gwN8637KpullTrUTrYRB+GKmPsUE1XGpXCBa/3ilow8yjnuvzL7GOXuvpf/bmhLg+28c/309KRPge+8/zIvPOYdR72vB9liuk5Iol57O3CVLmDlzZhT4fmboUN4ZPty3UfWbNGHU4sUkJZXCzPlZWTzas2cJdjOfFQFSse30j5buKuXLsztXQTARq92sGXlLloR9KvFMUoWNe/fm9LHR6dR3rljBRCmmbLfUO1wqKQtnu+uyZSSnpfH7TTexZdSoMDA14N04auO10yThiVdmd9euzLj55pL08vEAfbieEoWsENSqDsk7oSA/hh4TLisQ3qgpfPUjZMRTQrBaOOxsmGClk1cHzYPwAjdHZsKTE8DGYfedMJ8Nh7eG+hYLF/Diniv1+sgtkO7khFrV5udEPN9hvre3lYDvVY+QsUHpwMOEf2h7FiQpmPDjYO0ctASqNQ1W9v9aqe2jYaXjBMqJo4y0sq3v7uA7CcqfBLUU8CfH5iLYeQoUmRgSTQjrmaYcBGlBkg6ZjYAmcXVI+h1Chr/8EyBQaI8LUDl5dHUv+7bavASau97yoREg2d/y6PoFXEqZI94OV/fUSikandqk+r6wNgw5jpmkjLLibMdP7CXCXXZ2RbKyygq+dTuTDUHt0IbEBGrGm9Qqq4VESiqeroj95q3Y1zhnv+noX2xIAnz/xQEsy+X7elImwHdZnkawsn/++Sc9jzqKpUt01BptArBJoRBvjxpFj549w9QHu9TgqU2asHZ5kOhyeGvOHJrbkr08c9ppzB49ukT2T58Q+2dIh5uuqRosj618QXFVkEMh2l58MX1ejQ7sm9KnDxvGjy9xhLlhxtK4dv8x7JCVFfaAywrWryf7u+8okjb3gw9SOH++r8NN15nYfq+75daty+yRI8NqJxnr17vWaWgsct6J8lxiqtxvp6LC9z8Dl8XXXg/XuW4VnN8JNlsJeHQvI2Zu58yo7NEnwz3vQsUAoN7e+U8fgbcVPBbAvMD30efDICOF5lHPK31hgYBKPM53PbKOHEHmcceRUbgFCnKgUn1IrwyvdoANSmgSwAaMglanBSj4f6xI/gpYfDBI9cSYmwPTzCNb92PAt3H0pnWFGu9HNo47OkCxAuxcnqFwYFmk0ktiCt6BJHHHjf1XEbw2LrmhUjjvaedFKdlNvOet7JWSJ4xnhgMdZE6IsqFgT/1b7VCshHT0xX1WPaI9ibKhNovTrpMYJ13KePIVZ5LuAr71u5EBjHeUYOSJDPj2C9ZQ/9pY2udB+vq/LbOvcc7/tnd77+4J8L33xtK3pn09KRPg2/cR7FGBjRs38p9bbuH9d94hb1epVu5RXbty+7330q1795KgPzv47l2zJtukmx3ARn77Le2PKaUSDK5Zk2yPawV+vUJ67Leq7qNAd9akSRxk0/vOXrKE8c0lMxX/JNqeu82va0dOm0bVLl1iim2+4w62BgyOFD5wE+kylRrwnTloEBVdwLeBAPLNKT9MiVqhvo8Radr4pgtaHgJfK1FIAPt9Odw1EGbZgrvC1NRUOKg5dOgOfS+FVlKf2AP7aTw80CfYhU7aifqSnAZ3z4QD3RKR2KpdPAleKJWxdLthiefbpm9fUu61I2C9h4KHs7L9GXwrNb0SJiVX2LsyhDunw+ozoaCUkhUeFvuGzT5OhjJs/S0KfFdc73CKJkNKY0he4j2/9xh8XwVJzmReUveQlOGHAfTENSlF41LSnXie3E+sjJTyhNvP/jQA8owLvAqkBzGTMVJrrBRV/LQ5dfKn++vEQNrYaqcoH6pnowv41sMxZ4JBvNPaYam8kwfuRjJUmbP+EV5vPYl9jXOCPO1/QpkE+P4bn9K+npQJ8L1vH+aWLVv44fvvyc/Pp2nz5rRq3brkhm5jf96hh7Js3jxfjXBV8tHixTRsZmny6vNQtSq5HqnixSoMQtMUQPcgFVCvY0fOnzEjSjd72Usv8eMVV5T0ydzDyccWEA7iLE6pVo1ua9eSnB4LnTcOGcL2p5X0wt/MZ82rpN3zbTJcOsuW+ODs4Fvf36D5KspXgOUOTq5f05fOh+lfwq4cOKAJdO8H6UEUzn0qFqf82qawcZV/WviSobfOThTgeN0oaC8liAD29XAYI5qA8+wl8v/ZfUeQtbVe1IlPSa3jr4Kfgkg/huCqZVBVAXL7iSmo9c/PYeWzsGlixCOaWh0OGAgHXQvpB/y1hu74ClaI5+8VjOqi2mfHdCHILqhL1m8jyTx0EBnp671Btlfgr6ai38bT9NLOEQtdDkkvuvRfb5k8y0pe5Gd6+SSZ6Jc5c7Olma308oq9UYyCgLf+LXpXfFWm0lYY8K2/aNwvjNNAOVjEmdeppX3em/+uS3Z2G7KylNdhHhkZ6rf94fh5slWPBt8Ei6opUQNstc2c1ylRTjDlLL9R/zt+39c45+/ow99xjwT4/jtG2brHvp6UCfD9Nz5Mx63cxl58b/G+45lUQdp06sTL06dHFbvv6KNZOmMGxUXRnFv5S+SsDWL63FQzgYPh9V3ZC4upcfDBnDVxIhn1opNQLHn2WeZce21M1W5hTEGIEo2GDaO5h2Ti5v/8h62S+wtgZfF8i3YS1+zSKfr2BR3MKlVhoZe0V4BO7O0isz6DR/pb2MCDFtKuJ+zcANs3QMXq0OlM6HEFVA+gqGJv78Iv4ZvHYZEJigxBqz5w7E1k1+sYQ7cqufSPufCKn4pJCJr2gTNFb9lPTMB7wWBYJe+uc9MhGlF1OOIrqOLUkQ7Y/qIc+E2BuZJ8i8OpN5Qht12wkRpcPJLMtoPIqBBn3rtRj0wiyviU/tIO2WnVoScgyS3r7EwrQU6QcVADnrGS7wQp71ZGgZkmXbxfHVo5DcdGi8CIOIogomOJy+5t2dmHkJVVg8zMxWRkiMLiNKN4Yn83zYM0wDu8KNu838469NvR0ur069x+9fu+xjn7VWf/QmMS4PsvDF5ZL93XkzIBvsv6RMpeXuojM6dN4/URI5g1bRpFRUW0PewwLrjiCnbm50d5ALdt3swZLVqwffPmKO+3E8w+8umndDvFJlGnkJ833+Sliy6KaaC8wEGdtVUPOIBmrVuz5ptvKCospHqrVhw2aBCHXHwxaRk6so229RMmMNXKsuk3MvWOOoocySjawb3tosqdOnFEVhbJFd1973lz5/K7jeMe735+nO/CunWZPnIkop34gm9DtzQ31GA647Wcxwr6fp54GrwiT91+ZNM/ghEDIdcEx1pAMTkFTrsdTr9z79IkcrZA7haoUB3KR3YtvmvOV0PgB68TjlAkVf2FM6Bm6SmS5wgLFG+cDX+KyhKC2h2hZvu9/0Dk7V4QuwktvVESpNWAbkshJcg21NHEza/A75LAC2DCix7xhGHaicD3wYPIqOSz6XR6v008ZIAmRDllBWCTxkNIK5G8sXaPrLLjCtQGMc1V0VTs6c+DXGcvo1MDebC9g8NLSxuNJfOXS6xAUec95Wn3zxUQ4Xwrw+U2MjIctKGSKs1CYgC2HqR992+/t/4uoqDUgbRRUOCn3omgq31Zx27fld/XOGfftfzvrTkBvv/G8d7Xk9L3Q/g39vX/4q0kOTh00CDefvnlqO7Je12zTh0eGDmSrl27UqNGDbZv2cKzw4bxxRtvUJAf7RmxY7sbnnySs4YMiRmugrw87u/alRU/KCio1MLe7ACDqzY179WLy6VnrUNzSRa6pGa3V1VcWMjYRo3IVcIfAZ041nPOHHLnz2fZ3XeT48jGKZ9PtQ4dOGDYMGqdcYZnLWt79mRXVlbc+6iu2G1C6SUay5S6dZm8p+BbTig7E8QplWI4Nwc1hU++jeh/70+WlwPfvQ+/TY2kgG/YBrpfDFWUMGPfm++aI7WUKXfBjEehsDReItyymodAv3egtg/3XGXXTYVpQ2CjI4Czdic4+hmo7UdfCDgWSgT0TRPYpYQwPkobBz8PB4o/XEZbdSZs00bOT8nDwmH27Ke2W5WA7+aDyKgWh3aia5xBnEEpJ3b8GEr9f+ydB3gUVffGf5tGElLoCVU6KKIUqQIKwYJgR8UCVjBgr/CJvWAFFUECqCiignwqWBDBAILSEaSD9BqKEGBJJ/k/Z3YmmZ3M7Mwmbr7of+/z8IRk7r1z28y899z3vAdcVcAlHGgtdQeeBIRLLZJ+nzgcDGmQhI/39XQ7qUqcI2300ZXOGz1LxdhhFuFV3kf2pzBF4LsRMTGqsoxpc2UA5d53AWKpF61xY5KNzKUq4HbS5/KdJ9A4p3z33nnrguDb+ViVOmegF6Xth7DUPfj/XcErTz3Fu6+aH3NWT0xUwPei2bN5dsQIBnXrpvC9rdJ5nTvz+OjRNG9r7XQnDpeierLll1+UakRdRWgoAr6dhLW4depUWt0kjjr2yb17N9nHj/PXwoWslc2AhUVbaqpz0010VOUX94wYwc7hwwthRKGRTmQT8/Op+/TT1H/pJdMGnJw0iaN3yUfJOsln05dzqXzWChITmecUfGuhuuWW0sYQF3RsCRvXFNE2rXiwzVvCrBVQwR+JCPux/yfncPzOEYv5pqlwXKzFUR5t77pdnVnm98+DWZd7NhfFaBriQBoJfVIhsbhjr99je3wxLJOjfrvkgkoXQsdFdhmLX991JZwSiU8HnA/ZbVs4WHiB77i0IslosxbpHW9lfTuN7aI90CGRHp3vAhe4zKgUEj1Sgr44pYG0Vx0a/R++4iW+AUS1yWw8rULei1Ggr8nNJSCY533rKxWB7yRiYjYAVkYEGWiRCNSUVGSMNqm8eGmbWLiFVmKxw7JrSDm8HmicUw67XKImBcF3iYatZIUCvSgdfwhL1vz/16XSjx+nZa1aXmon+gHRwPdTyclc2a0b874Ur3/rJEB6xo4d1DzLd/AWsVhvW7KE3z75hOP79xMVF0f1hASWvvOOj8pd1GjenEfWrCEswrdr5I5p09gwciRHV6worC+uUSNyd+4kTPjmmrVctYTX7tuX9pMnExoVRfr8+axTZQR99bXFDz9Q5QpvBz/ZROxt2JC83fY6w3Kwb6of4HIpfw9NSHBu+Y5QkbX0Jy4OJn8O3XtA12ZwUKydNmn0p3C9fdRTu2r+LdcD/s45kwufnwUZIpdnBVZDIK4B9Ntq0JEswSgfmgmrxaHPQYpuCt00/WwH+bUsBx6Ev4Tv7CDJ46vFYTFk9wLfQjsx4jeNYqU9PNqm0gegL9Yi5WipG7h8qdYomVQAKmPnYFOhWIFL42Ar/hfigyAnISLTKCBXVFFEElZzXtSiXJmNs2wSJBKkMc1VpQZ9z403+Bbr/QFVunCr6kQrfxN/B/ELKK1138E6KUdZAo1zylFXS9WUIPgu1fD5VzjQizLgH0L/uvuvyj15wgQeV6NVaj7o0kHtVFYD38OTk4my0Jo2Dsilt9zCy59JKGX/06J33+XbRx7xoocIrUTAemxCArd89hmNk3zLxK38z39YJw6RqpW6sBWq1btuz56E5eZSkJtLbPPmNLz3Xiq3a1dIX9l47bX8JaHjfVFUXC4qXXopLVX6i3aPjDlzSNOHd/cxBD4dLiMiCK9alfnjxllyvgskEqa08ao+Hku3qK/0lKiKt3iCyIx8ASaI7rBNknHp0A2+WmCX8//N9YC/c3Z8BXPNLJQmQ3zFT1BXju9LkY4tguUWodm9qhXLd0foqAYW8ueWmWtgmxby3KagD262T8u3RjPRSxVpt5JrTg2trrMgXCpxIpkq9BNRBLJ7p4lG+BsWHRcALWMqz5iopsjTL1byLionWootBEZZKMXITsOOUyOWZvPTOJBN3uu2s1kcfOuLmA26bZX/mgyBxjn/loEKgu8ynMlAL8qAfwjLcKzK261GDB/OqBEjFNuK0a4jNp+aKu3kxeRkQu0UN1S2Z3hEBL9mZnpFtvSn34c2bmTJuHH88eWXZB49WqiMIswK5V9oKJGVKtHsyivpcP/91NJRXPZ8+y2pV0u4Z9+p18KFJOr0x7Xc+bm5/BYVVRRK3aaezqdOEapz8vzrmWc44UDnW8MJRvEuzYjnSkggfPx4RFFbH2THK55NdDSkpEB/CW2tS38dhet7wOZ19rK/WrEqVeHSSz0h6UV+8KLecM3tEO+EiW832mV4PSMdlnwCf8yErFNQqTZ0uh3OuxLEYdNhCvg759cHYIMdp1dtbKv/QIcRDltukS0/D36pB9niwGjDyW7+DtQv7q/hqAG7+8JJm+ifNjrclpxvo7a7sUH+WL5DroMwTeXGrmciMygWbQlGJbQaE6UY+gDigGt2IrcDEHUoK+dRCREvQFyTF7QCub4AuDgKC/D25RMhMoqbfXbW7W5Camotc4lNu2H6l18PNM75twxfEHyX4UwGelEG/ENYhmNV3m5172238YUPK3ViYiJvpqTwUnIyIQ7At/RPPh3v/vgjnR0qjJiNydLx4/kmOVmhh4h1VztoNfssJY0YQbf//Eep5scePUhbsMDWal2/b1+6m1Bo8k6cYEklpzp90OHgQSISE5V7Z2/cyN527QjJMIZ3LuqhpoSmfb7N5A4VV6b77oPXXlPk7npUqEDFBQtwiZOqOLnWqIGrWzcQ1Zh4E9WAW3rBPDVIh13MDa1pctPYQujvsZxHVYSRX0CPK8vbsvVuj6ii/PEt/LkQlkyGvGzPSYCcCmgc/1ot4cFZUNmZjnXA3zkLk2HTeGfjet7j0OlNZ3l95dr5FmzxJREaAmFxcNEOCC/hpiv/NOy5CU6Jc58JSNUoIz4s1IXg++xkYoTzrSUrXW/9GnYqNx82GkI87wz7JBQ64T/L20d40yLZJ/rckkSVRja/cqpg5lQhPOghauRJsztpiiFm3BqjPJGUF3CvB/iy4xDr+Y2ARErwlcShVGQmrTYB1XC77yQ1dXkQfJsMY6Bxjv06/GfkCILvMpynQC/KgH8Iy3CsytOtDh44wLkNGhRTLdG3sUZiIiNTUnguOZkIB+Bbs6ndOXw4QxxYgM3G49ShQ4yoU0eRERQAZYyVZlam/ZAh9Hj+eabWcKaG4QoL4/bsbMXZU59EGWVxfDz5p+0Dz7giIuh88iQhFSooFJYdzZqRt3On5cm3fEo1gUIr30dpi7Sp0rp1ZNWrZ629Thx3AAAgAElEQVQ1bbWQtm6CbmKpU5ORF2tVTr79xphBEq9exufTBdDGibNeGa/uM3nwzXCYPwZyTDY8XtjFBQlN4enfIcI+jmrA3zlr34YljzobsG4T4WyHEn6+apQN1bo74YBYWGVhGM66QmPggtlQ2Y+5Fm3v419B1kYQ1ZCYiyCmO2TMh2PjIWMF5O7y3E77Jw+0nuNmaHMh+JYgO1EqUJRNpBlg1+rUHii947HVWLguhHAJkiQWZ7skFXdWedh2eY3X9wPiR2Gmly15NUu28tRbVG50QZd88rfHVbAtjo3+cK9FmUecaX/TSRlKeeljV9zuAv/fOf4Oyz80f6Bxzj90WIo1Owi+y3AmA70oA/4hLMOxKk+3GvH887z2wgs+m6SBb3G4jExLs5Lm9apDtBvuGDaMBywUVOzGYN4rr/DT008r2cziaFiVry/0k1UOw36Lver0acKEumFIfw4eTJrQOWxSjdtvp9nHHyu5Tn39Nfuvv175v6Z4a/yciuFO8IMv4K30OTycig8+SO7AgczbvNk/K9TIF+HN54parvlo2XVGhsHMSq7wwbvDx76lE+2q/9uvi9PshH6warrvqo3Gw9smQNeBts0J+Dsn8yhMqe0J7+4rhVWE/gchogS622b1CgA/+AXsHg0nJHiMLLhoqH071H8UKhZFo7UdpMNj4cBwNaiOLneFJlD/E4jp5DlB2dEUcoV6UeB5ODT2jwbADSwY95lEUjelkHS+GuFSexEYHx7tQTOGqtXyeR2TaVb4xhD+C7gkEJdYjNfa03AU9RDJK9Ztp4Fh0oGbAQk4JMnsqXe0FTd5MKXjoqZkT6+znkPZeAn3XAZJ1pbn4Q/4urddVOU3Q6BxTvntuX8tC4Jv/8arVLkDvSiDL4RSTY9l4QtbtWL92rU+w8Rr4PvZ5GTOpKUVSkebfUq0b6i81l/69FOuuK1IPUO0xIWr7SR9ePnl/Dl3rsL11ugmdoBV6pVPUh0fUoL6e4fHxXFrerriZHlq/Xr2jBlD2pdfknfyJBGVKxN2/LgiKWjqdClUmLAwWq9cScXzPFrO+/v149SXXxaOpXYwrG+32Jec9EPqEyN0RsOGLB01yj/w/ewjMMGgGGPU+DZOguwKfIvHwJxtUK+Rk+krmzwrp8N4OWq3SXrwLZb8em3gqSIFHKvSZfLOWfk8rPK9+SUmAXrNgSoONMPtxsJ4Pfc4nMmEiGoQYrcADIUPjYR9Yn01SyGeYDXNfoGK7eHkF3BAnBF1stT6B0HvyBABiuV7rQq+xfItTTPdGOo8w43NMFrElSA6wyBU5EY1So3I74kmthmHW6tQKhJwqjVYLMRCAfKl5iSOk0NVx0kr+U4zjW6rCTRav+VNJzJ/Au7/3lQm6/7vbXKZ1RZonFNmHQnwjYLgO8ADrK8+0Isy+EIIzGQK5WTPrl0+K9fTTk6mpSla3HospxXWPl+KHaVyZWYfOMD233/nu/feY+nMmeRkZlKpRg163nknfe67j+p19RHkvJswISmJHQsWKOBbPjuagUw7cLUIjKfkFdajPakAzn7gATqOHs3+yZNZL5rcQnHRJbmHFcVU6CbNp02j2jVF0m17LrkE988/F9YgbdULgsnv/hwOy70za9Vi6fvv06NFC2IbO7RIvjsCXpWgIIakgVA96BFKSUS+M4WIibOh62XelR49CN9OhPnT4dRxqJIIl90GV9wBsc558yVa3W92hz9/sQ2apNStB+BR8fCOWCV9pzJ55wgnffl/YI2FCoVgrFAXRMRB76UQ39yu2WVzPfcgrBW6g7hp+0jRbeFsNZjWsffg8EMQ6cPZU+WXKeD7DxV8V1KD7FjtWu1OdgoDL7og/DS4hBQu8y/62aLhLTKcPqQeFaKYHvnLDeUt850hCqY2DmuAQYC8TySvFfiW7bWTqAZSr7aT0BazlBMeueF5/Btmv0zW/d/Qzv9FFYHGOf+LPgXinkHwHYhRtagz0Isy+EIIzGRe1rUrS3/7zZHl+/nkZNLT0hSLrAZu9Wxp/efr6YkTyT9+nI+efNI7qI1qlY6Oi+OFWbM450JzbumM++9nydixlp2WT5rGA9dn0kQUagioFGBjJhUYEkJohQpc/ccf5B8+zHJxXLTIK1bx8NBQoqpVIy89nfAqVah+883UHDyYqEZFVmBFs1y48yba3ho2kJ/+uLAp4DsxkaUpKXRdu5Yqzzzj6apE3UwZBytXeCzzrVpD8mBo2dJzfdd26GgD1LWdUvP6kOZ781U4viM+hF79PEookpb8CMP7gkSi1CyH2qlDfDUY+SPUqA05WVA5ASKdbIkcrnOZr+QIEAUPJ0kPvuMS4E2bkOX64/d62cSs/cATRCc8GhpfDu2SocrfdApwZDl838GD1fQWYK9o3S6oeyX0EEutHyn3BGTuFh4TRDf2/Pw70sGX4YC6Hu3qa74CKl7gySW88LQW5iV0/DJ3lgq+2xocLq3upcemRmyv54CHHwSXDLQok+zUWby17b28xWTg5XfNsdEM9cvfegGiHmJMEhlUTla0hmjg21iPbAKcnQR6g28pI20Tups/23m7ifJcD35rrccp0DjH2QyV/1xB8F2GcxToRRl8IQRmMj+eOJEHB4mVxjpplm9RO/lLdbhUALgKtLTQ7gJAIypU4JFRo6hbuzYv66zCxtrFoTA6NpbxW7ZQOSGh2M2XTZjA16r2uFXLzAC4glck/HynTmStWIHIBhYmtb2h0dEkffMNtS+9lNXXXMPhb7+1tZ6e9eijNB9ZXC9b+nx8wgSOvPACZw4etJ0ksQV7YSqLEhoOyVDBd6cXX6SGKJ089R94Q7WSGuk1AsBHvyc6jHDPDfC9hPn2kXpeAU0bwOfWmxyv0oIhomPg6jug+1Uw9ErIy/Vweosll8dRM+yMB5dHiP74bXDTE1DXKWfWR9tl03GvBpJsh93b8t2xP9ypSbpZl3Uf2knq0rUkbUgmJls0knWoTiIi9h7jAeGlTb/eCds9fgO+Uwj03QUVrU+MCsu7t8L2V+DAVChQOeUVEj0h4xs+DqGl3Aj9eRmcmmOrWKi0p9ZrUFMoGGraUwXyJZCMIem44IXgu30yMdE24eWlGlljehVJvTOnpq4iGcJPgEuCYolSiZUF3qgm4mtWxAIu/0SDXTjY8r6R8O76ZOUpWhLLt7bLkBO3O+0WTImuB7+11sMWaJxTogkrh4WC4LsMJyXQizL4QgjMZJ4+fZr255zDvr17La3fGvh+WcD3oUNKvhZt2vDup5/yy8yZbFm9WgG853bowJV33EF8lSrc07gxB7dvt210/5dfpt/w4hSJMR07snfZMtvyWrwNyVj4jQVaDxxI1yefZNPYseycOlUJLx9ZrRqN+ven+eDBxNSrR256OvOqVvVYj22SBLvpcfSoV678jAy2t21L7ubNymfcCZdbPrdO3Oa0fmngu+ODD5Jw7yB4xuOEapkeexzeeBNOnYSbL4eVS0xPHjivLXw5F4Q20sfCEukLP8RFwhlRTbBJgjv0oCiyIrzxE5zrh5qG1S2eaQ6HttpunJTiesv3sKXQoIPvhp/Jxf3h5aQmPKiCb6OlXD066PcNnO0waqTVHWe2hPT1diPpud7jW48F3FdKXw7LesIZcabTJ7XN8e2hw88Q5mQlWtxoXQPIcXhiEn8NNJYw6YJ3z8CeMHPcq1BsPHNVCL47qODbyejojfoarpafiuVbQsdfD+EPmIBjY+VikbYithnzao2Wv0sZ8XH51qS1AuiNsWylrFFeyKqj2oMkc9gVeMQPq7mTwSvKE/zWWo9XoHGOfzNVfnMHwXcZzk2gF2XwhRC4yfxzyxau6tmT/fv2KSBawLU+dbjgAu5/+mlGDBlC1erVuW3wYK4bMIBICURjkoTjnfLgg7YNlnvVbNyYiVslbHFRStuwgbfPPde2vPa50+gnevZkvx9+oLEh7LuxwtPbtvFrkyaO7iOZLs3Lw6VzGN3evj3ZK1Y4Bt7ajUSVW1NaMwPs+s9soeV7+HBq7N4JPvTDlfrDwmD3XhDd8awsmPYxTBoLm1Vw1+RsuGMI3HI3aPM38XUYOcwbpOtHxeyIQQynTnYbUo+e8ioOjzHx8LlYcOMcj71pxp/fgWkCQhwk4U3Lur7iabjaKgKgrp6NX+GecT+pLVIswLeiBwk1WsLg1Z6xK2n6O8G3bIjm14ecI75Dode5G877oGQtzs+EtfFwRneq5KumyBbQQl1/UnZvtDn41hmISw2+pT3aa0wxFsspzCIImQZ8YtPvkoJvrVopb8bz1psKtLzag+Rr/WhEP5EPFapLWz8ePv+nOPittR6zQOMc/2erfJYIgu8ynJdAL8rgCyGwk5mens6USZOY/OGH7N21i6joaC7v04eB991Hk2bNPIFeevQgNta3texMXh79a9bkhMFKbNV64X5PP6FJcXlybZg5k8k+KCtGXGj8VEZVrcojhw4RYqOsknPkCPMdaoKHREdziU732/3rr+zo2rUQeOspp3YzJcBb2ix2LzNbmH4ToYHvLp98QtWZqvXQ7gavvQ5PSDhsXcrO9vxSwcL56+uPYcxzcGCPdzn9TkC7IjjBH9aCGTn/wTFwzX12PfF9XaJXvtIe0nxH7FM2CVXrQa/hHolBJ0B5Sm/ce1aT2mKcNfjWWnfvKqjVpuR9+fUO2G4HCKV6B7ST/Z/CHwPs2yJKJEn7PSon/qaM1bCljbWPorE+kR08V91gywZofyKcOezJZWR+qB7OXrSTivb8/GK0E30bxOodNgFCRSddlE1+9L0xUYCzE3KY3ETvUq3d1KiOov1dHibhaGuO3Zo3iJleolZGTlWE2lSKzZ2f8xv81loPWKBxjp9TVW6zB8F3GU5NoBdl8IVQhpNpuJU/Y7/8u+948aqr7IJXF96hxllnMUmntpKXk8OaadOYNmCA6efG+AmSz5ymlKv/9HV47DGS3nrLdtCWdelC+uLFttSFWgMG0PKTT5RTgcNvv82BoUMpyPN29pO2mX2KjY0QO5YGuuUzL0BcY0UY+5dRsyZLx42jR2oqsWPfs+2PkuGegTDezBHMpriovaz4Bb4YA/O+sT55Ly34FvB7/kUwar6z/vjKlX4AxlwNu0VRQ6gFqoVbVqA4VvZ8GBp2gCbdIMSpcxvw3jm4Tx33bfnW2tXvazj7Ws9vWemw8RPY/4vHMlylObQcCJV98NyPLINZdsFeXFCnDySZURp0A7TqOjg0w4FuNXD+ZKgtkRn9TBkrYUs75+A7pptHclBL6c/AyZc9vxnBt8riKATfFyQTE+OA8+0rsE7oEIjQ/BqEdiLRKX0leTqd7C61IyGzuqS8UbpR6rU67dGAuFaXdEjGSDZ1ZQe85e7+vO/9XDn/+OyBxjn/+AFSOxAE32U4k4FelMEXQhlOpuFW/oz9lyNGMHn4cMfg+/onn+Su11/n+L59pI4cyeKPPiLr5EmlBfLJkU+Q3hJslO7VB2U0Ati7Vq8moZWEfrZOaV99xR99JYCGRVKtpB1XrCC+bVsOPPccaS++6LNOM3an/pNqtD3Ht2hB2IYNnqNxPf/c5SJDpAbHjiVp/TpinnWoLnHf/R7Hy5Kmd4bCx2/4Lq3tIOxwgUyYmcBGo/Nhokiy/Q1JrKlbFsDSKXDyEERXggtugJa9IVRPOPfjXuPb4f5rvzPLd//Z0Pgy2PQZ/DwQ8jJ1GwHVn6DlIOg+BkJNBkPav/ge2CbSd2ZJJPJi4IplUOls350Qrvdfsqmx92PgnDFQvwSnD3npsL6Gc9pJvfFQXefUfSYNDp4P+UKNMXF6DAV3rqp20iqZGJEa1F4IVr03KvHp84W9CuHD1L/MA65zsBCcKJH42mrXBswi5Ar41jsgWDVFAvrY6L876EVJsvjzvi9J/f/kMoHGOf/ksdG3PQi+y3AmA70ogy+EwE+mBMGZO3u28i8rM5N69etz6+23U6lyZUfhhsUq/PmLL/L58887aqxwvidu20ZBRgbvdO+O24KqYqlqojovalZkIw5sNWgQvcaPL2yLtO/IokWc2LRJiSBZvUsX4po2ZcvQoex64w1T8CuFz3n/feomJ5O1dSsbmzWz7ZuviJx6q7dWUcJvvxG2fz85775L/m8S8ll2HKGEXXstuQ8/zPyjR0mKjSXmkiTbeysZvp4BV5ci8t2Ud+AtGy61YFor+WJ9K83wiWxo2vSEN+c4648/uQTICh1F+NgVKjqjmJjVP+853Esn2Fu+I2Lg8YOw92f4TgN1Fioa5w6ESyxOJEQycdWTsOk9KDDIJ8Y1hYumQRXfG0mlG2v6w4HPnFm+23wNiarF3p8xlry774C/PrFXOwmtBC33goSt16ec9XDkcjgj4dfliZHNguoQGlIFd8TrpC6pTlLrN4iJ3g/hh8GlbmqUenRjbPSNNGLbiDkQeol6d7mPOPsKVcmH3rgSan2djzx2Z1zy/BwDZqkKKFrnhebjRB5TgviUgsrk73zq8ge/tdaDF2icU4ppK1dFg+C7DKcj0Isy+EII7GT+vnIl/W+4gd2GgDshISEMefhhOnXrZhll8VR6OtPHjuXrceM4vF8+ph5rtdh4fNkd5Zt52d13c3DuXNJ9qK1o9elthvJ9Ffa5L/xX/dxzuWedfEBh37ffsvrJJzklGtm6lNCzJ+3ef5+MNWvYNWoUJ5YuLbxa9bLLaPDEE1RN8oDefY89xuFRoxxNhJW2gZHnHdmrFwk//KA4ukoS3XFOnsRVvTqu+PiiI+AePYjp3Ak2b7JWZxHLee3asH2nR26wpOnIQbi8brGgQ8Wqk04qYbw1qochh1HpRH952CdwqQNustM+ZJ6EX8bBwnHw125PqcSz4eIh0OUeCHeqKqHe8MQ+3O93IvWcMb453x0egF7vwKSmcEINn+6rzQM2QlUf1uvMQ7BjCpzaCWFRUPtySOzhfBNxZA6scBB4Jbwy9DgAoX6Oi9a37O2wpS3knbDGsK4waLYUwmMhUzaVeRDRAiI7efojzpcZ0yDjMzhzBEKqQPSNUPE23Bl4b/gLciFvJuROgrwfwVXg24CsAHChITWECls9m7HCJCotvSUmrSGypQr+FeAti1ecRAWsa6cIGjXEiRKK+GdIRFLxZxFKlGwcEgGZ+ydErN/HKhGpQnFYtztWcvpw+Jcv+K21Hq9A4xz/Zqr85i534Ds/P5/XXnuNCRMmkJaWRvPmzXn22We57jonx2AwY8YMnn/+eTZv3kxiYiIDBw5k2LBhhSG7xXL59ttvM2vWLDZs2EBGRgZNmzbl/vvv54477ij8wMuUffzxx9x5Z3Gd0LZt27JS9IT9TIFelMEXgp8T4kf29evWkdSpExmZmUpESWNKSExkVEqKqcOlgO3BF1/M3m3bTJVShPlo5GRL/RqlRA53qzhsqzHapASs8QXuq559NoM2bmTX55+zWAtzbwy643IpoeS7fP45f/3wA/unTCHvxAnCK1emdv/+nHXffVRUI0tu6dyZ0wLOzQL3GPqg1zUw0lE196rInj2p8fXXhPhwYvVa99u2wUVdQRw/TfqhOFP+NBe6yJF1KdOLg+Drib4r6X4NdLwIpr0Nh3SOmnq+kLEGAUTV68AnW6CCuVqO3y0/kQajekDaJsNGQAVT1RrAHZ9AE5Foc57ci1NIPVLTGnzXugDumA+HV8B/eziruPmtcPmnzsG0s1qLconm+m8Szn2V75JNX4bGJlFQ/blf5h+w42rI2V2c5RJRB86aACdHQWZR1FelegHg1d6Cipdb3s3yfZ91BZyZbW/ZV4C3RG+dBaGiwW1MIhuaAkwC/lIvSmCqgcAdgKgtGdVcrM7YjHUL6PblHC1BqYSDLuOit4KLOeEmNWz8/wZ4S0+C31rrhyDQOMefx6885y134Hv48OG89dZbvPLKKwjInTp1KhMnTuT777/nChtZtJ9++knJc/fdd3PzzTezevVqnnrqKR566CFef90TdEMemjp16jBgwIBCK6UAcQHkTz75pAL8taSB7+nTpytltBQTE8O5DmXe9JMf6EUZfCEE7lHr26cPP82aZanzrYHvqlWq0KVrEYARGsedHTuycflyn40T25rezUg7FZZPmQBoue7kU2MU6hJQb+kW5XJx9o03csW4cXxTuzZnRHbPCjS7XAqIjzG5HlKhAq2nTyfhyivZ3LEjGQ60x2UwtLaa+YFFtmxJtZEjiUxKQoIN+UrF1v369fDYo/DzXO9i3S6CN9+CC9RIgiVdLmuXwbT3Ydk8OH4EcrKLvEM1a6KMU+su8N4PEBPnsZBv/R1OpUPlGvDDBPj2fXN98ao14a1UOMuGu+y0/dKWty6CbYt8l5C2N2gHt0yAug7oGzsX4P7vPaQ2HWkOvlvcBFd/ABViYM1YmH+/0xZDjTZw4StQ3xp8Oq/MJGfWQVh+Cbg3mFt26w6Cc8cZrMElvGPuAdhxGWSt91jANQcNzfvY9MFW3wA1p0OManiSecxZANlfQ/4J3Nn1SV3a1vu0LX8vZJ5lD7yVroRD5EwIFWk+X0mUR4QeIg2Xt5HWYKGXqQpBhcX1fBarN5a8laYD9vQ0T4h7iYQp3HCho7Q3cdIs4byUoljwWxsE36VYPkrRcgW+Dx8+TN26dRVL9QsvFDlSJCUlceTIEdauXeuzv61btyYuLo5ffinyGn/xxRd5+eWX2bNnj2IJF8v3iRMnqFLF25Z4zz33MGXKFI4fP06Uqu2rge8///yTxqplrzQDHgTfpRm9/13ZPbt306JBA5/h5TXwnfrjj4xOEWuRJ61etIh7JTS7gySfFu27rD+0lZVqpkRnVqUuAJ5y2S5gzc2pqewcPZqDM52F5Ba7UzGyhstFSEQEF/7+O8fefpu/PnCmjawxMopBa7G0n3ceZ61x5mxo+SEUK/iKFZ4NRevWcHYpwazUM+pJ+NigEKNRSkSuTSzrzVvDTUPg0hsh3KjmoM6a1LXsR5gxBlbNhTN5Hmt3n0FwZTJUqu5gxTjMsnM5vGYTMEerSiZXeOCP/uobgB/dCimtcYdUIrXF+ybg2wXC9R7yB1RuAGvHQ6o/kS5VENfrU2h+i8OO+pkt7zQcmAJ7xoN7MwgFpFoPqHcfVOv591jeJYjP9o6QvbGIAqJFm9KOdyx31WKZjoGGByD/EKRfB3naN9CFOyuB1D9SSLpgKjE1x0FIJTjzC2Rd7HAgakBFiUpa0iRO2HJ6YMYLt6KdyKbuVeBviOBa0mb/DeWC4Nt6EAONc/6G6SsXVZQr8P3pp58qFumtW7fSRBfYY9KkSdx1113s2LGDBg0amA7c3r17qVevnkJXEaqJlnbu3EnDhg356KOPTCkkWr5x48YxZMgQBaTLBkBSEHyXizX6P2/ErO++48arjOGQvZulge+xI0cyZ+HCwotv3Hcf/33/fUd9EGCr+fnrP2cSbr2klm/5voutyiw1ueYaqsfEsGfKFMex6qxCY0j9dQcOpNG997LZoWVZPs+a/rixfaG1atFQ5cbbDV7hh1A433v2gJQTmoq0I1xlwYs6jATfkU13hAUg9nWj0274eCSMe973EUTbbjBpgX/ATYB4/pmSq47YDdCXj0Lq23a5PNcVOowL6raFYWJxtEjfJcPK8bgrJPp2uOz4MPR6G/7aCJMdRAn1up0LQsJh4F6IruGs/eUt15HXIU2CMxmOrjSrt5P2Vn8dct6BfFE0KXozFEoNnp9MTOxZUOUXyF8NWZ2c1AquehCtcv+dlQD2qjKEX+moKL4KS0ebA6LFLX4hQlv556cg+LaewyD4dra+yxX4Fov3O++8Q2Zmphf3evny5XTo0EGhnvTuLU4gxdPs2bPp1asXixcvplMn75dPxYoVFWD95pviHW2e+vXrh9BWxMIeJhHwdOA7ISFB+XuNGjUU7vmIESOIj5cYfP6lQC/K4AvBv/lwmnv2Dz8gtBNfSQPf748axU+6k5fh/frx85df+rSaa/Xqwbf+XsLjtgLQxjYZOd8CcAW8K9ZqndPfuf3706RLF5bce29hIBsntBZf4DskMpJua9ZwYNgwTs4QHWX7JO0qRosRy3fLlpz1xx/2Fej5l2NGEzNPZNLUJMGBenSH/Xtg2RLPH6OioWs3qJUA0dHQqAnc1B+qWgRSWTAbPngbFupURwTPy0Bb+Wt+vBDa+seddtTRkmaadDssFd1mX8oVauWav5z8+uRyqN+u+F3zcuC1ypCTgTsikdSWKSStTSYmO82bfiMlK8TDsGMelZwvL4b9sjF10A79XYV+0v6pkvb+f1dONlWb60DegaINm/aQyYPpSOHRBTGNwfVnsX54ge/INIj7CKJuhoxawHH7fofdAxVsfBa8ahHakhi2suzrLswhFBh5Fzh9g/lR9f8wa/Bbaz34gcY5/8Np/1tvXa7A96BBg/j2228VR0t90iZz8uTJ9O9vHvDg888/59Zbb2XTpk2Kk6Y+CV/7sssu48MPPzQdPAHdAtxfeuklhHOuJfm7gHkB/pGRkSxcuFAB8M2aNWPp0qVE+LCgHTt2DPmnT7t376Znz56sWbOGRo0a/a0TKZWJ8+iSJUuUzUe0AItg+ltG4Mjhw1zSrRsFwtu1SNWqV+epl15ixeLFDHumSGt64vPPM/szkTWzT2L1tpo1+XTptbzNajN+zzUc1e6223BlZiqc7tg6dWjWty/xZ51F6tVXc2LzZkILCixxpPE+0j4zzKDRXTRsERkSQqiJY6pZu83Ugis99hjxyb5pCgU5OZCeTsZ337G0fn06Pf8c0Yd1x+i+gopIQzQlNLGO3z4Ikh/ytlhPeg8mjbZWKtFCcBo7dUlfeFiO1ssgifPgxl/g9+/BfQwqVoY2vaFF9yK+8qwRsESc5hwkPfi+7CnoVNzhnNNHYWInBUNnRFRnSfOX6LT5GaKVcO1q0rMO7v0dKsRC+nb44QbIcfsBwF2Q2A56OXuGHPQw8FkKcuDEbDg2DVkDsPwAACAASURBVPJUXw/jztYx+JaXgtBPim9YMrKrs2TzS3Rq/gzRFUQJRazfP0PuW5BXJB9q2eEK30KIUyrWQdXJMsePuZMQ77Jpqhr4MS/jOwS/tdYDvn37dlq1asXfRdct46kts9sFFHyfPHmSAwcO2HZGrMg1a9ZU6CJi3T54UB70oiSTKIokvsD3Z599xm233aaonAg41qfatWtz+eWXm4LvjRs30qVLF2WxzJkzp9DqbdVocb688cYb+eSTTxSKjFUSxRU9b12fTygu0t9gCo5AcASCIxAcgeAIBEcgOAL/lhEQ/DZ48OAg+LaZ0ICCb3FgtLJU69t1++23K/zqoUOH8u6775aIdvLjjz8qSif+0E527dqlAG+hlcyfP19x1rRL4rAZGxur8MfHjtXC8RYvFbR8243kP+v63j17uOX66zl14oQphaTQ8r1oEY8+9VThqYionQzt25ft69YRUlCgWI01fysZAf3/hcjkS3lajGfC/a6ZmMgp3emQURdbo5dqxrZbp06lTluxQhUl9549/KRqc8tftSiZZrOitVEMvcbYg8KeNmuz5kzpZJY1FoeSNyqKhAkTiOxoHkr8zIoVZN1zj4e/LY6oLsitUZ0lL7xEp+eeIfqIan3VzPN2XBo1VHdhO7/6Ceo3hPtugvWr7SUT9eFDpRKh9nTsCU874/k7GZ/CPFlu2LUW8rKhYiX4+EFIF0u/CY1D2hFXA56YCTFV4IObYY+NtJ7e6i03vWUiNDU47wmV4qPucNKjVW9p+ZaLYt09qytcYxKV8s8Z8KtoOdslFzTsAxfZaMdLu3Z/Cn+OgVwD5aJaV2j5CkSV0uDhFtnAYZC5zbvRYfFQ9wmodhX8eSXkiKSkOifa6YrZOtQeJrs1aqZDKmOvt3xHHfEcSYUIH6oChLYFcQDOX+xNE3HVgbD7Iex6u4E3XJeAVKLHbZdk0sV5W0h0/94UtHxbz23Q8u1s3QcUfDtrQlEusWwLEDceV2iOj74cLsVR8qyzzlJkCUW5REsCsMVJ0+hwKRb5rl27UqFCBYVOUq2aBefT0AkB3yI1KHKGY8aM8auLgeZCBXlofk2H35m3bN7MTVddxbY/i/MvBRC/lZLCsORkunbvzoTPPy+s/9C+fdzZti2nDh/2AtvGBhiFvKwaeMszz1CpUiVmP/ZYoeiXBr/033EJSlO9eXMe37DBy4dC6s11u/m8ShXyc4t0evU4VF+f/F8PsrUTc2mvAHIz7CD5nQR3lLZI3sioKGL796fyo48SYREhs+DYMdzicO12FwbRqeiCjJqJpL6fQtKQZGJkU+KPM5vk1Tf0nHOh84UwzcGxvTReyhv37C9+CNfe5ff6sizgPg6fPw3zP4FsNRy3TIKTGEHXPgX9XoETB2HkxXBoq3W7CqkiLqhUG17eBSGGm+yYDx8V6XUrDpfn6Tjf+tplbG77DpqZ+EsIWP7kbDgu7bHhgF+fCvVsNMLXPwcbXrTom8sDvHsuh2gJaV6CdHIFrLkI8kVazyIsfa2b4MQ078pl+JQgSyYPivYg6XfgxqbJQ2kh9V7I+W6fTEzFNO+dvBYJM+w2CL/GE/lSgHdItxLIJwrdzh+a5HzRrCzBIP9zigS/tdZzFWic889ZJb5bWq7AtyY1KNrczz33XGHLhSd96NAh1qmR+Ky6JNSRypUrK1ZsLYnMoMgNalKD8vejR4/SrVs3srKyWLRoEUJLcZo02okvCoxVXYFelMEXgtNZLHm+pHbtWL1yJRr7WzMWisPlayr4PpyWxtzly2nTzuOsJtbvfk2acGD7dtsbi73ILp6e5vQowagtAa4aDfKOGTNoYaHUsrB/f7ZPmeLVJkXsQocTBGYo6nMmLfelIS64wsJg512Ty0XzZcuIOv98XDYqJDkjR5L9+ONe5WNccLo04Ftq0w+4DIDsBvwRRNF8ryVgSVwlmLvX49j5dyQB3sO7wN6N3rU5suy7ILYqTBBHyFDISIcF78PsVyFbeNdq8joqkV8K4K6pcIEEMzGkVR/BN3cX/tEn+I6rBU/ss1Z+2fpfDwdcA4pm41XnYug7z7d6zImNMNuBkkq9W6CTD+64bAgyd8IZN1SoBRE6g8yqdnDqd2vgra0jUYoxbia0navZLlXbRJldkwdPylo4ZhYD31brrcILUOHZUq5G4YZLBEonSQLQOTNmOamtPOYJfmutZyXQOKc8roeStKlcgW/pgKZ4Iooibdq0Ydq0aYwfP56ZM2dy5ZVXFvbx4osvRqza8k9LEiynT58+CndcC7Lzn//8hwceeKBQ6USUVIRqItEtxRouMoT6dM455xTSTy699FIlgEGLFi0UC7kA9ZEjRyq///bbb4RrMmYORz7QizL4QnA4ESXMtm7NGi4WvWiTVMMAvm+7+27eVfWuNyxbRrIFjcJYlRjJRJ3EKmnRyDVjmC8AXqN5c/q8+SZnWyi1HFu3ju/bt+eMOC76cI4UEG0W5kbaIPe3Slb+iPr8lfv1o8EXXziakdPt25MvkWV1gX7EFy0jMZF54/4my7e/4FuzfMtmJyIS3vgCzmoCm5bDT5/BmkUeGcEG58C1ydD7doj0A5i/dyfM/7j4+Bj5P75GcOIRiFPBUMZxWDQB5rzmAeOS9MAvLBL6jYXOFpb7P76A6UW629bg2wWNesKdOpUYszb+keIJvlMg21kNuKo/61wEV86ASF9PhEhNPwDbnJxChsDVByHSIFsoTqt7J8Du0XB6k9rKEKhxFTQc5pGAXOUgMJNMqxWFROZL0/U28s7k4ZKy2o5es4hrD53FCYc7O5HUNSkkdUgmJtpbpMB7qKMhZieElEau8VHga5vnVDov9Lb/Onqe/8mZgt9a69kLNM75J68bfdvLHfgWWserr76q6HWLtVucJyW8fN++IuhflMzAt1z9+uuvFUdHcbwULrdQUETBJDTU8wbTaChWEyhWc6lb0sMPP6zID+7bt4+cnBxFR/z666/n6aefVqgn/qZAL8rgC8HfGfEv//TPPiNZC8FuKKoH30cOHaJthw78tMQjb/fL11/z9PXOOJaySq1CycunTaOG6I21UkZ+1/6mff+FdiJA9Yo33uCiJ8z5tfvnzGHeddeRJ+HYNSlC9afUY6ZEonVdrOF2XhKCKaR9ZifrMV270mjWLEIdPkvuRo0o2LHDa+QF0+TVMtBOJIdTPq0xKpG2u7ENgKI2QyyT0SFwngSxyYf1y4pCd3q9aT1zQePzYPRcqGIDhE6fgEXTYMIQD3g30hb8Ad+T0iE6Hg5uhNE9PRQUnexkYTPPuxoGTIJoH7Jw7kPwRh3I94T89mn57jUKLnzE/iE7tglS74WDSyE/19NX2ciccxe0GQaxnrgLlmn2eXBinf19JEenL6GeWNvVJKB/bX84KBtAo9VaVEZCoe7tcNhcKcvrphoHywqAa3Qo/dGSPBgVmkK0nIpZqykpFnDDZfeZRFJXOgHf8jxUgPAHIPQVcPlzrKP1UMZXi3XgiyY0DrCLmOlsqspzruC31np2Ao1zyvO68Kdt5Q58+9P4f1reQC/K4AshsCvim2nTuKdfPwVIGj8/Qjt5XaWdCPhu37kzs379VWnQirlzefTSSx01zioojv50WnCXGfYSoGtF9Ri0YAGNLrrItA2Zhw6x9cMP2TV9OtnHjhGVmEhUXBzHf/7ZZ0h7wRIiImbnLyZtlc+9ZshzVaxI3XfeocqAAUpkTKfpdOfO5C9dWtwJsqbB8i0VOpVyMwqj6x3k5P9WfFwBr2Hh8O4nsGcTTHjRA2hDC+z1m8+7EMYvMqdS5GbDx8PgpwmQ7XEqLUzSJ42XrQ9RbjWA0p6658KbayHzJLx4Npw86NuJdNA30EoCopikw5sgfQ/8NhK2z1UymINvF4RHwRMSHMdqK6nWn50OM3vA0dXm9JPI6nDNL1DFQhLv5DaY3RZyT3oWolVgRa07jZLhAgGIatr1NmwWq67lIHo40uHqBkiyWS14f7yMZd2FREHV+yHxVTh2E2SJZdkC2GrccbmsUs7deYmkrnAIvgu1QHtB2Exw+bN708ZGKDtPq7/o26ltWkQadJjTx/kfnS/4rbWevkDjnH/0wtE1Pgi+y3AmA70ogy+EwE7m3t27Ob9+fdPPo1i+30hJYWhyMkfS0nhw6FCee+01pUFZGRlcW6sW7hP2agFiSZYzFb1LlxFPWDk5+rKaV23cmCdNHEWtRmxJ377s/+Ybn3QUKeuL963VrTE5NMxS9eabaaxzSHU6aznvvUf2gw8Wy56VmMjiFA/tpOLBNI9RV4yWhTsW1epsLKnfEcg1zeqt5fPlEBdRAcZ/BZVi4W7dpkYjx9vtSFIWQasu3i3Ky4WXr4ZVP/rEgko7nW4uBo6HnoNg/nswvfjYed1IBqxum+KRLbf8CPNegL3LirJL0BzyTcC3DLwLzr0GapwNtdpBk94QYkFcntMPthmcFL0bBfGN4ObN3s6fmYdhyd2w//viY+WLR13/Vuig+jmI1fuXhpAlURstQK+24THyrswcKOVvsgP25UAprY1Pgur9Ie5aCFXPjrJ/g6NaYCYfbalQBQo88SPcOYmkLvcTfCvrfCyEDnH62BnyiXrKBDnP042ZUE3ED+CKEtb5zysW/NYGwXdpV20QfJd2BP0oHwTffgxWOcy6YulSLuvc2VRqUAPfTyYnczQtjd937OAsUeZQU8qwYXz2+uu2vaquWomtvt8+/K8UTObLzpi8cCENujqLvLjs1lvZK1xsHb/aqvF1W7cma7VYLosnI/CWHM3nziW+Z0/bsTBmKDhxAnfjxiDBq3QcdeF8L01JoUtyMpUOpRFSuRKuWrXg6mugSWP47zRInePpi4BGV34R/1a7iaa1aATNmjVV492KI+V1/eGuh6DJ2fDY9TDvG7VuPxw1rxkEwwyKKrMnwNh77cdFa6u2K5PFYkbKb3kJdOgDCz+AI+vMFTfM7vbMRqipWppXTYKv7lYZGQZQ6AJ3VC1SW75fFOFSogO78ryVWGJqQe/x0MSgeuLeB5MlAqKFeoi+bb1/gLNUcJd9HGZ3hJM+lFs0jpZxPps9BK3e8dScvhKWmkTwNK4Jy9MPEyt4ofXbSGFRK429CJrOhhATt+rTKZCugWITAK7Me2WIvBFC6+E+vZvUxVc44HyrHtPKWMhCaQbhG3w7sdquQtkA/CU7CaA0XHLbG5XLDEHwHQTfpV2YQfBd2hH0o3wQfPsxWOUwa//rruOHGTNswXfT5s35Tqe4I13JzsriySuu4Pf58xXZP1FAMSaxImuUEk2dzJhHE0AwM6zaOWued9NNiOa3k7Rr0iRW3uVMLi9p9WrO7N7NruHDOb1hg1K9tM8Mz8Z26cLZv/yCS7Gc+p9E5ztDKDzpqrOg6B2r4LtjcjLxN95IhXfeKSatiEgqZmUpOuK0awR793gslHoqh6/m9Lgcxk+DijEeAC9J6uwYDWc8/Gelw05O88XC3KUPvCl6yGqS9fDA+bB7vW/pPanfSmJQs8ZGREHX22DPYjiggqyIAt/8IG3C5GezJOh0D9RpDe+2UDc65tZYhXbSKoWkiBXErHjFoy1dzIqsWsNvmAFNi5zmWTcWFt3vbBE0vwt6qLzrVU/Cxjfty5kJ4HeeDnX6woEpsOU/kL3PvB6nJwt6C7i2UVOkfupBruh9qyk0HqrfC7VfgDMH4dQUOLMfXLFQ8SqI7OIBw2IBP/UCZHtoPYUPk7ZONV56xTdw599D6ryFJHUYQky0j2B2UtbI7goXSc4E+zEM5jAdgSD4tl4YgcY5/5YlGQTfZTiTgV6UwRdC4CbzRHo6DatVI98ixLze8i3f4M2GKK3SspzsbKa+9RZfjx3LX9p1l4uwggLFWVI7mBfmgsUhfeG3WPIbAbidTGF83bo8tUcHCHwMV15GBj/Urk3uyZPW1BOXi2oXXsjFixYV1nTgzTfZO3Sot8Vcde6L6diRpt9/T3jV0oWbzt+7l9wxY8gRNZljx8ioWZOl48ZxcUgIcX36FAfe+n7u3gkdVIUjM3F0qzF57X24Y7D31VMnoKtOicMp+JaZu6I/PPtJUX0iKXizDT9aAJQZ3UHfqph4eGkxTB4E234ruuKrrAboC8dDBdARsh08bW5VV2suBN87nyDGLcFnrJzxXBCTCA/uKaKgrBoBy4Y7eGhDoOE1cPlXcCYb/lsTcgyBdMxq0Rwc5ZqsQVE56bMXdr4Jf8p9LazTkl+j9tjRh7T5KPwpfPfq0G4PZK2HnH0QUhFiL/S08EgyuD81kSNsDYlfQnhjON4dchZ4g+9i/QvFHbmZ1PkbSOrwODHRhsA/euCuzb2+jvA94LJxZHUwM/9fswS/tUHwXdq1HwTfpR1BP8oHwbcfg1XOsv65ZQvtmze3bJUefIvO97H8fEsQmJeXx64NG8jOzGTfxo2MubtIN1lTLrHrvtHpUsqJRoUvrBBXqxbD93siEzpJB3/8kcVXXUWBUDyMUoQuFxFVqtB98WJimzb1qi5z82YOjRvHyZ9/Jj87m6hmzag+cCCVBRgLLeFvSsrpQUYG7rw85i1YoMiC2qoQbVoH3c/ztMAp+I6JgzX7IMYQtU82Yp1jIVunf2x04LTq6xszoZumHgHs3wrJzaxHxqjKYpVTFkCbK2DrLO8cVuWNvHezen3kKQTfW5KJyTHI3Rk3CjLeV30GLVWpwk0fwfyite9zWZw7BLqNhePr4fuWzleQxsEXnfMLv4PoGrDEgWyg3MEXd1zfAk0ZR/tbg5FQx+DEKfzyg1dBpmFeCusRZ90aUPMLOGETUEgt4+YVUpe0IKl7Y2LC34Rc3WZO8mg+DMVeCrEQfgRcTsNgOR/u/y85g+DbeqYDjXP+LWssCL7LcCYDvSiDL4TATebBAwc4x0cwJj34Pu12s+/UKUeN2bFmDQ/ptMPFom0n2CAVy/dU0/qWb6xdaHop0+TSS7n966/Z/MUXbJk6lay//iKyalWa3XQTzW+5hfCKxbVSdn/6KRueeIKcQxLG3JOEoVstKYk248cT08ifyHeOhsTvTH6t+7+Owrk1iizzxlCeRqAiWv6ffg8XW6jVvHAPfKOTofNFC1EmzgW1GsCXW0GVP1U6/MWL8HlRYLFig+DUkVMKhoVCpE6dQ6vMWIcZHcFs9H3kMwXfemuwxpfWfkbEwR0roGpTyDoOn9SCM1n2c37dEkjsCMfXwvfn2+fXcsgDFdMU2oyBhEtg3V2wf5Lz8pLTigOm1aJQjVQres37odHo4nzq0zMg7Vr7+8Z2Axaa59NoLeqt3NlJpK54oGjTmTcc8kZ4yvo6IQl5AMJG27clmMNyBPx65/w/G8dA45x/y3AGwXcZzmSgF2XwhRDYyex+wQX88fvvtpzvi3v2ZPyncrRsn8R6+1CbNuxau1axMPuK02GsrUWnTvS87z5WvPsu+1essL3Z1W++ybqRI8lQQrCrCiDqz+iEBK6ZNYuENm0K69n3xRf8PmAABXkqp1l3h9CKFekwcybVk5Js7xvoDH6t+yUL4dqLiitSGK3g8nujJjBmCrRpb92FbeuhXxsP71vj8WuWYjNHvUrV4P0F0FAXkVFOFe6sC8d88Hbtwp7qW6jszFTZQ/3fBUTr9c/1sop2k2Rh0TcF34WakhaVxtWDgRsgIgZ+exT+eNv33Wt2g2sWeNZsrhu+rAr5OXYthpiz4MKPoHr3IjA8LxFyijaS9pXYKMvIWAs9p3JPEOBdKcnckfHAZZApPG5fGtkyP+EQmevdLLmHPkCPelWJcClqJz1aEhPbEAqOQq4EAZPTLbP7yMTEQ/hqcImjazCVdAT8eueU9Cb/0HKBxjn/0GEp1uwg+C7DmQz0ogy+EAI7mdOmTCG5f3/Tm+gt35/NmMEFHSToin06k5fHwqlTGaXW6w/4fnf7dhIaNiRt/XrGtG9PbqZ1+Of60p4//yRLHBXNolmGhBBZqRK3rVlDbN26HFu6lEUXXmjN9w4JITQyku7r1lHRECXWvtd/bw6vdS/ROj+eBL/84nGIbNYM7hkILVSwe2sf+PmHogaY8XQEt0RWgJW7oboDp7R5M2DoTZCrA4TGI//Iip7olv2HQmI97wE4dQxuseHB+w2+LRwzNSAnOMzMccBqaiyoJ+7IWqSe/z5JGu3EDnhr9V82Dtokw5lcmHsz7PjKwMFWzbtVz4er5kKU6ADJsUsuTK0EZwwa6GbtvnAyNDQ8rz/HQ95J/xeglfW76XtQx4HT6E7ZMHgkAn0mxVnTkENjahms2e5MTWrwLWISfgRXDBT8CbkS5EaC9ugXtyzqmhD2A4SYR+m1a1rwetEIBL+11qsh0Djn37IOg+C7DGcy0Isy+EII7GSKlfqxIUOYlJJSTLEkoVYtXn//fdL27OHeBx4wbYj75El+mDyZ7z7+mP07dyoW5YLMTEJzcxUxAvm+2wXJ0yqWIDgTDh8mvIKHS7B7yRI+ve46TqlWbUVRRQXZzXr1on7jxvzx3nu2A9T2scfo+vrrzGnYkMw9e2wD6FS/5BI6zJhBaLQfIdNtW+FfhsJ1f+oUMfcO9KiaiJVU/mkbjdvvgFdegVZ1iizUGpgxUiPk98rVYPMR5w3ZvRWmjoVZU+DEMYitBJf1gx5XQ636HsBtFVZeoln2swmh7g/tJDQEIvN9OkoqHROJaaeiM6bg2+XR+W41jqTtjxKTscNaicVrJF1Q8wK4Y7nnrxLefccMWD8WDv7q+b1KCzh3MDTtD+G6tbX7K1joHe3YcpIumg71DHl/awOn1thboI2VGpVTZODCq0CnbRAmpC+btKMiFDjYMEg18Y0hf5s5/0xH6SkE3+2TianyFFRQ3zsFuVAwE858Dhz2eIOE3AghN4DLn12cXaf+/14PfmuD4Lu0qz8Ivks7gn6UD4JvPwarnGYVAD7lo48YO2oUWzZuLGzlpb17c8vAgZZOfzs3bWJwz54cPXCgENAKxtMOh8XYJZ9FAd8al9vXEFzxyCMMGDVKyZJ18iQbvv+ekwcOcGz7djKOHCE/L49KdevS9o47qN26NeOqViVbJ89nVXeF+Hi63X8/2155xRZ4a3VUrFuXDj/9ROzZFlEIAzyXhR/CIcnECDfdSpv8mqthkU7eT9pltHxrEyJygmk+wn0roLEAdm2FE39BfFWo39SbzuO031LPkHNg/xbrtvvjcNnhWo+u95HtvnXaxYfhtAMHXNnEiFShjIkAYy25QnFfOZHUQ1VISjxEzNx7HYJvse4mwIMGB02t3hy3R80kIh6EI65PS+6BbQ5CvUsZOX2o3Qs6fgoV1JOF3WNhkwNLtR34DqsMreZAnM55U+YxexPkpYFIC0a28oSnPzkWjji8p6siJDwLmUM9LbDyoA6BQtpJ+8HEVKwMcR6Zz2AK/AgEwbf1GAca5wR+dsvmDkHwXTbjrNwl0Isy+EIou8kUEL5t61ZEgrBGQgJVqlUjNTXVFHyfOnGC6xo35uTRo6ZYTyCeYD7R0hDrt9EgqXfAFIt2fGIir65aRVy1asx6+ml+GzuWnNOnCzsfGhFB+zvv5OpRo4iIjibr2DEFfDtN9ePiCBGJQYdJYTDUqsVFa9cS4cd9HFZvm8196hSp8+aRdN9gYowSj5qTmtQigyzhQ51occfFw7YiLXGvRgjI+uFz+PhN2PJH0aVm58MdT0CfW23bXCzD92NgvPmJSWFeJ1KDURVhxAqP1fSNi+GkWD5NkoyL7PacCF50ToZGnWHlR3B8h4er3bwPtL8Xd0SNonW/7CVY/oazvlduBMkGebxDS2HtSNgpQYvUjU+dy+C8R6DuZZ56F90Cu0Sr3oY7LXk1re6oOnD5RoiIhbxT8Nv5kLnLWR1abzTLd1gVqCUa6PdDpE6q78R0ODICssWqrqbws6DKEHC/DAWnHMUSIu4eCJ0JBfanLoURLsXyHXUE4nNLGTjH2dQFc0HwW2u9CgKNc/4t6y8IvstwJgO9KIMvhDKcTGDNqlVMnTyZtAMHqJ6YSJeePenevTtxcd7Wurceeojpoz3qAlaGVoEagq2qWWh8a7LDVWrV4tGvv6ZRu3Z8etNN/PHf/1p2umG3biTPmUPBmTOMMVEysSpY2yEm08prm4Pmr71GY9H4tklZa9eSs2WL4lwW3bkzYTVKFyHPnZpKqtuthJePEdqNNtBGCTitXTLQZtrH+nbfeje8/YF5T975D3z4mid+vZclWP397mHw8Kt2w+B9PTcbnu4JG3/1Xc6XNGD1uvD4N9BQwn0Dx/bBrFdhwXjI11nxZVxkQWn8b1/qj9Uaw4NLIEZWZvHk9c6JjoR3qkH2Cfu+t38Mkt4qyrd1Msy/UwXEemCtcr/bj4DW/4Fl98PWsfb1Sw4typP8v/rF0GO+p1zGTlh5KWRYaGN71e6C+PbQYRHkZ0FoDOQdgqNTIGcXhESB6zicEGu8PAn6aJ1q27XIWHb7hZB4SHgRMh9y1D93diKpK1JIUsD3MaiU7ahcMFPpRyD4rbUew0DjnNLPXvmoIQi+y3AeAr0ogy+EsplMsXbfddNNzJszR7lhSEgI1RISeGPcON595RVGf/AB557n0ZLOz8+nW1QUuTk5lifI2jdZIKgVXlTuo14PCw+nVo0a5DnQ7Bbr90WPPMLUCy/k4NKl1g6UcgOXiyqNGlFx27ZCbOZLN1wfIFLKRjdqRI8//7SchNPz5nFo2DCy9MosoaHE9e1LwttvE16zZokm0D1hAqkJCUXgWwOVSp8sqhTrtxn9VeOKz10FLVsVL7xwFtzX276dY3+Abmo4dPvcnhyZbnjwPEjbWbyEXr5P/l+tNlSt6XFYrH02dLkZ2vQG0bPWp18nwmeDvDXNjWOiiMtX8ASwKUwuaHYJ1GwOf872AOrYmtB6ALS9E6I8HHWvd86xVfB5d99UF2VOQmHQZqjS2HO3v/6Ar9qqGxkfCLXXLNjyGqRZSPEZR83oJFn1Qmj5PbRsowAAIABJREFUIlTvCkfnwpHv4cBkOFN0auRdhTroF/wE1XpCQR7sfRwOjQHUzYzmuGqmbKOvTDZN8nDruWbG9sbeCFEFkCMbajukrtJOVqrgO7YlxHjeR8EU+BEIfmutxzjQOCfws1s2dwiC77IZZ+UugV6UwRdC4CczJyeHPhddxAoBsrqkqZ0MHTxYCSU/f+VK6jdsyLK5c3lIwqE7SOK2VVxp27ugsAQEMwpFRTNeWlUtFBUB009t3crWadOYdfPNtq3o+Pjj7H/rrUKjqFUBDWt4UWLCwugtCiMm6eQ337Dvhhs84L+goHhU9/Bwqjz/PJUfe4wQ1YnUtrFqBvdHH5FatWoR+NZ2ML52DlK2ogtCdCBHgLekN1NgwCDz2997OSyZ4xtgSj2dL4OUH512wZNP6Cw3RkNOljf2stJs/vQviLWJivlKKziwzttCb2yVtDe+Flz3Gpw84JHOE6fNWQ/DGb2kn2rJrVgD7vwJarXyBt8ze8Pehfa4se19cKkAWDUtuAu22GlvuyCxM5xeDPkF9vfQW731/RUQLMGSzuh0+F1hHmCtJG3RCMc9Elp+AjVvVPn9d8HRj71HT+qzexC1ajVvaiMA1+Y3NhnCd0PuTwYLuvkyUjjfGviuOg4irvFvvQVzl3gEgt9a66ELNM4p8aSVs4JB8F2GExLoRRl8IQR+Mq3kBo0RLm+9807GfPQRE59/ng9feMFRw0TTwUbzQqEra/nssKV20+cPHCA2IYGf7riDTaI/rml8axnU35vfeiuXjB/PD3XqkJueXhjgz2jU04uD6BkLobGx9DLhip9JT2drnToUZGQoIEYvWayDOgrsibzwQmr/+COuGCFnS1Pte+lev57U7ds94PtQWhGn22g8NFZVszq4ddxaCaRz/5PQzUK7PCsT2otqhb1VUhnj5ach0on7rDoRIlV4gxMStpp//A5IaGC9tvJy4EE/6nv1IMQnwt5lML6Lh3dt1leh20RVgYc34Cbaw/m+oBExU9TIk9rwmA2TzEGjXnCDGulR6v+wIuRl+g7PqvXSsyx886etIlNqHPdiVmp1UxFZDyrUhrBoqHopxDWBU/OgQD0RODqxeBs1QO3kCZe8vtRlqok6yQLInuCkNo/DpYDvzrOIqTbOQ4MKpjIZgeC3Ngi+S7vQguC7tCPoR/kg+PZjsMpp1l5durBs8eJigXaM4DssLIyre/dm35o1pO/e7ag38m2WEPG+ksAEsZDbgXR9Hc/s3k3levXIP3OGlW+8we9vv03mkSLQGVW9Om0efpgLhg4lJDSUDc8+y6aXXvKAXxUv6D/rwmqVf160aZeLWjfeSJup4gznnf4aPZpDD3l4rJqR0BekDq9alXBRZikoIPy886g4ZAjR/fvjiiziieTv3k3e+PGcWbiQjJgYfh08mO5Dkok9lIYYMr2ot1pzvKgbLujYGSZ/DifSPXreNWw0vY8fhW6q3rSTGV10FCo5d3RVgO6tlSHDAWdagNZnxyHaoAaib5fwyB/yQ1ru1QMQXxOmXAsbRRXGZpNxycu42z3kAd9Nwoj5ro/3qFhtfio1gntVvrVsED5QNwj2+yzP0ZAsRj3AL1SoMVms+hbJUNnd49yPILwAdj8M+SZRavVrSOr+W8B3CIRUhbr7IG8VnOzsZHXhzq5J6opxJPXoTkysj3XgqLZgJn9GIAi+g+Dbn/ViljcIvks7gn6UD4JvPwarnGatGxeHqGsYkwa+n0lO5i/V6U+ApmAFByrASnXy+dQMe1bd18C30E6chKGPjIvjxSNHCIsQqOxJZ3Jy2LdwIVlHjyrh5etcdBGikKIlkSlc1q8f+7/6qriVXM1k5vfXaeFCqnbtWqzpe3r3xv3jjx4w7XBeBTIqgF/k7fLzCe/QgWqzZxNSqRK5b79NzuOPeygsLhcZCQksTkmhc3IylQ6nEW6gPRe7pVQc4oJOF0LqIoctAiTSZ6d4yHKg1yya3ktOQJgvb0aTW094AGbpKBmmrZONwzUw7GvvqxJl8/eZMD8FdksUwxBPMJr80zaLxQWx1UHAd1Y6vFLDN01FuasLKtfHPXitB3w3jyZmhjN6FZUaw72qb8DSp2DNq/agWOupPCB6AK3tDu1mUS+ib5k3xCNJWOGI7/DsyrpU26EdbNiBeiljGkFL7UCNbyH6Cs9Jw8lLIe9n3z0KPRd3yAxS56+3lDe1G5Lg9ZKPQBB8W49doHFOyWetfJUMgu8ynI9AL8rgCyHwk1m/cmVFXtCY6iUm8mJKCs+r4Ft/sp2ofqetvs9aXrG72uFGgXKCP8RW6ITQIM6W4nTpbxKFlN2TJ7PtvfdIX726sLgxcKNGYamfnEzDRx8lsn59QiREti7tSkoiY8ECQvLzbfunFZMajEC9whVXEN+3Lzl33eVVf0ZiYiH4rnY0TWmSz6QBtgcfhddH+jc0LybD9PH2ZW5MhmfG2ecz5ti/FR4+H/KyfdNbml4AHa+FHndDpQTIcsO718DGVPMNk0ycRYh4pQlXPAt9XoC0dTDa4yxsm0LCcA877gHfXTsS82EdyNe40z5KVzsX7l4HGYdgci1w6RVCLMrJQxJZFSpFQYYhfLqTXai2W7XtlM6hwldezfvZEavHBRW7Q8QJyFnlXWt4C6jyLkTpqE756XCqN+QtNkT9VItWeBAqvoP79GlLeVMn3QzmKfkIBL+11mMXaJxT8lkrXyWD4LsM5yPQizL4Qgj8ZN581VX89P33XrQTAcGJiYk8l5LCC8nJHFUt3xpVQ66L9dtMEEH7mxjFJI8dbhRLugZKfVq/XS5iqlfn0d9/p5IEUylFyjl+nDy3m70ffMDu998n5+hRpTZpa1R8PK7MTAokrLtQURISqHXvvdR7/HHCYqWFcGDQINInTizuZOmjTbLJKLLFF2WMdbkINfCQNfDdbUgylY9YBG4x3ksmZ90WaNLUv5HZuQVuaA05Ao4tQKOg/0dfh9sfL5nu8spZ8Pr1kJtl3jbFmVCVNQwNh4HjYONsWGktO6lUJINqBharNYShK6BiFTi2E95q6GxMIuNxP7rPAwB79CAmRUKomzvcelUYFgkPn4Q1b8Hyp5xF2ZQHRaJethsKSwYUB6V2ANzp8ZM01GnkT+2Yyu6hlSe24W8Q1Q6yV0K2RPYsgIhWUKGz+RqRKJU5MyBrPJzZAK5wCLsYIodAeEdlOIPve2fLNBC5gmMfBN+lXVdB8F3aEfSjfBB8+zFY5TTrz7Nnc0OvXoWtExwkwLmaDnwfT0srJhkoQFKAs+raVQheNfAt2EALom31LRd8IXVo1nHJJ79rCmZao+TvVRo04J7vvyfxnHM4uHo1aatX4woJoVa7dtRo0aLEo5ufk8Ox337j9Pr17Hr2WcSZ0iupzpsxrVrRev58XAUFpD3zDEfHjlXAtFPaiZnlW+5jZvHXwHf3+1TOty0YAvr2hc+nl2wcFs+Fh6+FTAuJOqG0uAqg3/0wdHTJAPjBbfDDGFjwKbiPedop/SqmrKHey8kxiNRhpD406Aj3TIfKdTz3kI3NOy3gqETbtLFItx6Au9dYD/ju0p6YD2o5H8/7D8Gv98P26fbHPRrPunoHuPhjODQHfn9UDcSje6J8AXDZB2r12LXSyS5Y6vDsLe1T1aGQ+Jp9Pj9zBAGgnwP2N2YPjr31YAYa5/yN0/g/rSoIvstw+AO9KIMvhMBPpkS2TB4wgC+nTFFuJtxkAb8SZEcs368kJ5OellbMyq1pYmvKZAIi9f5oigKaWp/en8yII+Wa4Cc9k1izEmsw5Pp33qHbffdxYPlyfnr4YQ7odbWBul26cPno0dRs3dp2wLLS0hSrd4WEBMJVS7ZQUpY2a0bmjh0+qRHVe/cmZP16clWHU2m7U4xYyPk2tFDGSdukaJcKwff9ycSJ2omT9NlUuOEmJznN8yxLhUGXeGTvtGR0xpO/vzwZ+vQv+X22r4Sh7XwfiVjtVMzuel5PqF7HY+VucyPUb198c7BsPMxMtm/z4GW4K5/jAd8XdyUmRQLxOFCCkZofOQULJFT8tCLLt3Gxm242gJo9oNVwODwfDi/wWNvjmkP9Wzx/2/x68XZoGp12vTJbYFZlnILvasMgwc+gS3btDFq+HYxQ4LIEv7VB8F3a1RUE36UdQT/KB8G3H4NVjrPm5eXRqkED9u/bpwBBAZUa+H5N53Bp1QUJzyHqzBrWEOykp+NKnXYWYk3nuxD3uVwK7BmQksLFgwaxa8ECPrvsMs6Ik6A4JuqTy0V4VBQDFiygdrt2xZopG4w9U6bw57vvkr7Kw1F1hYVR54YbaPbkk+Tt28faK6+0nSExIIYaZA01UO3LOK3Rk81u4MvyffF9HvBty/mWin/5DTo5U5Uw7ejLyfBfG+63ODxKyPkvVpXM+i03npAMc23u41RrWuq7cjj0fdn33Ml6md4f/hDpO/1Zjfyq0l3+j73zgI6i6uL4Pw1CEgi9916kS5UmvUuzIAgKgsAHiiLSpCtNBJESikgTBEGkSZHekSKI9N6kG2pISP3Ond2XzG52dmYy2Uw2ue+cHCX76u+9zP7fnfvuazoJqDPQ1vXh9/bAta0qAtwDyFcXeHcncOJb4AC55sgimIiFIYS3tPjsu+sBpAkEWh4AMpaKP5YbvwCHOslid1vrEIc1nS0+yiMP7SPvj2iJ/tDEaWrVvwJ6LTYIyMGWby2o3CUPi28W30bXKotvowR1lGfxrQNWMs56/949lMqZUxK7JCbpe1iI7/G9eiFYXHHuYAzCLkihAoW+ILEt3E+oLrWIJ1Stv58ffChutjWVrF8fzQcNwiuNG4OilUwrUADPyQJvL7yt+ckFJXPx4uhz5oxNLG0S3sd69MC1+fNjI43Ih+GZJg0K1KmDJ9u3O7V60+bBkWGQxiwEuCMfePG5kj4iNvbxQ4Tlu1bvXsjyUMXyTcq8cBHg9HnL+BKa6mUFHv+nrfTGa0DuAtry2ucaVR84s8v54Us9lu83xwMtB6v3hdbNgWnAge+Axzfi8uepDNQdArzSXvqdjQi5txtYZRdu0FFLbX4FSrQDwv4DFua2WK7JTUe8OaCFIXafikLZA8hRC2ihcNvl45PAhWnA9WWWa+HJZzp3AyCEWDrwpRc+XEpLwt5lJVMtIHKfOkfKkXc5EGjgLYtCKywAteF3RS5mz+Lb6Lpi8W2UoI7yLL51wErGWS+eP4/qJUtKPSSNQIZH4fOtxfJN5cSZLmE5FxqD3DLsb8V2iMLDA2O2boVf+vTImCsXMufLF5vt7OrVWNneIo7U0nvbt6NQ/fqx2S7NnIkTffsqFhM+7j72F/XYlSCR7Gwc9BmJaLnWoX87KyM2JvZ6TB7thMS3pJOcWTd/WAh06aqGxvHndIPnjjXA4Le1XbZDtfzyN1BcYwQR+1a/bgb8vSV+W2J8wp9JazjvcaeBPKW1jz06CrjzNxBmvV4+u2XdixRPhOz4HDhCEWTsLObi35X6Ag1lfvAnpwP7Po7LL3akWiM0tv0HyPSK8njIbz0yBPDyAy4PBa5Osr3inRagOIzgbM1QC0KABzYDii0HLuQGYmgDrORq4wF4ZQGK/wt4Ojo+rH0aHOVkAWiMn5HSzF6Znqt1jpF5S05lWXwn4Wy4elHyAyFpJjP4v/9QLCv5t1q+t0knkPgeNXs2tIpvsgqT0LS/Tp5Eq1q4QTHKwWvXomrr1vEGvalfPxyZoRYr2lKs1rBhqNqjBx6dPi39++8+fRB240Y8sUdjFGf9hHB2plVofOImS7VZoQ2HXP8oWcTJjYW0kv0xQLn49r97F74BvvB8GebQco+RY4Bhw9W65Pjzi6eAPi2B29fjzO9qgo1qmrUROLIR2LEceP4YCMwKNOwEtP0fkMvJDZVUdu0k4KdBcf2RYpTbuWIQMGknYy947YZRugEwSCV+tE4y8Z45dGDznwXAn98AwefiastUDKj6OVC+R/yd0bHxwLGvLSKZEi0wtegloubq04HSDjaLT08Bz84Cnj5ApuqW/+7JE3dbJZXXcwhBtEeIA2sBJbcCjxcCd3o7DgcoNht5lwGBHXVS1Zadn/faOLkiF7NXpupqneOK+TSjThbfSUjd1YuSHwhJN5lvNWuG3Zs3xwpMcjsh8a3mdiJ6SEKS9JL94UHhcqpF0w1Ztw5VHPheb+jZE3/Nm6cKgzROgYIF8ZIORMrC94mIdMIqTfnkGwL6vZqhVc3yLe8cMRB2QUfakvy86UduDBUCnPKT+N5nvWQn4O5dpFm/Dl53bgPz5wFXLgPp0gGNmgC9/wdUftWWC437z33AmhXAo/+AzFmBth2BKjVsReKdm8CblSyuJlSGGtayS6KBKd2CmCYdMHY1UK2p8lw9fQj0ymuJ+y3g2O9OxL/9/YBwhQuAshQAvtwPZDYWdtK+o4rPHGL04CTw4iGQLguQvXx80f3gOHBoMHDzD9nmwgfwTWO5GEhLqjoFeOXTuJwP9wBnBgGPDsX9zsMLyFgeCP3L9lWL2Dlr+WMTtdGc0zzkHgnkGQUEBwF3BwIxdv31zADkmgFkNHDYVmX8/LzXskBck4fZs/g2urJYfBslqKM8i28dsJJ51l3btuHdRo2kXtJ3N4nv0Rot3/T9Lay99pZvPW4n827eRBYHMbwPTJ6MbQMHOiVIuoMuSrd3ZRWF6PciqoqjF+Ykhp0ZJ0X0Fi3T6CyyG/GQ+8CLDYH4L/UzJGdO7Jk9G3V69YJ/VBS8T52CZ/bs6k3/exN4vx3w91FLXrkrzas1gAW/AjlyWT4b/wnw0/e2dYrdgJJ4kzvwO8pDhxd90gDz/wbyOYk3vnsJMKuLNrFftTXwz2aArm2nlDYAqNUVaDMCyKCBiTo1mxwJFiHkbnKwvyWcodyFhnZVxFWr20mjjUA+a+jPu78Dh9tYQxA6cAWhdsTCpVFoOf1rz0PadHkA3tmA8rcsFvWoZ8CTpUDYCctfFMXzDnwH8LTfWuuEy+I7cYElYm0JXveJ2IfkWpWrdU5yHbfefrH41kvMQH5XL0p+IBiYHJ1Fgx8+RNlsJF8tSYjvcdYDl86MaeJqdvoez2Tn90y/0xrBbPJff6Gwg3CBIffvY2revIgm/2SFRJIyXshou7zUFzoYqiSyHR6ctArYbO3awWP/fkTev+/UN1rLTZ3ZatQADh6MFcf27iw24psOu5YtC5/9++FhDY3oEMGjYKBxFeD6VWWf3aIlgM1/Ar6+QK1sQMgz26qEf7Lw9rCfdBGEXc2y2uZ/QH8nbkLkd90rB/BcwwHP+j2BjhOAuxctbje5SgK+Wo7w6vwDsGZP0DPndBCwr0/8W6eEBZ8EuJabI+kq+I73AE8vIPI5sCUPEElz5CTcofy1DbWh9kfgUHxbf1n6GOBfKWHgEqFUgtgnQrtcBV9w5GwNuFrnpJT1x+I7CWfS1YuSH8ZJN5mPgoPxSpYssQ1mt7qd0A2XT+/elQSrXAII/SWEtyhYpUYNXCNhaU16xHfjjz5Cr9mzHQ56+9Ch2D/ecWxhsiZbPNbVE4lvZ2EPSbuIQ5IUCSVjnTrI26cPsr7xBkL/+gsXa9ZEjMImQOkApX2vcp8/D6xahciZM+Fx+3Y8b4944ps2DP36wft7O0u1vOJJo4DJo9UBDJ8ItH8HaOQkWolwBxG10cBohyAPam6/GOSCPF16YOMTIOQx8N9tIG06IEehODeNG/8AgzUe2MyQDZh9X3lc5A5C1mb677ktwP0LgHcaoFh9IKeDsH0qhHQ/cx4eB36tbGnf0aZE7lKjFm8zT2Og1lzg5T3g/mbg3Ej1K2JpPGLXqHTjp7MxC7cTylNyH5D+NfU15KIcutm7qB+psVpmrzzrrtY5KWW9sfhOwpl09aLkB0LSTSaF5KtdogSuXbok3eIoDlyK6+WFS7AwipIxjwyhNiGEPTyQJUcOlClcGGcOHJA6T3pD68vqYtWqYeIhmW+rbPgUYnBu2bK4d+ZMPChkbRe3baoRI51CGwahiUSEEke6qfbx4wisUMGmyqstWuDpxo3xbJFinE6Nwp6eSFO5MnIfpuu4KWxzJCJKlQIuX7axpjsS3+RC4nXoELyqVo0/RAqjVzY38NC5VV5yQ8mbH9h0AHhdh6+0iCdNllWlSyJp4HIfmgZtgcPrALJyU8pdDGj1MdCsN3D1KDDCcqW4ptTiE6DjtxaLMCWq8/gqYM8s4Mp+AFGAtzcQHWlbHQnwt+cA2YpqaoYy6X7m7PwAuLDQef1io0J8lNxP6PeBOYFwu9CSQhw7W1jy0Iz2N36qjTz2tYsHUP4mkEbHulCrW+fnutnrrJ+zKxNg9spsXK1zUsq6ZPGdhDPp6kXJD4QknEwA8777DqM+/dTmkh0hvh31RH6wUP75wt278dfmzdgwZw7CgoM1i+/i1atjgsxqLq+TxPfi117DzUOHbPSfcHVROgNo329xe6b89+LNvVzfeKZLh8b37sHbztXj3siRuD9mTDzxTXU42mQITSp0qV+nTsg4dSq8smVDTHg4ItLG90dwKL6pw4UKwYc2RyKe943rwMJ5wME9wLG92hfLlafAm5WBm5fUwwtSx4Ujv5rllgZLeaTJsItUIvzPyzcA3h0BjK2rzapLo6I6m30OvPMNEBUB/PgO8PfquDbEa5l4AtUD8M8CfHYIyFpEEx9Nz5yIEOD2fiD8ObC7MxAVqqlu2iM49P+m3aC0DBSiu8h3vo5akotvYi/fETvrWewhWw8gsClQfKO2cbgolyb2Lmo7tVfL7Fl8G/0bYPFtlKCO8iy+dcByg6yhoaGoX7o0/r12LTbOtzPx7Si0IA3zhx07UPX11xEeFoaD69Zh2tvaLuRo8fHH6D5tWjxSkWFh+PWdd3B+7VqHFEm70NE7NVdkKiwCQthXZC/A8/fogXJz58ZmI/H/bPt2PAwKQshvvznshzPdI0IbSgV9fJBh1Cj4f/YZIilyiV1SFN+k3f74A54NGwKTxwFfj7Dc9knCNq3Ga9CpresvgJVzgImyqBpK65NeFYjwMGqijiaAAr47mgjhiyw+I1cUEq1qPsqxwtMLmHId2DUF2DElrrfyk6oOx+ABlG4GfPS7pr9ApyKERPfB4cCpH4AIq7+8Wpgceaskvh2F2qHNjaN4lPKyxEkpGk2OusDzA0BMhEXEqzEV9UpWb6ujf6k9QEANTYxclYkFoKvIqtfL7Fl8q68S5zlYfBslqKM8i28dsNwk65RRo/Dd6NGGxPf6CxdQoFix2BGPbdYMJ7ZsAbm2OEvfnzmDvOSGYZfWdeuGEwsWOC1LnhHkfqKWnFnIpdjcHh5IkzUrah05Ar8CFr/oiDt3cLl1a7w4elQSK54xMfF0kJZAEyLcs+hjhnHjkHbJEuDsWZtuOxPfnoMGwTt/LmBwf9uhUueVQr2InBSNpGQZYPdJIPwl8FEz4PBOZWQkzmhgwqKtBtfRaVNxiJPK2ohyq5WX/iP67qh++WnUVkOB/VOBCKulWe7q4rRvHsDwS0DWwmojUHY7iXgBrG4I3I07zyBVJl5cqO38aOmLg5fyvMRXSwB5h3NAm64cQOObQMQj4HhZIOKetigyVJ/UbjqgyM9ApjdU2bg6AwtAVxNWrp/ZK7Nxtc4xb9YTt2UW34nL02ltrl6U/EBIwsm0NvXrkiX4tEsXTeKbNJPc1cLDwwPlqlfHEqu/t+j9rbNnMbh6dYQ+f654PXybL75Al4kT4w348bVr+L5wYXX3CHIrVglVrXZrORlRs5UsiVd/+w0B1hs/o0JCcL5qVYTZ+ZrHvrHXcbeJ0Jk0SCrv4+mJtBkyAI8fS7pUuPdSnO/YUIMU7USWPNq3h8+hrcDTp7asxElRtSUzKQgoWRzYuAIIfgBcvwBcv2gJ5SdEoV964NWawF9b4i660RIqj3ZA9vnUwhdSf5X6LhelZKEtUR34VyZ+Va3eMhidlwBVOqvRURbf+wYDx+KvT01hBJ35fAt/etWeKVyXWn4uULAHEPEAOKIj9GJAOSBbRyBrN8BHRzkt/UxgHn7eJxBcIhRj9iy+jS4jFt9GCeooz+JbByw3yfr82TO8mjs3/AICMHL2bDhzO7HRWlaf3pkbN6J2M2ucYtmYT2zdiu8/+AAP//1X0ngi3F9af3+0HzIE7YcOBYl3+7Rn7FjsGjFCEz1n1m+1q94lQezriw4hIXE+1QAeBAXhZp8+8dq3vyFTKXyhfUHaAJCxVBiUHQ0s3HrJjhTn2058I0d2pHmhEP3DPvSMfeVVqgE+YcC5vy2fkCWcIoVQylsIaP8+UKgkUKcF4OcPbFkGBA0B7t3QFqeaYkra316k5eIeap+giOm3d1ER4yheGbhzLG5UWsS3WGx5KgD5qwCVOgOFa8e/IMdaq0MREhkK/JAbePk4/nTJd1SOrN9CeMdamu2q0BqHk4qJMDyWyQNKjweKWW8LDb8HHM2p6e9EylTtBeAV3+VJewWJn5MFYOIz1Vojs1cm5Wqdo3WOkns+Ft9JOEOuXpT8QEjCyZQ19e2IEVg6b55T8U3iUx5tmQ4BDp89Gx169LDp9LPgYMzq0wf7Vq1CdJQ18gXpiLRpUaVZM3yyYAECMlIAQMdpedu2uLBmjSYQJGhzWN1n5ZpHfg+Js4p8MmRAuydPbLKcrVABoSdPxlre5V4Swk1XTfPKK6S+CL2l5KlAlu9D4pIde/FNxmW/uMAf8cbj6CpzLy/gjTeBCweBOzeU3yIUKAqsPAJkkM1HWCiwZg4wU+YfLtxbxAAIBP2Im5ZEp5REtKNJoLJq1vXX3weOyiKL2PfDvl5hOae+0VX1wu2pQA3g/d+A9LRabJPDZw4drlxZS3npSK8xHPi6iwUihLejGjL6A1F0i6cGn3353Hr5AGWDgHzdLbXGRAFH8wARtDFTqcu3CFDpkqa/qaTMxM/7pKStYd2b151k1bKrdU6yGqyBziQ78R0dHY0JEyZg7ty5uHv3LkqWLIlPaw2+AAAgAElEQVQRI0agXbt2moa5Zs0ajBo1CufOnUPOnDnRo0cPDB48GF70hWpN9Pno0fFj/LZv3x6rVq2yaef06dP49NNPsX//fvj6+uKNN97A5MmTkTlzZk39kWdy9aLkh7HuKUmUArRmR/Xvj8oNGmBM7954cOeOVC9Zpslvu0ChQsiePj0e3L4NP39/1HvjDbzduzcKWV01RCdCnjzBwFq1cP3UKcV+tejTB71nzIhn9b559ChW9+qFB8eOxV7VrjY4OrcWX07FaTqnbrkeHsjdogVqr19v0TKRkfhv3TpcfPNNEA+hn0QkN3ldWtytRd9pw+LM6k351MS3ly9A2stposdD+YrAq5WBpw+Ay/8A/15RQwh8Og5o+Q7wywxgwwLg6SPLrZVp01iie8gFrVx8x7qsyKzfWnyZRY+ciW+y0PsFAmOOAWOKxYUvpLJKlnU1d5ecZYGPDwFpbGPUOHzm3NgG/Ga5/VUxCb8hb6svO02SB4lgcudxJIbJXzsLUPJt4MpM9Xmhcdoc7rS2U2E5kNt6oPnGKOCWhljvBacAuTUctlXvVaLm4Od9ouLUVRmzV8blap2ja6KSceZkJ76HDRsmiduvv/4alStXxvLlyzFv3jxs2LABzZs3d4pyy5YtUp7u3bujY8eOOH78OIYOHYpPPvkEE2X+sUJ879u3z0aUZ8mSBcVkB99u376N8uXLSxsA6tfjx48xcOBA5MuXD1TWU4Qw0zjBrl6U/EDQOBEuyPbs2TPs2LEDu9aswc7ff5es1iVeeQWde/VC8w4d4OMTp/5uXb6M32bNwo5ffsGzx4+ROUcONO3SBS/u3sWmoCDV3k3cvRuv1KkTm+/G4cOYXa8eIl++hGd0tOZQhbR9FME25OJY7p/trDN1Nm5ErmbN8OL8eZxu3hxhV2zFKo2Y6rdPem4Pp8uA1M7mqYlvb1/LLeCqqWB2IOS+pUEhUp01Tm4/mbMBns+BMLLG2iUy26tZp729gHTWNxx6LN8ZSFm+jG+Vl1yRPIGPVwOVWgOLuwKHF9t2zN79ROuEt5sF1OxtU5fDZ87jS8Ai6wFioaPl0UlimXoCeWoDbbcCnt5A8Engj2ZAKG1eqVPk4mP9r19uoPEmwDcTsKUMEBniJIi6VXjH22h4AL75gNevAB5eQEQw8E9VIOyy8tLwKwuUPQB4ue6WUNV1qZCBn/cJJWe8HLNn8W10FSUr8X3//n1J2JKlWm6ZbtCgAR48eICT9DrbSapYsSIyZMiA3bt3x+YaM2YMvvrqK9y4cUOyhFMS4jsiIgLedNmEQiKL94IFC3Dt2jVktL7q37NnD+rWrYtff/1VszVeVM/i2+hyTb7ltT6Md6xcidGdOiFSduujsJAHahCaFD2kzltvYdDy5RIMsqxPKVdOukyHwvtRItukU59qDw9kzJMHaW/dkt7+kyXaPqkZYQu89x6qLVqEiHv38Ff58oi4fz82eIjQVsKrwl6/qrn9ir5QH7REZHEqvj094VOuGDyuXFB2HxFiW74TcQRFafmlt1pV5Z/Tr7QGU8+WCQh7ZJk0EYOb6hLg5AAlwZ8HGLoGWPoxcNFyOVNsylMG6DgFKNvY8qsnd4EJ5YFnDvzehRuK2JiobTTI+j3A6v9ubVBx3a+oCdy2i3Riz4faa7IEKCk72En+4ldXAFeWA2EPAd9sQOF3gEJvAd5Wn+uH+4G9zYFIOkTrgL3apqfKJiBbU0tvXv4LnO8APBeXVcnqy1APKL4CSJM8DljaLz+tz5zk+9R0354xe+W5c7XOcd9VY9vzZCW+lyxZgi5duuDChQs2FmgSwN26dcOVK1dQqFAhh+xv3ryJ/PnzS+4q5Goi0tWrV1G4cGH8+OOP+OCDD6RfaxXfRYoUQfXq1bF06VKbNgsUKIB69eph0aJFutaBqxclPxB0TUeiZtbC/szhw/iIrluPjo4XRpCMdFrPkgVmz45l9+5J/b+ydy+CZFZw+p38AhtHeiogZ058sH8/op89w4lJk3Bn+XKpT/Z5HRlivfz9Ufzjj/HK2LHw9PLCpf/9D3dmzYq9p0ReB20CHLn2Uh9FwA6lcM1Uj9zf29lkKYpvDw94tG4Nn9Ejgaa1gRcv4gtwsfuwj8mtdTKoY44icOi5urxhJyBbZuCPICDK7tZJMXAhlOnfPWYAzf5n+eTGSeDyIYtrSb5yQLGacYcjw0OBGY2st1oqEMyQw3I9u9rrBWlheQOTImwqcrjuKb73TxWBxxed/41lKQW8exzwTgsE/wP8d8JyqDVbFSCwuG1Zuo0z+DAQHgz45gDS5QGuzgeuLbL0PyYS8AizLDi1+OqlpgKFZKEnybf9+Z/AwxVAZDDgkw3I2hEIqJyoz4jErkzLMyex2+T6LASYvfJKcLXOSSlrMFmJb7J4f/fdd6DLS+SRHA4fPoxq1apJrictWrRwyH7z5s1o1qwZDhw4gBo1bC8/8Pf3R58+ffDNN9/YiO8cOXJIFnWytnfq1EnyLU9rvUGP+kDlyP1lyJAhNm2SawuVO3LkiK514OpFyQ8EXdORqJm1sB/WoQN2rV7t0AKrR3wHZMqEWSdO4PaZMzj1yy/4y0FMbyFebaLPeXqifNeuqDt6NALz5Ysd/8MjR7CjaVOEBwdbhBuJEet/vdKmRdFu3RCQPz98c+dG3jZtQActKUVHRmK/ry88rQdD7fWbkuVbNEwaSVxXH9sZa1xw0W+ha51pQ4fiW7IQZ4bPn3/Co0gR4NRJ4ItPgH27LE0RcHGDkKMdgOrrA2uP5TdayleU0isF+1VHYjN/YeDJZSt3J8uS2mo9AOj6jWL0EZvSm78GNnypvs7tL7JRKkH+OxNsb6d0uO6PTgb2DlRvt8YYoHAj4NBnwH07K3nuBkD1qUCmMsCFKcCFqUDY7bg602YHSg4Bin1iYXGsHXCPDhprOIhZegZQ0Lp5Ue9lss2h5ZmTbDvv5h1j9iy+jS7hZCW+e/bsiXXr1kkHLeVJiNbFixfjvffeczjmZcuWSQL67Nmzko+2POXNmxdNmjTB/PnzpV//9NNP+Pfff0FuKpQ2bdqEGTNmoHHjxvj9d8vNbuTvnSdPHgQFBaFXr1429XXu3BkHDx7E5cvKvoLBwcGgH3m6fv06GjZsiBMnToCs6omdXrx4IfWLNh9+fo4u707sFrk+QUCN/Ytnz9C9ShWbCCairPA2EFZi8W9HdGlTmj5DBqShuNUxMZJ12FkANKsHsFRV0aZN0Wb6dIeTFv7kCW6sWoWba9fi5YMH8AkMRJ7mzVHw7bfhmyOHZKl/fvYswm7fhqefHzJWqoTnhw/jUvfuioZGJV1q3wFPHx9kHzUKXlmyIE2VKog6cwYRx48jJioKXtevI1olektYtmw4MXYsqgwfjnQPHkjVe1SqBK+JE+FRsKBtc+dOA2O/AMgNhQS4kuldq+VaumnIAVIh7rX8idDJVy2xFzuOAup00lKjxRL+XV2ru4kzQeoBpPEBPMiirZKv4GvAO7aXN8Vb97RxW1UfeP6ven3+OQGPh5bII5J/tzx5WMLU5HkVCI5zI4w3+AylgRorgTvLgUtjtbF5dSPgH3eplbZCyS+X2jMn+fU45fSI2SvPJemiChUq4OLFiyhatGjKmfREHolLxffTp08lEauWAgMDkStXLsldhKzbd6zRIkQ5msTixYvDmfgm1xASxRTlpESJEjZNkohu2rRprPh21B+yin/xxReSv3idOnUkcU6iffbs2fjoo49sipDIP3TokFPxrRRRhSoiQU/j5cQEmAATYAJMgAkwgZRCgPRb7969WXyrTKhLxTdZmJUs1fJ+de3aFQsXLsSgQYMwbdq0BLmdkPWa3EG0uJ04YiIs3ZMmTZIimtDONiAgIMFuJ2z5TimPEm3jULOEPH74EB/J3KHIIq12zo2Mp0oxFshQKs7zOYpYYt9r8s/utWcP0mfXd3jsxuLFuDhW2aJIByLV3IWFYTfWpYU6R5GCoqPh36ABck6fDg9ZNBj7vkdu24bw3r0d2mWpbbJ8Hx87FhWHD4dfunTw3b7d8aTdvwu0rWexCmuxNFMt9GpBOL+LWiluYeN2QEBaYKNdJBF5yzTBatFOyHJuExLPyXrLXRwYbnkzp5qO/Axs1HbZErzTAHlKAHf/Ua62dCug1bfx3F3irfuXj4BlVVW7F5uBFodaopd4apcPlZsI0OH5c59ba7O34ntYIpZUWgn4Jf5bR7UhuOJztWeOK9rkOi0EmL3ySmDLt7a/EpeKb21diMtFlm0S4vavK0iY02FJZwcuKZoJHYSksIQffvhhbKUUqYQOacoPXDrql7B0kwX8888tD3A6qFmzZk3JTUWeChYsKEU84QOXemc45ebX4gP4YdWqOHv0KKKt7iJa9B+d+1OKkkd6hAQ4aTcS6UoeFET99cGD0Xz8eF0T8PTMGewsU8ZpGQpXqGUcpGEzFCqEiKtXJQGXrkYNZP7f/5Dh7bfhIYvB76ixqD17EFa3bjzxLUQ/+XwfmD0bNXv3hn+uXPA7JrvVUV7hrMnAGKsvspZOi7IEWojoL74G3vwQyJIduHUZeLOU5ZCkuJDGfgAi8oZ8csT/ix2UljCIVG+BssA05xGfYpsfXxW4dUR9Z0Rbp9yvAJ/uBdb0A44vs40LnsYfqNUPaDIW8Iq/k4i37ukG0B8KaHA7se7aSHyr7d7EFafOVmLGykCjo8DdNcC5gcALu0txMtcDXpkFBJTS9TeQnDNreeYk5/67c9+YvfLsufpsmzuvG3nfk5X4FqEGKTb3yJEjY/tJftL37t3DP/84scwAkp9RpkyZsHPnztiyFGaQwg3KQw06mjzhdkKhBGvXri1l6d+/vySwScCTawwliu9Nn9NlPHQpj57k6kXJDwQ9s5G4edXYh798iS/ffRfbV6+WxKqj+NeOekSGUWcRhsVdKyTAxYU28tsqqc66Awei+YQJmuPSR4aGIvjYMfzTvz+eHjvmNHgEaSe10wXUn4BXX0X5I0eky3jI6k03fGpNMeHheJE3L/CQ/IPj+yXHiu9evRDYty/SDBvmuOqRA4A5UyyfablqXdQiF+o7zgJFZWdKdvwKDH0HkA6dyvtmDVknwrrIh5spO5DBH3hAGxEnIWHsR9GgG9DPcm7Fabp7DhhZKs5iryZu35wB1LUeQHx6BzizHgh9AmTICZR5A/BVXq2x675OdQRQeMCTc4Dgc4CnhoOPtLhJWKslLeKb6mgXCtBlPbQBID/xZ2csEVoy1QbSl1Zrxe0+V3vmuN2A3KjDzF55slytc9xomTjtarIS39RTEfFk3LhxqFSpElasWIE5c+Zg7dq1aNWqVexgKNQfiWL6EWnjxo1o2bKl5DsuLtmhSCX9+vWLjXRCeenyHrKwkx85HSSjy3lmzpwpRVKhGzJFIms4XbJTpkwZKeLJkydPJL9wihdOBxv5kp2U8mdgfBzOHsYvw8LwcfPmOGrdFJKhU8vbduoVaTfLts9xIlskWcfFLZD2oaKjPTww4MgR5KusHjYtMiQEJ0ePxsW5cxEhuzae6pSHThZ3sghNJ7wCHMlpYeTNN2YM8g0fnmDQ4WPGIEK2IZdXFCu++/dHFvq7tMbzj9fYlLHAJKsrhvwkqrNeyfN5egF/PwQCZdfJU9kzR4GfJgMkxEWowPKvAW17AuEhwMm9QGQEUKAU0LI7kLMAMLwZ8NcfFqEoQruoieTJR4Cir6ozPLUZmN7Mks/ZzZXSNfKewAdLgfIdHFq21RqLXffBExHwH0UssW461DY3lE2L1Zs6IMLmqHWm7TPAO/ldhqPW7YR+zgIwoeSMl2P2ygxZfGtbX8lOfEdFRWH8+PFSvG6ydtPhSQoB2KFDB5sRORLflGH16tXSBT108JJCCZILCt1OKb9e/p133pHCBNLBALoKm07k0mHNAQMG2NxESPWRtZ0u2yFfcrpevnXr1vj2229Bt2HqTa5elPxA0DsjiZffGfsZQ4digczlg/SQVomgJr7pc+HFraTd/DJnxpAzZ5Ahh6PL5C0MIp4/x7YGDfDf4cOKUEgDiQh89jZealt8Zl+B0K85P/sM+SdPtgkjqnUGYiIi8LJ9e0TRdfYiHKK18ItcuXAgKAj1wsMRSLG8L18CKGRow0ZA1apxfspnTwGvl41rUk0gUk5h9aY2m7UHZq9U7vKL58CjB4B/eiAj3c3pJG3+Afg+7j4C1QMAjXsCfebErzDkEbB3IXBsNRD6FMiYGyhSBdg01qKD6Uf4rNu/EpGPL0MuoO0UoNI7WqdEyvf82TNs37EDDa71QkCEbZQqRX8kYe0ny7fahoMaEYcanPUsXT6gxXVtIRh1jTD5ZubnvXlzw+yV2bta55g364nbcrIT34k7vORVm6sXJT8QzJtvJfZhoaFomju3dI28SKQ3tOgJyk8WZ2dWctIvtA1U0zDNRo9G0xHKB/CO9u+Pc9OmqQIkH2+ls2+OBLjQrsJt2jt9engFBMCvZk1kIR/t+vU1i3FyWYmcMQMR06cjRlxl7+WFsM6dsa9tWzT4fAACrtiF/6xUCVi4GBC+6x0aAvtkBzJFB4WJXu6bLRfe5Jf+2wGgfBVVRpoyhIUA7xcEngVbrN9CJNu/PqA44G8MAN4bD9j7xp/aCkxvD4Q9ixefXbJoe0fbutfIY1jG23hYLdbvLgCqva9pCJL4PrcJ28+HOxbfQtzTblPu5y7apkWhdpDS1xNIax+G0EH3XhkHlLK9j0HzINw0Iz/vzZs4Zs/i2+jqY/FtlKCO8iy+dcBys6xKD+MjO3eiV/368Ubj7PZHeWYS6c4CZtDnqlZ0Dw9kzp8fI60uWs9v3sTZ+fMRfOqU5HudtXJlnB87FlEhIarUqd/ONgPUV/oRYltc9hMvpLbVep2xSxfk/fFH1UOX8o5JN4ReuoSYFy/gmTcvQmYHYXvZcmjQpxcC7O4IkKzkdF7jwCGAQpDeuwM0qgRQ5BP5bki+e4kV3dYMadICM5cDTdqo8tGV4dyfwLBGQOgz274IcZq3JPDVNiBLnvjVXj8BjK0BRIZbxLtSot2bGJuwNCvu1DwAn3TAV3ec+nnLm3r+ey9sj2wWJ76FwJe34exAaTwBbt0EUCMVhgE5KgKH3nQeM9y/MNDwKJCGYu+knsQC0Ly5ZvYsvo2uPhbfRgnqKM/iWwcsN8uq9DDes349Pm3dOt5oSKOo3d6oZvWmSnNquE2b8nl6e2PKy5f4c+hQHKebXqPJ2mpRSF4xMaqHJsUASFirSRyh90hXkVBXi7aX9YsvkGvixITN+IULeP56XWyfNdux+KZaJZeR5sD6DZY2/joEtKwR/14Xe2d2yluoOLBsK5Anf8L6p1bq9iVg1SRgx08AXQdPKXcxoFVfoEVvwFtBuc54CziySv1GR7EbErsgtf7Q5x1mALW13QD5fOWb2J6ms0V8R9+1WNrtw+448zuX5se6iP2yA5lKANmqAiV7AYHWCzqCjwD7WgAvLRco2aTACkCttYCfi+ZHCy+T8rAANAk8Xy/vFLyrdY55s564LbP4Tlyepi5Kfhgn4WTaNaXE/vyJE3jXepOqfe9Ip5Al2ZE4JSOlkg+1qIc+tzv6pwggXWAg2vTujeMTJsTLQ+07uyVTXoAENbmeOEtCfNP4tPTPw9cXpW7fhlcmNVnvoNUBn+H58p+di29J4HkAFy8DhQpZKulQFzi8J36AEvsmFv4O1G/u+oUV9gJ4dAfwSWuxdFs3Rg4bvncFGFTMucVbFJS/etAU0tADqNwR6LJU05ifr/0A29EGDa73QkCMnc+3qEFsatRqbH8IyFHNcS6y7t/dAtxcAYQHA2mzAvnfBbLXB8g1JxUmft6bN+nMXpk9i29t65LFtzZOiZLL1YuSHwiJMk0JqkSJPUXT6VC6NK6eO6foly0PIy3ewpOwJgEuzsrJ3+ILsUwRTkSgDLVOV3zzTYStXi1d2W6fSLpojb5CfXIWfYXqFuKbBL1WUZ979mxksbtJVm1M0ue1auL5tWvYPjNI2fItKvp5BfDWW5Z//bkX6FgfiIpWFrE16gHLtsX3tdbUMRdkoogpvwwBtk4HosO1N0ALRYQ8lJcSBzLF4iKLNf2U6wB0c3KwVFbH85MrsP2qLxrc7IWAyLvKhw+ofYca2epmUmkIUH2c9jFxTvDz3rxFwOxZfBtdfSy+jRLUUZ7Ftw5YbpbV2cP4i7fewvaVKxUvwRFBKMhzV+ikgqVKYdzKlYh8+VIi8ezBA0RFRCBX8eK4sncvVn/xBUKCgx1qKkfomvfqhSuzZytSFS4watjJx9xZaGa5dwMJeq0BLbJ9+SVyOrlJ075ftKmJobjhnd5FSEgIdgY5cTsRhZf+DLwji+axdT3Q712AopRI1tOYuDjitRsCQauADGpbDTViifQ5uQnN6gj8+YulQj3GXlpUlJ8mQyRHkV6Eu0jmwsCg04CP+tWbz58+wvade9DgllV8OxuuI39w/zxA5aFAmd6pKlJJYqwKFoCJQTFhdTB7Ft8JWzlxpVh8GyWoozyLbx2w3Cyrs4dx97p18deePbGR3+wDa9C/xZG5AF9fvN2nD94fPhzpMyo7bUS8fInjq1fj9unTOLdhA+78/bcUNYREqUji322nTkXEoUO49MsvijcxksxS80og46XadfJUhwhgQdZ7+Xk/Z1OaY/x4ZB88WNOsR61Zg8jhwxFz6pSUPyRnTuybPRt16ZKde3eVPTb+OQ2Utrts5ekTYPUSYOdGICwUyFcIeLs78GrN5CUGj64BprWVPbmt/6sW5kYuusWuSUyQs7J1+gNtpqrOR+y61yK+qTZqU/hZ1V8IFO9kuQiHk24CLAB1I0u0AsyexbfRxcTi2yhBHeVZfOuA5WZZnT2MmxUsiDvXr0sjEm/6xfDEm37x74/Hj0c3jSJUlKFY9ftmzcLu777Dw8txofYKVq+OhkOGoGzr1tjWuTMuLlumKL6pX2pRU8RlPkpTQzqPxLfQdPT/VEZLKnbqFHxVrrKneiJ/+AGRPXrYxPoW4rtWL0u0kzQedrqZ/Kdr1QZ27dbSleSZZ2IT4PRW2/nTYv0ma7fIR/8lAa6pnD8w6rZq1BND4vvVEUDV0cmTtxv0igWgeZPE7Fl8G119LL6NEtRRnsW3DlhultXZw7h2pkw2cb6dDW3Y7Nl4MyG+z2Q9j47G3dOnEfrkCQJz5ULWIkVimzoVFIS9ffo4pUpimXy07S8Gj41UFxiIEu3a4f4vv8QLSygPLShvhGz39hsOm054eEixvgtv26Y64zE3b+Jl4cKWq9xlFn65+Pa/e9fiihMrOD0BHx9g526gmvUwX3g4sGEVsGw+cPkCkNYXqNcYeL8PULKMaj+ktiMjLfUmVeruD4S/sG1NgLWPLiJyOfLzFi4oahZzqqPrKqB8e6cjjF33/w1HwDN6E6Fyrbzc97tEV6DBwqQimOLaYQFo3pQyexbfRlcfi2+jBHWUZ/GtA5abZXX2MK6fMyeC793TNKI527ahWoMGmvLqyRT+7BkW5c4NukJeLlxt6vD0RKa8eSW/8xc3bth8lK1OHVSdPRuBpUoh8tkz3Jo9G1fJ9ePly/gXGXp4wDNdOpSYPx9p06fHrc6dES27ZEhesU/+/Ciyfz988uZVHE7UpUuIun4dUT/9BCxcGO/gqr34porSCus33eq5bDlQr56l/gf3gHeaAqdPxLspU/p82ASg3yDbvpDYJ7/wS6eA5bOA7auBl2FAYGagdVegY18gX2E906E/7wdpLTG97ZMQ0XIxTZZ+75i42znlZfSI71p9gXbTtYnvXDcRcLCf+rjkJ4Rf6QPUmalehnM4JMAC0LyFwexZfBtdfSy+jRLUUZ7Ftw5YbpbV2cO4R4MGoMt2FEWvbKwbr11D7gIFXDL6C8uWYXunTo5Fp6cnvNKmxRu7diFb5cq4u3Urnp47B08fH2SvWxcZX3klXp9Czp7Flc8/R/CmTTZjy9S4MQp/8w0CypWTyry8dAn3R43CY/I5j4iQfufh54dMXbog+6hR8FG49j78jz8QMmYMIvfvj22bNCbZm+UHOR2Jb58mjeHVrTvQtm2chZpEdPPqwN9HnfOdvhh48z3g7Alg4VRg0wog8qXybYzp/IHp64Bq8S9TSrSJHF4ZoIt1nF2oQ41RqMJhO4Hl/YAbx+I3r0d8e3kDA08B2UsoDiN23devj4CjQ4CTTsS0fWieFhuBAs0SDVFqq4gFoHkzzuxZfBtdfSy+jRLUUZ7Ftw5YbpbV2cN4088/Y8i776qOqGaTJpi1ebNqPiMZrqxejf2fforndpbtLBUqoN7cucheRf/16aFXr+L5MYvQC6hQAemKWi9Hseto5H//IezkSUn8+1asCG+6eVIhhS1ciGfdulk+lbmYiOzkvUAuMiTGHYrvX36B15t0M6Is/bEB6NLKOT6yGucvDHw5BhjcxeLiIg4JKrl3UKQU33TA2jNALhdd9rJzHvBjT/Wpr98L+CDIku/aEeD8TovFPHsxYPOXwH+XtPl8U3ka92t9gHbKgtpm3fv7Azf+ADZ3BMIexfU1XpQTTyBDQaDTxVQbo1t9ItVzsABUZ+SqHMxemayrdY6r5jSp62XxnYTEXb0o+YGQhJNp15Qz9hHh4XivenWcO37ccQc9PODt7Y35u3ejfI0aLh9EdFQUbv7xh3S9vKeXF3LUrIkc1apJ0VJckWIiIvBo0SL8N2sWwqwMfAoVQpbevZH5o4/glYECGMalqMuXEUxXwVN4PQfCW+Qk6zedH3QkvtMcOwbPSpVsh9O9PbDxN01vIJDBk67+tOR1FGzdEagPhwCfuChWNd1+OeY14LryGkJAFmDMUSCrwpuT478AC9927I5iPx7hT542PfDVE8XILw7X/dOrwOrXgJA7DuJ+ewBp0gNtdgNZK7hiuaWaOvl5b95UM3sW30ZXH4tvowR1lGfxrQOWm2VVexgH3wyWqG0AACAASURBVL+Pj1u1wqnDhy0hAa2GRQoNmM7fHxOXL0edli3dbNTq3Y1+8QLXWrdGyPbtgKenRVBTIqEfE4O0pUqh0I4d8MmZM7ay5wMHInTyZNXKSR9SLPEX1lCDFO3E/949eFSoABLf8TYTTaqou5yIVsUtR/Rvrecqs+cBtt9S7XeCMzx7CEx/Ezi7y8rQ07qRiAGyFwE+XQvkVTkwumcGsLqfuvVbfkp2Qhjg7Ti6u+K6f34L+PNL4OLPcRcCeXgBhdsBVcdarpHnZIiA2jPHUOVc2CkBZs/i2+ifCItvowR1lGfxrQOWm2XV8jCmaCQHtmzB2gULcO/mTUl0127ZEq27dkWGhFyt7gaMbn34IR7Nn++0p341a6Lwvn2xYjm4ZElEnT+vaXSkkcOE+O7dGxTtxGf9eni1aBG/fNt6wCG6Ul4lIgeVlF8xqiU0nyTS0wB/WS5Fclmivl8+DOxfAjy+A/gFAq+2A8o3AzxFAG+V1m8dB6Za3woohbYRL0G8fYHxL/RZvuXNhwUD/520REHJVBrwy+EyNKmtYi3PnNTGJKnGy+xZfBtdayy+jRLUUZ7Ftw5YbpaVH8bxJyzi7l2cy5fPEpZPJRU5eBB+1atLuf7LmxfR//6rVkT6nPy+X+bKhX1BQajVty8yfv01vLp0cVx25jfA2C801QvyhCHRbX9I0FnpzNmB3fcskVFOHQBehgI5CwBFyyevC3toDLMbApe2x7mFiA2GCDwvRHnlLkDHRYqj5nWvbTm5IhezdwVVbXUyexbf2laKci4W30YJ6ijP4lsHLDfLyg/j+BP238yZuN23r6aZzNK3L3JPt4S1e/Taa4g8eFCThdq/dGmEFSqEvT16oH7ZskhPccCVUvB/QMW8ljCBzhIJUbodSIRW0TQCAO17AJn9gQ0/AKHP40oVqwh0Hw28pnLYU2s7iZHv0Fxg9UeWMcoPksqvX43xAD45AuStzOI7MZgnch38zElkoDqqY/YsvnUsF4dZWXwbJaijPItvHbDcLCs/jONP2L1Ro3B/tIYbDD08EPjWW8i/fLlUSegPP+A53WLpLNEh1WrVkOngQehi/04TYNcf6uKbQvLRiU6t/t5UY7kywI3T8eu2+rdj4Fygtcq4kmLdk+vKtIrAnb+VWyMRnrUY8MUFpz3SxT4pxpaK2mD25k02s2fxbXT1sfg2SlBHeRbfOmC5WVZ+GMefsIfTp+POxx9rmsnMffogz0xLSLuYFy8QXLYsoq9edWz9tkZlybBhA9I2b65dfIc8B8plB0JDAeu5T5vOiUOGnnRDTwwQYHU70TKCrNmByPvKOanPFJLw54tA7kJaaozLExYC7P8J2DEPuHcJ8PEFyjUBGv0PKFpVX12U+8oeYE5dbeU+OQ7kVo5KwuteG0ZX5GL2rqCqrU5mz+Jb20px8pUQQ+EWOCUJARbfSYLZlEb4YRwfe8StWzhXsKAlVrZKKrx7N/zr1InNFXXlCh43aoToK1dso6RQDi8vBMyejXQffijl18z+whngdVk0EKXDhtY24B8NpI0B1LsPZCQTueUCIaep0yCg1wS1XHGf/3cTGNcQuHPB8eVI7UYCHUZpr49ybhgA7J2irUzDUUCjkYp5NbPX1hrn0kGA2euAlchZmb0yUFfrnESeStOqY8t3EqJ39aLkB0ISTqZdU8zeMfsbnTrhybJlyhNjvXCn6NGj8UIDxoSEIOznnxH244+IvnYNHgEBSNOqFXx79YJ3sWKxdWpmf/kCUEdjiLt0fsCgIUDQcIv4dmQpFz2gQ5lkJdeSCpcFFlH0Dw0pMgIYUgH496zVMVuhTI8fgNe7a6jQmmVVD+DID9ry1/4MaPkti29ttJI0l+Z1n6S9Sh2NMXsW30ZXOotvowR1lGfxrQOWm2Xlh7HjCYt6+hRXGzdG6J9/2lpurX7QPgUKoPCePUiTP+E3Q2pmT1FXquQDHtxzfpiT+la3CdC+HfB1T8uBRBLfjizgFN1P3PajZc3mKQIsv6QlJ/DnKmCa3S2d9iWpr3SpztTLljcEIkVFAJf2AS+CAf+sQJHXALountLW0cA2jdbyllOA2p+y+NY2Y0maS/O6T9JepY7GmD2Lb6MrncW3UYI6yrP41gHLzbLyw1h5wqJDQ6XbLYODghB++bKU0StbNul2y6yffALvrFkNzbYu9lNGA99qEJ4L1gF06PLT1nF9E2H4xG9ifcRhyauWSCi/2giYskUtp+Xzb1oBJ35Xj/pCmrv1F0Cp14ESrwO7pgHbpwDP7sW1E5gLaDAAqP8p8OgqMKmoeh8obvjQW0D6uAuQ7AvpYq/eIufQQYDZ64CVyFmZPYtvo0uKxbdRgjrKs/jWAcvNsvLDWH3C6HhJ1MOHiImKgne2bPDw0ngpjErVutjTocv2dYF//lKutV0n4PslQEQ40DQ38CRYfXDkBnP7MhDjzD8FwKjlQIO31eujHEMrAdcUrpOnz8mQTQjFhTj0OzqMGRMW//cipmDN7kCnecDyzsAJJ+5AVFf1XkDbIKd91cVe26g5l0YCzF4jKBdkY/Ysvo0uKxbfRgnqKM/iWwcsN8vKD2PzJkw3+6dPgGH/A9Yutz0M6hcAdOsHDBwDeFtdNBZMAGYMUR4cWbMLlwb6TwAGW63kSmfYi5QD5h2x3ISpJY2pC5zf69jyTVU4u3mTRLlSmMQeq4AyzYDFbYGLFHZRBPumTln/v0xb4N3lgLfzvupmr2XcnEcTAWavCZNLMjF7Ft9GFxaLb6MEdZRn8a0Dlptl5YexeROWYPb37gDbNgBPHwM5cgONWwMBdLuOLEVHA+N7A6vnOvRZR76iQNB2IFd+YNMiYOKHQJTsRk8R47tIeWDyJiBrLu2gfp8CLB1g0cPiR5Smf9tbve1rdiTQqT9F6wKf7gSio4Aza4GDQcCto5bx5a8OVO8NlGxh60Ou0OsEs9dOgXMy+2S3Bnjds/g2uihZfBslqKM8i28dsNwsKz+MzZswl7MnS/bBLcAvM4EjOyzuKPmLAe17Aa3eBwLoLnpruncTWD8XOLQJCA2xxPRu3g2o/QbgrefGHljCC35R0hLpRH4LpRw1CXAlCzj9XslwPS3U4qJiMLmcvcH+peTizN682WX2LL6Nrj4W30YJ6ijP4lsHLDfLyg9j8yYsxbL/vgNw5Fd1sOQhI/f7lpdQ0teTHwF+GdXrVsmRYtkbJuP6Cpi96xkrtcDsWXwbXX0svo0S1FGexbcOWG6WlR/G5k1YimT/8AbwWSH1A5yE3Zn125H49ssETHqoya1EbVZTJHu1QSeTz5m9eRPB7Fl8G119LL6NEtRRnsW3DlhulpUfxuZNWIpkv302sLC3Nqhk9baeD5UKiCgo9P+OLOINBwLtJmmrmy3ficLJFZWkyHXvClAuqJPZs/g2uqxYfBslqKM8i28dsNwsKz+MzZuwFMn+98nA8oHaoArxTf8lH28RvCSe8PYAyOo97G8gU15tdbP4ThROrqgkRa57V4ByQZ3MnsW30WXF4tsoQR3lWXzrgOVmWflhbN6EpUj2B5cDszpqg0oHK8n1JK01u5L/N3389gyg7v+01ashV4pkr2HcySELszdvFpg9i2+jq4/Ft1GCOsqz+NYBy82y8sPYvAlLkexfvgD65QJCn6qDJTcT+lELpkKhBIu9DvTfrl6nxhwpkr3GsZudjdmbNwPMnsW30dXH4tsoQR3lWXzrgOVmWflhbN6EpVj2a74Cfh3uHGzuUkD2/MC1XUDUS22TMO4WkDGPtrwquVIs+0Sh49pKmL1r+Tqrndmz+Da6+lh8GyWoozyLbx2w3CwrP4zNm7AUy54u+FncF9hOV7zLbqEUF/cUrQF8/jvgnwn4xB+IeKFtEgYdAQq8qi0vi+9E4eSKSlLsuncFrESuk9mz+Da6pFh8GyWoozyLbx2w3CwrP4zNm7AUzZ4u+LmwD9g2Czi3G4iMAPKVBep/BLzaLu7insG5gKd3tU3CqItA9qLa8rL4ThROrqgkRa97VwBLxDqZPYtvo8sp2Ynv6OhoTJgwAXPnzsXdu3dRsmRJjBgxAu3atdM01jVr1mDUqFE4d+4ccubMiR49emDw4MHw8qITSZbkQZYjhTR+/HgpP6WFCxfigw8+iJezcuXKOHr0qKb+yDOx+NaNzG0K8MPYvKli9gBW9AN2z3A+CfTcy1kG+PKk5Sr5REjMPhEgJrAKZp9AcIlQjNmz+Da6jJKd+B42bBgmT56Mr7/+GiRyly9fjnnz5mHDhg1o3ry50/Fu2bJFytO9e3d07NgRx48fx9ChQ/HJJ59g4sSJsWUPHToUr56ZM2fip59+wqlTp1CmTBkb8b1y5UrkzRsXmisgIACvvPKKbvYsvnUjc5sC/DA2b6qYPYC754CvXgHIVUW6i14hdfoBeK17ok0Ws080lLorYva6kSVaAWbP4tvoYkpW4vv+/fvIly+fZHkePXp07NgaNGiABw8e4OTJk07HW7FiRWTIkAG7d++OzTdmzBh89dVXuHHjhmQJV0pFixZFpkyZcOTIkdgswvJ98eJF0OdGE4tvowSTb3l+GJs3N8zeyv7PJcDi9wFyVZELcA9Py02ZtT4COgYlmtWbWmX2vO7NI2Bey7zuWXwbXX3JSnwvWbIEXbp0wYULF1CsWLHYsS1YsADdunXDlStXUKhQIYdjvnnzJvLnzy+5q5CriUhXr15F4cKF8eOPPzp0IaF8+/btQ+3atTF9+nT07duXxbfRVZUKy/PD2LxJZ/Yy9pf2An9MAk79HifA81YA6vcHqnVJVOHN4tu8Nc/smb25BFh8G+WfrMQ3Wby/++47hIaG2vhlHz58GNWqVZNcT1q0aOFwzJs3b0azZs1w4MAB1KhRwyaPv78/+vTpg2+++cZhWRLrixcvxu3bt5ElS5Z44jtHjhyS5T179uyS7/m4ceMQGBiomz1bvnUjc5sCLADNmypm74D984eWA5i+GYBM+RJddIsWmT2ve/MImNcyr3sW30ZXX7IS3z179sS6deukg5byJEQrCeT33nvP4ZiXLVuGTp064ezZs9IhTXkif+0mTZpg/vz58cqGhYVJ7ij169fH6tWrbT4nH3IS8yT8fX19sWfPHknAlyhRAuQ3niYN3eXsOAUHB4N+5On69eto2LAhTpw4gSJFihidu3jlX7x4gYMHD0qbDz8/v0SvnytUJsDszVsdzJ7Zm0fAvJZ53TN78wgot3z58mVUqFABieWumxzHmBh9cqn4fvr0qWRNVktkRc6VK5fkLkLW7Tt37tgUoUksXry4ZJ1WEt9Lly5F586dpSgnJI7lKU+ePGjatKlD8U0HOulw5tq1a9G6dWu1roIOX7711ltYtGiR5CKjlCjiitxvXZ4vKChIGi8nJsAEmAATYAJMgAmkFAKk33r37s3iW2VCXSq+KXqIkliW96tr165SWL9BgwZh2rRpCXI72bRpkxTpRK/bCZWhsIH//vsvfHzU7mcGoqKikD59esl/nCKkKCW2fKeUR4m2cbAVShsnV+Ri9q6gqq1OZq+NkytyMXtXUNVWJ7NX5sSWb21ryKXiW1sX4nKRZZuEuP3rChF1xNmBS4pmUqBAASks4Ycffhhb6bVr16RDmo4OXJJ7C7mk0CFL8jXXkkh8U6hBCmc4Y4ZKXF27CtnnWwth98zDPoDmzRuzZ/bmETCvZV73zN48Asotu1rnJMcxJ6RPyUp8i1CDFJt75MiRseMhP+l79+7hn3/+cTpG8jOicIE7d+6MzUdhBincoKNQgxRPfODAgfjrr79AYQq1JOF24swFRqkeVy9KfhhrmUHX5GH2ruGqpVZmr4WSa/Iwe9dw1VIrs9dCyTV5mD2Lb6MrK1mJbxqMiHhCEUUqVaqEFStWYM6cOZJPdqtWrWLHW69ePZBVm35E2rhxI1q2bCn5jotLdoYMGYJ+/fo5jHRSrlw5qahS/PDGjRuDYozTpTtp06bF3r178e2330r/3r9/vyY3FfkEsfg2ulyTb3l+GJs3N8ye2ZtHwLyWed0ze/MIsPg2yj7ZiW9y66Ar3ileN1m76fAkXS/foUMHm7E6Et+UgSKW0EFHOnhJIQLJBYVuzZRfL0/56PZLEvdk/R4wYIBDjv379wdFPLl16xbCw8OlOOLt27fHl19+Kbme6E0svvUSc5/8/EVo3lwxe2ZvHgHzWuZ1z+zNI8Di2yj7ZCe+jQ4oOZdn8Z2cZ8dY3/iL0Bg/I6WZvRF6xsoye2P8jJRm9kboGSvL7Fl8G1tBAItvowR1lGfxrQOWm2Xlh7F5E8bsmb15BMxrmdc9szePAItvo+xZfBslqKM8i28dsNwsK38RmjdhzJ7Zm0fAvJZ53TN78wiw+DbKnsW3UYI6yrP41gHLzbLyF6F5E8bsmb15BMxrmdc9szePAItvo+xZfBslqKM8i28dsNwsK38RmjdhzJ7Zm0fAvJZ53TN78wiw+DbKnsW3UYI6yrP41gHLzbLyF6F5E8bsmb15BMxrmdc9szePAItvo+xZfBslqKM8i28dsNwsK38RmjdhzJ7Zm0fAvJZ53TN78wiw+DbKnsW3UYI6yrP41gHLzbLyF6F5E8bsmb15BMxrmdc9szePAItvo+xZfBslqKM8i28dsNwsK38RmjdhzJ7Zm0fAvJZ53TN78wiw+DbKnsW3UYI6yrP41gHLzbLyF6F5E8bsmb15BMxrmdc9szePAItvo+xZfBslqKM8i28dsNwsK38RmjdhzJ7Zm0fAvJZ53TN78wiw+DbKnsW3UYI6yrP41gHLzbLyF6F5E8bsmb15BMxrmdc9szePAItvo+xZfBslqKM8i28dsNwsK38RmjdhzJ7Zm0fAvJZ53TN78wiw+DbKnsW3UYI6yrP41gHLzbLyF6F5E8bsmb15BMxrmdc9szePAItvo+xZfBslqKM8i28dsNwsK38RmjdhzJ7Zm0fAvJZ53TN78wiw+DbKnsW3UYI6yrP41gHLzbLyF6F5E8bsmb15BMxrmdc9szePAItvo+xZfBslqKM8i28dsNwsK38RmjdhzJ7Zm0fAvJZ53TN78wiw+DbKnsW3UYI6yrP41gHLzbLyF6F5E8bsmb15BMxrmdc9szePAItvo+xZfBslqKM8i28dsNwsK38RmjdhzJ7Zm0fAvJZ53TN78wiw+DbKnsW3UYI6yrP41gHLzbLyF6F5E8bsmb15BMxrmdc9szePAItvo+xZfBslqKM8i28dsNwsK38RmjdhzJ7Zm0fAvJZ53TN78wiw+DbKnsW3UYI6yrP41gHLzbLyF6F5E8bsmb15BMxrmdc9szePAItvo+xZfBslqKM8i28dsNwsK38RmjdhzJ7Zm0fAvJZ53TN78wiw+DbKnsW3UYI6yrP41gHLzbLyF6F5E8bsmb15BMxrmdc9szePAItvo+xZfBslqKM8i28dsNwsK38RmjdhzJ7Zm0fAvJZ53TN78wiw+DbKnsW3UYI6yrP41gHLzbLyF6F5E8bsmb15BMxrmdc9szePAItvo+xZfBslqKM8i28dsNwsK38RmjdhzJ7Zm0fAvJZ53TN78wiw+DbKnsW3UYI6yrP41gHLzbLyF6F5E8bsmb15BMxrmdc9szePAItvo+xZfBslqKM8i28dsNwsK38RmjdhzJ7Zm0fAvJZ53TN78wiw+DbKnsW3UYI6yrP41gHLzbLyF6F5E8bsmb15BMxrmdc9szePAItvo+xZfBslqKM8i28dsNwsK38RmjdhzJ7Zm0fAvJZ53TN78wiw+DbKnsW3UYI6yrP41gHLzbLyF6F5E8bsmb15BMxrmdc9szePAItvo+xZfBslqKM8i28dsNwsK38RmjdhzJ7Zm0fAvJZ53TN78wiw+DbKnsW3UYI6yrP41gHLzbLyF6F5E8bsmb15BMxrmdc9szePAItvo+xZfBslqKM8i28dsNwsK38RmjdhzJ7Zm0fAvJZ53TN78wiw+DbKnsW3UYI6yrP41gHLzbLyF6F5E8bsmb15BMxrmdc9szePAItvo+yTnfiOjo7GhAkTMHfuXNy9exclS5bEiBEj0K5dO9Wxrl+/Hj///DOOHj0KErp16tTBrl27HJY7ffo0Pv30U+zfvx++vr544403MHnyZGTOnNkm/82bN6V8W7duRUxMDBo1aoSpU6cif/78qv2xz8DiWzcytynAX4TmTRWzZ/bmETCvZV73zN48Aiy+jbJPduJ72LBhkgj++uuvUblyZSxfvhzz5s3Dhg0b0Lx5c6fj7d69Ow4ePIhXX31VEt2FCxd2KL5v376N8uXLS8Ke2nv8+DEGDhyIfPnyYd++ffD09JTaefHihZQvbdq0+Oqrr+Dh4YEvv/xS+v3Jkyfh7++viz+Lb1243CozfxGaN13MntmbR8C8lnndM3vzCLD4Nso+WYnv+/fvSwJ48ODBGD16dOzYGjRogAcPHkiC11kiq7kQzrVq1YK3t7dD8U2W7AULFuDatWvImDGjVOWePXtQt25d/Prrr7FW9mnTpuGzzz7D+fPnUbRoUSnf1atXUaxYMUyaNEn6TE9i8a2Hlnvl5S9C8+aL2TN78wiY1zKve2ZvHgEW30bZJyvxvWTJEnTp0gUXLlyQBK5IJJS7deuGK1euoFChQprG7Ex8FylSBNWrV8fSpUtt6ipQoADq1auHRYsWSb8n0R8WFia5psgTiXRKu3fv1tQXkYnFty5cbpWZvwjNmy5mz+zNI2Bey7zumb15BFh8G2WfrMQ3Wby/++47hIaGSi4eIh0+fBjVqlWTXE9atGihacxK4pvqJncRcmsZMmSITV3k1kIW9iNHjki/z5kzp+QLPmfOHJt8ffr0wcqVK6W8ehKLbz203CsvfxGaN1/MntmbR8C8lnndM3vzCLD4Nso+WYnvnj17Yt26ddJBS3kSonXx4sV47733NI1ZSXyTv3eePHkQFBSEXr162dTVuXNnyWf88uXL0u/TpEkjuZbQAVB5Ir9v+l1kZKRiX4KDg0E/9uNo1qyZNMaEHNhUGzhZ6Y8fP46KFStKh0g5JR0BZp90rO1bYvbM3jwC5rXM657Zm0dAueUbN26gdevWoKAWpUuXTo5dTBZ9cqn4fvr0KUjsqqXAwEDkypULPXr0kKzbd+7csSly8eJFFC9eHIkhvv/991/kzZsXs2fPxkcffWTTTqdOnXDo0CEb8T1gwACMHz/eJh8d0pw4caJT8T1q1Cgbv3U1Bvw5E2ACTIAJMAEmwARSAoFt27ZJrrucHBNwqfj+6aefNFmqu3btioULF2LQoEGgQ46udDuhSCUBAQGa3E5y5MiBNm3aJMjtxJHlm14T0oHNEiVKSFb1xE7Xr19Hw4YNQYue/Nc5JR0BZp90rO1bYvbM3jwC5rXM657Zm0dAueXw8HDJgEquwqS1OJkgvvVCJ8s2CXGydIvoIlQHCfMPPvgg0Q5cUgjCmjVrgjYH8lSwYEEp4ok4cFm/fn3QQqLwg/JEhzIp5rfeA5d6eejN72qfcr39SU35mb15s83smb15BMxrmdc9szePALdslIBLLd96OydCDQ4dOhQjR46MLU7W3Hv37uGff/7RXKWzaCf9+/eXBDaFGiSXF0oksGvXro1Vq1ahffv20u/o8Ofnn38uRV8hwU6JylAkFvL5JpeU5JT4YWzebDB7Zm8eAfNa5nXP7M0jYF7LvO7NY59SWk5W4pugiogn48aNQ6VKlbBixQrJ7WPt2rVo1apVLHeyPpMQph+R6DWciFQyfPhwKea3iBdepUqVWFcM8vumy3PKlCkjRTx58uQJvvjiCym6CR24FLHCQ0JCpHzp0qWLvWSH6n327JkUczy5vVLhB4J5f5bMntmbR8C8lnndM3vzCJjXMq9789inlJaTnfiOioqSDjjS9fJk7Sb/aLpevkOHDjbMHYlv4Z7iaHIoVvj7778f+xFZ0emynQMHDkiRQeh07rfffossWbLYFKeTu2QpJz9qSnSAgCziydGnmh8I5v1ZMntmbx4B81rmdc/szSNgXsu87s1jn1JaTnbiO6WANWMcdMjz+++/x8cff4zMmTOb0YVU2yazN2/qmT2zN4+AeS3zumf25hHglo0SYPFtlCCXZwJMgAkwASbABJgAE2ACGgmw+NYIirMxASbABJgAE2ACTIAJMAGjBFh8GyXI5ZkAE2ACTIAJMAEmwASYgEYCLL41guJsTIAJMAEmwASYABNgAkzAKAEW30YJJlH56OhoKbY4RYG5e/cuSpYsKUWBadeunaYerFmzBnTl/blz56SQij169JDCOnp5edmUp2gz06dPxw8//AA60U3hFCtWrChdSEQ3fqbGlFTsBdvHjx9L80vRfrZu3SrdWppak6vZ03qfOnUqNm7ciNOnT4NuwC1evDj69u0rRUfy8PBI8ehv3rwpRX6itUaXhzVq1Ehikj9/ftWxh4WF4csvv8TSpUtB67ZChQqYOHEi6tSpY1PW6DyqdsRNM7iaPd1RMXPmTOzcuVO6pC59+vSoWrWqFDq3bNmybkotcbrtavb2vfz555/x7rvvIk+ePLh161biDIJrcVsCLL7dZOqGDRuGyZMn4+uvv0blypWxfPlyzJs3Dxs2bEDz5s2djmLLli1Snu7du6Njx444fvw46CKjTz75RPqilCd6OPzxxx/S59QOfaHSTZ4UblHLl7Gb4NTVzaRiLzr10UcfYd26ddImK7WLb1ezf/78OfLmzYsuXbpIYURps0lCnMQnxf6nDW9KTrTZoLsM0qZNG3uXAYlp+j3dZeDv7+90+J06dcLvv/+Ob775RrqIjITepk2bpPsSSIiLZGQeUyr/pGA/Y8YMyWBDN0fTvRn0PJ80aRL+/vtv7N+/XzKspMaUFOzlXIVBhTbzZPBi8Z0aV53tmFl8u8EaEDd/kqVaXBpE3Sax8ODBA+lL0lmiB2yGDBkkES3SmDFjpC9bimNOlnBKJOg7fQ7tjwAADQdJREFUd+6MP//8UxLenICkYi9Y0xdi48aNpbcPtFlKzeI7KdiT5Zsu2bIPzfnhhx9Kb3sePXokXbKVUtO0adPw2Wef4fz58yhatKg0zKtXr0q3+JJIo8+UEgk4Etg//vgjPvjgAylbZGSkdHkZ3c9AG0hKRueR2ccnoJX9w4cPpbsr5G9wnj59ioIFC6Jly5ZYvHhxSsXrdFxJse7lHejZsyfoEsBcuXJJd4aw+E6Vy85m0Cy+3WANLFmyRLLM0StE+lIUiS4O6tatm/Q6sVChQg5HQq/WyGJN1g9yNRGJvmDJUiX/4qRXxT4+Pti+fbsbUEmaLiYVexpNRESEZIl6++23Ubt2bbz++uupWnwnJXv71RQUFIQ+ffpIm9N8+fIlzWIzoRXawJPrCG365Klu3brSP+UbdvvujR07FvRDVj0/P7/Yj0eOHCm9MSCRRxZ1I/NoApIkazIp2CsNplq1atJbntT6rE9K9vS3Ra5cZCQjgxeL7yT7E0vWDbH4TtbTY+kcWbzpVs3Q0FAbC8bhw4dBD1FyPWnRooXDkWzevBnNmjWTbvKsUaOGTR56pUwCg14Zk/CjhzG5PJClb/78+dKXJ72qpBtHSQimxpQU7AVXcilatGgR6PZVem2f2sV3UrK3X9vvvPMOyF2L3ix5e3un2KVPb73eeOMNzJkzx2aM9FxYuXKlNH6lRIzIhY2s5vL0yy+/SBvIU6dOSVZwI/OYYsED0htHV7N3xI8u5yFXKzLckFtKakxJxZ6+V+ntEN3QTW+t6RwJi+/UuOLij5nFtxusA3plJXyA5d0VV9zSq8P33nvP4UiWLVsG8ss8e/asdIhPnugB3KRJE0lok38xvRKjAzlkEafDmWnSpJF8wg8dOiTt2ulVcmpLScGemNJc0gEommeykuzatSvVi++kYm+/pkl004aVrLrkq5ySE/2Nk2uJvW87+X3T78iNRCmRexRt0On5IE8kLmgN79mzR3qDY2Qemb1jAlrZOypN3we//fab9EwXrkYpmbOjsSXFuqd2ydK9cOFCaSPq6+vL4ju1LTQn42XxbcJioC+s27dvq7YcGBgoCWJyFyHr9p07d2zKXLx4UYrM4Ex8UxQC8uOmKCf24plOXTdt2lQS39Qf+je9JiY3lty5c0ttUV/JpaV169YgNxd3T8mRPTElsUK+meR3Tykliu/kyl6+ps+cOYNatWpJ1io6eJySrd40bhIhAwYMkN5uyRNtOmjj7Ux805qlA6v0lkae6JwCiUMhvo08v9z9eeOs/0nB3r592lANGTJEeuaT5Tu1pqRgLwwqtNGh71lKbPlOrSsu/rhZfJuwFuggl5KlWt4dOqFOu+ZBgwaBDogkxO2EIg9QpBM1txOqm9xQyM3k6NGjNlTIpYXC3tn/3gR0hptMjuzpNT09lImv2PTs27cPrVq1AoWIJPcTOjDr7ik5spczvXbtmiS8KaQmhWZLCczV1gyNtU2bNglyOyHXkhMnTqi6nRh5fqn1350/Twr2cj507ofcCskam9Lf6Kiti6RgT9+7dNCVDGAikTsXnaOgsKZkCacfTqmTAItvN5h3smyTECdLt/w1IQlzijLg7MAlHRgrUKCAFJaQIjiIREKDLNryA5dUN1nbjx07ZkOFHiJUD706S20pKdiTi488io09Y7KIU9SC1JaSgr1gSm9+yEWC3vyQxTZr1qypAnf9+vURHh4O2uzJU7169aSY384OXIqISfYHLmk9kyVdHLg0Mo8peRKSgr3gR+6HZPAhFyM645PaU1Kwp4gyFOFEKdEbJwofzCl1EmDx7QbzLkJ1UextiiQgEl2+QhZpOqDnLNEr9EyZMknWPJHI+kFfnvJQgwMHDpRC3NHrMvIHp0Rh2Eik08GglOB2one6k4I9bYToR57IokgXn9DDuXr16njttdf0dt3t8ycFe4JEGxuK9ENRP/bu3Su5X6WWRAe5P//8cymSEp31oERrkaIqkYsCCQSlRGuUovOQEYCMA5TITYXOLtBGfv369dLvjM5jSp2LpGBP7NauXSsd+KPQpbNnz06pOHWNKynY01kIeqbIE/1NkXGLDjNTFKUiRYro6jdnTjkEWHy7yVyKiAHjxo2TXENWrFghvSqmByu5J4hEFit7MUeXhlBMV/K9FJfskN9fv379bKwgJOTpwo3s2bNLt2eSXxzF+qUvWXKJsD+w6SboDHczKdjbdzIl+nwnZCJczZ7crcjVhF4D01sgIUBFX0uXLp2i3U9CQkKkv3mKcEQbcnpNPnz4cDx79kw6kEcRkIQgp004bf7Jsi2SiApD1lT6nEI00vkUcnOj55RIWucxIWvEXcskBXvaTJJvPkWdIcOKp6dnLC56y5NaL9lJCvaO1iX7fLvrX2vi95vFd+IzdUmNdBkIvcolvz0SyXR4kgQyWTTkyZH4ps9Xr14tuTbQwUvydyMXFPL7s79enixgZO0i8UdXQtesWVM6eCX/InXJAJNxpUnFXo6AxbeFhqvZC/crpeVHb4vobyolJ3r7RTfYUpQSShQDmSyD5K4mkuBkL75p80LPEXJrENfLk3XPnpnWeUzJnB2NzdXsnbm00fzav3FLTfxdzZ7Fd2paTfrHyuJbPzMuwQSYABNgAkyACTABJsAEEkSAxXeCsHEhJsAEmAATYAJMgAkwASagnwCLb/3MuAQTYAJMgAkwASbABJgAE0gQARbfCcLGhZgAE2ACTIAJMAEmwASYgH4CLL71M+MSTIAJMAEmwASYABNgAkwgQQRYfCcIGxdiAkyACTABJsAEmAATYAL6CbD41s+MSzABJsAEmAATYAJMgAkwgQQRYPGdIGxciAkwASbABJgAE2ACTIAJ6CfA4ls/My7BBJgAE2ACTIAJMAEmwAQSRIDFd4KwcSEmwASYABNgAkyACTABJqCfAItv/cy4BBNgAkyACTABJsAEmAATSBABFt8JwsaFmAATYAJMgAkwASbABJiAfgIsvvUz4xJMgAkwASbABJgAE2ACTCBBBFh8JwgbF2ICTIAJMAEmwASYABNgAvoJsPjWz4xLMAEmwASYABNgAkyACTCBBBFg8Z0gbFyICTABJmAugXr16mH37t2aOzF69GiMGDFCc37OyASYABNgAq4hwOLbNVy5VibABJiASwlkypQJjx8/1tzGhg0b0KJFC835OSMTYAJMgAm4hgCLb9dw5VqZABNgAi4jEB0djTNnzjit/+jRo+jZsyciIiJQqFAhHDt2DCTYOTEBJsAEmIC5BFh8m8ufW2cCTIAJJDqBAwcOoFmzZnj69CmKFSuGHTt2IG/evIneDlfIBJgAE2AC+gmw+NbPjEswASbABJItgV27dqFVq1Z4/vw5Spcuje3btyNnzpzJtr/cMSbABJhAaiPA4ju1zTiPlwkwgRRL4I8//kCbNm0QGhqKcuXKYdu2bciWLVuKHS8PjAkwASbgjgRYfLvjrHGfmQATYAJ2BNavX48333wTL1++ROXKlUFCPHPmzPE4rVq1SoqScuLECfz999949uwZ3n77bSxfvpyZMgEmwASYQBIQYPGdBJC5CSbABJiAKwn8+uuv6Nixo3S4snr16ti8eTMCAwMdNlmhQgVJdAcEBEh+4OfOnWPx7crJ4bqZABNgAnYEWHzzkmACTIAJuDGBpUuXomvXroiKikKdOnXw+++/S8JaKe3cuVMS3UWLFpUs4K+//jqLbzeef+46E2AC7keAxbf7zRn3mAkwASYgEfjxxx/Ro0cPUOjBBg0aYN26dfDz89NMhw5nsvjWjIszMgEmwAQShQCL70TByJUwASbABJKWwKxZs9C3b1/ExMRIYQVXr14NX19fXZ1g8a0LF2dmAkyACSQKARbfiYKRK2ECTIAJJB2BqVOn4rPPPpMapOgmK1asQJo0aXR3gMW3bmRcgAkwASZgmACLb8MIuQImwASYQNIRGDduHIYNGyY1+NZbb4F8vr29vRPUARbfCcLGhZgAE2AChgiw+DaEjwszASbABJKOwJQpUzBgwACpwZo1a4JcT7y8vJx2oEyZMvDw8HCYh8V30s0dt8QEmAATEARYfPNaYAJMgAm4CYEqVarg6NGjmnubKVMmBAcHK+b/f3t3bMMgDEQB9BZgBzaB0WATj0DLRoxAQRG5oYkSgTBIRs8SnX32PVP8CoTvw5QmEiBAoJiA8F2MUiECBAjcJ7BtWzRNE+u6Ht6k7/vInxb8NYTvw5QmEiBAoJiA8F2MUiECBAjUJSB813VfTkuAwDsEhO933KMuCBAgcFpA+D5NZgEBAgQuCwjflwkVIECAQD0C0zRFfvJYliXmeY62baPrur2JlFI9DTkpAQIEKhMQviu7MMclQIDAFYFhGGIcx78l8o97DAIECBC4R0D4vsdVVQIECBAgQIAAAQJfAsK3l4IAAQIECBAgQIDAQwLC90PQtiFAgAABAgQIECDwAQk+u7xlh0euAAAAAElFTkSuQmCC\" width=\"639.1304480330933\">"
      ],
      "text/plain": [
       "<IPython.core.display.HTML object>"
      ]
     },
     "metadata": {},
     "output_type": "display_data"
    }
   ],
   "source": [
    "%matplotlib notebook \n",
    "\n",
    "plt.title(\"Unrolled swiss roll using LLE\", fontsize=14)\n",
    "plt.scatter(X_reduced[:, 0], X_reduced[:, 1], c=t, cmap=plt.cm.hot)\n",
    "plt.xlabel(\"$z_1$\", fontsize=18)\n",
    "plt.ylabel(\"$z_2$\", fontsize=18)\n",
    "plt.axis([-0.065, 0.055, -0.1, 0.12])\n",
    "plt.grid(True)"
   ]
  },
  {
   "cell_type": "code",
   "execution_count": null,
   "metadata": {},
   "outputs": [],
   "source": []
  }
 ],
 "metadata": {
  "kernelspec": {
   "display_name": "Python 3",
   "language": "python",
   "name": "python3"
  },
  "language_info": {
   "codemirror_mode": {
    "name": "ipython",
    "version": 3
   },
   "file_extension": ".py",
   "mimetype": "text/x-python",
   "name": "python",
   "nbconvert_exporter": "python",
   "pygments_lexer": "ipython3",
   "version": "3.7.1"
  }
 },
 "nbformat": 4,
 "nbformat_minor": 2
}
